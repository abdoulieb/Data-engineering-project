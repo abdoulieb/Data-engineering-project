{
 "cells": [
  {
   "cell_type": "markdown",
   "metadata": {},
   "source": [
    "#### ALL BLOOD  AND URINE SAMPLE PROCESSING WITHOUT DATE OR TIME"
   ]
  },
  {
   "cell_type": "code",
   "execution_count": 108,
   "metadata": {},
   "outputs": [],
   "source": [
    "from redcap import Project\n",
    "import csv\n",
    "import datetime\n",
    "import pandas as pd\n",
    "\n",
    "#REDCap API configuration\n",
    "api_url = 'https://ruff.mrc.gm:8443/redcap/api/'\n",
    "api_key = 'E5FEBF04C14581CF182ABE8107AB8B50'\n",
    "project = Project(api_url, api_key)"
   ]
  },
  {
   "cell_type": "code",
   "execution_count": 109,
   "metadata": {},
   "outputs": [],
   "source": [
    "#extract study sample processing data\n",
    "SampleProcessing = project.export_records(forms=['blood_sample_processing','urine_sample_processing'])\n",
    "\n",
    "#convert data to Dataframe.\n",
    "sp_data=pd.DataFrame(SampleProcessing)"
   ]
  },
  {
   "cell_type": "code",
   "execution_count": 110,
   "metadata": {},
   "outputs": [],
   "source": [
    "# Specify the fields you want to extract base on logics\n",
    "SP_data=sp_data[['con_participantid_q1','redcap_event_name','bsp_date','bsp_time','usp_date','usp_time','blood_sample_processing_complete','urine_sample_processing_complete']]\n",
    "SP_data=pd.DataFrame(SP_data)\n",
    "\n",
    "#st_date as a date data type\n",
    "SP_data['bsp_date'] = pd.to_datetime(SP_data['bsp_date'], errors='coerce').dt.date\n",
    "SP_data['bsp_time'] = pd.to_datetime(SP_data['bsp_time'], errors='coerce').dt.time\n",
    "SP_data['usp_date'] = pd.to_datetime(SP_data['usp_date'], errors='coerce').dt.date\n",
    "SP_data['usp_time'] = pd.to_datetime(SP_data['usp_time'], errors='coerce').dt.time\n",
    "\n",
    "condition_arm_1 = ((SP_data['redcap_event_name'] == 'week_20_arm_1') |\n",
    "                  (SP_data['redcap_event_name'] == 'week_28_arm_1') |\n",
    "                  (SP_data['redcap_event_name'] == 'week_36_arm_1') |\n",
    "                  (SP_data['redcap_event_name'] == 'month_1_arm_1')\n",
    "                  )\n",
    "\n",
    "condition_arm_2 = (SP_data['redcap_event_name'] == 'month_1_arm_2')\n",
    "\n",
    "blood_processing_condition = (SP_data['bsp_date'].isnull()) | (SP_data['bsp_time'].isnull()) & (SP_data['blood_sample_processing_complete'] !='0')\n",
    "urine_processing_condition = (SP_data['usp_date'].isnull()) | (SP_data['usp_time'].isnull()) & (SP_data['urine_sample_processing_complete'] !='0')\n",
    "\n",
    "\n",
    "df_SP = SP_data[\n",
    "    (condition_arm_1 & (blood_processing_condition | urine_processing_condition)) |\n",
    "    (condition_arm_2 & blood_processing_condition  )\n",
    "]\n",
    "\n",
    "df_SP = pd.DataFrame(df_SP)"
   ]
  },
  {
   "cell_type": "code",
   "execution_count": 111,
   "metadata": {},
   "outputs": [],
   "source": [
    "#Save the filtered DataFrame to a CSV file\n",
    "df_SP.to_csv('SampleProcessing.csv', index=False)"
   ]
  }
 ],
 "metadata": {
  "kernelspec": {
   "display_name": "Python 3",
   "language": "python",
   "name": "python3"
  },
  "language_info": {
   "codemirror_mode": {
    "name": "ipython",
    "version": 3
   },
   "file_extension": ".py",
   "mimetype": "text/x-python",
   "name": "python",
   "nbconvert_exporter": "python",
   "pygments_lexer": "ipython3",
   "version": "3.7.9"
  }
 },
 "nbformat": 4,
 "nbformat_minor": 2
}
