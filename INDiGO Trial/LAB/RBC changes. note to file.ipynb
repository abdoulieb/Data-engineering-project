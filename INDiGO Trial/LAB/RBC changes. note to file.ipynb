{
 "cells": [
  {
   "cell_type": "markdown",
   "metadata": {},
   "source": [
    "#### ALL SAMPLES COLLECTED BEFORE QUESTION 1.4 IS ADDED TO THE eCRF"
   ]
  },
  {
   "cell_type": "code",
   "execution_count": 8,
   "metadata": {},
   "outputs": [],
   "source": [
    "from redcap import Project\n",
    "import csv\n",
    "import datetime\n",
    "import pandas as pd\n",
    "\n",
    "#REDCap API configuration\n",
    "api_url = 'https://ruff.mrc.gm:8443/redcap/api/'\n",
    "api_key = '63A451E2DA73C4D6A4C64A17B36B9565'\n",
    "project = Project(api_url, api_key)"
   ]
  },
  {
   "cell_type": "code",
   "execution_count": 9,
   "metadata": {},
   "outputs": [],
   "source": [
    "#extract study sample processing data\n",
    "BLD_sample_processing = project.export_records(forms=['blood_sample_processing'])\n",
    "\n",
    "#convert data to Dataframe.\n",
    "sp_data=pd.DataFrame(BLD_sample_processing)"
   ]
  },
  {
   "cell_type": "code",
   "execution_count": 10,
   "metadata": {},
   "outputs": [],
   "source": [
    "import pandas as pd\n",
    "\n",
    "# Specify the fields you want to extract based on logics\n",
    "SP_data = sp_data[['con_participantid_q1', 'redcap_event_name', 'bsp_date', 'bsp_time', 'bsp_rbc', 'blood_sample_processing_complete']]\n",
    "SP_data = pd.DataFrame(SP_data)\n",
    "\n",
    "# Convert bsp_date and bsp_time to appropriate data types\n",
    "SP_data['bsp_date'] = pd.to_datetime(SP_data['bsp_date'], errors='coerce').dt.date\n",
    "SP_data['bsp_time'] = pd.to_datetime(SP_data['bsp_time'], errors='coerce').dt.time\n",
    "\n",
    "# Define the conditions\n",
    "condition_arm_1 = ((SP_data['redcap_event_name'] == 'week_20_arm_1') |\n",
    "                   (SP_data['redcap_event_name'] == 'week_28_arm_1') |\n",
    "                   (SP_data['redcap_event_name'] == 'week_36_arm_1') |\n",
    "                   (SP_data['redcap_event_name'] == 'month_1_arm_1') |\n",
    "                   (SP_data['redcap_event_name'] == 'month_6_arm_1') |\n",
    "                   (SP_data['redcap_event_name'] == 'month_12_arm_1'))\n",
    "\n",
    "condition_arm_2 = ((SP_data['redcap_event_name'] == 'month_1_arm_2') |\n",
    "                   (SP_data['redcap_event_name'] == 'month_6_arm_2') |\n",
    "                   (SP_data['redcap_event_name'] == 'month_12_arm_2'))\n",
    "\n",
    "blood_processing_condition = (SP_data['bsp_rbc'].isnull()) | (SP_data['bsp_rbc'] == \"\")\n",
    "\n",
    "# Filter the data\n",
    "df_SP = SP_data[(condition_arm_1 & blood_processing_condition) | (condition_arm_2 & blood_processing_condition)]\n",
    "\n",
    "df_SP = pd.DataFrame(df_SP)\n"
   ]
  },
  {
   "cell_type": "code",
   "execution_count": 11,
   "metadata": {},
   "outputs": [],
   "source": [
    "#Save the filtered DataFrame to a CSV file\n",
    "df_SP.to_csv('Redblood cell blnk.csv', index=False)"
   ]
  }
 ],
 "metadata": {
  "kernelspec": {
   "display_name": "Python 3",
   "language": "python",
   "name": "python3"
  },
  "language_info": {
   "codemirror_mode": {
    "name": "ipython",
    "version": 3
   },
   "file_extension": ".py",
   "mimetype": "text/x-python",
   "name": "python",
   "nbconvert_exporter": "python",
   "pygments_lexer": "ipython3",
   "version": "3.7.9"
  }
 },
 "nbformat": 4,
 "nbformat_minor": 2
}
