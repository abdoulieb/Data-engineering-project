{
 "cells": [
  {
   "cell_type": "code",
   "execution_count": 119,
   "metadata": {},
   "outputs": [],
   "source": [
    "from redcap import Project\n",
    "import pandas as pd\n",
    "\n",
    "#REDCap API configuration\n",
    "api_url = 'https://redcap.mrc.gm:8443/redcap/api/'\n",
    "api_key = '9D6259C7B0E732D2C11EAAAF1D49B818'\n",
    "project = Project(api_url, api_key)"
   ]
  },
  {
   "cell_type": "code",
   "execution_count": 120,
   "metadata": {},
   "outputs": [
    {
     "name": "stdout",
     "output_type": "stream",
     "text": [
      "Index(['compoundno', 'redcap_event_name', 'redcap_repeat_instrument',\n",
      "       'redcap_repeat_instance', 'hrf_direction', 'hrf_compnumconsent',\n",
      "       'hrf_vname', 'hrf_hhname', 'hrf_telephone_hhh', 'hrf_hhsize',\n",
      "       'hrf_women1617', 'hrf_women1839', 'hrf_date', 'hrf_staffid',\n",
      "       'household_registration_form_complete'],\n",
      "      dtype='object')\n"
     ]
    }
   ],
   "source": [
    "##Extract all data from household registration.\n",
    "HHRegistration_data = project.export_records(forms=['household_registration_form'])\n",
    "\n",
    "#convert data to Dataframe.\n",
    "HHold_data=pd.DataFrame(HHRegistration_data)\n",
    "print(HHold_data.columns)"
   ]
  },
  {
   "cell_type": "code",
   "execution_count": 121,
   "metadata": {},
   "outputs": [
    {
     "name": "stdout",
     "output_type": "stream",
     "text": [
      "     compoundno     redcap_repeat_instrument redcap_repeat_instance  \\\n",
      "2135     70-001  household_registration_form                      1   \n",
      "2136     70-002  household_registration_form                      1   \n",
      "2137     70-003  household_registration_form                      1   \n",
      "2138     70-004  household_registration_form                      1   \n",
      "2140     70-005  household_registration_form                      1   \n",
      "...         ...                          ...                    ...   \n",
      "3020     85-011  household_registration_form                      2   \n",
      "3021     85-012  household_registration_form                      1   \n",
      "3022     85-013  household_registration_form                      1   \n",
      "3023     85-014  household_registration_form                      1   \n",
      "3024     85-015  household_registration_form                      1   \n",
      "\n",
      "     hrf_women1839   hrf_date hrf_staffid  \n",
      "2135             1 2024-01-23       lcham  \n",
      "2136             1 2024-01-23       lcham  \n",
      "2137             1 2024-01-23   fosanyang  \n",
      "2138             3 2024-01-23       lcham  \n",
      "2140             1 2024-01-23   fosanyang  \n",
      "...            ...        ...         ...  \n",
      "3020             1 2024-02-08   fosanyang  \n",
      "3021             1 2024-02-08   fosanyang  \n",
      "3022             1 2024-02-08   fosanyang  \n",
      "3023             0 2024-02-08   fosanyang  \n",
      "3024             2 2024-02-08   fosanyang  \n",
      "\n",
      "[797 rows x 6 columns]\n"
     ]
    }
   ],
   "source": [
    "# Specify the fields you want to extract base on logics\n",
    "HH_data=HHold_data[['compoundno','redcap_repeat_instrument','redcap_repeat_instance','hrf_women1839','hrf_date','hrf_staffid']]\n",
    "HH_data=pd.DataFrame(HH_data)\n",
    "\n",
    "#st_date as a date data type\n",
    "HH_data['hrf_date'] = pd.to_datetime(HH_data['hrf_date'], errors='coerce')\n",
    "\n",
    "\n",
    "HH_data = HH_data[\n",
    "    (HH_data['hrf_date'].notnull()) &\n",
    "    (HH_data['compoundno'] >= '70')\n",
    "]\n",
    "\n",
    "print(HH_data)"
   ]
  },
  {
   "cell_type": "code",
   "execution_count": 122,
   "metadata": {},
   "outputs": [
    {
     "name": "stdout",
     "output_type": "stream",
     "text": [
      "Index(['compoundno', 'redcap_event_name', 'redcap_repeat_instrument',\n",
      "       'redcap_repeat_instance', 'enu_village', 'enu_comp', 'enu_household',\n",
      "       'wk_ckno', 'enu_date', 'enu_name', 'enu_dob', 'enu_mname', 'enu_fname',\n",
      "       'enu_age', 'enu_dob_estimated', 'enu_dobsource', 'enu_sensitisation',\n",
      "       'sen_date', 'sen_visitstatus', 'sen_comment', 'sen_ppregnant',\n",
      "       'sen_explained', 'sen_icd_given', 'sen_contact1', 'sen_contact2',\n",
      "       'sen_contact3', 'sen_contact4', 'sen_outcome', 'sen_staffid',\n",
      "       'enumeration_and_sensitisation_complete'],\n",
      "      dtype='object')\n"
     ]
    }
   ],
   "source": [
    "##Extract all data from Sensitization.\n",
    "Enumeration_data = project.export_records(forms=['enumeration_and_sensitisation'])\n",
    "\n",
    "#convert data to Dataframe.\n",
    "EnumData=pd.DataFrame(Enumeration_data)\n",
    "print(EnumData.columns)"
   ]
  },
  {
   "cell_type": "code",
   "execution_count": 123,
   "metadata": {},
   "outputs": [],
   "source": [
    "# Specify the fields you want to extract base on logics\n",
    "Enum_data=EnumData[['compoundno','redcap_repeat_instrument','redcap_repeat_instance','enu_name','enu_dob','enu_age','enu_mname','wk_ckno','enu_fname','enu_village','enu_comp','enu_household']]\n",
    "Enum_data=pd.DataFrame(Enum_data)\n",
    "\n",
    "#st_date as a date data type\n",
    "Enum_data['enu_dob'] = pd.to_datetime(Enum_data['enu_dob'], errors='coerce')\n",
    "\n",
    "\n",
    "Enum_data = Enum_data[\n",
    "    (Enum_data['compoundno'] >= '70')\n",
    "    #(Enum_data['enu_dob'].notnull()) &\n",
    "    #(Enum_data['enu_name'].str.strip() !='')\n",
    "]\n",
    "\n",
    "inst_number = str(Enum_data['redcap_repeat_instance'])\n",
    "#east_number = f\"{Enum_data['compoundno']}-{str(Enum_data['redcap_repeat_instance']).zfill(2)}\" if Enum_data['redcap_repeat_instance'] < 10 else f\"{Enum_data['compoundno']}-{Enum_data['redcap_repeat_instance']}\"\n",
    "\n",
    "\n",
    "##List of potentials\n",
    "Sensitized_List = pd.DataFrame({\n",
    "    'EKNo.': Enum_data['wk_ckno'],\n",
    "    'Name of Potential': Enum_data['enu_name'],\n",
    "    'DoB': Enum_data['enu_dob'],\n",
    "    'Age': Enum_data['enu_age'],\n",
    "    'Mother Name': Enum_data['enu_mname'],\n",
    "    'Father Name': Enum_data['enu_fname'],\n",
    "    'Village' : Enum_data['enu_village'],\n",
    "    'Compound': Enum_data['enu_comp'],\n",
    "    'Household' :Enum_data['enu_household']\n",
    "})\n",
    "\n",
    "# Save the DataFrame to a CSV file\n",
    "Sensitized_List.to_csv('Sensitized_East.csv', index=False)\n"
   ]
  },
  {
   "cell_type": "code",
   "execution_count": 124,
   "metadata": {},
   "outputs": [
    {
     "name": "stdout",
     "output_type": "stream",
     "text": [
      "    compoundno  sum_1839\n",
      "0       70-001       1.0\n",
      "1       70-002       1.0\n",
      "2       70-003       1.0\n",
      "3       70-004       3.0\n",
      "4       70-005       1.0\n",
      "..         ...       ...\n",
      "525     85-011       1.0\n",
      "526     85-012       1.0\n",
      "527     85-013       1.0\n",
      "528     85-014       0.0\n",
      "529     85-015       2.0\n",
      "\n",
      "[530 rows x 2 columns]\n"
     ]
    }
   ],
   "source": [
    "##SUM OF POTENTIALS IN EACH COMPOUND\n",
    "HH_data=pd.DataFrame(HH_data)\n",
    "\n",
    "# Convert 'hrf_women1839' to numeric type\n",
    "HH_data['hrf_women1839'] = pd.to_numeric(HH_data['hrf_women1839'])\n",
    "\n",
    "# Group by 'compoundno' 'staffid' and sum 'hrf_women1839'\n",
    "sum_of_potentials = HH_data.groupby(['compoundno'])['hrf_women1839'].sum().reset_index()\n",
    "\n",
    "\n",
    "# Rename the columns for clarity\n",
    "sum_of_potentials.columns = ['compoundno','sum_1839']\n",
    "\n",
    "print(sum_of_potentials)\n"
   ]
  },
  {
   "cell_type": "code",
   "execution_count": 125,
   "metadata": {},
   "outputs": [
    {
     "name": "stdout",
     "output_type": "stream",
     "text": [
      "    compoundno  sum_of_compno\n",
      "0       70-001              2\n",
      "1       70-002              2\n",
      "2       70-003              1\n",
      "3       70-004              4\n",
      "4       70-005              1\n",
      "..         ...            ...\n",
      "592     85-012              1\n",
      "593     85-013              2\n",
      "594     85-014              1\n",
      "595     85-015              3\n",
      "596     85-016              1\n",
      "\n",
      "[597 rows x 2 columns]\n"
     ]
    }
   ],
   "source": [
    "##POTENTIALS SENSITIZED IN EACH COMPOUND\n",
    "Enum_data = pd.DataFrame(Enum_data)\n",
    "\n",
    "# Group by 'compoundno' and count the occurrences\n",
    "sensitized_potentials = Enum_data.groupby('compoundno').size().reset_index(name='sum_of_compno')\n",
    "\n",
    "print(sensitized_potentials)\n"
   ]
  },
  {
   "cell_type": "code",
   "execution_count": 126,
   "metadata": {},
   "outputs": [
    {
     "name": "stdout",
     "output_type": "stream",
     "text": [
      "    compoundno  sum_1839  sum_of_compno  1839-potential\n",
      "0       70-001       1.0              2            -1.0\n",
      "1       70-002       1.0              2            -1.0\n",
      "2       70-003       1.0              1             0.0\n",
      "3       70-004       3.0              4            -1.0\n",
      "4       70-005       1.0              1             0.0\n",
      "..         ...       ...            ...             ...\n",
      "525     85-011       1.0              2            -1.0\n",
      "526     85-012       1.0              1             0.0\n",
      "527     85-013       1.0              2            -1.0\n",
      "528     85-014       0.0              1            -1.0\n",
      "529     85-015       2.0              3            -1.0\n",
      "\n",
      "[530 rows x 4 columns]\n"
     ]
    }
   ],
   "source": [
    "\n",
    "# Merge the two DataFrames on 'compoundno' column\n",
    "merged_df = pd.merge(sum_of_potentials, sensitized_potentials, on='compoundno')\n",
    "\n",
    "# Calculate the difference and rename the column\n",
    "merged_df['1839-potential'] = merged_df['sum_1839'] - merged_df['sum_of_compno']\n",
    "\n",
    "# Select the desired columns\n",
    "east_df = merged_df[['compoundno', 'sum_1839', 'sum_of_compno', '1839-potential']]\n",
    "\n",
    "print(east_df)\n"
   ]
  },
  {
   "cell_type": "code",
   "execution_count": 127,
   "metadata": {},
   "outputs": [],
   "source": [
    "East_kiang = pd.DataFrame({\n",
    "    'Compound No.':east_df['compoundno'],\n",
    "    'Potentials': east_df['sum_1839'],\n",
    "    'Sensitized': east_df['sum_of_compno'],\n",
    "    'Differencies': east_df['1839-potential'],\n",
    "    #'Staff ID' : east_df['hrf_staffid']\n",
    "})\n",
    "\n",
    "# Save the DataFrame to a CSV file\n",
    "East_kiang.to_csv('East_Kiang.csv', index=False)\n"
   ]
  }
 ],
 "metadata": {
  "kernelspec": {
   "display_name": "Python 3",
   "language": "python",
   "name": "python3"
  },
  "language_info": {
   "codemirror_mode": {
    "name": "ipython",
    "version": 3
   },
   "file_extension": ".py",
   "mimetype": "text/x-python",
   "name": "python",
   "nbconvert_exporter": "python",
   "pygments_lexer": "ipython3",
   "version": "3.7.9"
  }
 },
 "nbformat": 4,
 "nbformat_minor": 2
}
