{
 "cells": [
  {
   "cell_type": "code",
   "execution_count": 5,
   "metadata": {},
   "outputs": [],
   "source": [
    "from redcap import Project\n",
    "import pandas as pd\n",
    "import datetime\n",
    "\n",
    "#REDCap API configuration\n",
    "api_url = 'https://ruff.mrc.gm:8443/redcap/api/'\n",
    "api_key = '63A451E2DA73C4D6A4C64A17B36B9565'\n",
    "project = Project(api_url, api_key)\n"
   ]
  },
  {
   "cell_type": "code",
   "execution_count": 6,
   "metadata": {},
   "outputs": [
    {
     "ename": "RequestException",
     "evalue": "{'error': 'You do not have permissions to use the API'}",
     "output_type": "error",
     "traceback": [
      "\u001b[1;31m---------------------------------------------------------------------------\u001b[0m",
      "\u001b[1;31mRequestException\u001b[0m                          Traceback (most recent call last)",
      "Cell \u001b[1;32mIn[6], line 2\u001b[0m\n\u001b[0;32m      1\u001b[0m \u001b[38;5;66;03m#extract study termination data\u001b[39;00m\n\u001b[1;32m----> 2\u001b[0m supplementation_data \u001b[38;5;241m=\u001b[39m \u001b[43mproject\u001b[49m\u001b[38;5;241;43m.\u001b[39;49m\u001b[43mexport_records\u001b[49m\u001b[43m(\u001b[49m\u001b[43mforms\u001b[49m\u001b[38;5;241;43m=\u001b[39;49m\u001b[43m[\u001b[49m\u001b[38;5;124;43m'\u001b[39;49m\u001b[38;5;124;43mmaternal_supplementation\u001b[39;49m\u001b[38;5;124;43m'\u001b[39;49m\u001b[43m]\u001b[49m\u001b[43m)\u001b[49m\n\u001b[0;32m      4\u001b[0m \u001b[38;5;66;03m#convert data to Dataframe.\u001b[39;00m\n\u001b[0;32m      5\u001b[0m supp_data\u001b[38;5;241m=\u001b[39mpd\u001b[38;5;241m.\u001b[39mDataFrame(supplementation_data)\n",
      "File \u001b[1;32mc:\\Users\\abliebah\\AppData\\Local\\Programs\\Python\\Python311\\Lib\\site-packages\\redcap\\methods\\records.py:243\u001b[0m, in \u001b[0;36mRecords.export_records\u001b[1;34m(self, format_type, records, fields, forms, events, raw_or_label, raw_or_label_headers, event_name, record_type, export_survey_fields, export_data_access_groups, export_checkbox_labels, filter_logic, date_begin, date_end, decimal_character, export_blank_for_gray_form_status, df_kwargs)\u001b[0m\n\u001b[0;32m    238\u001b[0m \u001b[38;5;66;03m# pylint: enable=line-too-long\u001b[39;00m\n\u001b[0;32m    239\u001b[0m payload \u001b[38;5;241m=\u001b[39m \u001b[38;5;28mself\u001b[39m\u001b[38;5;241m.\u001b[39m_initialize_payload(\n\u001b[0;32m    240\u001b[0m     content\u001b[38;5;241m=\u001b[39m\u001b[38;5;124m\"\u001b[39m\u001b[38;5;124mrecord\u001b[39m\u001b[38;5;124m\"\u001b[39m, format_type\u001b[38;5;241m=\u001b[39mformat_type, record_type\u001b[38;5;241m=\u001b[39mrecord_type\n\u001b[0;32m    241\u001b[0m )\n\u001b[1;32m--> 243\u001b[0m fields \u001b[38;5;241m=\u001b[39m \u001b[38;5;28;43mself\u001b[39;49m\u001b[38;5;241;43m.\u001b[39;49m\u001b[43m_backfill_fields\u001b[49m\u001b[43m(\u001b[49m\u001b[43mfields\u001b[49m\u001b[43m,\u001b[49m\u001b[43m \u001b[49m\u001b[43mforms\u001b[49m\u001b[43m)\u001b[49m\n\u001b[0;32m    245\u001b[0m keys_to_add \u001b[38;5;241m=\u001b[39m (\n\u001b[0;32m    246\u001b[0m     records,\n\u001b[0;32m    247\u001b[0m     fields,\n\u001b[1;32m   (...)\u001b[0m\n\u001b[0;32m    258\u001b[0m     export_blank_for_gray_form_status,\n\u001b[0;32m    259\u001b[0m )\n\u001b[0;32m    261\u001b[0m str_keys \u001b[38;5;241m=\u001b[39m (\n\u001b[0;32m    262\u001b[0m     \u001b[38;5;124m\"\u001b[39m\u001b[38;5;124mrecords\u001b[39m\u001b[38;5;124m\"\u001b[39m,\n\u001b[0;32m    263\u001b[0m     \u001b[38;5;124m\"\u001b[39m\u001b[38;5;124mfields\u001b[39m\u001b[38;5;124m\"\u001b[39m,\n\u001b[1;32m   (...)\u001b[0m\n\u001b[0;32m    274\u001b[0m     \u001b[38;5;124m\"\u001b[39m\u001b[38;5;124mexportBlankForGrayFormStatus\u001b[39m\u001b[38;5;124m\"\u001b[39m,\n\u001b[0;32m    275\u001b[0m )\n",
      "File \u001b[1;32mc:\\Users\\abliebah\\AppData\\Local\\Programs\\Python\\Python311\\Lib\\site-packages\\redcap\\methods\\records.py:32\u001b[0m, in \u001b[0;36mRecords._backfill_fields\u001b[1;34m(self, fields, forms)\u001b[0m\n\u001b[0;32m     16\u001b[0m \u001b[38;5;250m\u001b[39m\u001b[38;5;124;03m\"\"\"\u001b[39;00m\n\u001b[0;32m     17\u001b[0m \u001b[38;5;124;03mProperly backfill fields to explicitly request the primary keys and\u001b[39;00m\n\u001b[0;32m     18\u001b[0m \u001b[38;5;124;03m\"form_complete\" fields of the project. REDCap won't include fields like\u001b[39;00m\n\u001b[1;32m   (...)\u001b[0m\n\u001b[0;32m     29\u001b[0m \u001b[38;5;124;03mself.def_field (record_id) and the \"form_complete\" fields\u001b[39;00m\n\u001b[0;32m     30\u001b[0m \u001b[38;5;124;03m\"\"\"\u001b[39;00m\n\u001b[0;32m     31\u001b[0m \u001b[38;5;28;01mif\u001b[39;00m forms \u001b[38;5;129;01mand\u001b[39;00m \u001b[38;5;129;01mnot\u001b[39;00m fields:\n\u001b[1;32m---> 32\u001b[0m     \u001b[38;5;28;01mreturn\u001b[39;00m [\u001b[38;5;124mf\u001b[39m\u001b[38;5;124m\"\u001b[39m\u001b[38;5;132;01m{\u001b[39;00m\u001b[38;5;250m \u001b[39mform\u001b[38;5;250m \u001b[39m\u001b[38;5;132;01m}\u001b[39;00m\u001b[38;5;124m_complete\u001b[39m\u001b[38;5;124m\"\u001b[39m \u001b[38;5;28;01mfor\u001b[39;00m form \u001b[38;5;129;01min\u001b[39;00m forms] \u001b[38;5;241m+\u001b[39m [\u001b[38;5;28;43mself\u001b[39;49m\u001b[38;5;241;43m.\u001b[39;49m\u001b[43mdef_field\u001b[49m]\n\u001b[0;32m     34\u001b[0m \u001b[38;5;28;01mif\u001b[39;00m fields \u001b[38;5;129;01mand\u001b[39;00m \u001b[38;5;28mself\u001b[39m\u001b[38;5;241m.\u001b[39mdef_field \u001b[38;5;129;01mnot\u001b[39;00m \u001b[38;5;129;01min\u001b[39;00m fields:\n\u001b[0;32m     35\u001b[0m     \u001b[38;5;28;01mreturn\u001b[39;00m fields \u001b[38;5;241m+\u001b[39m [\u001b[38;5;28mself\u001b[39m\u001b[38;5;241m.\u001b[39mdef_field]\n",
      "File \u001b[1;32mc:\\Users\\abliebah\\AppData\\Local\\Programs\\Python\\Python311\\Lib\\site-packages\\redcap\\methods\\base.py:98\u001b[0m, in \u001b[0;36mBase.def_field\u001b[1;34m(self)\u001b[0m\n\u001b[0;32m     96\u001b[0m \u001b[38;5;250m\u001b[39m\u001b[38;5;124;03m\"\"\"The 'record_id' field equivalent for a project\"\"\"\u001b[39;00m\n\u001b[0;32m     97\u001b[0m \u001b[38;5;28;01mif\u001b[39;00m \u001b[38;5;28mself\u001b[39m\u001b[38;5;241m.\u001b[39m_def_field \u001b[38;5;129;01mis\u001b[39;00m \u001b[38;5;28;01mNone\u001b[39;00m:\n\u001b[1;32m---> 98\u001b[0m     \u001b[38;5;28mself\u001b[39m\u001b[38;5;241m.\u001b[39m_def_field \u001b[38;5;241m=\u001b[39m \u001b[38;5;28;43mself\u001b[39;49m\u001b[38;5;241;43m.\u001b[39;49m\u001b[43mfield_names\u001b[49m[\u001b[38;5;241m0\u001b[39m]\n\u001b[0;32m    100\u001b[0m \u001b[38;5;28;01mreturn\u001b[39;00m \u001b[38;5;28mself\u001b[39m\u001b[38;5;241m.\u001b[39m_def_field\n",
      "File \u001b[1;32mc:\\Users\\abliebah\\AppData\\Local\\Programs\\Python\\Python311\\Lib\\site-packages\\redcap\\methods\\base.py:90\u001b[0m, in \u001b[0;36mBase.field_names\u001b[1;34m(self)\u001b[0m\n\u001b[0;32m     84\u001b[0m \u001b[38;5;250m\u001b[39m\u001b[38;5;124;03m\"\"\"Project field names\u001b[39;00m\n\u001b[0;32m     85\u001b[0m \n\u001b[0;32m     86\u001b[0m \u001b[38;5;124;03mNote:\u001b[39;00m\n\u001b[0;32m     87\u001b[0m \u001b[38;5;124;03m    These are survey field names, not export field names\u001b[39;00m\n\u001b[0;32m     88\u001b[0m \u001b[38;5;124;03m\"\"\"\u001b[39;00m\n\u001b[0;32m     89\u001b[0m \u001b[38;5;28;01mif\u001b[39;00m \u001b[38;5;28mself\u001b[39m\u001b[38;5;241m.\u001b[39m_field_names \u001b[38;5;129;01mis\u001b[39;00m \u001b[38;5;28;01mNone\u001b[39;00m:\n\u001b[1;32m---> 90\u001b[0m     \u001b[38;5;28mself\u001b[39m\u001b[38;5;241m.\u001b[39m_field_names \u001b[38;5;241m=\u001b[39m \u001b[38;5;28;43mself\u001b[39;49m\u001b[38;5;241;43m.\u001b[39;49m\u001b[43m_filter_metadata\u001b[49m\u001b[43m(\u001b[49m\u001b[43mkey\u001b[49m\u001b[38;5;241;43m=\u001b[39;49m\u001b[38;5;124;43m\"\u001b[39;49m\u001b[38;5;124;43mfield_name\u001b[39;49m\u001b[38;5;124;43m\"\u001b[39;49m\u001b[43m)\u001b[49m\n\u001b[0;32m     92\u001b[0m \u001b[38;5;28;01mreturn\u001b[39;00m \u001b[38;5;28mself\u001b[39m\u001b[38;5;241m.\u001b[39m_field_names\n",
      "File \u001b[1;32mc:\\Users\\abliebah\\AppData\\Local\\Programs\\Python\\Python311\\Lib\\site-packages\\redcap\\methods\\base.py:223\u001b[0m, in \u001b[0;36mBase._filter_metadata\u001b[1;34m(self, key, field_name)\u001b[0m\n\u001b[0;32m    221\u001b[0m         \u001b[38;5;28;01mreturn\u001b[39;00m \u001b[38;5;124m\"\u001b[39m\u001b[38;5;124m\"\u001b[39m\n\u001b[0;32m    222\u001b[0m \u001b[38;5;28;01melse\u001b[39;00m:\n\u001b[1;32m--> 223\u001b[0m     res \u001b[38;5;241m=\u001b[39m [row[key] \u001b[38;5;28;01mfor\u001b[39;00m row \u001b[38;5;129;01min\u001b[39;00m \u001b[38;5;28;43mself\u001b[39;49m\u001b[38;5;241;43m.\u001b[39;49m\u001b[43mmetadata\u001b[49m]\n\u001b[0;32m    225\u001b[0m \u001b[38;5;28;01mreturn\u001b[39;00m res\n",
      "File \u001b[1;32mc:\\Users\\abliebah\\AppData\\Local\\Programs\\Python\\Python311\\Lib\\site-packages\\redcap\\methods\\base.py:70\u001b[0m, in \u001b[0;36mBase.metadata\u001b[1;34m(self)\u001b[0m\n\u001b[0;32m     68\u001b[0m \u001b[38;5;28;01mif\u001b[39;00m \u001b[38;5;28mself\u001b[39m\u001b[38;5;241m.\u001b[39m_metadata \u001b[38;5;129;01mis\u001b[39;00m \u001b[38;5;28;01mNone\u001b[39;00m:\n\u001b[0;32m     69\u001b[0m     payload \u001b[38;5;241m=\u001b[39m \u001b[38;5;28mself\u001b[39m\u001b[38;5;241m.\u001b[39m_initialize_payload(\u001b[38;5;124m\"\u001b[39m\u001b[38;5;124mmetadata\u001b[39m\u001b[38;5;124m\"\u001b[39m, format_type\u001b[38;5;241m=\u001b[39m\u001b[38;5;124m\"\u001b[39m\u001b[38;5;124mjson\u001b[39m\u001b[38;5;124m\"\u001b[39m)\n\u001b[1;32m---> 70\u001b[0m     \u001b[38;5;28mself\u001b[39m\u001b[38;5;241m.\u001b[39m_metadata \u001b[38;5;241m=\u001b[39m \u001b[38;5;28;43mself\u001b[39;49m\u001b[38;5;241;43m.\u001b[39;49m\u001b[43m_call_api\u001b[49m\u001b[43m(\u001b[49m\u001b[43mpayload\u001b[49m\u001b[43m,\u001b[49m\u001b[43m \u001b[49m\u001b[43mreturn_type\u001b[49m\u001b[38;5;241;43m=\u001b[39;49m\u001b[38;5;124;43m\"\u001b[39;49m\u001b[38;5;124;43mjson\u001b[39;49m\u001b[38;5;124;43m\"\u001b[39;49m\u001b[43m)\u001b[49m\n\u001b[0;32m     72\u001b[0m \u001b[38;5;28;01mreturn\u001b[39;00m \u001b[38;5;28mself\u001b[39m\u001b[38;5;241m.\u001b[39m_metadata\n",
      "File \u001b[1;32mc:\\Users\\abliebah\\AppData\\Local\\Programs\\Python\\Python311\\Lib\\site-packages\\redcap\\methods\\base.py:515\u001b[0m, in \u001b[0;36mBase._call_api\u001b[1;34m(self, payload, return_type, file)\u001b[0m\n\u001b[0;32m    512\u001b[0m return_headers \u001b[38;5;241m=\u001b[39m return_type \u001b[38;5;241m==\u001b[39m \u001b[38;5;124m\"\u001b[39m\u001b[38;5;124mfile_map\u001b[39m\u001b[38;5;124m\"\u001b[39m\n\u001b[0;32m    514\u001b[0m rcr \u001b[38;5;241m=\u001b[39m _RCRequest(url\u001b[38;5;241m=\u001b[39m\u001b[38;5;28mself\u001b[39m\u001b[38;5;241m.\u001b[39murl, payload\u001b[38;5;241m=\u001b[39mpayload, config\u001b[38;5;241m=\u001b[39mconfig)\n\u001b[1;32m--> 515\u001b[0m \u001b[38;5;28;01mreturn\u001b[39;00m \u001b[43mrcr\u001b[49m\u001b[38;5;241;43m.\u001b[39;49m\u001b[43mexecute\u001b[49m\u001b[43m(\u001b[49m\n\u001b[0;32m    516\u001b[0m \u001b[43m    \u001b[49m\u001b[43mverify_ssl\u001b[49m\u001b[38;5;241;43m=\u001b[39;49m\u001b[38;5;28;43mself\u001b[39;49m\u001b[38;5;241;43m.\u001b[39;49m\u001b[43mverify_ssl\u001b[49m\u001b[43m,\u001b[49m\u001b[43m \u001b[49m\u001b[43mreturn_headers\u001b[49m\u001b[38;5;241;43m=\u001b[39;49m\u001b[43mreturn_headers\u001b[49m\u001b[43m,\u001b[49m\u001b[43m \u001b[49m\u001b[43mfile\u001b[49m\u001b[38;5;241;43m=\u001b[39;49m\u001b[43mfile\u001b[49m\n\u001b[0;32m    517\u001b[0m \u001b[43m\u001b[49m\u001b[43m)\u001b[49m\n",
      "File \u001b[1;32mc:\\Users\\abliebah\\AppData\\Local\\Programs\\Python\\Python311\\Lib\\site-packages\\redcap\\request.py:224\u001b[0m, in \u001b[0;36m_RCRequest.execute\u001b[1;34m(self, verify_ssl, return_headers, file)\u001b[0m\n\u001b[0;32m    221\u001b[0m     bad_request \u001b[38;5;241m=\u001b[39m \u001b[38;5;124m\"\u001b[39m\u001b[38;5;124m<error>\u001b[39m\u001b[38;5;124m\"\u001b[39m \u001b[38;5;129;01min\u001b[39;00m \u001b[38;5;28mstr\u001b[39m(content)\u001b[38;5;241m.\u001b[39mlower()\n\u001b[0;32m    223\u001b[0m \u001b[38;5;28;01mif\u001b[39;00m bad_request:\n\u001b[1;32m--> 224\u001b[0m     \u001b[38;5;28;01mraise\u001b[39;00m RedcapError(content)\n\u001b[0;32m    226\u001b[0m \u001b[38;5;28;01mif\u001b[39;00m return_headers:\n\u001b[0;32m    227\u001b[0m     \u001b[38;5;28;01mreturn\u001b[39;00m content, response\u001b[38;5;241m.\u001b[39mheaders\n",
      "\u001b[1;31mRequestException\u001b[0m: {'error': 'You do not have permissions to use the API'}"
     ]
    }
   ],
   "source": [
    "#extract study termination data\n",
    "supplementation_data = project.export_records(forms=['maternal_supplementation'])\n",
    "\n",
    "#convert data to Dataframe.\n",
    "supp_data=pd.DataFrame(supplementation_data)"
   ]
  },
  {
   "cell_type": "code",
   "execution_count": null,
   "metadata": {},
   "outputs": [],
   "source": [
    "# # Specify the fields you want to extract base on logics\n",
    "# df_suppData=supp_data[['con_participantid_q1','redcap_event_name','redcap_repeat_instrument','redcap_repeat_instance','ms_dvisit_q1','ms_sup_administered_q2','ms_completed_by']]\n",
    "# df_suppData=pd.DataFrame(df_suppData)\n",
    "\n",
    "# #st_date as a date data type\n",
    "# df_suppData['ms_dvisit_q1'] = pd.to_datetime(df_suppData['ms_dvisit_q1'], errors='coerce')\n",
    "\n",
    "\n",
    "# filtered_data = df_suppData[\n",
    "#     (df_suppData['redcap_event_name'] == 'daily_supplementat_arm_1') &\n",
    "#     (df_suppData['ms_sup_administered_q2'] == '0')\n",
    "# ]\n"
   ]
  },
  {
   "cell_type": "code",
   "execution_count": null,
   "metadata": {},
   "outputs": [
    {
     "name": "stdout",
     "output_type": "stream",
     "text": [
      "Empty DataFrame\n",
      "Columns: [con_participantid_q1, redcap_event_name, redcap_repeat_instrument, redcap_repeat_instance, ms_dvisit_q1, ms_sup_administered_q2, ms_completed_by]\n",
      "Index: []\n"
     ]
    }
   ],
   "source": [
    "import pandas as pd\n",
    "\n",
    "# Step 1: Filter and select relevant columns\n",
    "filtered_data = supp_data[\n",
    "    (supp_data['redcap_event_name'] == 'daily_supplementat_arm_1') &\n",
    "    (supp_data['ms_sup_administered_q2'] == '0')\n",
    "][[\n",
    "    'con_participantid_q1', 'redcap_event_name', 'redcap_repeat_instrument',\n",
    "    'redcap_repeat_instance', 'ms_dvisit_q1', 'ms_sup_administered_q2', 'ms_completed_by'\n",
    "]]\n",
    "\n",
    "# Step 2: Convert 'ms_dvisit_q1' to date\n",
    "filtered_data['ms_dvisit_q1'] = pd.to_datetime(filtered_data['ms_dvisit_q1'], errors='coerce').dt.date\n",
    "\n",
    "# Step 3: Group by participant ID and check for five consecutive days\n",
    "def has_five_consecutive_days(group):\n",
    "    # Sort by date\n",
    "    group = group.sort_values(by='ms_dvisit_q1').reset_index(drop=True)\n",
    "    \n",
    "    # Calculate day differences\n",
    "    group['day_diff'] = (pd.to_datetime(group['ms_dvisit_q1']) - pd.to_datetime(group['ms_dvisit_q1'].shift())).dt.days.fillna(1)\n",
    "    \n",
    "    # Identify streaks of consecutive days\n",
    "    group['streak'] = (group['day_diff'] == 1).cumsum()\n",
    "    streak_counts = group.groupby('streak').size()\n",
    "    \n",
    "    # Check if any streak has 5 or more consecutive days\n",
    "    if (streak_counts >= 5).any():\n",
    "        return group\n",
    "    return None  # Return None explicitly if no valid streaks found\n",
    "\n",
    "# Apply the logic to each group\n",
    "results = filtered_data.groupby('con_participantid_q1').apply(has_five_consecutive_days)\n",
    "\n",
    "# Ensure only valid DataFrames are retained\n",
    "valid_results = [group for group in results if isinstance(group, pd.DataFrame) and not group.empty]\n",
    "\n",
    "# Combine valid results into a single DataFrame\n",
    "if valid_results:\n",
    "    final_result = pd.concat(valid_results, ignore_index=True)\n",
    "else:\n",
    "    final_result = pd.DataFrame(columns=filtered_data.columns)\n",
    "\n",
    "# Step 4: Return the final filtered data with relevant columns\n",
    "columns_to_return = [\n",
    "    'con_participantid_q1', 'redcap_event_name', 'redcap_repeat_instrument',\n",
    "    'redcap_repeat_instance', 'ms_dvisit_q1', 'ms_sup_administered_q2', 'ms_completed_by'\n",
    "]\n",
    "\n",
    "final_result = final_result[columns_to_return]\n",
    "\n",
    "# Output the result\n",
    "print(final_result)\n"
   ]
  },
  {
   "cell_type": "code",
   "execution_count": null,
   "metadata": {},
   "outputs": [],
   "source": [
    "# #Daily supplementation date diffference\n",
    "# df_supp = pd.DataFrame({\n",
    "#     'ID': df_suppData['con_participantid_q1'].shift(-1)+\"-\"+(df_supp['redcap_repeat_instance'] + 1).astype(str)+\"-\"+(pd.to_datetime(df_suppData['ms_dvisit_q1'].shift(-1))).astype(str),\n",
    "#     'con_participantid_q1': df_suppData['con_participantid_q1'].shift(-1),\n",
    "#     'Instance number': df_suppData['redcap_repeat_instance'].shift(-1),\n",
    "#     'Supplementation date': pd.to_datetime(df_suppData['ms_dvisit_q1'].shift(-1)),\n",
    "#     'Instrument': 'Maternal Supplementation',\n",
    "#     'Completed by' : df_suppData['ms_completed_by'].shift(-1),\n",
    "#     'Description':  'This date difference between instance ' + df_supp['redcap_repeat_instance'].astype(str) + ' and instance ' + (df_supp['redcap_repeat_instance'] + 1).astype(str) + ' is not equals to 1.'\n",
    "\n",
    "# })"
   ]
  },
  {
   "cell_type": "code",
   "execution_count": null,
   "metadata": {},
   "outputs": [],
   "source": [
    "# #Save the filtered DataFrame to a CSV file\n",
    "# df_supp.to_csv('SupplementationQuery_PD.csv', index=False)"
   ]
  }
 ],
 "metadata": {
  "kernelspec": {
   "display_name": "Python 3",
   "language": "python",
   "name": "python3"
  },
  "language_info": {
   "codemirror_mode": {
    "name": "ipython",
    "version": 3
   },
   "file_extension": ".py",
   "mimetype": "text/x-python",
   "name": "python",
   "nbconvert_exporter": "python",
   "pygments_lexer": "ipython3",
   "version": "3.11.5"
  }
 },
 "nbformat": 4,
 "nbformat_minor": 2
}
