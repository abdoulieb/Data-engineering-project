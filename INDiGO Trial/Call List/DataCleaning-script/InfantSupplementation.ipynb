{
 "cells": [
  {
   "cell_type": "code",
   "execution_count": 2,
   "id": "ecbed150",
   "metadata": {},
   "outputs": [],
   "source": [
    "from redcap import Project\n",
    "import csv\n",
    "import datetime\n",
    "import pandas as pd\n",
    "\n",
    "#REDCap API configuration\n",
    "api_url = 'https://ruff.mrc.gm:8443/redcap/api/'\n",
    "api_key = '63A451E2DA73C4D6A4C64A17B36B9565'\n",
    "project = Project(api_url, api_key)"
   ]
  },
  {
   "cell_type": "code",
   "execution_count": 3,
   "id": "0f37905f",
   "metadata": {},
   "outputs": [],
   "source": [
    "#extract study termination data\n",
    "supplementation_data = project.export_records(forms=['infant_supplementation'])\n",
    "\n",
    "#convert data to Dataframe.\n",
    "supp_data=pd.DataFrame(supplementation_data)"
   ]
  },
  {
   "cell_type": "code",
   "execution_count": 4,
   "id": "1fd9e7d5",
   "metadata": {},
   "outputs": [],
   "source": [
    "# Specify the fields you want to extract base on logics\n",
    "df_suppData=supp_data[['con_participantid_q1','sup_infantid','redcap_event_name','redcap_repeat_instrument','redcap_repeat_instance','sup_vdate','sup_completedby']]\n",
    "df_suppData=pd.DataFrame(df_suppData)\n",
    "\n",
    "#st_date as a date data type\n",
    "df_suppData['sup_vdate'] = pd.to_datetime(df_suppData['sup_vdate'], errors='coerce')\n",
    "\n",
    "\n",
    "df_supp = df_suppData[\n",
    "    (df_suppData['redcap_event_name'] == 'daily_supplementat_arm_2') &\n",
    "    (df_suppData['con_participantid_q1'].eq(df_suppData['con_participantid_q1'].shift(-1))) &\n",
    "    (((df_suppData['sup_vdate'].shift(-1) - df_suppData['sup_vdate']).dt.days < 1) | ((df_suppData['sup_vdate'].shift(-1) - df_suppData['sup_vdate']).dt.days > 1))\n",
    "]\n"
   ]
  },
  {
   "cell_type": "code",
   "execution_count": 5,
   "id": "9eefe5bd",
   "metadata": {},
   "outputs": [],
   "source": [
    "#INfant data frame\n",
    "df_supp = pd.DataFrame({\n",
    "    'ID': df_suppData['sup_infantid'].shift(-1)+\"-\"+(df_supp['redcap_repeat_instance'] + 1).astype(str)+\"-\"+(pd.to_datetime(df_suppData['sup_vdate'].shift(-1))).astype(str),\n",
    "    'con_participantid_q1': df_suppData['con_participantid_q1'].shift(-1),\n",
    "    'Infantid': df_suppData['sup_infantid'].shift(-1),\n",
    "    'Instance number': df_suppData['redcap_repeat_instance'].shift(-1),\n",
    "    'Supplementation date': pd.to_datetime(df_suppData['sup_vdate'].shift(-1)),\n",
    "    'Instrument': 'Infant Supplementation',\n",
    "    'Completed by' : df_suppData['sup_completedby'].shift(-1),\n",
    "    'Description':  'This date difference between instance ' + df_supp['redcap_repeat_instance'].astype(str) + ' and instance ' + (df_supp['redcap_repeat_instance'] + 1).astype(str) + ' is less than 1 or greater than 4.'\n",
    "\n",
    "})"
   ]
  },
  {
   "cell_type": "code",
   "execution_count": 6,
   "id": "33ad9086",
   "metadata": {},
   "outputs": [],
   "source": [
    "## EXCLUDE ALL RESOLVED QUERIES\n",
    "#Read from the ones that are resolved: \"RESOLVED_QUERIES.csv\"\n",
    "df_resolvedQ = pd.read_csv('RESOLVED_QUERIES.csv')\n",
    "\n",
    "# Merge the dataframes on 'ID'\n",
    "con_merged_df = pd.merge(df_supp, df_resolvedQ, on= 'ID', how='inner')\n",
    "\n",
    "# Filter out the common ID\n",
    "df_supp= df_supp[~df_supp['ID'].isin(con_merged_df['ID'])]"
   ]
  },
  {
   "cell_type": "code",
   "execution_count": 7,
   "id": "d21e5315",
   "metadata": {},
   "outputs": [],
   "source": [
    "#Final Infant Query data frame\n",
    "df_supp = pd.DataFrame({\n",
    "    'ID': df_supp['ID'],\n",
    "    'con_participantid_q1': df_supp['con_participantid_q1'],\n",
    "    'Infantid': df_supp['Infantid'],\n",
    "    'Instance number': df_supp['Instance number'],\n",
    "    'Supplementation date': df_supp['Supplementation date'],\n",
    "    'Instrument': df_supp['Instrument'],\n",
    "    'Completed by' : df_supp['Completed by'],\n",
    "    'Description':  df_supp['Description']\n",
    "\n",
    "})"
   ]
  },
  {
   "cell_type": "code",
   "execution_count": 8,
   "id": "82ea3b88",
   "metadata": {},
   "outputs": [],
   "source": [
    "df_supp=df_supp[\n",
    "    (df_supp['Description'].notnull())\n",
    "]"
   ]
  },
  {
   "cell_type": "code",
   "execution_count": 9,
   "id": "da00bea9",
   "metadata": {},
   "outputs": [],
   "source": [
    "#Save the filtered DataFrame to a CSV file\n",
    "df_supp.to_csv('InfSupplementQuery.csv', index=False)"
   ]
  }
 ],
 "metadata": {
  "kernelspec": {
   "display_name": "Python 3 (ipykernel)",
   "language": "python",
   "name": "python3"
  },
  "language_info": {
   "codemirror_mode": {
    "name": "ipython",
    "version": 3
   },
   "file_extension": ".py",
   "mimetype": "text/x-python",
   "name": "python",
   "nbconvert_exporter": "python",
   "pygments_lexer": "ipython3",
   "version": "3.7.9"
  }
 },
 "nbformat": 4,
 "nbformat_minor": 5
}
