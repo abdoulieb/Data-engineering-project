{
 "cells": [
  {
   "cell_type": "code",
   "execution_count": 3,
   "id": "ecbed150",
   "metadata": {},
   "outputs": [],
   "source": [
    "from redcap import Project\n",
    "import pandas as pd\n",
    "import datetime\n",
    "\n",
    "#REDCap API configuration\n",
    "api_url = 'https://ruff.mrc.gm:8443/redcap/api/'\n",
    "api_key = 'D6807C091B1FC14F57CC9B2972D0B398'\n",
    "project = Project(api_url, api_key)\n"
   ]
  },
  {
   "cell_type": "code",
   "execution_count": 4,
   "id": "0f37905f",
   "metadata": {},
   "outputs": [],
   "source": [
    "#extract study termination data\n",
    "supplementation_data = project.export_records(forms=['maternal_supplementation'])\n",
    "\n",
    "#convert data to Dataframe.\n",
    "supp_data=pd.DataFrame(supplementation_data)"
   ]
  },
  {
   "cell_type": "code",
   "execution_count": 5,
   "id": "1fd9e7d5",
   "metadata": {},
   "outputs": [],
   "source": [
    "# Specify the fields you want to extract base on logics\n",
    "df_suppData=supp_data[['con_participantid_q1','redcap_event_name','redcap_repeat_instrument','redcap_repeat_instance','ms_dvisit_q1','ms_completed_by']]\n",
    "df_suppData=pd.DataFrame(df_suppData)\n",
    "\n",
    "#st_date as a date data type\n",
    "df_suppData['ms_dvisit_q1'] = pd.to_datetime(df_suppData['ms_dvisit_q1'], errors='coerce')\n",
    "\n",
    "\n",
    "df_supp = df_suppData[\n",
    "    (df_suppData['redcap_event_name'] == 'daily_supplementat_arm_1') &\n",
    "    (df_suppData['con_participantid_q1'].eq(df_suppData['con_participantid_q1'].shift(-1))) &\n",
    "    ((df_suppData['ms_dvisit_q1'].shift(-1) - df_suppData['ms_dvisit_q1']).dt.days != 1)\n",
    "]\n"
   ]
  },
  {
   "cell_type": "code",
   "execution_count": 6,
   "id": "9eefe5bd",
   "metadata": {},
   "outputs": [],
   "source": [
    "#Daily supplementation date diffference\n",
    "df_supp = pd.DataFrame({\n",
    "    'ID': df_suppData['con_participantid_q1'].shift(-1)+\"-\"+(df_supp['redcap_repeat_instance'] + 1).astype(str)+\"-\"+(pd.to_datetime(df_suppData['ms_dvisit_q1'].shift(-1))).astype(str),\n",
    "    'con_participantid_q1': df_suppData['con_participantid_q1'].shift(-1),\n",
    "    'Instance number': df_suppData['redcap_repeat_instance'].shift(-1),\n",
    "    'Supplementation date': pd.to_datetime(df_suppData['ms_dvisit_q1'].shift(-1)),\n",
    "    'Instrument': 'Maternal Supplementation',\n",
    "    'Completed by' : df_suppData['ms_completed_by'].shift(-1),\n",
    "    'Description':  'This date difference between instance ' + df_supp['redcap_repeat_instance'].astype(str) + ' and instance ' + (df_supp['redcap_repeat_instance'] + 1).astype(str) + ' is not equals to 1.'\n",
    "\n",
    "})"
   ]
  },
  {
   "cell_type": "code",
   "execution_count": 7,
   "id": "7a396557",
   "metadata": {},
   "outputs": [],
   "source": [
    "## EXCLUDE ALL RESOLVED QUERIES\n",
    "#Read from the ones that are resolved: \"RESOLVED_QUERIES.csv\"\n",
    "df_resolvedQ = pd.read_csv('RESOLVED_QUERIES.csv')\n",
    "\n",
    "# Merge the dataframes on 'ID'\n",
    "con_merged_df = pd.merge(df_supp, df_resolvedQ, on= 'ID', how='inner')\n",
    "\n",
    "# Filter out the common ID\n",
    "df_supp= df_supp[~df_supp['ID'].isin(con_merged_df['ID'])]"
   ]
  },
  {
   "cell_type": "code",
   "execution_count": 8,
   "id": "10c0f59a",
   "metadata": {},
   "outputs": [],
   "source": [
    "#Final Infant Query data frame\n",
    "df_supp = pd.DataFrame({\n",
    "    'ID': df_supp['ID'],\n",
    "    'con_participantid_q1': df_supp['con_participantid_q1'],\n",
    "    'Instance number': df_supp['Instance number'],\n",
    "    'Supplementation date': df_supp['Supplementation date'],\n",
    "    'Instrument': df_supp['Instrument'],\n",
    "    'Completed by' : df_supp['Completed by'],\n",
    "    'Description':  df_supp['Description']\n",
    "\n",
    "})"
   ]
  },
  {
   "cell_type": "code",
   "execution_count": 9,
   "id": "82ea3b88",
   "metadata": {},
   "outputs": [],
   "source": [
    "df_supp=df_supp[\n",
    "    (df_supp['Description'].notnull())\n",
    "]"
   ]
  },
  {
   "cell_type": "code",
   "execution_count": 10,
   "id": "da00bea9",
   "metadata": {},
   "outputs": [],
   "source": [
    "#Save the filtered DataFrame to a CSV file\n",
    "df_supp.to_csv('SupplementationQuery.csv', index=False)"
   ]
  }
 ],
 "metadata": {
  "kernelspec": {
   "display_name": "Python 3",
   "language": "python",
   "name": "python3"
  },
  "language_info": {
   "codemirror_mode": {
    "name": "ipython",
    "version": 3
   },
   "file_extension": ".py",
   "mimetype": "text/x-python",
   "name": "python",
   "nbconvert_exporter": "python",
   "pygments_lexer": "ipython3",
   "version": "3.11.5"
  }
 },
 "nbformat": 4,
 "nbformat_minor": 5
}
