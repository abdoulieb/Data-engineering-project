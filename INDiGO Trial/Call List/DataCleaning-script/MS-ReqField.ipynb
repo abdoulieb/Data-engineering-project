{
 "cells": [
  {
   "cell_type": "code",
   "execution_count": 1,
   "metadata": {},
   "outputs": [],
   "source": [
    "from redcap import Project\n",
    "import csv\n",
    "import datetime\n",
    "import pandas as pd\n",
    "\n",
    "#REDCap API configuration\n",
    "api_url = 'https://ruff.mrc.gm:8443/redcap/api/'\n",
    "api_key = '63A451E2DA73C4D6A4C64A17B36B9565'\n",
    "project = Project(api_url, api_key)"
   ]
  },
  {
   "cell_type": "code",
   "execution_count": 2,
   "metadata": {},
   "outputs": [],
   "source": [
    "## MATERNAL SUPPLEMENT\n",
    "maternal_supplement = project.export_records(forms=['maternal_supplementation'])\n",
    "supp_data=pd.DataFrame(maternal_supplement)"
   ]
  },
  {
   "cell_type": "code",
   "execution_count": 3,
   "metadata": {},
   "outputs": [],
   "source": [
    "## MATERNAL SUPPLEMENT\n",
    "maternal_supplement = project.export_records(forms=['maternal_supplementation'])\n",
    "supp_data=pd.DataFrame(maternal_supplement)\n",
    "\n",
    "# Maternal Supplement required feld check.\n",
    "# Specify the fields you want to extract.\n",
    "ms_data=supp_data[['con_participantid_q1', 'ms_dvisit_q1','ms_sup_administered_q2','ms_reason_not_admin_q2a','time_sup_q2c','taking_any_med_q3','redcap_repeat_instance','sup_comment','redcap_event_name']]\n",
    "ms_data=pd.DataFrame(ms_data)\n",
    "ms_data = ms_data[\n",
    "    ((ms_data['redcap_event_name'] == 'daily_supplementat_arm_1') & (ms_data['taking_any_med_q3']=='')) |\n",
    "    ((ms_data['redcap_event_name'] == 'daily_supplementat_arm_1') & (ms_data['ms_dvisit_q1']=='')) |\n",
    "    ((ms_data['redcap_event_name'] == 'daily_supplementat_arm_1') & (ms_data['ms_sup_administered_q2']==''))\n",
    "    \n",
    "]\n",
    "\n",
    "       "
   ]
  },
  {
   "cell_type": "code",
   "execution_count": 4,
   "metadata": {},
   "outputs": [],
   "source": [
    "##CONSENT\n",
    "consent_data = project.export_records(forms=['consent'])\n",
    "consent_data=pd.DataFrame(consent_data)\n",
    "\n",
    "# Consent CRF required feilds.\n",
    "# Specify the fields you want to extract.\n",
    "df_data_con=consent_data[['con_participantid_q1', 'con_dob_q4','con_date_q5','con_time_q5a','con_consent_obtained_q6','con_language_q7','con_impartialwitness_q8','con_eden_participant_q10','con_source_document_q11a','consent_complete','redcap_event_name']]\n",
    "df_data_con=pd.DataFrame(df_data_con)\n",
    "df_data_con = df_data_con[\n",
    "    ((df_data_con['redcap_event_name'] == 'recruitment_arm_1') & (df_data_con['con_dob_q4']=='') |\n",
    "    (df_data_con['redcap_event_name'] == 'recruitment_arm_1') & (df_data_con['con_date_q5']=='') |\n",
    "    (df_data_con['redcap_event_name'] == 'recruitment_arm_1') & (df_data_con['con_time_q5a']=='') |\n",
    "    (df_data_con['redcap_event_name'] == 'recruitment_arm_1') & (df_data_con['con_consent_obtained_q6']=='') |\n",
    "    (df_data_con['redcap_event_name'] == 'recruitment_arm_1') & (df_data_con['con_language_q7']=='') |\n",
    "    (df_data_con['redcap_event_name'] == 'recruitment_arm_1') & (df_data_con['con_impartialwitness_q8']=='') |\n",
    "    (df_data_con['redcap_event_name'] == 'recruitment_arm_1') & (df_data_con['con_eden_participant_q10']=='')) &\n",
    "    (df_data_con['redcap_event_name'] == 'recruitment_arm_1') & (df_data_con['consent_complete']==\"2\")\n",
    "    \n",
    "]\n"
   ]
  }
 ],
 "metadata": {
  "kernelspec": {
   "display_name": "Python 3",
   "language": "python",
   "name": "python3"
  },
  "language_info": {
   "codemirror_mode": {
    "name": "ipython",
    "version": 3
   },
   "file_extension": ".py",
   "mimetype": "text/x-python",
   "name": "python",
   "nbconvert_exporter": "python",
   "pygments_lexer": "ipython3",
   "version": "3.7.9"
  },
  "orig_nbformat": 4
 },
 "nbformat": 4,
 "nbformat_minor": 2
}
