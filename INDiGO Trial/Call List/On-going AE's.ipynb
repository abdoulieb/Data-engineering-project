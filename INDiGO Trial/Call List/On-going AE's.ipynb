{
 "cells": [
  {
   "cell_type": "code",
   "execution_count": null,
   "metadata": {},
   "outputs": [],
   "source": [
    "from redcap import Project\n",
    "import pandas as pd\n",
    "import datetime\n",
    "\n",
    "#REDCap API configuration\n",
    "api_url = 'https://ruff.mrc.gm:8443/redcap/api/'\n",
    "api_key = '63A451E2DA73C4D6A4C64A17B36B9565'\n",
    "project = Project(api_url, api_key)"
   ]
  },
  {
   "cell_type": "code",
   "execution_count": null,
   "metadata": {},
   "outputs": [],
   "source": [
    "import pandas as pd\n",
    "\n",
    "def export_data_from_forms(project, forms, event_name):\n",
    "    form_data_dict = {}\n",
    "\n",
    "    for form in forms:\n",
    "        # Export records for the current form\n",
    "        data = project.export_records(forms=[form])\n",
    "\n",
    "        # Convert to DataFrame\n",
    "        data_df = pd.DataFrame(data)\n",
    "\n",
    "        # Filter for the specified event name\n",
    "        filtered_data = data_df[data_df['redcap_event_name'] == event_name]\n",
    "\n",
    "        # Define a CSV file name based on the form name\n",
    "        output_file = f\"{form}_Data.csv\"\n",
    "\n",
    "        # Save to CSV\n",
    "        filtered_data.to_csv(output_file, index=False)\n",
    "\n",
    "        # Store the filtered DataFrame in the dictionary\n",
    "        form_data_dict[form] = filtered_data\n",
    "\n",
    "    return form_data_dict\n"
   ]
  },
  {
   "cell_type": "code",
   "execution_count": null,
   "metadata": {},
   "outputs": [],
   "source": [
    "forms = ['consent', 'another_form', 'additional_form']\n",
    "form_data_dict = export_data_from_forms(project, forms, 'recruitment')\n"
   ]
  },
  {
   "cell_type": "code",
   "execution_count": null,
   "metadata": {},
   "outputs": [],
   "source": [
    "# #extract study AE data\n",
    "# ae_data = project.export_records(forms=['adverse_events'])\n",
    "\n",
    "# ae_data=pd.DataFrame(ae_data)\n",
    "# #print(ae_data.columns)"
   ]
  },
  {
   "cell_type": "code",
   "execution_count": null,
   "metadata": {},
   "outputs": [],
   "source": [
    "# ae_data.to_csv('On-going AEs.csv', index=False)"
   ]
  },
  {
   "cell_type": "code",
   "execution_count": null,
   "metadata": {},
   "outputs": [],
   "source": [
    "# ae = ae_data[['con_participantid_q1','redcap_event_name','ae_vdate','ae_dreport','ae_first_aware_date','ae_ae_number','ae_relate_sae','insity_ae','ae_idiagnosis','ae_fdiagnosis','ae_onset_date','ae_end_date14','ae_event_outcome','completed_by_q17']]\n",
    "# ae=pd.DataFrame(ae)\n",
    "\n",
    "# ae=ae[\n",
    "#     (ae['ae_event_outcome'] =='1')\n",
    "#     ]"
   ]
  },
  {
   "cell_type": "code",
   "execution_count": null,
   "metadata": {},
   "outputs": [],
   "source": [
    "# #AE to SAE variable\n",
    "# ae_sae = {\n",
    "# '1':'Yes',\n",
    "# '0':'No'\n",
    "# }\n",
    "# ae['ae_relate_sae'] = ae['ae_relate_sae'].map(ae_sae)\n",
    "\n",
    "# #AE Intensity\n",
    "# intensity_ae = {\n",
    "# '1':'Mild',\n",
    "# '2':'Moderate',\n",
    "# '3' :'Severe'\n",
    "# }\n",
    "# ae['insity_ae'] = ae['insity_ae'].map(intensity_ae)\n",
    "\n",
    "# #OUTCOME\n",
    "# ae_outcome = {\n",
    "# '1':'Ongoing',\n",
    "# '2':'Fully recovered',\n",
    "# '3' :'Recovered with sequelae',\n",
    "# '4': 'Death',\n",
    "# '5': 'Unknown'\n",
    "# }\n",
    "# ae['ae_event_outcome'] = ae['ae_event_outcome'].map(ae_outcome)\n",
    "\n",
    "# #ARM- REDCap Event Name (ren)\n",
    "# ren= {\n",
    "# 'unscheduled_events_arm_1':'Maternal',\n",
    "# 'unscheduled_events_arm_2':'Infant'\n",
    "# }\n",
    "# ae['redcap_event_name'] = ae['redcap_event_name'].map(ren)"
   ]
  },
  {
   "cell_type": "code",
   "execution_count": null,
   "metadata": {},
   "outputs": [],
   "source": [
    "# AE_df = pd.DataFrame({\n",
    "#     'Participant ID': ae['con_participantid_q1'],\n",
    "#     'Arm':ae['redcap_event_name'],\n",
    "#     'AE Visit Date': pd.to_datetime(ae['ae_vdate']),\n",
    "#     'AE Report Date': pd.to_datetime(ae['ae_dreport']),\n",
    "#     'AE First Aware': pd.to_datetime(ae['ae_first_aware_date']),\n",
    "#     'AE Number': ae['ae_ae_number'],\n",
    "#     'Result to SAE':ae['ae_relate_sae'],\n",
    "#     'Intensity': ae['insity_ae'],\n",
    "#     'Diagnosis':ae['ae_idiagnosis'],\n",
    "#     'Final Diagnosis': ae['ae_fdiagnosis'],\n",
    "#     'Date onset':  pd.to_datetime(ae['ae_onset_date']),\n",
    "#     'AE end date':  pd.to_datetime(ae['ae_end_date14']),\n",
    "#     'Outcome': ae['ae_event_outcome'],\n",
    "#     'Completed by': ae['completed_by_q17']\n",
    "# })\n",
    "\n",
    "# # Save the DataFrame to a CSV file\n",
    "# AE_df.to_csv('On-going AEs.csv', index=False)\n"
   ]
  }
 ],
 "metadata": {
  "kernelspec": {
   "display_name": "Python 3",
   "language": "python",
   "name": "python3"
  },
  "language_info": {
   "codemirror_mode": {
    "name": "ipython",
    "version": 3
   },
   "file_extension": ".py",
   "mimetype": "text/x-python",
   "name": "python",
   "nbconvert_exporter": "python",
   "pygments_lexer": "ipython3",
   "version": "3.7.9"
  }
 },
 "nbformat": 4,
 "nbformat_minor": 2
}
