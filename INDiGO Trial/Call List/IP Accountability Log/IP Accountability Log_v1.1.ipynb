{
 "cells": [
  {
   "cell_type": "code",
   "execution_count": 1,
   "metadata": {},
   "outputs": [],
   "source": [
    "#-- The current version is V1.2\n",
    "#-- This is updated from v1.1 to V1.2\n",
    "#-- The updated version changes the nonth calculation to the scientific average for month. i.e. 30.4 days is equals 1 month.\n",
    "#-- Updated by Yusupha Ceesay on 29/07/2024\n",
    "#-- Implemented on 01/08/2024\n",
    "#-------------------------------------------------------------------------#"
   ]
  },
  {
   "cell_type": "code",
   "execution_count": 2,
   "metadata": {},
   "outputs": [],
   "source": [
    "#-- The current version is V1.1\n",
    "#-- This is updated from v1.0 to V1.1\n",
    "#-- The updated version is a refactored code of the previous version, and including the biographic data of the participants.\n",
    "#-- Updated by Yusupha Ceesay on 29/07/2024\n",
    "#-- Implemented on 01/08/2024\n",
    "#-------------------------------------------------------------------------#"
   ]
  },
  {
   "cell_type": "code",
   "execution_count": 3,
   "metadata": {},
   "outputs": [],
   "source": [
    "from redcap import Project\n",
    "import pandas as pd\n",
    "import datetime\n",
    "today=pd.Timestamp.today()\n",
    "\n",
    "#REDCap API configuration\n",
    "##project configuration function\n",
    "def project_configuration(api_url,api_key):\n",
    "    return Project(api_url,api_key)\n",
    "\n",
    "###indigo project configuration\n",
    "project = project_configuration('https://ruff.mrc.gm:8443/redcap/api/', 'D6807C091B1FC14F57CC9B2972D0B398')\n",
    "\n",
    "###Sensitization project configuration\n",
    "sen_project = project_configuration('https://redcap.mrc.gm:8443/redcap/api/','B5C8DD01C47A66E81E154A8AC735D281')\n"
   ]
  },
  {
   "cell_type": "code",
   "execution_count": 4,
   "metadata": {},
   "outputs": [],
   "source": [
    "##Village mapping\n",
    "village_mapping = {\n",
    "'001':'Dumbuto',\n",
    "'002':'Sankandi',\n",
    "'003':'Nioro Jattaba',\n",
    "'004':'Jattaba',\n",
    "'005':'Jiffarong',\n",
    "'006':'Bajana',\n",
    "'007':'Kuli Kunda',\n",
    "'008':'Jamaru',\n",
    "'009':'Brikamanding',\n",
    "'010':'Kantong Kunda',\n",
    "'011':'Jali',\n",
    "'013':'Manduar',\n",
    "'014':'Bang Kuling',\n",
    "'015':'Gissay',\n",
    "'016':'Tankular',\n",
    "'017':'Joli',\n",
    "'018':'Kuyang',\n",
    "'019':'Bantasu',\n",
    "'020':'Santamba',\n",
    "'021':'Missira',\n",
    "'022':'Taborangkoto',\n",
    "'023':'Burong',\n",
    "'024':'Jula Kunda',\n",
    "'025':'Karantaba',\n",
    "'026':'Mandina',\n",
    "'027':'Janneh Kunda',\n",
    "'028':'Kemoto',\n",
    "'029':'Keneba',\n",
    "'030':'Batelling',\n",
    "'031':'Sandeng',\n",
    "'032':'Wudeba',\n",
    "'034':'Kenokoto',\n",
    "'035':'Manari',\n",
    "'036':'Nineteen',\n",
    "'040':'WUROKANG',\n",
    "'041':'KWINELLA SANSANKONO',\n",
    "'042':'KWINELLA NIA KUNDA',\n",
    "'043':'TENDABA',\n",
    "'044':'BUMARR',\n",
    "'045':'BAMBAKO',\n",
    "'046':'KUNDONG MARIAYA',\n",
    "'047':'NEMA',\n",
    "'048':'KUNDANG NUMU KUNDA',\n",
    "'049':'KUNDANG FULA KUNDA',\n",
    "'050':'NEMA KUTA',\n",
    "'051':'JIRROFF',\n",
    "'052':'MADINA ANGALLEH',\n",
    "'053':'JATTA KUNDA',\n",
    "'054':'MANDINA CENTRAL',\n",
    "'055':'SARE SARJO',\n",
    "'056':'SIBETO',\n",
    "'057':'SARE NDALLA',\n",
    "'058':'TABANANI',\n",
    "'060':'WILLINGARA',\n",
    "'061':'SARE MAMUDU'\n",
    "}\n"
   ]
  },
  {
   "cell_type": "code",
   "execution_count": 5,
   "metadata": {},
   "outputs": [],
   "source": [
    "# #Function to process sensitization data\n",
    "# def process_sensitization_data(project,village_mapping):\n",
    "#     fields = ['in_kiang_number', 'in_name', 'in_age', 'in_village', 'in_compound', \n",
    "#         'in_eden_number', 'in_contact1', 'in_contact2', 'in_contact3', 'in_contact4', \n",
    "#         'in_outcome', 'in_study_number'\n",
    "#         ]\n",
    "#     #sen_log_data= export_records_to_df(project,['indigo_sensitisation'],fields)\n",
    "#     sen_log_data=project.export_records(forms=['indigo_sensitisation'])\n",
    "#     sen_log_data = sen_log_data[(sen_log_data['in_outcome']=='1') &\n",
    "#                                 (sen_log_data['in_kiang_number'].notnull()) &\n",
    "#                                 (sen_log_data['in_study_number'].notnull())\n",
    "#                                 ]\n",
    "#     sen_log_data=sen_log_data.rename(columns={'in_study_number': 'con_participantid_q1'})\n",
    "#     sen_log_data['in_village'] = sen_log_data['in_village'].map(village_mapping)\n",
    "\n",
    "#     return sen_log_data"
   ]
  },
  {
   "cell_type": "code",
   "execution_count": 6,
   "metadata": {},
   "outputs": [],
   "source": [
    "#Function to process sensitization data\n",
    "\n",
    "def process_sensitization_data(project, village_mapping):\n",
    "    fields = ['in_kiang_number', 'in_name', 'in_age', 'in_village', 'in_compound', \n",
    "              'in_eden_number', 'in_contact1', 'in_contact2', 'in_contact3', 'in_contact4', \n",
    "              'in_outcome', 'in_study_number']\n",
    "    \n",
    "    # Export records from the project\n",
    "    sen_log_data = project.export_records(forms=['indigo_sensitisation'])\n",
    "    \n",
    "    # Convert to DataFrame if necessary\n",
    "    if isinstance(sen_log_data, list):\n",
    "        sen_log_data = pd.DataFrame(sen_log_data)\n",
    "\n",
    "    # Filter the data\n",
    "    sen_log_data = sen_log_data[(sen_log_data['in_outcome'] == '1') &\n",
    "                                (sen_log_data['in_kiang_number'].notnull()) &\n",
    "                                (sen_log_data['in_study_number'].notnull())]\n",
    "    \n",
    "    # Rename columns\n",
    "    sen_log_data = sen_log_data.rename(columns={'in_study_number': 'con_participantid_q1'})\n",
    "    \n",
    "    # Map village names\n",
    "    sen_log_data['in_village'] = sen_log_data['in_village'].map(village_mapping)\n",
    "\n",
    "    return sen_log_data\n"
   ]
  },
  {
   "cell_type": "code",
   "execution_count": 7,
   "metadata": {},
   "outputs": [],
   "source": [
    "#SENSITIZATION DATA\n",
    "sen_log_data=process_sensitization_data(sen_project,village_mapping)"
   ]
  },
  {
   "cell_type": "code",
   "execution_count": 8,
   "metadata": {},
   "outputs": [],
   "source": [
    "\n",
    "# Function to load and convert data from REDCap forms\n",
    "def load_redcap_data(form_name):\n",
    "    data = project.export_records(forms=[form_name])\n",
    "    return pd.DataFrame(data)\n"
   ]
  },
  {
   "cell_type": "code",
   "execution_count": 9,
   "metadata": {},
   "outputs": [],
   "source": [
    "# Load data from the relevant forms\n",
    "MatSup_data = load_redcap_data('maternal_supplementation')\n",
    "Rand_data = load_redcap_data('randomization')\n",
    "inf_dob = load_redcap_data('delivery')\n",
    "inf_dt = load_redcap_data('infantid')\n",
    "term_data = load_redcap_data('study_termination')"
   ]
  },
  {
   "cell_type": "code",
   "execution_count": 10,
   "metadata": {},
   "outputs": [
    {
     "name": "stderr",
     "output_type": "stream",
     "text": [
      "C:\\Users\\abliebah\\AppData\\Local\\Temp\\ipykernel_5420\\1810256095.py:12: SettingWithCopyWarning: \n",
      "A value is trying to be set on a copy of a slice from a DataFrame.\n",
      "Try using .loc[row_indexer,col_indexer] = value instead\n",
      "\n",
      "See the caveats in the documentation: https://pandas.pydata.org/pandas-docs/stable/user_guide/indexing.html#returning-a-view-versus-a-copy\n",
      "  rnd_data['rnd_arm'] = rnd_data['rnd_arm'].map(rnd_group)\n",
      "C:\\Users\\abliebah\\AppData\\Local\\Temp\\ipykernel_5420\\1810256095.py:16: SettingWithCopyWarning: \n",
      "A value is trying to be set on a copy of a slice from a DataFrame.\n",
      "Try using .loc[row_indexer,col_indexer] = value instead\n",
      "\n",
      "See the caveats in the documentation: https://pandas.pydata.org/pandas-docs/stable/user_guide/indexing.html#returning-a-view-versus-a-copy\n",
      "  inf_del['del_ddate_q7'] = pd.to_datetime(inf_del['del_ddate_q7'], errors='coerce')\n",
      "C:\\Users\\abliebah\\AppData\\Local\\Temp\\ipykernel_5420\\1810256095.py:39: SettingWithCopyWarning: \n",
      "A value is trying to be set on a copy of a slice from a DataFrame.\n",
      "Try using .loc[row_indexer,col_indexer] = value instead\n",
      "\n",
      "See the caveats in the documentation: https://pandas.pydata.org/pandas-docs/stable/user_guide/indexing.html#returning-a-view-versus-a-copy\n",
      "  df_withdrw['st_date'] = pd.to_datetime(df_withdrw['st_date'], errors='coerce')\n"
     ]
    }
   ],
   "source": [
    "\n",
    "# Process Randomization data\n",
    "Rand_data = Rand_data[['con_participantid_q1', 'redcap_event_name', 'ran_date', 'rnd_arm']]\n",
    "Rand_data['ran_date'] = pd.to_datetime(Rand_data['ran_date'], errors='coerce')\n",
    "\n",
    "# Mapping randomization groups\n",
    "rnd_group = {\n",
    "    '1': 'B', '2': 'N', '3': 'P', '4': 'A', '5': 'X', '6': 'Y',\n",
    "    '7': 'C', '8': 'U', '9': 'E', '10': 'K', '11': 'J', '12': 'H',\n",
    "    '13': 'W', '14': 'T', '15': 'L'\n",
    "}\n",
    "rnd_data = Rand_data[(Rand_data['redcap_event_name'] == 'week_20_arm_1') & (Rand_data['rnd_arm'] != \"\")]\n",
    "rnd_data['rnd_arm'] = rnd_data['rnd_arm'].map(rnd_group)\n",
    "\n",
    "# Process Delivery data\n",
    "inf_del = inf_dob[['con_participantid_q1', 'del_ddate_q7', 'redcap_event_name']]\n",
    "inf_del['del_ddate_q7'] = pd.to_datetime(inf_del['del_ddate_q7'], errors='coerce')\n",
    "inf_del = inf_del[(inf_del['redcap_event_name'] == 'delivery__postpart_arm_1') & inf_del['del_ddate_q7'].notnull()]\n",
    "\n",
    "# Process Infant ID data\n",
    "inf_dt = inf_dt[['con_participantid_q1', 'infantid', 'redcap_event_name']]\n",
    "inf_dt = inf_dt[inf_dt['redcap_event_name'] == 'baby_check_arm_2']\n",
    "\n",
    "# Merge infant and mother delivery data\n",
    "inf_mother_dob = pd.merge(inf_dt, inf_del, on='con_participantid_q1', how='inner')\n",
    "inf_data = inf_mother_dob[['con_participantid_q1', 'infantid', 'del_ddate_q7']]\n",
    "df_infant = pd.DataFrame(inf_data)\n",
    "df_infant['del_ddate_q7'] = pd.to_datetime(df_infant['del_ddate_q7'], errors='coerce')\n",
    "\n",
    "# Calculate the end date based on 6 months (considering 1 month = 30.4 days)\n",
    "df_infant['end_date'] = df_infant['del_ddate_q7'] + pd.to_timedelta(6 * 30.4, unit='D')\n",
    "\n",
    "# Merge infant data with randomization data\n",
    "Rand1 = rnd_data[['con_participantid_q1', 'ran_date', 'rnd_arm']]\n",
    "randomized_part = pd.merge(df_infant, Rand1, on='con_participantid_q1', how='right')\n",
    "randomised = randomized_part[['con_participantid_q1', 'infantid', 'ran_date', 'rnd_arm', 'del_ddate_q7', 'end_date']]\n",
    "\n",
    "# Process Withdrawals data\n",
    "df_withdrw = term_data[['con_participantid_q1', 'st_date', 'st_reason', 'redcap_event_name']]\n",
    "df_withdrw['st_date'] = pd.to_datetime(df_withdrw['st_date'], errors='coerce')\n",
    "df_withdrawals = df_withdrw[(df_withdrw['redcap_event_name'] == 'end_of_study_arm_1') & df_withdrw['st_date'].notnull()]\n",
    "\n",
    "# Exclude withdrawals from randomized data\n",
    "ran_con_merged_df = pd.merge(randomised, df_withdrawals, on='con_participantid_q1', how='inner')\n",
    "\n",
    "# Filter out participants who withdrew\n",
    "randomised = randomised[~randomised['con_participantid_q1'].isin(ran_con_merged_df['con_participantid_q1'])]\n",
    "\n",
    "# Format date to have ony date and no time.\n",
    "randomised['ran_date'] = randomised['ran_date'].dt.date\n",
    "randomised['del_ddate_q7'] = randomised['del_ddate_q7'].dt.date\n",
    "randomised['end_date'] = randomised['end_date'].dt.date"
   ]
  },
  {
   "cell_type": "code",
   "execution_count": 11,
   "metadata": {},
   "outputs": [],
   "source": [
    "# Function to merge with sensitization data\n",
    "def merge_with_sensitization(sup_df, sensitization_df):\n",
    "    return pd.merge(sup_df, sensitization_df, on='con_participantid_q1', how='left')\n"
   ]
  },
  {
   "cell_type": "code",
   "execution_count": 12,
   "metadata": {},
   "outputs": [],
   "source": [
    "# Merge with sensitization data\n",
    "df_randomised = merge_with_sensitization(randomised, sen_log_data)"
   ]
  },
  {
   "cell_type": "code",
   "execution_count": 13,
   "metadata": {},
   "outputs": [],
   "source": [
    "\n",
    "randomised_part= pd.DataFrame({\n",
    "        'PARTICIPANT ID': df_randomised['con_participantid_q1'],\n",
    "        'INFANT ID': df_randomised['infantid'],\n",
    "        'KIANG NUMBER': df_randomised['in_kiang_number'],\n",
    "        'NAME': df_randomised['in_name'],\n",
    "        'VILLAGE': df_randomised['in_village'],\n",
    "        'COMPOUND': df_randomised['in_compound'],\n",
    "        'CONTACT1': df_randomised['in_contact1'],\n",
    "        'CONTACT2': df_randomised['in_contact2'],\n",
    "        'CONTACT3': df_randomised['in_contact3'],\n",
    "        'CONTACT4': df_randomised['in_contact4'],\n",
    "        'Randomization Date': df_randomised['ran_date'],\n",
    "        'Randomization Arm': df_randomised['rnd_arm'],\n",
    "       'Infant DoB': df_randomised['del_ddate_q7'],\n",
    "    'Supplementation end date': df_randomised['end_date'],\n",
    "})\n",
    "\n"
   ]
  },
  {
   "cell_type": "code",
   "execution_count": 14,
   "metadata": {},
   "outputs": [],
   "source": [
    "# Function to save DataFrame to CSV with a timestamp\n",
    "def save_to_csv(df, base_filename):\n",
    "    now = datetime.datetime.now()\n",
    "    timestamp = now.strftime('%Y%m%d_%H%M%S')\n",
    "    filename = f'{base_filename}_{timestamp}.csv'\n",
    "    df.to_csv(filename, index=False)\n"
   ]
  },
  {
   "cell_type": "code",
   "execution_count": 15,
   "metadata": {},
   "outputs": [],
   "source": [
    "# Save the to a CSV file\n",
    "save_to_csv(randomised_part, 'SupplementatonReport_v1.2')"
   ]
  }
 ],
 "metadata": {
  "kernelspec": {
   "display_name": "Python 3",
   "language": "python",
   "name": "python3"
  },
  "language_info": {
   "codemirror_mode": {
    "name": "ipython",
    "version": 3
   },
   "file_extension": ".py",
   "mimetype": "text/x-python",
   "name": "python",
   "nbconvert_exporter": "python",
   "pygments_lexer": "ipython3",
   "version": "3.11.5"
  }
 },
 "nbformat": 4,
 "nbformat_minor": 2
}
