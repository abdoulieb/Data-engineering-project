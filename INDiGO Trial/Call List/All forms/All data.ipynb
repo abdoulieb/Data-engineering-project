{
 "cells": [
  {
   "cell_type": "code",
   "execution_count": null,
   "metadata": {},
   "outputs": [],
   "source": [
    "from redcap import Project\n",
    "import pandas as pd\n",
    "import datetime\n",
    "\n",
    "#REDCap API configuration\n",
    "api_url = 'https://ruff.mrc.gm:8443/redcap/api/'\n",
    "api_key = '63A451E2DA73C4D6A4C64A17B36B9565'\n",
    "project = Project(api_url, api_key)"
   ]
  },
  {
   "cell_type": "code",
   "execution_count": 31,
   "metadata": {},
   "outputs": [],
   "source": [
    "\n",
    "import pandas as pd\n",
    "\n",
    "def export_data_from_forms(project, forms, event_name=None):\n",
    "    form_data_dict = {}\n",
    "\n",
    "    for form in forms:\n",
    "        # Export records for the current form\n",
    "        data = project.export_records(forms=[form])\n",
    "\n",
    "        # Convert to DataFrame\n",
    "        data_df = pd.DataFrame(data)\n",
    "\n",
    "        # Filter for the specified event name if provided\n",
    "        if event_name:\n",
    "            filtered_data = data_df[data_df['redcap_event_name'] == event_name]\n",
    "            output_file = f\"{form}.csv\"\n",
    "        else:\n",
    "            filtered_data = data_df\n",
    "            output_file = f\"{form}_AllEvents.csv\"\n",
    "\n",
    "        # Save to CSV\n",
    "        filtered_data.to_csv(output_file, index=False)\n",
    "\n",
    "        # Store the filtered DataFrame in the dictionary\n",
    "        form_data_dict[form] = filtered_data\n",
    "\n",
    "    return form_data_dict\n"
   ]
  },
  {
   "cell_type": "code",
   "execution_count": 32,
   "metadata": {},
   "outputs": [],
   "source": [
    "forms = ['consent','obstetric_and_medical_history','socioeconomic_and_demographic']\n",
    "form_data_dict = export_data_from_forms(project, forms, 'recruitment_arm_1')\n"
   ]
  },
  {
   "cell_type": "code",
   "execution_count": 33,
   "metadata": {},
   "outputs": [],
   "source": [
    "forms = ['recruitment','randomization']\n",
    "form_data_dict = export_data_from_forms(project, forms, 'week_20_arm_1')\n"
   ]
  },
  {
   "cell_type": "code",
   "execution_count": 34,
   "metadata": {},
   "outputs": [],
   "source": [
    "forms = ['maternal_supplementation']\n",
    "form_data_dict = export_data_from_forms(project, forms, 'daily_supplementat_arm_1')\n"
   ]
  },
  {
   "cell_type": "code",
   "execution_count": 35,
   "metadata": {},
   "outputs": [],
   "source": [
    "forms = ['maternal_morbidity']\n",
    "form_data_dict = export_data_from_forms(project, forms, 'weeklymonthly_morb_arm_1')\n"
   ]
  },
  {
   "cell_type": "code",
   "execution_count": 36,
   "metadata": {},
   "outputs": [],
   "source": [
    "#repeated in week 20,28,36\n",
    "forms = ['anthropometry_and_vital_signs','ultrasound_scan','clinical_note','maternal_blood_sample_collection','maternal_urine_sample_collection','sample_reception','sysmex_results','blood_sample_processing','urine_sample_processing','breast_milk_processing','sample_storage']\n",
    "form_data_dict = export_data_from_forms(project, forms)\n"
   ]
  },
  {
   "cell_type": "code",
   "execution_count": 37,
   "metadata": {},
   "outputs": [],
   "source": [
    "forms = ['delivery','maternal_health_check','cord_blood_collection','cord_blood_processing']\n",
    "form_data_dict = export_data_from_forms(project, forms, 'delivery__postpart_arm_1')\n"
   ]
  },
  {
   "cell_type": "code",
   "execution_count": 38,
   "metadata": {},
   "outputs": [],
   "source": [
    "#unschedule events\n",
    "forms = ['adverse_events','concomitant_medication','noncompliance_form']\n",
    "form_data_dict = export_data_from_forms(project, forms)\n"
   ]
  },
  {
   "cell_type": "code",
   "execution_count": 39,
   "metadata": {},
   "outputs": [],
   "source": [
    "forms = ['study_termination']\n",
    "form_data_dict = export_data_from_forms(project, forms, 'end_of_study_arm_1')\n"
   ]
  },
  {
   "cell_type": "code",
   "execution_count": 40,
   "metadata": {},
   "outputs": [],
   "source": [
    "#unschedule events\n",
    "forms = ['infantid','baby_check','neonate_screening']\n",
    "form_data_dict = export_data_from_forms(project, forms, 'baby_check_arm_2')\n"
   ]
  },
  {
   "cell_type": "code",
   "execution_count": 41,
   "metadata": {},
   "outputs": [],
   "source": [
    "#unschedule events\n",
    "forms = ['infant_supplementation']\n",
    "form_data_dict = export_data_from_forms(project, forms, 'daily_supplementat_arm_2')\n"
   ]
  },
  {
   "cell_type": "code",
   "execution_count": 42,
   "metadata": {},
   "outputs": [],
   "source": [
    "#unschedule events\n",
    "forms = ['infant_morbidity','feeding','infant_anthropometry','infant_stool_collection','breast_milk_sample_collection_d7cd08','stool_sample_processing','msel','infant_behavioural_questionnaire','hearing_vision_disability','neuro_visit_tracking','home']\n",
    "form_data_dict = export_data_from_forms(project, forms)\n"
   ]
  }
 ],
 "metadata": {
  "kernelspec": {
   "display_name": "Python 3",
   "language": "python",
   "name": "python3"
  },
  "language_info": {
   "codemirror_mode": {
    "name": "ipython",
    "version": 3
   },
   "file_extension": ".py",
   "mimetype": "text/x-python",
   "name": "python",
   "nbconvert_exporter": "python",
   "pygments_lexer": "ipython3",
   "version": "3.7.9"
  }
 },
 "nbformat": 4,
 "nbformat_minor": 2
}
