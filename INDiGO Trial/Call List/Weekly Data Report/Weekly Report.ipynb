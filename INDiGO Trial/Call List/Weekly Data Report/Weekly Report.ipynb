{
 "cells": [
  {
   "cell_type": "code",
   "execution_count": 1,
   "metadata": {},
   "outputs": [],
   "source": [
    "from redcap import Project\n",
    "import pandas as pd\n",
    "import datetime\n",
    "\n",
    "#REDCap API configuration\n",
    "api_url = 'https://ruff.mrc.gm:8443/redcap/api/'\n",
    "api_key = 'D6807C091B1FC14F57CC9B2972D0B398'\n",
    "project = Project(api_url, api_key)\n",
    "\n",
    "#REDCap API configuration for Sensitization\n",
    "sen_api_url = 'https://redcap.mrc.gm:8443/redcap/api/'\n",
    "sen_api_key = 'B5C8DD01C47A66E81E154A8AC735D281'\n",
    "sen_project = Project(sen_api_url,sen_api_key)\n"
   ]
  },
  {
   "cell_type": "code",
   "execution_count": 2,
   "metadata": {},
   "outputs": [
    {
     "name": "stdout",
     "output_type": "stream",
     "text": [
      "Total number of sensitized participants: 725\n",
      "Total number of sensitized(intrested): 680\n",
      "Total number of sensitized(Uninterested): 2\n",
      "Total number of sensitized(Undecided): 1\n",
      "Total number of sensitized(Others): 39\n"
     ]
    }
   ],
   "source": [
    "################################################# SENSITIZED WOMEN ##############################################################\n",
    "sensitization_data = sen_project.export_records(forms=['indigo_sensitisation'])\n",
    "sensitization_df=pd.DataFrame(sensitization_data)\n",
    "\n",
    "# Specify the fields you want to extract base on logics.\n",
    "sen_data=sensitization_df[['in_vdate','redcap_event_name','redcap_repeat_instrument','in_kiang_number','in_pregnant','in_study_explained','in_icd_given','in_outcome','in_consent']]\n",
    "sen_df=pd.DataFrame(sen_data)\n",
    "\n",
    "#visit date as a date data type\n",
    "sen_df['in_vdate'] = pd.to_datetime(sen_data['in_vdate'], errors='coerce')\n",
    "\n",
    "#participants sensitised.\n",
    "sen_df = sen_df[\n",
    "    (sen_df['redcap_event_name']==\"indigo_sensitisati_arm_2\") &\n",
    "    (sen_df['in_study_explained']==\"1\")\n",
    "]\n",
    "\n",
    "sen_df.to_csv('Terminations_req.csv', index=False)\n",
    "\n",
    "\n",
    "#participants sensitised and interested.\n",
    "int_sen = sen_df[\n",
    "    (sen_df['in_outcome']==\"1\")\n",
    "]\n",
    "int_sen=pd.DataFrame(int_sen)\n",
    "\n",
    "#participants sensitised and Not interested.\n",
    "Nint_sen = sen_df[\n",
    "    (sen_df['in_outcome']==\"2\")\n",
    "]\n",
    "Nint_sen=pd.DataFrame(Nint_sen)\n",
    "\n",
    "#participants sensitised and undecided.\n",
    "Und_sen = sen_df[\n",
    "    (sen_df['in_outcome']==\"3\")\n",
    "]\n",
    "Und_sen=pd.DataFrame(Und_sen)\n",
    "\n",
    "#participants sensitised and Others.\n",
    "others_sen = sen_df[\n",
    "    (sen_df['in_outcome']==\"4\")\n",
    "]\n",
    "others_sen=pd.DataFrame(others_sen)\n",
    "\n",
    "#Count od different sensitization categories\n",
    "sensitized_count = len(sen_df)\n",
    "interested = len(int_sen)\n",
    "uninterested = len(Nint_sen)\n",
    "undecided = len(Und_sen)\n",
    "Others = len(others_sen)\n",
    "print(\"Total number of sensitized participants:\", sensitized_count)\n",
    "print(\"Total number of sensitized(intrested):\", interested)\n",
    "print(\"Total number of sensitized(Uninterested):\", uninterested)\n",
    "print(\"Total number of sensitized(Undecided):\", undecided)\n",
    "print(\"Total number of sensitized(Others):\", Others)\n",
    "\n",
    "\n"
   ]
  },
  {
   "cell_type": "code",
   "execution_count": 3,
   "metadata": {},
   "outputs": [
    {
     "name": "stdout",
     "output_type": "stream",
     "text": [
      "Total number of consented participants: 670\n",
      "Total number of consented participants and not interested: 0\n"
     ]
    }
   ],
   "source": [
    "################################################# CONSENT##############################################################\n",
    "consent_data = project.export_records(forms=['consent'])\n",
    "consent_df=pd.DataFrame(consent_data)\n",
    "\n",
    "# Specify the fields you want to extract base on logics.\n",
    "con_data=consent_df[['con_participantid_q1','redcap_event_name','redcap_repeat_instrument','con_date_q5','con_dob_q4','con_consent_obtained_q6','con_why_not_consent_q6a','con_language_q7','con_eden_participant_q10','con_cluster_q12',]]\n",
    "con_df=pd.DataFrame(con_data)\n",
    "\n",
    "#visit date as a date data type\n",
    "con_df['con_date_q5'] = pd.to_datetime(con_df['con_date_q5'], errors='coerce')\n",
    "con_df['con_dob_q4'] = pd.to_datetime(con_df['con_dob_q4'], errors='coerce')\n",
    "\n",
    "#participants consented.\n",
    "con_df = con_df[\n",
    "    (con_df['redcap_event_name']==\"recruitment_arm_1\") &\n",
    "    (con_df['con_date_q5'].notnull())\n",
    "]\n",
    "\n",
    "\n",
    "#participants consented and interested.\n",
    "con_not_int = con_df[\n",
    "    (con_df['con_consent_obtained_q6']==\"0\")\n",
    "]\n",
    "con_not_int=pd.DataFrame(con_not_int)\n",
    "\n",
    "consented_count = len(con_df)\n",
    "con_not_interested = len(con_not_int)\n",
    "print(\"Total number of consented participants:\", consented_count)\n",
    "print(\"Total number of consented participants and not interested:\", con_not_interested)\n"
   ]
  },
  {
   "cell_type": "code",
   "execution_count": 4,
   "metadata": {},
   "outputs": [
    {
     "name": "stdout",
     "output_type": "stream",
     "text": [
      "Total terminated at screening: 198\n",
      "Total terminated at week 20: 8\n",
      "Total terminated at week 28: 10\n",
      "Total terminated at week 36: 3\n",
      "Total terminated Delivery: 6\n",
      "Total terminated month 1: 7\n",
      "Total terminated at month 6: 1\n",
      "Total terminated at month 12: 0\n"
     ]
    }
   ],
   "source": [
    "################################################# STUDY TERMINATION ##############################################################\n",
    "termination_data = project.export_records(forms=['study_termination'])\n",
    "termination_data=pd.DataFrame(termination_data)\n",
    "\n",
    "# Specify the fields you want to extract base on logics\n",
    "df_withdrw=termination_data[['con_participantid_q1','st_date','st_reason','st_lastactivity','st_specify','redcap_event_name']]\n",
    "df_withdrw=pd.DataFrame(df_withdrw)\n",
    "\n",
    "#st_date as a date data type\n",
    "df_withdrw['st_date'] = pd.to_datetime(df_withdrw['st_date'], errors='coerce')\n",
    "\n",
    "\n",
    "df_withdrw = df_withdrw[\n",
    "    (df_withdrw['redcap_event_name'] == 'end_of_study_arm_1') &\n",
    "    (df_withdrw['st_date'].notnull())\n",
    "]\n",
    "# ################################################################\n",
    "# #LIST OF TERMINATIONS AND REASON FOR TERMINATION#\n",
    "# #################################################################\n",
    "# term_mapping = {\n",
    "# '1':'Screening',\n",
    "# '2':'Week 20',\n",
    "# '3':'Week 28',\n",
    "# '4':'Week 36',\n",
    "# '5':'Delivery',\n",
    "# '6':'Baby Check',\n",
    "# '7':'Infant Screening',\n",
    "# '8':'Month 1',\n",
    "# '9': 'Month 2',\n",
    "# '10': 'Month 3',\n",
    "# '11': 'Month 4',\n",
    "# '12': 'Month 5',\n",
    "# '13': 'Month 6'\n",
    "# }\n",
    "\n",
    "# # Assuming sen_log_data is your DataFrame\n",
    "# df_withdrw['st_lastactivity'] = df_withdrw['st_lastactivity'].map(term_mapping)\n",
    "# #----------------------------------------------------------------------------------------------------#\n",
    "# reason_mapping = {\n",
    "# '1':'Consent Withdrawn',\n",
    "# '2':'Moved Away',\n",
    "# '3':'Refusal to take IP',\n",
    "# '4':'Maternal Screening Failure',\n",
    "# '5':'Infant Screening Failure',\n",
    "# '6':'Repeated Clinic Visit default',\n",
    "# '7':'Taking Other Micronutrient Supplements',\n",
    "# '8':'SAE',\n",
    "# '9': 'Lost to follow-up (LFU)',\n",
    "# '10': 'Clinician/ Investigator''s discretion',\n",
    "# '11': 'DSM recommendation',\n",
    "# '12': 'Other'\n",
    "# }\n",
    "\n",
    "# # Assuming sen_log_data is your DataFrame\n",
    "# df_withdrw['st_reason'] = df_withdrw['st_reason'].map(reason_mapping)\n",
    "\n",
    "# #################################################################\n",
    "# df_withdrw.to_csv('Terminations_req.csv', index=False)\n",
    "# ####################################################################\n",
    "# #END#\n",
    "# ####################################################################\n",
    "\n",
    "\n",
    "\n",
    "# Assuming you already have termination_df DataFrame defined\n",
    "\n",
    "# Function to count terminations at a specific activity point\n",
    "def last_activity_count(term_df, activity_point):\n",
    "    term_act = term_df[term_df['st_lastactivity'] == activity_point]\n",
    "    return len(term_act)\n",
    "\n",
    "# Assuming you have filtered your term_df DataFrame appropriately before calling the function\n",
    "\n",
    "# Example usage:\n",
    "# Count terminations at activity point 1\n",
    "term_point_1 = last_activity_count(df_withdrw, '1')\n",
    "print(\"Total terminated at screening:\", term_point_1)\n",
    "\n",
    "# Count terminations at activity point 2 (screening)\n",
    "term_screening = last_activity_count(df_withdrw, '2')\n",
    "print(\"Total terminated at week 20:\", term_screening)\n",
    "\n",
    "# Count terminations at activity point 3 (some other activity point)\n",
    "term_point_3 = last_activity_count(df_withdrw, '3')\n",
    "print(\"Total terminated at week 28:\", term_point_3)\n",
    "\n",
    "# Count terminations at activity point 4 (some other activity point)\n",
    "term_point_4 = last_activity_count(df_withdrw, '4')\n",
    "print(\"Total terminated at week 36:\", term_point_4)\n",
    "\n",
    "# Count terminations at activity point 5 (some other activity point) 8 13 19\n",
    "term_point_5 = last_activity_count(df_withdrw, '5')\n",
    "print(\"Total terminated Delivery:\", term_point_5)\n",
    "\n",
    "term_point_8 = last_activity_count(df_withdrw, '8')\n",
    "print(\"Total terminated month 1:\", term_point_8)\n",
    "\n",
    "term_point_13 = last_activity_count(df_withdrw, '13')\n",
    "print(\"Total terminated at month 6:\", term_point_13)\n",
    "\n",
    "term_point_19 = last_activity_count(df_withdrw, '19')\n",
    "print(\"Total terminated at month 12:\", term_point_19)\n",
    "\n"
   ]
  },
  {
   "cell_type": "code",
   "execution_count": 5,
   "metadata": {},
   "outputs": [
    {
     "name": "stdout",
     "output_type": "stream",
     "text": [
      "Total number of recruited participants: 447\n",
      "Total number of recruited participants and not eligible: 415\n"
     ]
    }
   ],
   "source": [
    "################################################# RECRUITMENT/ WEEK 20 ##############################################################\n",
    "recruitment_data = project.export_records(forms=['recruitment'])\n",
    "recruitment_df=pd.DataFrame(recruitment_data)\n",
    "\n",
    "# Specify the fields you want to extract base on logics.\n",
    "rec_data=recruitment_df[['con_participantid_q1','redcap_event_name','redcap_repeat_instrument','rvdate','rage','ga_at_recruitment','pregnancyless20w','rsingleton_pregnancy','williness_daily_capsule','if_the_primary_language_of','mother_has_intention_to_re','history_chronic_disease','hb_result_from_lab','severe_anaemia','eligible']]\n",
    "rec_df=pd.DataFrame(rec_data)\n",
    "\n",
    "#visit date as a date data type\n",
    "rec_df['rvdate'] = pd.to_datetime(rec_df['rvdate'], errors='coerce')\n",
    "\n",
    "#participants recruitment.\n",
    "rec_df = rec_df[\n",
    "    (rec_df['redcap_event_name']==\"week_20_arm_1\") &\n",
    "    (rec_df['rvdate'].notnull())\n",
    "]\n",
    "\n",
    "# rec_eligible = rec_df[\n",
    "#     (rec_df['eligible']=='1') | (rec_df['eligible']=='')\n",
    "# ]\n",
    "# rec_eligible.to_csv('eligible1.csv')\n",
    "\n",
    "#participants recruited and eligible.\n",
    "rec_not_eligible = rec_df[\n",
    "    (rec_df['eligible']=='1')\n",
    "]\n",
    "\n",
    "\n",
    "rec_not_eligible=pd.DataFrame(rec_not_eligible)\n",
    "\n",
    "rec_count = len(rec_df)\n",
    "rec_not_eligible = len(rec_not_eligible)\n",
    "print(\"Total number of recruited participants:\", rec_count)\n",
    "print(\"Total number of recruited participants and not eligible:\", rec_not_eligible)"
   ]
  },
  {
   "cell_type": "code",
   "execution_count": 6,
   "metadata": {},
   "outputs": [
    {
     "name": "stdout",
     "output_type": "stream",
     "text": [
      "Total number of Randomized participants: 415\n"
     ]
    }
   ],
   "source": [
    "################################################# RANDOMIZATION ##############################################################\n",
    "randomization_data = project.export_records(forms=['randomization'])\n",
    "randomization_df=pd.DataFrame(randomization_data)\n",
    "\n",
    "# Specify the fields you want to extract base on logics.\n",
    "rand_data=randomization_df[['con_participantid_q1','redcap_event_name','redcap_repeat_instrument','ran_date','rnd_arm']]\n",
    "rand_df=pd.DataFrame(rand_data)\n",
    "\n",
    "#visit date as a date data type\n",
    "rand_df['ran_date'] = pd.to_datetime(rand_df['ran_date'], errors='coerce')\n",
    "\n",
    "#participants recruitment.\n",
    "ran_df = rand_df[\n",
    "    (rand_df['redcap_event_name']==\"week_20_arm_1\") &\n",
    "    (rand_df['rnd_arm'].notnull() | (rand_df['rnd_arm'] !='')) &\n",
    "    (rand_df['ran_date'].notnull())\n",
    "    ]\n",
    "\n",
    "#ran_df.to_csv('Rand1.csv')\n",
    "rand_count = len(ran_df)\n",
    "print(\"Total number of Randomized participants:\", rand_count)"
   ]
  },
  {
   "cell_type": "code",
   "execution_count": 7,
   "metadata": {},
   "outputs": [
    {
     "name": "stdout",
     "output_type": "stream",
     "text": [
      "Total week 28 visits: 342\n"
     ]
    }
   ],
   "source": [
    "################################################# WEEK 28 ##############################################################\n",
    "USS_data = project.export_records(forms=['ultrasound_scan'])\n",
    "USS_df=pd.DataFrame(USS_data)\n",
    "\n",
    "# Specify the fields you want to extract base on logics.\n",
    "ultsc_data=USS_df[['con_participantid_q1','redcap_event_name','redcap_repeat_instrument','ultsc_date','pregnancy_confirmed_by_ult_q2','ultsc_cardiac_act_q3','ga_assessby','ga_weeks','ga_days']]\n",
    "ultsc_df=pd.DataFrame(ultsc_data)\n",
    "\n",
    "#visit date as a date data type\n",
    "ultsc_df['ultsc_date'] = pd.to_datetime(ultsc_df['ultsc_date'], errors='coerce')\n",
    "\n",
    "#participants recruitment.\n",
    "wk28_ultsc_df = ultsc_df[\n",
    "    (ultsc_df['redcap_event_name']==\"week_28_arm_1\") &\n",
    "    (ultsc_df['ultsc_date'].notnull())\n",
    "]\n",
    "\n",
    "wk28_ultsc_count = len(wk28_ultsc_df)\n",
    "print(\"Total week 28 visits:\", wk28_ultsc_count)\n",
    "\n",
    "#wk28_ultsc_df.to_csv('eligible28.csv')"
   ]
  },
  {
   "cell_type": "code",
   "execution_count": 8,
   "metadata": {},
   "outputs": [
    {
     "name": "stdout",
     "output_type": "stream",
     "text": [
      "Total week 36 visits: 261\n"
     ]
    }
   ],
   "source": [
    "################################################# WEEK 36 ##############################################################\n",
    "\n",
    "#participants recruitment.\n",
    "wk36_ultsc_df = ultsc_df[\n",
    "    (ultsc_df['redcap_event_name']==\"week_36_arm_1\") &\n",
    "    (ultsc_df['ultsc_date'].notnull())\n",
    "]\n",
    "\n",
    "wk36_ultsc_count = len(wk36_ultsc_df)\n",
    "print(\"Total week 36 visits:\", wk36_ultsc_count)"
   ]
  },
  {
   "cell_type": "code",
   "execution_count": 9,
   "metadata": {},
   "outputs": [
    {
     "name": "stdout",
     "output_type": "stream",
     "text": [
      "Total Deliveries: 232\n"
     ]
    }
   ],
   "source": [
    "################################################# DELIVERY ##############################################################\n",
    "#extract delivery data\n",
    "delivery_data = project.export_records(forms=['delivery'])\n",
    "delivery_df=pd.DataFrame(delivery_data)\n",
    "\n",
    "# Specify the fields you want to extract base on logics\n",
    "delv_data=delivery_df[['con_participantid_q1','del_vdate_q1','del_place_q2','del_lbonsetdatetime_q4','del_gestage','del_ddate_q7','redcap_event_name']]\n",
    "delv_df=pd.DataFrame(delv_data)\n",
    "\n",
    "#del_date as a date data type\n",
    "delv_df['del_ddate_q7'] = pd.to_datetime(delv_df['del_ddate_q7'], errors='coerce')\n",
    "\n",
    "\n",
    "delivered_df = delv_df[\n",
    "    (delv_df['redcap_event_name'] == 'delivery__postpart_arm_1') &\n",
    "    (delv_df['del_ddate_q7'].notnull())\n",
    "]\n",
    "\n",
    "\n",
    "\n",
    "delv_count = len(delivered_df)\n",
    "print(\"Total Deliveries:\", delv_count)"
   ]
  },
  {
   "cell_type": "code",
   "execution_count": 10,
   "metadata": {},
   "outputs": [
    {
     "name": "stdout",
     "output_type": "stream",
     "text": [
      "Total month 1 visit 181\n",
      "Total month 6 visit 92\n",
      "Total month 12 visit 22\n"
     ]
    }
   ],
   "source": [
    "################################################# MONTHLY VISIT FUNCTION ##############################################################\n",
    "Postpartum_mothers = project.export_records(forms=['anthropometry_and_vital_signs','maternal_blood_sample_collection','maternal_urine_sample_collection','breast_milk_sample_collection_d7cd08'])\n",
    "Postpartum_df=pd.DataFrame(Postpartum_mothers)\n",
    "\n",
    "import pandas as pd\n",
    "\n",
    "# Assuming the Postpartum_mothers data is already loaded and Postpartum_df is created as described\n",
    "\n",
    "def filter_postpartum_data(event_name):\n",
    "    # Filtering the DataFrame based on the provided event name and other conditions\n",
    "    filtered_df = Postpartum_df[\n",
    "        (Postpartum_df['redcap_event_name'] == event_name) &\n",
    "        (Postpartum_df['ma_temp_q5'].notnull()) &\n",
    "        (Postpartum_df['matbld_3mledtacollected_q3'].notnull()) &\n",
    "        (Postpartum_df['full_urinesample_collected'].notnull()) &\n",
    "        (Postpartum_df['bmc_10ml_sample'].notnull())\n",
    "    ]\n",
    "    return filtered_df\n",
    "\n",
    "\n",
    "# Month 1 \n",
    "m1_Postpartum_df = filter_postpartum_data(\"month_1_arm_1\")\n",
    "m1_Postpartum_count = len(m1_Postpartum_df)\n",
    "print(\"Total month 1 visit\", m1_Postpartum_count)\n",
    "\n",
    "# Month 6 \n",
    "m6_Postpartum_df = filter_postpartum_data(\"month_6_arm_1\")\n",
    "m6_Postpartum_count = len(m6_Postpartum_df)\n",
    "print(\"Total month 6 visit\", m6_Postpartum_count)\n",
    "\n",
    "# Month 12 \n",
    "m12_Postpartum_df = filter_postpartum_data(\"month_12_arm_1\")\n",
    "m12_Postpartum_count = len(m12_Postpartum_df)\n",
    "print(\"Total month 12 visit\", m12_Postpartum_count)"
   ]
  }
 ],
 "metadata": {
  "kernelspec": {
   "display_name": "Python 3",
   "language": "python",
   "name": "python3"
  },
  "language_info": {
   "codemirror_mode": {
    "name": "ipython",
    "version": 3
   },
   "file_extension": ".py",
   "mimetype": "text/x-python",
   "name": "python",
   "nbconvert_exporter": "python",
   "pygments_lexer": "ipython3",
   "version": "3.11.5"
  }
 },
 "nbformat": 4,
 "nbformat_minor": 2
}
