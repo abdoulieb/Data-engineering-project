{
 "cells": [
  {
   "cell_type": "code",
   "execution_count": 1,
   "metadata": {},
   "outputs": [],
   "source": [
    "from redcap import Project\n",
    "import pandas as pd\n",
    "\n",
    "#REDCap API configuration\n",
    "api_url = 'https://ruff.mrc.gm:8443/redcap/api/'\n",
    "api_key = 'D6807C091B1FC14F57CC9B2972D0B398'\n",
    "project = Project(api_url, api_key)"
   ]
  },
  {
   "cell_type": "code",
   "execution_count": 2,
   "metadata": {},
   "outputs": [
    {
     "name": "stdout",
     "output_type": "stream",
     "text": [
      "Index(['con_participantid_q1', 'redcap_event_name', 'redcap_repeat_instrument',\n",
      "       'redcap_repeat_instance', 'srl_date', 'srl_time', 'srl_type',\n",
      "       'srl_edta', 'srl_lithhep', 'srl_urine', 'srl_urinevol', 'srl_stool',\n",
      "       'srl_enoughstool', 'srl_breastmilk', 'srl_enoughmilk', 'srl_cordblood',\n",
      "       'srl_cordvol', 'srl_cordedta', 'srl_cordlithhep', 'srl_coldboxip',\n",
      "       'srl_accepted', 'srl_reason___1', 'srl_reason___2', 'srl_comments',\n",
      "       'srl_deliveredby', 'srl_receivedby', 'sample_reception_complete'],\n",
      "      dtype='object')\n"
     ]
    }
   ],
   "source": [
    "##Extract all data from household registration.\n",
    "sample_Reception = project.export_records(forms=['sample_reception'])\n",
    "\n",
    "#convert data to Dataframe.\n",
    "HHold_data=pd.DataFrame(sample_Reception)\n",
    "print(HHold_data.columns)"
   ]
  },
  {
   "cell_type": "code",
   "execution_count": 3,
   "metadata": {},
   "outputs": [],
   "source": [
    "# Specify the fields you want to extract base on logics\n",
    "HH_data=HHold_data[['con_participantid_q1','redcap_repeat_instrument','redcap_repeat_instance','redcap_event_name','srl_type','srl_date','srl_accepted']]\n",
    "HH_data=pd.DataFrame(HH_data)\n",
    "\n",
    "#st_date as a date data type\n",
    "HH_data['srl_date'] = pd.to_datetime(HH_data['srl_date'], errors='coerce')\n",
    "\n",
    "\n",
    "HH_data = HH_data[\n",
    "    (HH_data['srl_type'].notnull()) &\n",
    "    (HH_data['srl_accepted'] >= '1')\n",
    "]\n",
    "\n",
    "##HH_data.to_csv('samples received.csv')"
   ]
  },
  {
   "cell_type": "code",
   "execution_count": 4,
   "metadata": {},
   "outputs": [],
   "source": [
    "\n",
    "import pandas as pd\n",
    "\n",
    "# Assuming HH_data is your original DataFrame and it has the 'redcap_event_name' column\n",
    "HH_data = pd.DataFrame(HH_data)\n",
    "\n",
    "# Convert 'hrf_women1839' to numeric type\n",
    "HH_data['srl_accepted'] = pd.to_numeric(HH_data['srl_accepted'])\n",
    "\n",
    "# Group by 'srl_type' and sum 'srl_accepted'\n",
    "sum_of_potentials = HH_data.groupby(['srl_type', 'redcap_event_name'])['srl_accepted'].sum().reset_index()\n",
    "\n",
    "# Rename the columns for clarity\n",
    "sum_of_potentials.columns = ['srl_type', 'redcap_event_name', 'sum_of_srl_accepted']\n",
    "\n"
   ]
  },
  {
   "cell_type": "code",
   "execution_count": 5,
   "metadata": {},
   "outputs": [
    {
     "name": "stdout",
     "output_type": "stream",
     "text": [
      "srl_type             Blood  Urine  Stool   Milk  Cord Blood\n",
      "redcap_event_name                                          \n",
      "Delivery               0.0    0.0    0.0    0.0       202.0\n",
      "Infant (Month 10)      0.0    0.0   41.0    0.0         0.0\n",
      "Infant (Month 11)      0.0    0.0   25.0    0.0         0.0\n",
      "Maternal (Month 12)   21.0   19.0    0.0   20.0         0.0\n",
      "Infant (Month 12)     20.0    0.0   18.0    0.0         0.0\n",
      "Maternal (Month 1)   176.0  173.0    0.0  173.0         0.0\n",
      "Infant (Month 1)     133.0    0.0  130.0    0.0         0.0\n",
      "Infant (Month 2)       0.0    0.0  111.0    0.0         0.0\n",
      "Maternal (Month 3)     0.0    0.0    0.0   69.0         0.0\n",
      "Infant (Month 3)       0.0    0.0  106.0    0.0         0.0\n",
      "Infant (Month 4)       0.0    0.0   91.0    0.0         0.0\n",
      "Infant (Month 5)       0.0    0.0   78.0    0.0         0.0\n",
      "Maternal (Month 6)    91.0   88.0    0.0   92.0         0.0\n",
      "Infant (Month 6)      86.0    0.0   77.0    0.0         0.0\n",
      "Infant (Month 7)       0.0    0.0   62.0    0.0         0.0\n",
      "Infant (Month 8)       0.0    0.0   58.0    0.0         0.0\n",
      "Infant (Month 9)       0.0    0.0   54.0    0.0         0.0\n",
      "Week 20              421.0  416.0    0.0    0.0         0.0\n",
      "Week 28              336.0  333.0    0.0    0.0         0.0\n",
      "Week 36              258.0  258.0    0.0    0.0         0.0\n"
     ]
    }
   ],
   "source": [
    "import pandas as pd\n",
    "\n",
    "# Assuming 'sum_of_potentials' DataFrame contains the aggregated data\n",
    "pivot_table = sum_of_potentials.pivot_table(index='redcap_event_name', columns='srl_type', values='sum_of_srl_accepted', aggfunc='sum')\n",
    "\n",
    "# Fill any NaN values with 0\n",
    "pivot_table.fillna(0, inplace=True)\n",
    "\n",
    "# Rename the columns\n",
    "pivot_table.rename(columns={'1': 'Blood', '2': 'Urine','3':'Stool','4':'Milk','5':'Cord Blood'}, inplace=True)\n",
    "pivot_table.rename(index={'month_1_arm_1': 'Maternal (Month 1)','month_3_arm_1': 'Maternal (Month 3)','month_6_arm_1': 'Maternal (Month 6)','month_12_arm_1':'Maternal (Month 12)',\n",
    "                          'week_20_arm_1': 'Week 20','week_28_arm_1': 'Week 28', 'week_36_arm_1': 'Week 36','delivery__postpart_arm_1': 'Delivery',\n",
    "                          'month_1_arm_2': 'Infant (Month 1)', 'month_2_arm_2': 'Infant (Month 2)', 'month_3_arm_2': 'Infant (Month 3)', 'month_4_arm_2': 'Infant (Month 4)', 'month_5_arm_2': 'Infant (Month 5)','month_6_arm_2': 'Infant (Month 6)','month_7_arm_2': 'Infant (Month 7)','month_8_arm_2': 'Infant (Month 8)','month_9_arm_2': 'Infant (Month 9)','month_10_arm_2': 'Infant (Month 10)','month_11_arm_2': 'Infant (Month 11)','month_12_arm_2': 'Infant (Month 12)'\n",
    "                          }, inplace=True)\n",
    "\n",
    "print(pivot_table)\n",
    "\n",
    "#extract as CSV\n",
    "pivot_table.to_csv('pivot_table_data.csv')\n"
   ]
  }
 ],
 "metadata": {
  "kernelspec": {
   "display_name": "Python 3",
   "language": "python",
   "name": "python3"
  },
  "language_info": {
   "codemirror_mode": {
    "name": "ipython",
    "version": 3
   },
   "file_extension": ".py",
   "mimetype": "text/x-python",
   "name": "python",
   "nbconvert_exporter": "python",
   "pygments_lexer": "ipython3",
   "version": "3.11.5"
  }
 },
 "nbformat": 4,
 "nbformat_minor": 2
}
