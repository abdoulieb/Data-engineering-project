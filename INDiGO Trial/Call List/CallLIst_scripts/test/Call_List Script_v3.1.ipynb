{
 "cells": [
  {
   "cell_type": "code",
   "execution_count": 1,
   "metadata": {},
   "outputs": [],
   "source": [
    "from redcap import Project\n",
    "import pandas as pd\n",
    "import datetime\n",
    "\n",
    "#REDCap API configuration\n",
    "api_url = 'https://ruff.mrc.gm:8443/redcap/api/'\n",
    "api_key = 'E5FEBF04C14581CF182ABE8107AB8B50'\n",
    "project = Project(api_url, api_key)\n",
    "\n",
    "#REDCap API configuration for Sensitization\n",
    "sen_api_url = 'https://redcap.mrc.gm:8443/redcap/api/'\n",
    "sen_api_key = '9D6259C7B0E732D2C11EAAAF1D49B818'\n",
    "sen_project = Project(sen_api_url,sen_api_key)\n"
   ]
  },
  {
   "cell_type": "markdown",
   "metadata": {},
   "source": [
    "### sensitization"
   ]
  },
  {
   "cell_type": "code",
   "execution_count": 2,
   "metadata": {},
   "outputs": [],
   "source": [
    "In_sen_data=sen_project.export_records(forms=['indigo_sensitisation'])\n",
    "sen_log_data=pd.DataFrame(In_sen_data)\n",
    "\n",
    "sen_log_data=sen_log_data[['in_kiang_number','in_name','in_age','in_village', 'in_compound','in_eden_number','in_contact1','in_contact2','in_contact3','in_contact4','in_outcome','in_study_number']]\n",
    "sen_log_data=pd.DataFrame(In_sen_data)\n",
    "\n",
    "sen_log_data = sen_log_data[\n",
    "    (sen_log_data['in_outcome'] == '1') &\n",
    "    (sen_log_data['in_kiang_number'].notnull()) &\n",
    "    (sen_log_data['in_study_number'].notnull())\n",
    "]\n",
    "\n"
   ]
  },
  {
   "cell_type": "code",
   "execution_count": 3,
   "metadata": {},
   "outputs": [],
   "source": [
    "sen_log_data=sen_log_data.rename(columns={'in_study_number': 'con_participantid_q1'})\n",
    "village_mapping = {\n",
    "'001':'Dumbuto',\n",
    "'002':'Sankandi',\n",
    "'003':'Nioro Jattaba',\n",
    "'004':'Jattaba',\n",
    "'005':'Jiffarong',\n",
    "'006':'Bajana',\n",
    "'007':'Kuli Kunda',\n",
    "'008':'Jamaru',\n",
    "'009':'Brikamanding',\n",
    "'010':'Kantong Kunda',\n",
    "'011':'Jali',\n",
    "'013':'Manduar',\n",
    "'014':'Bang Kuling',\n",
    "'015':'Gissay',\n",
    "'016':'Tankular',\n",
    "'017':'Joli',\n",
    "'018':'Kuyang',\n",
    "'019':'Bantasu',\n",
    "'020':'Santamba',\n",
    "'021':'Missira',\n",
    "'022':'Taborangkoto',\n",
    "'023':'Burong',\n",
    "'024':'Jula Kunda',\n",
    "'025':'Karantaba',\n",
    "'026':'Mandina',\n",
    "'027':'Janneh Kunda',\n",
    "'028':'Kemoto',\n",
    "'029':'Keneba',\n",
    "'030':'Batelling',\n",
    "'031':'Sandeng',\n",
    "'032':'Wudeba',\n",
    "'034':'Kenokoto',\n",
    "'035':'Manari',\n",
    "'036':'Nineteen',\n",
    "'040':'WUROKANG',\n",
    "'041':'KWINELLA SANSANKONO',\n",
    "'042':'KWINELLA NIA KUNDA',\n",
    "'043':'TENDABA',\n",
    "'044':'BUMARR',\n",
    "'045':'BAMBAKO',\n",
    "'046':'KUNDONG MARIAYA',\n",
    "'047':'NEMA',\n",
    "'048':'KUNDANG NUMU KUNDA',\n",
    "'049':'KUNDANG FULA KUNDA',\n",
    "'050':'NEMA KUTA',\n",
    "'051':'JIRROFF',\n",
    "'052':'MADINA ANGALLEH',\n",
    "'053':'JATTA KUNDA',\n",
    "'054':'MANDINA CENTRAL',\n",
    "'055':'SARE SARJO',\n",
    "'056':'SIBETO',\n",
    "'057':'SARE NDALLA',\n",
    "'058':'TABANANI',\n",
    "'060':'WILLINGARA',\n",
    "'061':'SARE MAMUDU'\n",
    "    # Add more mappings as needed\n",
    "}\n",
    "\n",
    "# Assuming sen_log_data is your DataFrame\n",
    "sen_log_data['in_village'] = sen_log_data['in_village'].map(village_mapping)"
   ]
  },
  {
   "cell_type": "markdown",
   "metadata": {},
   "source": [
    "## WITHDRAWALS"
   ]
  },
  {
   "cell_type": "code",
   "execution_count": 4,
   "metadata": {},
   "outputs": [],
   "source": [
    "#extract study termination data\n",
    "termination_data = project.export_records(forms=['study_termination'])\n",
    "\n",
    "#convert data to Dataframe.\n",
    "term_data=pd.DataFrame(termination_data)"
   ]
  },
  {
   "cell_type": "code",
   "execution_count": 5,
   "metadata": {},
   "outputs": [],
   "source": [
    "# Specify the fields you want to extract base on logics\n",
    "df_withdrw=term_data[['con_participantid_q1','st_date','st_reason','redcap_event_name']]\n",
    "df_withdrw=pd.DataFrame(df_withdrw)\n",
    "\n",
    "#st_date as a date data type\n",
    "df_withdrw['st_date'] = pd.to_datetime(df_withdrw['st_date'], errors='coerce')\n",
    "\n",
    "\n",
    "df_withdrw = df_withdrw[\n",
    "    (df_withdrw['redcap_event_name'] == 'end_of_study_arm_1') &\n",
    "    (df_withdrw['st_date'].notnull())\n",
    "]\n"
   ]
  },
  {
   "cell_type": "code",
   "execution_count": 6,
   "metadata": {},
   "outputs": [],
   "source": [
    "Withdrawal_df = pd.DataFrame({\n",
    "    'con_participantid_q1': df_withdrw['con_participantid_q1'],\n",
    "    'withdrawal date': pd.to_datetime(df_withdrw['st_date']),\n",
    "    'Reason': df_withdrw['st_reason'],\n",
    "    'Status': 'Terminated'\n",
    "})\n",
    "\n",
    "# Save the DataFrame to a CSV file\n",
    "Withdrawal_df.to_csv('Withdrawals.csv', index=False)\n"
   ]
  },
  {
   "cell_type": "markdown",
   "metadata": {},
   "source": [
    "USS SCAN DATA"
   ]
  },
  {
   "cell_type": "code",
   "execution_count": 7,
   "metadata": {},
   "outputs": [],
   "source": [
    "##USS SCAN DATA SET\n",
    "#extract week 20 completed data\n",
    "USS = project.export_records(forms=['ultrasound_scan'])\n",
    "\n",
    "#convert data to Dataframe.\n",
    "uss=pd.DataFrame(USS)\n",
    "\n",
    "# Specify the fields you want to extract base on logics for week 20\n",
    "df_uss=uss[['con_participantid_q1','ultsc_date','ultsc_type_q5','redcap_event_name']]\n",
    "df_uss=pd.DataFrame(df_uss)\n"
   ]
  },
  {
   "cell_type": "code",
   "execution_count": 8,
   "metadata": {},
   "outputs": [],
   "source": [
    "# ##EDD LIST\n",
    "# con_uss = project.export_records(forms=['consent','ultrasound_scan'])\n",
    "# con_uss=pd.DataFrame(con_uss)\n",
    "\n",
    "# # Specify the fields you want to extract\n",
    "# df_data_uss=con_uss[['con_participantid_q1', 'con_participant_eden_num_q11', 'ultsc_date', 'ga_weeks','ga_days','con_cluster_q12','redcap_event_name']]\n",
    "\n",
    "# df_data_uss = df_data_uss[\n",
    "#     (df_data_uss['ultsc_date'].notnull())\n",
    "# ]\n",
    "# ######################################################################################################################################\n",
    "# ## EXCLUDE ALL WITHDRAWALS FROM THE DATA\n",
    "# #Read from the ones that complete withdrawals: \"Withdrawals.csv\"\n",
    "# df_withdrawals = pd.read_csv('Withdrawals.csv')\n",
    "\n",
    "# # Merge the dataframes on 'participant_id'\n",
    "# con_merged_df = pd.merge(df_data_uss, df_withdrawals, on= 'con_participantid_q1', how='inner')\n",
    "\n",
    "# # Filter out the common participant IDs\n",
    "# df_data_uss= df_data_uss[~df_data_uss['con_participantid_q1'].isin(con_merged_df['con_participantid_q1'])]\n",
    "# ######################################################################################################################################\n",
    "\n",
    "# # Convert 'ga_weeks' and 'ga_days' columns to numeric type\n",
    "# df_data_uss['ga_weeks'] = pd.to_numeric(df_data_uss['ga_weeks'], errors='coerce')\n",
    "# df_data_uss['ga_days'] = pd.to_numeric(df_data_uss['ga_days'], errors='coerce')\n",
    "\n",
    "# # Calculate today's date\n",
    "# today = pd.Timestamp.today()\n",
    "\n",
    "# # Extract the required columns from the DataFrame\n",
    "# participant_id = df_data_uss['con_participantid_q1']\n",
    "# uss_date = pd.to_datetime(df_data_uss['ultsc_date'])\n",
    "# Ga_weeks = df_data_uss['ga_weeks']\n",
    "# Ga_days = df_data_uss['ga_days']\n",
    "# eden_num = df_data_uss['con_participant_eden_num_q11']\n",
    "\n",
    "# # Calculate the total gestational age in days\n",
    "# total_ga_days = (Ga_weeks * 7) + Ga_days\n",
    "\n",
    "# # Calculate the estimated due date (EDD)\n",
    "# edd = uss_date + pd.to_timedelta(280 - total_ga_days, unit='days')\n",
    "\n",
    "# # Calculate the current gestational age\n",
    "# days_diff = (today - uss_date).dt.days\n",
    "# current_ga = (days_diff + total_ga_days) / 7\n",
    "\n",
    "# event = df_data_uss['redcap_event_name']\n",
    "# cluster = df_data_uss['con_cluster_q12']\n",
    "\n",
    "# ## This data frame is mainted to put together the data and maintain the variable name 'con_participantid_q1' for easy exclusion of participants who completed the wk20.\n",
    "\n",
    "\n",
    "# edd_df = pd.DataFrame({\n",
    "#     'con_participantid_q1': participant_id,\n",
    "#     'USS Date': uss_date,\n",
    "#     'EDEN | Infant Number': eden_num,\n",
    "#     'Gestational Age (Weeks)': Ga_weeks,\n",
    "#     'Gestational Age (Days)': Ga_days,\n",
    "#     'Cluster': cluster,\n",
    "#     'Current Gestational Age': current_ga,\n",
    "#     '(Expected)Delivery Date ((E)DD)': edd,\n",
    "\n",
    "# })\n",
    "\n",
    "\n",
    "\n",
    "# edd_df.to_csv(\"EDD_LIST.CSV\")\n"
   ]
  },
  {
   "cell_type": "markdown",
   "metadata": {},
   "source": [
    "WK-20 DATA"
   ]
  },
  {
   "cell_type": "code",
   "execution_count": 9,
   "metadata": {},
   "outputs": [],
   "source": [
    "#ultsc_date as a date data type\n",
    "df_uss['ultsc_date'] = pd.to_datetime(df_uss['ultsc_date'], errors='coerce')\n",
    "\n",
    "#extract week 20 USS from the USS scan data set\n",
    "df_wk20_uss = df_uss[\n",
    "    (df_uss['redcap_event_name'] == 'week_20_arm_1') &\n",
    "    (df_uss['ultsc_date'].notnull())\n",
    "]\n",
    "\n",
    "# week 20 uss scan data into a data frame\n",
    "wk20_df = pd.DataFrame({\n",
    "    'con_participantid_q1' : df_wk20_uss['con_participantid_q1'],\n",
    "    'uss_date': pd.to_datetime(df_wk20_uss['ultsc_date']),\n",
    "    'uss_type' : df_wk20_uss['ultsc_type_q5'],\n",
    "    'Status': 'week 20 completed'\n",
    "})\n",
    "\n",
    "# Save the wk20 DataFrame to a CSV file\n",
    "wk20_df.to_csv('Week 20.csv', index=False)\n"
   ]
  },
  {
   "cell_type": "markdown",
   "metadata": {},
   "source": [
    "WK-28 DATA"
   ]
  },
  {
   "cell_type": "code",
   "execution_count": 10,
   "metadata": {},
   "outputs": [],
   "source": [
    "#extract week 28 USS from the USS scan data set\n",
    "df_wk28_uss = df_uss[\n",
    "    (df_uss['redcap_event_name'] == 'week_28_arm_1') &\n",
    "    (df_uss['ultsc_date'].notnull())\n",
    "]\n",
    "\n",
    "# week 28 uss scan data into a data frame\n",
    "wk28_df = pd.DataFrame({\n",
    "    'con_participantid_q1' : df_wk28_uss['con_participantid_q1'],\n",
    "    'uss_date': pd.to_datetime(df_wk28_uss['ultsc_date']),\n",
    "    'uss_type' : df_wk28_uss['ultsc_type_q5'],\n",
    "    'Status': 'week 28 completed'\n",
    "})\n",
    "\n",
    "# Save the wk28 DataFrame to a CSV file\n",
    "wk28_df.to_csv('Week 28.csv', index=False)\n"
   ]
  },
  {
   "cell_type": "markdown",
   "metadata": {},
   "source": [
    "WK-36 DATA"
   ]
  },
  {
   "cell_type": "code",
   "execution_count": 11,
   "metadata": {},
   "outputs": [],
   "source": [
    "#extract week 36 USS from the USS scan data set\n",
    "df_wk36_uss = df_uss[\n",
    "    (df_uss['redcap_event_name'] == 'week_36_arm_1') &\n",
    "    (df_uss['ultsc_date'].notnull())\n",
    "]\n",
    "\n",
    "# week 36 uss scan data into a data frame\n",
    "wk36_df = pd.DataFrame({\n",
    "    'con_participantid_q1' : df_wk36_uss['con_participantid_q1'],\n",
    "    'uss_date': pd.to_datetime(df_wk36_uss['ultsc_date']),\n",
    "    'uss_type' : df_wk36_uss['ultsc_type_q5'],\n",
    "    'Status': 'week 36 completed'\n",
    "})\n",
    "\n",
    "# Save the wk36 DataFrame to a CSV file\n",
    "wk36_df.to_csv('Week 36.csv', index=False)\n"
   ]
  },
  {
   "cell_type": "markdown",
   "metadata": {},
   "source": [
    "DELIVERY"
   ]
  },
  {
   "cell_type": "code",
   "execution_count": 12,
   "metadata": {},
   "outputs": [],
   "source": [
    "#extract delivery data\n",
    "delivery_data = project.export_records(forms=['delivery'])\n",
    "\n",
    "#convert data to Dataframe.\n",
    "delv_data=pd.DataFrame(delivery_data)"
   ]
  },
  {
   "cell_type": "code",
   "execution_count": 13,
   "metadata": {},
   "outputs": [],
   "source": [
    "#del_date as a date data type\n",
    "delv_data['del_ddate_q7'] = pd.to_datetime(delv_data['del_ddate_q7'], errors='coerce')\n",
    "\n",
    "# Specify the fields you want to extract base on logics\n",
    "df_delv=delv_data[['con_participantid_q1','del_vdate_q1','del_place_q2','del_lbonsetdatetime_q4','del_gestage','del_ddate_q7','redcap_event_name']]\n",
    "df_delv=pd.DataFrame(df_delv)\n",
    "df_delv = df_delv[\n",
    "    (df_delv['redcap_event_name'] == 'delivery__postpart_arm_1') &\n",
    "    (df_delv['del_ddate_q7'].notnull())\n",
    "]\n"
   ]
  },
  {
   "cell_type": "code",
   "execution_count": 14,
   "metadata": {},
   "outputs": [],
   "source": [
    "#extract required columns\n",
    "\n",
    "delivery_df = pd.DataFrame({\n",
    "    'con_participantid_q1': df_delv['con_participantid_q1'],\n",
    "    'Delivery Date': pd.to_datetime(df_delv['del_ddate_q7']),\n",
    "    'GA at Delivery': df_delv['del_gestage'],\n",
    "    'Status': 'Delivered'\n",
    "\n",
    "})\n",
    "\n",
    "# Save the DataFrame to a CSV file\n",
    "delivery_df.to_csv('Delivery.csv', index=False)\n"
   ]
  },
  {
   "cell_type": "markdown",
   "metadata": {},
   "source": [
    "INFANT-MOTHER PAIR"
   ]
  },
  {
   "cell_type": "code",
   "execution_count": 15,
   "metadata": {},
   "outputs": [],
   "source": [
    "#extract infant anthrops data\n",
    "inf_data = project.export_records(forms=['infant_anthropometry','infant_stool_collection'])\n",
    "inf_data=pd.DataFrame(inf_data)\n",
    "\n",
    "inf_data = inf_data[['con_participantid_q1','ina_infantid','ian_date','ian_visitoutcome','infant_anthropometry_complete','isc_dvdate_q1','isc_dtime_q2','isc_stoolcollected_q3','infant_stool_collection_complete','redcap_event_name']]\n",
    "df_infant = pd.DataFrame(inf_data)\n",
    "\n",
    "#ian_date as a date data type\n",
    "df_infant['ian_date'] = pd.to_datetime(df_infant['ian_date'], errors='coerce')\n",
    "df_infant['isc_dvdate_q1'] = pd.to_datetime(df_infant['isc_dvdate_q1'], errors='coerce')\n",
    "df_infant['isc_dtime_q2'] = pd.to_datetime(df_infant['isc_dtime_q2'], errors='coerce').dt.time\n",
    "\n"
   ]
  },
  {
   "cell_type": "code",
   "execution_count": 16,
   "metadata": {},
   "outputs": [],
   "source": [
    "##Monthly visit conditions\n",
    "Monthly_visit_conditions =(\n",
    "    ((df_infant['ian_date'].notnull())) &\n",
    "    ((df_infant['ian_visitoutcome'].notnull())) &\n",
    "    (df_infant['infant_anthropometry_complete'] =='2') &\n",
    "    ((df_infant['isc_dvdate_q1'].notnull())) &\n",
    "    ((df_infant['isc_dtime_q2'].notnull())) &\n",
    "    ((df_infant['isc_stoolcollected_q3'].notnull())) &\n",
    "    (df_infant['infant_stool_collection_complete']== '2')\n",
    ")"
   ]
  },
  {
   "cell_type": "markdown",
   "metadata": {},
   "source": [
    "MONTH 1"
   ]
  },
  {
   "cell_type": "code",
   "execution_count": 17,
   "metadata": {},
   "outputs": [],
   "source": [
    "inf_M1 = df_infant[\n",
    "    (df_infant['redcap_event_name'] == 'month_1_arm_2') &\n",
    "    Monthly_visit_conditions\n",
    "]\n",
    "\n",
    "#merge infant_data to delivery_data base on participant ID\n",
    "m1_infant_mother = df_delv.merge (inf_M1, on='con_participantid_q1', how='left')\n",
    "\n",
    "#return the these variables base on the participant Id they have in common\n",
    "M1_infant_mother = m1_infant_mother[['con_participantid_q1','del_ddate_q7','ina_infantid','ian_date']]\n",
    "\n",
    "\n",
    "M1_infant_mother = M1_infant_mother[\n",
    "    ((M1_infant_mother['del_ddate_q7'].notnull())) &\n",
    "    ((M1_infant_mother['ian_date'].notnull()))\n",
    "]\n",
    "\n",
    "#extract required columns\n",
    "\n",
    "Month1_df = pd.DataFrame({\n",
    "    'con_participantid_q1': M1_infant_mother['con_participantid_q1'],\n",
    "    'Delivery Date': pd.to_datetime(M1_infant_mother['del_ddate_q7']),\n",
    "    'Infant ID': M1_infant_mother['ina_infantid'],\n",
    "    'Infant anthrops Date': pd.to_datetime(M1_infant_mother['ian_date']),\n",
    "    'Status': 'Month 1 completed'\n",
    "\n",
    "})\n",
    "\n",
    "# Save the DataFrame to a CSV file\n",
    "Month1_df.to_csv('Month 1.csv', index=False)\n"
   ]
  },
  {
   "cell_type": "markdown",
   "metadata": {},
   "source": [
    "Month 2"
   ]
  },
  {
   "cell_type": "code",
   "execution_count": 18,
   "metadata": {},
   "outputs": [],
   "source": [
    "inf_M2 = df_infant[\n",
    "    (df_infant['redcap_event_name'] == 'month_2_arm_2') &\n",
    "    Monthly_visit_conditions\n",
    "]\n",
    "\n",
    "#merge infant_data to delivery_data base on participant ID\n",
    "m2_infant_mother = df_delv.merge (inf_M2, on='con_participantid_q1', how='left')\n",
    "\n",
    "#return the these variables base on the participant Id they have in common\n",
    "M2_infant_mother = m2_infant_mother[['con_participantid_q1','del_ddate_q7','ina_infantid','ian_date']]\n",
    "\n",
    "M2_infant_mother = M2_infant_mother[\n",
    "    ((M2_infant_mother['del_ddate_q7'].notnull())) &\n",
    "    ((M2_infant_mother['ian_date'].notnull()))\n",
    "]\n",
    "\n",
    "#extract required columns\n",
    "\n",
    "Month2_df = pd.DataFrame({\n",
    "    'con_participantid_q1': M2_infant_mother['con_participantid_q1'],\n",
    "    'Delivery Date': pd.to_datetime(M2_infant_mother['del_ddate_q7']),\n",
    "    'Infant ID': M2_infant_mother['ina_infantid'],\n",
    "    'Infant anthrops Date': pd.to_datetime(M2_infant_mother['ian_date']),\n",
    "    'Status': 'Month 2 completed'\n",
    "\n",
    "})\n",
    "\n",
    "# Save the DataFrame to a CSV file\n",
    "Month2_df.to_csv('Month 2.csv', index=False)\n"
   ]
  },
  {
   "cell_type": "markdown",
   "metadata": {},
   "source": [
    "Month 3"
   ]
  },
  {
   "cell_type": "code",
   "execution_count": 19,
   "metadata": {},
   "outputs": [],
   "source": [
    "inf_M3 = df_infant[\n",
    "    (df_infant['redcap_event_name'] == 'month_3_arm_2') &\n",
    "    Monthly_visit_conditions\n",
    "]\n",
    "\n",
    "#merge infant_data to delivery_data base on participant ID\n",
    "m3_infant_mother = df_delv.merge (inf_M3, on='con_participantid_q1', how='left')\n",
    "\n",
    "#return the these variables base on the participant Id they have in common\n",
    "M3_infant_mother = m3_infant_mother[['con_participantid_q1','del_ddate_q7','ina_infantid','ian_date']]\n",
    "\n",
    "M3_infant_mother = M3_infant_mother[\n",
    "    ((M3_infant_mother['del_ddate_q7'].notnull())) &\n",
    "    ((M3_infant_mother['ian_date'].notnull()))\n",
    "]\n",
    "\n",
    "#extract required columns\n",
    "\n",
    "Month3_df = pd.DataFrame({\n",
    "    'con_participantid_q1': M3_infant_mother['con_participantid_q1'],\n",
    "    'Delivery Date': pd.to_datetime(M3_infant_mother['del_ddate_q7']),\n",
    "    'Infant ID': M3_infant_mother['ina_infantid'],\n",
    "    'Infant anthrops Date': pd.to_datetime(M3_infant_mother['ian_date']),\n",
    "    'Status': 'Month 3 completed'\n",
    "\n",
    "})\n",
    "\n",
    "# Save the DataFrame to a CSV file\n",
    "Month3_df.to_csv('Month 3.csv', index=False)\n"
   ]
  },
  {
   "cell_type": "markdown",
   "metadata": {},
   "source": [
    "Month 4"
   ]
  },
  {
   "cell_type": "code",
   "execution_count": 20,
   "metadata": {},
   "outputs": [],
   "source": [
    "inf_M4 = df_infant[\n",
    "    (df_infant['redcap_event_name'] == 'month_4_arm_2') &\n",
    "    Monthly_visit_conditions\n",
    "]\n",
    "\n",
    "#merge infant_data to delivery_data base on participant ID\n",
    "m4_infant_mother = df_delv.merge (inf_M4, on='con_participantid_q1', how='left')\n",
    "\n",
    "#return the these variables base on the participant Id they have in common\n",
    "M4_infant_mother = m4_infant_mother[['con_participantid_q1','del_ddate_q7','ina_infantid','ian_date']]\n",
    "\n",
    "M4_infant_mother = M4_infant_mother[\n",
    "    ((M4_infant_mother['del_ddate_q7'].notnull())) &\n",
    "    ((M4_infant_mother['ian_date'].notnull()))\n",
    "]\n",
    "\n",
    "#extract required columns\n",
    "\n",
    "Month4_df = pd.DataFrame({\n",
    "    'con_participantid_q1': M4_infant_mother['con_participantid_q1'],\n",
    "    'Delivery Date': pd.to_datetime(M4_infant_mother['del_ddate_q7']),\n",
    "    'Infant ID': M4_infant_mother['ina_infantid'],\n",
    "    'Infant anthrops Date': pd.to_datetime(M4_infant_mother['ian_date']),\n",
    "    'Status': 'Month 4 completed'\n",
    "\n",
    "})\n",
    "\n",
    "# Save the DataFrame to a CSV file\n",
    "Month4_df.to_csv('Month 4.csv', index=False)\n"
   ]
  },
  {
   "cell_type": "markdown",
   "metadata": {},
   "source": [
    "Month 5"
   ]
  },
  {
   "cell_type": "code",
   "execution_count": 21,
   "metadata": {},
   "outputs": [],
   "source": [
    "inf_M5 = df_infant[\n",
    "    (df_infant['redcap_event_name'] == 'month_5_arm_2') &\n",
    "    Monthly_visit_conditions\n",
    "]\n",
    "\n",
    "#merge infant_data to delivery_data base on participant ID\n",
    "m5_infant_mother = df_delv.merge (inf_M5, on='con_participantid_q1', how='left')\n",
    "\n",
    "#return the these variables base on the participant Id they have in common\n",
    "M5_infant_mother = m5_infant_mother[['con_participantid_q1','del_ddate_q7','ina_infantid','ian_date']]\n",
    "\n",
    "M5_infant_mother = M5_infant_mother[\n",
    "    ((M5_infant_mother['del_ddate_q7'].notnull())) &\n",
    "    ((M5_infant_mother['ian_date'].notnull()))\n",
    "]\n",
    "\n",
    "#extract required columns\n",
    "\n",
    "Month5_df = pd.DataFrame({\n",
    "    'con_participantid_q1': M5_infant_mother['con_participantid_q1'],\n",
    "    'Delivery Date': pd.to_datetime(M5_infant_mother['del_ddate_q7']),\n",
    "    'Infant ID': M5_infant_mother['ina_infantid'],\n",
    "    'Infant anthrops Date': pd.to_datetime(M5_infant_mother['ian_date']),\n",
    "    'Status': 'Month 5 completed'\n",
    "\n",
    "})\n",
    "\n",
    "# Save the DataFrame to a CSV file\n",
    "Month5_df.to_csv('Month 5.csv', index=False)\n"
   ]
  },
  {
   "cell_type": "markdown",
   "metadata": {},
   "source": [
    "Month 6"
   ]
  },
  {
   "cell_type": "code",
   "execution_count": 22,
   "metadata": {},
   "outputs": [],
   "source": [
    "inf_M6 = df_infant[\n",
    "    (df_infant['redcap_event_name'] == 'month_6_arm_2') &\n",
    "    Monthly_visit_conditions\n",
    "]\n",
    "\n",
    "#merge infant_data to delivery_data base on participant ID\n",
    "m6_infant_mother = df_delv.merge (inf_M6, on='con_participantid_q1', how='left')\n",
    "\n",
    "#return the these variables base on the participant Id they have in common\n",
    "M6_infant_mother = m6_infant_mother[['con_participantid_q1','del_ddate_q7','ina_infantid','ian_date']]\n",
    "\n",
    "\n",
    "M6_infant_mother = M6_infant_mother[\n",
    "    ((M6_infant_mother['del_ddate_q7'].notnull())) &\n",
    "    ((M6_infant_mother['ian_date'].notnull()))\n",
    "]\n",
    "\n",
    "#extract required columns\n",
    "\n",
    "Month6_df = pd.DataFrame({\n",
    "    'con_participantid_q1': M6_infant_mother['con_participantid_q1'],\n",
    "    'Delivery Date': pd.to_datetime(M6_infant_mother['del_ddate_q7']),\n",
    "    'Infant ID': M6_infant_mother['ina_infantid'],\n",
    "    'Infant anthrops Date': pd.to_datetime(M6_infant_mother['ian_date']),\n",
    "    'Status': 'Month 6 completed'\n",
    "\n",
    "})\n",
    "\n",
    "# Save the DataFrame to a CSV file\n",
    "Month6_df.to_csv('Month 6.csv', index=False)\n"
   ]
  },
  {
   "cell_type": "markdown",
   "metadata": {},
   "source": [
    "Month 7"
   ]
  },
  {
   "cell_type": "code",
   "execution_count": 23,
   "metadata": {},
   "outputs": [],
   "source": [
    "inf_M7 = df_infant[\n",
    "    (df_infant['redcap_event_name'] == 'month_7_arm_2') &\n",
    "    Monthly_visit_conditions\n",
    "]\n",
    "\n",
    "#merge infant_data to delivery_data base on participant ID\n",
    "m7_infant_mother = df_delv.merge (inf_M7, on='con_participantid_q1', how='left')\n",
    "\n",
    "#return the these variables base on the participant Id they have in common\n",
    "M7_infant_mother = m7_infant_mother[['con_participantid_q1','del_ddate_q7','ina_infantid','ian_date']]\n",
    "\n",
    "\n",
    "M7_infant_mother = M7_infant_mother[\n",
    "    ((M7_infant_mother['del_ddate_q7'].notnull())) &\n",
    "    ((M7_infant_mother['ian_date'].notnull()))\n",
    "]\n",
    "\n",
    "#extract required columns\n",
    "\n",
    "Month7_df = pd.DataFrame({\n",
    "    'con_participantid_q1': M7_infant_mother['con_participantid_q1'],\n",
    "    'Delivery Date': pd.to_datetime(M7_infant_mother['del_ddate_q7']),\n",
    "    'Infant ID': M7_infant_mother['ina_infantid'],\n",
    "    'Infant anthrops Date': pd.to_datetime(M7_infant_mother['ian_date']),\n",
    "    'Status': 'Month 7 completed'\n",
    "\n",
    "})\n",
    "\n",
    "# Save the DataFrame to a CSV file\n",
    "Month7_df.to_csv('Month 7.csv', index=False)\n"
   ]
  },
  {
   "cell_type": "markdown",
   "metadata": {},
   "source": [
    "Month 8"
   ]
  },
  {
   "cell_type": "code",
   "execution_count": 24,
   "metadata": {},
   "outputs": [],
   "source": [
    "inf_M8 = df_infant[\n",
    "    (df_infant['redcap_event_name'] == 'month_8_arm_2') &\n",
    "    Monthly_visit_conditions\n",
    "]\n",
    "\n",
    "#merge infant_data to delivery_data base on participant ID\n",
    "m8_infant_mother = df_delv.merge (inf_M8, on='con_participantid_q1', how='left')\n",
    "\n",
    "#return the these variables base on the participant Id they have in common\n",
    "M8_infant_mother = m8_infant_mother[['con_participantid_q1','del_ddate_q7','ina_infantid','ian_date']]\n",
    "\n",
    "\n",
    "M8_infant_mother = M8_infant_mother[\n",
    "    ((M8_infant_mother['del_ddate_q7'].notnull())) &\n",
    "    ((M8_infant_mother['ian_date'].notnull()))\n",
    "]\n",
    "\n",
    "#extract required columns\n",
    "\n",
    "Month8_df = pd.DataFrame({\n",
    "    'con_participantid_q1': M8_infant_mother['con_participantid_q1'],\n",
    "    'Delivery Date': pd.to_datetime(M8_infant_mother['del_ddate_q7']),\n",
    "    'Infant ID': M8_infant_mother['ina_infantid'],\n",
    "    'Infant anthrops Date': pd.to_datetime(M8_infant_mother['ian_date']),\n",
    "    'Status': 'Month 8 completed'\n",
    "\n",
    "})\n",
    "\n",
    "# Save the DataFrame to a CSV file\n",
    "Month8_df.to_csv('Month 8.csv', index=False)\n"
   ]
  },
  {
   "cell_type": "markdown",
   "metadata": {},
   "source": [
    "Month 9"
   ]
  },
  {
   "cell_type": "code",
   "execution_count": 25,
   "metadata": {},
   "outputs": [],
   "source": [
    "inf_M9 = df_infant[\n",
    "    (df_infant['redcap_event_name'] == 'month_9_arm_2') &\n",
    "    Monthly_visit_conditions\n",
    "]\n",
    "\n",
    "#merge infant_data to delivery_data base on participant ID\n",
    "m9_infant_mother = df_delv.merge (inf_M9, on='con_participantid_q1', how='left')\n",
    "\n",
    "#return the these variables base on the participant Id they have in common\n",
    "M9_infant_mother = m9_infant_mother[['con_participantid_q1','del_ddate_q7','ina_infantid','ian_date']]\n",
    "\n",
    "\n",
    "M9_infant_mother = M9_infant_mother[\n",
    "    ((M9_infant_mother['del_ddate_q7'].notnull())) &\n",
    "    ((M9_infant_mother['ian_date'].notnull()))\n",
    "]\n",
    "\n",
    "#extract required columns\n",
    "\n",
    "Month9_df = pd.DataFrame({\n",
    "    'con_participantid_q1': M9_infant_mother['con_participantid_q1'],\n",
    "    'Delivery Date': pd.to_datetime(M9_infant_mother['del_ddate_q7']),\n",
    "    'Infant ID': M9_infant_mother['ina_infantid'],\n",
    "    'Infant anthrops Date': pd.to_datetime(M9_infant_mother['ian_date']),\n",
    "    'Status': 'Month 9 completed'\n",
    "\n",
    "})\n",
    "\n",
    "# Save the DataFrame to a CSV file\n",
    "Month9_df.to_csv('Month 9.csv', index=False)\n"
   ]
  },
  {
   "cell_type": "markdown",
   "metadata": {},
   "source": [
    "Month 10"
   ]
  },
  {
   "cell_type": "code",
   "execution_count": 26,
   "metadata": {},
   "outputs": [],
   "source": [
    "inf_M10 = df_infant[\n",
    "    (df_infant['redcap_event_name'] == 'month_10_arm_2') &\n",
    "    Monthly_visit_conditions\n",
    "]\n",
    "\n",
    "#merge infant_data to delivery_data base on participant ID\n",
    "m10_infant_mother = df_delv.merge (inf_M10, on='con_participantid_q1', how='left')\n",
    "\n",
    "#return the these variables base on the participant Id they have in common\n",
    "M10_infant_mother = m10_infant_mother[['con_participantid_q1','del_ddate_q7','ina_infantid','ian_date']]\n",
    "\n",
    "M10_infant_mother = M10_infant_mother[\n",
    "    ((M10_infant_mother['del_ddate_q7'].notnull())) &\n",
    "    ((M10_infant_mother['ian_date'].notnull()))\n",
    "]\n",
    "\n",
    "#extract required columns\n",
    "\n",
    "Month10_df = pd.DataFrame({\n",
    "    'con_participantid_q1': M10_infant_mother['con_participantid_q1'],\n",
    "    'Delivery Date': pd.to_datetime(M10_infant_mother['del_ddate_q7']),\n",
    "    'Infant ID': M10_infant_mother['ina_infantid'],\n",
    "    'Infant anthrops Date': pd.to_datetime(M10_infant_mother['ian_date']),\n",
    "    'Status': 'Month 10 completed'\n",
    "\n",
    "})\n",
    "\n",
    "# Save the DataFrame to a CSV file\n",
    "Month10_df.to_csv('Month 10.csv', index=False)\n"
   ]
  },
  {
   "cell_type": "markdown",
   "metadata": {},
   "source": [
    "Month 11"
   ]
  },
  {
   "cell_type": "code",
   "execution_count": 27,
   "metadata": {},
   "outputs": [],
   "source": [
    "inf_M11 = df_infant[\n",
    "    (df_infant['redcap_event_name'] == 'month_11_arm_2') &\n",
    "    Monthly_visit_conditions\n",
    "]\n",
    "\n",
    "#merge infant_data to delivery_data base on participant ID\n",
    "m11_infant_mother = df_delv.merge (inf_M11, on='con_participantid_q1', how='left')\n",
    "\n",
    "#return the these variables base on the participant Id they have in common\n",
    "M11_infant_mother = m11_infant_mother[['con_participantid_q1','del_ddate_q7','ina_infantid','ian_date']]\n",
    "\n",
    "\n",
    "M11_infant_mother = M11_infant_mother[\n",
    "    ((M11_infant_mother['del_ddate_q7'].notnull())) &\n",
    "    ((M11_infant_mother['ian_date'].notnull()))\n",
    "]\n",
    "\n",
    "#extract required columns\n",
    "\n",
    "Month11_df = pd.DataFrame({\n",
    "    'con_participantid_q1': M11_infant_mother['con_participantid_q1'],\n",
    "    'Delivery Date': pd.to_datetime(M11_infant_mother['del_ddate_q7']),\n",
    "    'Infant ID': M11_infant_mother['ina_infantid'],\n",
    "    'Infant anthrops Date': pd.to_datetime(M11_infant_mother['ian_date']),\n",
    "    'Status': 'Month 11 completed'\n",
    "\n",
    "})\n",
    "\n",
    "# Save the DataFrame to a CSV file\n",
    "Month11_df.to_csv('Month 11.csv', index=False)\n"
   ]
  },
  {
   "cell_type": "markdown",
   "metadata": {},
   "source": [
    "Month 12"
   ]
  },
  {
   "cell_type": "code",
   "execution_count": 28,
   "metadata": {},
   "outputs": [],
   "source": [
    "inf_M12 = df_infant[\n",
    "    (df_infant['redcap_event_name'] == 'month_12_arm_2') &\n",
    "    Monthly_visit_conditions\n",
    "]\n",
    "\n",
    "#merge infant_data to delivery_data base on participant ID\n",
    "m12_infant_mother = df_delv.merge (inf_M12, on='con_participantid_q1', how='left')\n",
    "\n",
    "#return the these variables base on the participant Id they have in common\n",
    "M12_infant_mother = m12_infant_mother[['con_participantid_q1','del_ddate_q7','ina_infantid','ian_date']]\n",
    "\n",
    "M12_infant_mother = M12_infant_mother[\n",
    "    ((M12_infant_mother['del_ddate_q7'].notnull())) &\n",
    "    ((M12_infant_mother['ian_date'].notnull()))\n",
    "]\n",
    "\n",
    "#extract required columns\n",
    "\n",
    "Month12_df = pd.DataFrame({\n",
    "    'con_participantid_q1': M12_infant_mother['con_participantid_q1'],\n",
    "    'Delivery Date': pd.to_datetime(M12_infant_mother['del_ddate_q7']),\n",
    "    'Infant ID': M12_infant_mother['ina_infantid'],\n",
    "    'Infant anthrops Date': pd.to_datetime(M12_infant_mother['ian_date']),\n",
    "    'Status': 'Month 12 completed'\n",
    "\n",
    "})\n",
    "\n",
    "# Save the DataFrame to a CSV file\n",
    "Month12_df.to_csv('Month 12.csv', index=False)\n"
   ]
  },
  {
   "cell_type": "markdown",
   "metadata": {
    "slideshow": {
     "slide_type": "slide"
    }
   },
   "source": [
    "## CALL LIST"
   ]
  },
  {
   "cell_type": "markdown",
   "metadata": {},
   "source": [
    "week_20 Call"
   ]
  },
  {
   "cell_type": "code",
   "execution_count": 29,
   "metadata": {},
   "outputs": [],
   "source": [
    "# Specify the fields you want to extract\n",
    "con_uss = project.export_records(forms=['consent','ultrasound_scan'])\n",
    "con_uss=pd.DataFrame(con_uss)\n",
    "\n",
    "# Specify the fields you want to extract\n",
    "df_data_uss=con_uss[['con_participantid_q1', 'con_participant_eden_num_q11', 'ultsc_date', 'ga_weeks','ga_days','con_cluster_q12','redcap_event_name']]\n",
    "df_data_uss=pd.DataFrame(df_data_uss)\n",
    "df_data_uss = df_data_uss[\n",
    "    (df_data_uss['redcap_event_name'] == 'recruitment_arm_1') &\n",
    "    (df_data_uss['ultsc_date'].notnull()) &\n",
    "    (pd.to_numeric(df_data_uss['ga_weeks']) <= 20)\n",
    "]\n"
   ]
  },
  {
   "cell_type": "code",
   "execution_count": 30,
   "metadata": {},
   "outputs": [],
   "source": [
    "## EXCLUDE ALL WITHDRAWALS FROM THE DATA\n",
    "#Read from the ones that complete withdrawals: \"Withdrawals.csv\"\n",
    "df_withdrawals = pd.read_csv('Withdrawals.csv')\n",
    "\n",
    "# Merge the dataframes on 'participant_id'\n",
    "con_merged_df = pd.merge(df_data_uss, df_withdrawals, on= 'con_participantid_q1', how='inner')\n",
    "\n",
    "# Filter out the common participant IDs\n",
    "df_data_uss= df_data_uss[~df_data_uss['con_participantid_q1'].isin(con_merged_df['con_participantid_q1'])]"
   ]
  },
  {
   "cell_type": "code",
   "execution_count": 31,
   "metadata": {},
   "outputs": [],
   "source": [
    "## EXCLUDE ALL DELIVERIES FROM THE DATA\n",
    "#Read from the ones that complete withdrawals: \"Delivery.csv\"\n",
    "df_delivery = pd.read_csv('Delivery.csv')\n",
    "\n",
    "# Merge the dataframes on 'participant_id'\n",
    "del_merged_df = pd.merge(df_data_uss, df_delivery, on= 'con_participantid_q1', how='inner')\n",
    "\n",
    "# Filter out the common participant IDs\n",
    "df_data_uss= df_data_uss[~df_data_uss['con_participantid_q1'].isin(del_merged_df['con_participantid_q1'])]"
   ]
  },
  {
   "cell_type": "code",
   "execution_count": 32,
   "metadata": {},
   "outputs": [],
   "source": [
    "# Convert 'ga_weeks' and 'ga_days' columns to numeric type\n",
    "df_data_uss['ga_weeks'] = pd.to_numeric(df_data_uss['ga_weeks'], errors='coerce')\n",
    "df_data_uss['ga_days'] = pd.to_numeric(df_data_uss['ga_days'], errors='coerce')\n",
    "\n",
    "# Calculate today's date\n",
    "today = pd.Timestamp.today()\n",
    "\n",
    "# Extract the required columns from the DataFrame\n",
    "participant_id = df_data_uss['con_participantid_q1']\n",
    "uss_date = pd.to_datetime(df_data_uss['ultsc_date'])\n",
    "Ga_weeks = df_data_uss['ga_weeks']\n",
    "Ga_days = df_data_uss['ga_days']\n",
    "eden_num = df_data_uss['con_participant_eden_num_q11']\n",
    "\n",
    "# Calculate the total gestational age in days\n",
    "total_ga_days = (Ga_weeks * 7) + Ga_days\n",
    "\n",
    "# Calculate the estimated due date (EDD)\n",
    "edd = uss_date + pd.to_timedelta(280 - total_ga_days, unit='days')\n",
    "\n",
    "# Calculate the current gestational age\n",
    "days_diff = (today - uss_date).dt.days\n",
    "current_ga = (days_diff + total_ga_days) / 7\n",
    "\n",
    "# Calculate the due dates\n",
    "due_date = uss_date + pd.to_timedelta(133 - (total_ga_days), unit='days')\n",
    "last_date = uss_date + pd.to_timedelta(147 - (total_ga_days), unit='days')\n",
    "visit = 'Week 20'\n",
    "event = df_data_uss['redcap_event_name']\n",
    "cluster = df_data_uss['con_cluster_q12']\n"
   ]
  },
  {
   "cell_type": "code",
   "execution_count": 33,
   "metadata": {},
   "outputs": [],
   "source": [
    "## This data frame is mainted to put together the data and maintain the variable name 'con_participantid_q1' for easy exclusion of participants who completed the wk20.\n",
    "\n",
    "\n",
    "wk20_df = pd.DataFrame({\n",
    "    'con_participantid_q1': participant_id,\n",
    "    'Cluster': cluster,\n",
    "    'USS Date': uss_date,\n",
    "    'EDEN | Infant Number': eden_num,\n",
    "    'Gestational Age (Weeks)': Ga_weeks,\n",
    "    'Gestational Age (Days)': Ga_days,\n",
    "    '(Expected)Delivery Date ((E)DD)': edd,\n",
    "    'Current Gestational Age': current_ga,\n",
    "    'Due Date': due_date,\n",
    "    'Last Date': last_date,\n",
    "    'Visit': visit\n",
    "})\n",
    "\n"
   ]
  },
  {
   "cell_type": "code",
   "execution_count": 34,
   "metadata": {},
   "outputs": [],
   "source": [
    "## ALL DATA THAT ARE IN THE WEEK 20.CSV EXCLUDED\n",
    "#Read from the ones that complete week 20: \"Week 20.csv\"\n",
    "wk20_uss = pd.read_csv('Week 20.csv')\n",
    "\n",
    "# Merge the dataframes on 'participant_id'\n",
    "wk20_merged_df = pd.merge(df_data_uss, wk20_uss, on= 'con_participantid_q1', how='inner')\n",
    "\n",
    "# Filter out the common participant IDs\n",
    "wk20_df = wk20_df[~df_data_uss['con_participantid_q1'].isin(wk20_merged_df['con_participantid_q1'])]"
   ]
  },
  {
   "cell_type": "markdown",
   "metadata": {},
   "source": [
    "wk_28 call"
   ]
  },
  {
   "cell_type": "code",
   "execution_count": 35,
   "metadata": {},
   "outputs": [],
   "source": [
    "#week 28 data\n",
    "# Convert 'ga_weeks' and 'ga_days' columns to numeric type\n",
    "df_data_uss['ga_weeks'] = pd.to_numeric(df_data_uss['ga_weeks'], errors='coerce')\n",
    "df_data_uss['ga_days'] = pd.to_numeric(df_data_uss['ga_days'], errors='coerce')\n",
    "\n",
    "# Calculate today's date\n",
    "today = pd.Timestamp.today()\n",
    "\n",
    "# Extract the required columns from the DataFrame\n",
    "participant_id = df_data_uss['con_participantid_q1']\n",
    "uss_date = pd.to_datetime(df_data_uss['ultsc_date'])\n",
    "Ga_weeks = df_data_uss['ga_weeks']\n",
    "Ga_days = df_data_uss['ga_days']\n",
    "eden_num = df_data_uss['con_participant_eden_num_q11']\n",
    "\n",
    "\n",
    "# Calculate the total gestational age in days\n",
    "total_ga_days = (Ga_weeks * 7) + Ga_days\n",
    "\n",
    "# Calculate the estimated due date (EDD)\n",
    "edd = uss_date + pd.to_timedelta(280 - total_ga_days, unit='days')\n",
    "\n",
    "# Calculate the current gestational age\n",
    "days_diff = (today - uss_date).dt.days\n",
    "current_ga = (days_diff + total_ga_days) / 7\n",
    "\n",
    "# Calculate the due dates\n",
    "due_date = uss_date + pd.to_timedelta(189 - (total_ga_days), unit='days')\n",
    "last_date = uss_date + pd.to_timedelta(203 - (total_ga_days), unit='days')\n",
    "visit = 'Week 28'\n",
    "event = df_data_uss['redcap_event_name']\n",
    "cluster = df_data_uss['con_cluster_q12']\n"
   ]
  },
  {
   "cell_type": "code",
   "execution_count": 36,
   "metadata": {},
   "outputs": [],
   "source": [
    "wk28_df = pd.DataFrame({\n",
    "    'con_participantid_q1': participant_id,\n",
    "    'Cluster': cluster,\n",
    "    'USS Date': uss_date,\n",
    "    'EDEN | Infant Number': eden_num,\n",
    "    'Gestational Age (Weeks)': Ga_weeks,\n",
    "    'Gestational Age (Days)': Ga_days,\n",
    "    '(Expected)Delivery Date ((E)DD)': edd,\n",
    "    'Current Gestational Age': current_ga,\n",
    "    'Due Date': due_date,\n",
    "    'Last Date': last_date,\n",
    "    'Visit': visit\n",
    "})"
   ]
  },
  {
   "cell_type": "code",
   "execution_count": 37,
   "metadata": {},
   "outputs": [],
   "source": [
    "## ALL DATA THAT ARE IN THE WEEK 28.CSV EXCLUDED\n",
    "#Read from the ones that complete week 28: \"Week 28.csv\"\n",
    "wk28_uss = pd.read_csv('Week 28.csv')\n",
    "\n",
    "# Merge the dataframes on 'participant_id'\n",
    "wk28_merged_df = pd.merge(wk28_df, wk28_uss, on= 'con_participantid_q1', how='inner')\n",
    "\n",
    "# Filter out the common participant IDs\n",
    "wk28_df = wk28_df[~wk28_df['con_participantid_q1'].isin(wk28_merged_df['con_participantid_q1'])]\n"
   ]
  },
  {
   "cell_type": "markdown",
   "metadata": {},
   "source": [
    "wk_36 call"
   ]
  },
  {
   "cell_type": "code",
   "execution_count": 38,
   "metadata": {},
   "outputs": [],
   "source": [
    "#week 36 data\n",
    "\n",
    "# Convert 'ga_weeks' and 'ga_days' columns to numeric type\n",
    "df_data_uss['ga_weeks'] = pd.to_numeric(df_data_uss['ga_weeks'], errors='coerce')\n",
    "df_data_uss['ga_days'] = pd.to_numeric(df_data_uss['ga_days'], errors='coerce')\n",
    "\n",
    "# Calculate today's date\n",
    "today = pd.Timestamp.today()\n",
    "\n",
    "# Extract the required columns from the DataFrame\n",
    "participant_id = df_data_uss['con_participantid_q1']\n",
    "uss_date = pd.to_datetime(df_data_uss['ultsc_date'])\n",
    "Ga_weeks = df_data_uss['ga_weeks']\n",
    "Ga_days = df_data_uss['ga_days']\n",
    "eden_num = df_data_uss['con_participant_eden_num_q11']\n",
    "\n",
    "\n",
    "# Calculate the total gestational age in days\n",
    "total_ga_days = (Ga_weeks * 7) + Ga_days\n",
    "\n",
    "# Calculate the estimated due date (EDD)\n",
    "edd = uss_date + pd.to_timedelta(280 - total_ga_days, unit='days')\n",
    "\n",
    "# Calculate the current gestational age\n",
    "days_diff = (today - uss_date).dt.days\n",
    "current_ga = (days_diff + total_ga_days) / 7\n",
    "\n",
    "# Calculate the due dates\n",
    "due_date = uss_date + pd.to_timedelta(245 - (total_ga_days), unit='days')\n",
    "last_date = uss_date + pd.to_timedelta(259 - (total_ga_days), unit='days')\n",
    "visit = 'Week 36'\n",
    "event = df_data_uss['redcap_event_name']\n",
    "cluster = df_data_uss['con_cluster_q12']\n"
   ]
  },
  {
   "cell_type": "code",
   "execution_count": 39,
   "metadata": {},
   "outputs": [],
   "source": [
    "wk36_df = pd.DataFrame({\n",
    "     'con_participantid_q1': participant_id,\n",
    "    'Cluster': cluster,\n",
    "    'USS Date': uss_date,\n",
    "    'EDEN | Infant Number': eden_num,\n",
    "    'Gestational Age (Weeks)': Ga_weeks,\n",
    "    'Gestational Age (Days)': Ga_days,\n",
    "    '(Expected)Delivery Date ((E)DD)': edd,\n",
    "    'Current Gestational Age': current_ga,\n",
    "    'Due Date': due_date,\n",
    "    'Last Date': last_date,\n",
    "    'Visit': visit\n",
    "    \n",
    "})"
   ]
  },
  {
   "cell_type": "code",
   "execution_count": 40,
   "metadata": {},
   "outputs": [],
   "source": [
    "## ALL DATA THAT ARE IN THE WEEK 36.CSV EXCLUDED\n",
    "#Read from the ones that complete week 36: \"Week 36.csv\"\n",
    "df_wk36_uss = pd.read_csv('Week 36.csv')\n",
    "\n",
    "# Merge the dataframes on 'participant_id'\n",
    "wk36_merged_df = pd.merge(wk36_df, df_wk36_uss, on= 'con_participantid_q1', how='inner')\n",
    "\n",
    "# Filter out the common participant IDs\n",
    "wk36_df = wk36_df[~wk36_df['con_participantid_q1'].isin(wk36_merged_df['con_participantid_q1'])]\n"
   ]
  },
  {
   "cell_type": "markdown",
   "metadata": {},
   "source": [
    "### POST PARTUM CALL"
   ]
  },
  {
   "cell_type": "markdown",
   "metadata": {},
   "source": [
    "Infant-mother pair dataframe"
   ]
  },
  {
   "cell_type": "code",
   "execution_count": 41,
   "metadata": {},
   "outputs": [],
   "source": [
    "\n",
    "#extract neonate screening and infant ID\n",
    "Neonate = project.export_records(forms=['infantid','neonate_screening'])\n",
    "Neonate=pd.DataFrame(Neonate)\n",
    "\n",
    "\n",
    "neonate_data = Neonate[['con_participantid_q1','infantid','neo_vdate' ,'redcap_event_name']]\n",
    "neonate_data=pd.DataFrame(neonate_data)\n",
    "neonate_data = neonate_data[\n",
    "    (neonate_data['redcap_event_name'] == 'baby_check_arm_2') &\n",
    "    ((neonate_data['neo_vdate'].notnull()))\n",
    "]\n",
    "\n",
    "\n",
    "#merge infant_data to delivery_data base on participant ID\n",
    "neonate_mother = df_delv.merge (neonate_data, on='con_participantid_q1', how='inner')\n",
    "\n",
    "\n",
    "#return the these variables base on the participant Id they have in common\n",
    "neonate_mother = neonate_mother[['con_participantid_q1','del_ddate_q7','infantid']]\n"
   ]
  },
  {
   "cell_type": "code",
   "execution_count": 42,
   "metadata": {},
   "outputs": [],
   "source": [
    "##Exclude all withdrawals from the delivery data.\n",
    "#Read from the ones that complete withdrawals: \"Withdrawals.csv\"\n",
    "df_withdrawals = pd.read_csv('Withdrawals.csv')\n",
    "\n",
    "# Merge the dataframes on 'participant_id'\n",
    "delv_merged_df = pd.merge(neonate_mother, df_withdrawals, on= 'con_participantid_q1', how='inner')\n",
    "\n",
    "# Filter out the common participant IDs\n",
    "neonate_mother= neonate_mother[~neonate_mother['con_participantid_q1'].isin(delv_merged_df['con_participantid_q1'])]"
   ]
  },
  {
   "cell_type": "markdown",
   "metadata": {},
   "source": [
    "Month 1 call"
   ]
  },
  {
   "cell_type": "code",
   "execution_count": 43,
   "metadata": {},
   "outputs": [],
   "source": [
    "neonate_mother = pd.DataFrame(neonate_mother)\n",
    "\n",
    "#convert del_ddate_q7 to datetime\n",
    "neonate_mother['del_ddate_q7'] = pd.to_datetime(neonate_mother['del_ddate_q7'])\n",
    "\n",
    "#Due date and last due date calculation\n",
    "neonate_mother['due_date'] = neonate_mother['del_ddate_q7'] + pd.DateOffset(months= 1)\n",
    "neonate_mother['last_date'] = neonate_mother['del_ddate_q7'] + pd.DateOffset(months= 1, days=7)\n",
    "\n",
    "#month 1 data frame\n",
    "month1_df = pd.DataFrame({\n",
    "    'con_participantid_q1': neonate_mother['con_participantid_q1'],\n",
    "    '(Expected)Delivery Date ((E)DD)': pd.to_datetime(neonate_mother['del_ddate_q7']),\n",
    "    'EDEN | Infant Number':  neonate_mother['infantid'],\n",
    "    'Due Date': neonate_mother['due_date'],\n",
    "    'Last Date': neonate_mother['last_date'],\n",
    "    'Visit': 'Month 1'\n",
    "})\n"
   ]
  },
  {
   "cell_type": "code",
   "execution_count": 44,
   "metadata": {},
   "outputs": [],
   "source": [
    "## ALL DATA THAT ARE IN THE WEEK MONTH 1.csv EXCLUDED\n",
    "#Read from the ones that complete month 1: \"Month 1.csv\"\n",
    "month1 = pd.read_csv('Month 1.csv')\n",
    "\n",
    "# Merge the dataframes on 'participant_id'\n",
    "m1_merged_df = pd.merge(month1_df, month1, on= 'con_participantid_q1', how='inner')\n",
    "\n",
    "# Filter out the common participant IDs\n",
    "month1_df = month1_df[~month1_df['con_participantid_q1'].isin(m1_merged_df['con_participantid_q1'])]\n",
    "\n"
   ]
  },
  {
   "cell_type": "markdown",
   "metadata": {},
   "source": [
    "Month 2 call"
   ]
  },
  {
   "cell_type": "code",
   "execution_count": 45,
   "metadata": {},
   "outputs": [],
   "source": [
    "neonate_mother = pd.DataFrame(neonate_mother)\n",
    "\n",
    "#convert del_ddate_q7 to datetime\n",
    "neonate_mother['del_ddate_q7'] = pd.to_datetime(neonate_mother['del_ddate_q7'])\n",
    "\n",
    "#Due date and last due date calculation\n",
    "neonate_mother['due_date'] = neonate_mother['del_ddate_q7'] + pd.DateOffset(months= 2)\n",
    "neonate_mother['last_date'] = neonate_mother['del_ddate_q7'] + pd.DateOffset(months= 2, days=7)\n",
    "\n",
    "#month 1 data frame\n",
    "month2_df = pd.DataFrame({\n",
    "    'con_participantid_q1': neonate_mother['con_participantid_q1'],\n",
    "    '(Expected)Delivery Date ((E)DD)': pd.to_datetime(neonate_mother['del_ddate_q7']),\n",
    "    'EDEN | Infant Number':  neonate_mother['infantid'],\n",
    "    'Due Date': neonate_mother['due_date'],\n",
    "    'Last Date': neonate_mother['last_date'],\n",
    "    'Visit': 'Month 2'\n",
    "})\n"
   ]
  },
  {
   "cell_type": "code",
   "execution_count": 46,
   "metadata": {},
   "outputs": [],
   "source": [
    "## ALL DATA THAT ARE IN THE WEEK MONTH 2.csv EXCLUDED\n",
    "#Read from the ones that complete month 2: \"Month 2.csv\"\n",
    "month2 = pd.read_csv('Month 2.csv')\n",
    "\n",
    "# Merge the dataframes on 'participant_id'\n",
    "m2_merged_df = pd.merge(month2_df, month2, on= 'con_participantid_q1', how='inner')\n",
    "\n",
    "# Filter out the common participant IDs\n",
    "month2_df = month2_df[~month2_df['con_participantid_q1'].isin(m2_merged_df['con_participantid_q1'])]\n",
    "\n"
   ]
  },
  {
   "cell_type": "markdown",
   "metadata": {},
   "source": [
    "Month 3 call"
   ]
  },
  {
   "cell_type": "code",
   "execution_count": 47,
   "metadata": {},
   "outputs": [],
   "source": [
    "neonate_mother = pd.DataFrame(neonate_mother)\n",
    "\n",
    "#convert del_ddate_q7 to datetime\n",
    "neonate_mother['del_ddate_q7'] = pd.to_datetime(neonate_mother['del_ddate_q7'])\n",
    "\n",
    "#Due date and last due date calculation\n",
    "neonate_mother['due_date'] = neonate_mother['del_ddate_q7'] + pd.DateOffset(months= 3)\n",
    "neonate_mother['last_date'] = neonate_mother['del_ddate_q7'] + pd.DateOffset(months= 3, days=7)\n",
    "\n",
    "#month 1 data frame\n",
    "month3_df = pd.DataFrame({\n",
    "    'con_participantid_q1': neonate_mother['con_participantid_q1'],\n",
    "    '(Expected)Delivery Date ((E)DD)': pd.to_datetime(neonate_mother['del_ddate_q7']),\n",
    "    'EDEN | Infant Number':  neonate_mother['infantid'],\n",
    "    'Due Date': neonate_mother['due_date'],\n",
    "    'Last Date': neonate_mother['last_date'],\n",
    "    'Visit': 'Month 3'\n",
    "})\n"
   ]
  },
  {
   "cell_type": "code",
   "execution_count": 48,
   "metadata": {},
   "outputs": [],
   "source": [
    "## ALL DATA THAT ARE IN THE WEEK MONTH 3.csv EXCLUDED\n",
    "#Read from the ones that complete month 3: \"Month 3.csv\"\n",
    "month3 = pd.read_csv('Month 3.csv')\n",
    "\n",
    "# Merge the dataframes on 'participant_id'\n",
    "m3_merged_df = pd.merge(month3_df, month3, on= 'con_participantid_q1', how='inner')\n",
    "\n",
    "# Filter out the common participant IDs\n",
    "month3_df = month3_df[~month3_df['con_participantid_q1'].isin(m3_merged_df['con_participantid_q1'])]\n",
    "\n"
   ]
  },
  {
   "cell_type": "markdown",
   "metadata": {},
   "source": [
    "Month 4 call"
   ]
  },
  {
   "cell_type": "code",
   "execution_count": 49,
   "metadata": {},
   "outputs": [],
   "source": [
    "neonate_mother = pd.DataFrame(neonate_mother)\n",
    "\n",
    "#convert del_ddate_q7 to datetime\n",
    "neonate_mother['del_ddate_q7'] = pd.to_datetime(neonate_mother['del_ddate_q7'])\n",
    "\n",
    "#Due date and last due date calculation\n",
    "neonate_mother['due_date'] = neonate_mother['del_ddate_q7'] + pd.DateOffset(months=4)\n",
    "neonate_mother['last_date'] = neonate_mother['del_ddate_q7'] + pd.DateOffset(months=4, days=7)\n",
    "\n",
    "#month 4 data frame\n",
    "month4_df = pd.DataFrame({\n",
    "    'con_participantid_q1': neonate_mother['con_participantid_q1'],\n",
    "    '(Expected)Delivery Date ((E)DD)': pd.to_datetime(neonate_mother['del_ddate_q7']),\n",
    "    'EDEN | Infant Number':  neonate_mother['infantid'],\n",
    "    'Due Date': neonate_mother['due_date'],\n",
    "    'Last Date': neonate_mother['last_date'],\n",
    "    'Visit': 'Month 4'\n",
    "})"
   ]
  },
  {
   "cell_type": "code",
   "execution_count": 50,
   "metadata": {},
   "outputs": [],
   "source": [
    "## ALL DATA THAT ARE IN THE WEEK MONTH 4.csv EXCLUDED\n",
    "#Read from the ones that complete month 4: \"Month 3.csv\"\n",
    "month4 = pd.read_csv('Month 4.csv')\n",
    "\n",
    "# Merge the dataframes on 'participant_id'\n",
    "m4_merged_df = pd.merge(month4_df, month4, on= 'con_participantid_q1', how='inner')\n",
    "\n",
    "# Filter out the common participant IDs\n",
    "month4_df = month4_df[~month4_df['con_participantid_q1'].isin(m4_merged_df['con_participantid_q1'])]\n",
    "\n"
   ]
  },
  {
   "cell_type": "markdown",
   "metadata": {},
   "source": [
    "Month 5 call"
   ]
  },
  {
   "cell_type": "code",
   "execution_count": 51,
   "metadata": {},
   "outputs": [],
   "source": [
    "neonate_mother = pd.DataFrame(neonate_mother)\n",
    "\n",
    "#convert del_ddate_q7 to datetime\n",
    "neonate_mother['del_ddate_q7'] = pd.to_datetime(neonate_mother['del_ddate_q7'])\n",
    "\n",
    "#Due date and last due date calculation\n",
    "neonate_mother['due_date'] = neonate_mother['del_ddate_q7'] + pd.DateOffset(months=5)\n",
    "neonate_mother['last_date'] = neonate_mother['del_ddate_q7'] + pd.DateOffset(months=5, days=7)\n",
    "\n",
    "#month 5 data frame\n",
    "month5_df = pd.DataFrame({\n",
    "    'con_participantid_q1': neonate_mother['con_participantid_q1'],\n",
    "    '(Expected)Delivery Date ((E)DD)': pd.to_datetime(neonate_mother['del_ddate_q7']),\n",
    "    'EDEN | Infant Number':  neonate_mother['infantid'],\n",
    "    'Due Date': neonate_mother['due_date'],\n",
    "    'Last Date': neonate_mother['last_date'],\n",
    "    'Visit': 'Month 5'\n",
    "})"
   ]
  },
  {
   "cell_type": "code",
   "execution_count": 52,
   "metadata": {},
   "outputs": [],
   "source": [
    "## ALL DATA THAT ARE IN THE WEEK MONTH 5.csv EXCLUDED\n",
    "#Read from the ones that complete month 5: \"Month 5.csv\"\n",
    "month5 = pd.read_csv('Month 5.csv')\n",
    "\n",
    "# Merge the dataframes on 'participant_id'\n",
    "m5_merged_df = pd.merge(month5_df, month5, on= 'con_participantid_q1', how='inner')\n",
    "\n",
    "# Filter out the common participant IDs\n",
    "month5_df = month5_df[~month5_df['con_participantid_q1'].isin(m5_merged_df['con_participantid_q1'])]\n",
    "\n"
   ]
  },
  {
   "cell_type": "markdown",
   "metadata": {},
   "source": [
    "Month 6 call"
   ]
  },
  {
   "cell_type": "code",
   "execution_count": 53,
   "metadata": {},
   "outputs": [],
   "source": [
    "neonate_mother = pd.DataFrame(neonate_mother)\n",
    "\n",
    "#convert del_ddate_q7 to datetime\n",
    "neonate_mother['del_ddate_q7'] = pd.to_datetime(neonate_mother['del_ddate_q7'])\n",
    "\n",
    "#Due date and last due date calculation\n",
    "neonate_mother['due_date'] = neonate_mother['del_ddate_q7'] + pd.DateOffset(months=6)\n",
    "neonate_mother['last_date'] = neonate_mother['del_ddate_q7'] + pd.DateOffset(months=6, days=7)\n",
    "\n",
    "#month 6 data frame\n",
    "month6_df = pd.DataFrame({\n",
    "    'con_participantid_q1': neonate_mother['con_participantid_q1'],\n",
    "    '(Expected)Delivery Date ((E)DD)': pd.to_datetime(neonate_mother['del_ddate_q7']),\n",
    "    'EDEN | Infant Number':  neonate_mother['infantid'],\n",
    "    'Due Date': neonate_mother['due_date'],\n",
    "    'Last Date': neonate_mother['last_date'],\n",
    "    'Visit': 'Month 6'\n",
    "})"
   ]
  },
  {
   "cell_type": "code",
   "execution_count": 54,
   "metadata": {},
   "outputs": [],
   "source": [
    "## ALL DATA THAT ARE IN THE WEEK MONTH 6.csv EXCLUDED\n",
    "#Read from the ones that complete month 6: \"Month 6.csv\"\n",
    "month6 = pd.read_csv('Month 6.csv')\n",
    "\n",
    "# Merge the dataframes on 'participant_id'\n",
    "m6_merged_df = pd.merge(month6_df, month6, on= 'con_participantid_q1', how='inner')\n",
    "\n",
    "# Filter out the common participant IDs\n",
    "month6_df = month6_df[~month6_df['con_participantid_q1'].isin(m6_merged_df['con_participantid_q1'])]\n",
    "\n"
   ]
  },
  {
   "cell_type": "markdown",
   "metadata": {},
   "source": [
    "Month 7 call"
   ]
  },
  {
   "cell_type": "code",
   "execution_count": 55,
   "metadata": {},
   "outputs": [],
   "source": [
    "neonate_mother = pd.DataFrame(neonate_mother)\n",
    "\n",
    "#convert del_ddate_q7 to datetime\n",
    "neonate_mother['del_ddate_q7'] = pd.to_datetime(neonate_mother['del_ddate_q7'])\n",
    "\n",
    "#Due date and last due date calculation\n",
    "neonate_mother['due_date'] = neonate_mother['del_ddate_q7'] + pd.DateOffset(months=7)\n",
    "neonate_mother['last_date'] = neonate_mother['del_ddate_q7'] + pd.DateOffset(months=7, days=7)\n",
    "\n",
    "#month 7 data frame\n",
    "month7_df = pd.DataFrame({\n",
    "    'con_participantid_q1': neonate_mother['con_participantid_q1'],\n",
    "    '(Expected)Delivery Date ((E)DD)': pd.to_datetime(neonate_mother['del_ddate_q7']),\n",
    "    'EDEN | Infant Number':  neonate_mother['infantid'],\n",
    "    'Due Date': neonate_mother['due_date'],\n",
    "    'Last Date': neonate_mother['last_date'],\n",
    "    'Visit': 'Month 7'\n",
    "})"
   ]
  },
  {
   "cell_type": "code",
   "execution_count": 56,
   "metadata": {},
   "outputs": [],
   "source": [
    "## ALL DATA THAT ARE IN THE WEEK MONTH 7.csv EXCLUDED\n",
    "#Read from the ones that complete month 7: \"Month 7.csv\"\n",
    "month7 = pd.read_csv('Month 7.csv')\n",
    "\n",
    "# Merge the dataframes on 'participant_id'\n",
    "m7_merged_df = pd.merge(month7_df, month7, on= 'con_participantid_q1', how='inner')\n",
    "\n",
    "# Filter out the common participant IDs\n",
    "month7_df = month7_df[~month7_df['con_participantid_q1'].isin(m7_merged_df['con_participantid_q1'])]\n",
    "\n"
   ]
  },
  {
   "cell_type": "markdown",
   "metadata": {},
   "source": [
    "Month 8 call"
   ]
  },
  {
   "cell_type": "code",
   "execution_count": 57,
   "metadata": {},
   "outputs": [],
   "source": [
    "neonate_mother = pd.DataFrame(neonate_mother)\n",
    "\n",
    "#convert del_ddate_q7 to datetime\n",
    "neonate_mother['del_ddate_q7'] = pd.to_datetime(neonate_mother['del_ddate_q7'])\n",
    "\n",
    "#Due date and last due date calculation\n",
    "neonate_mother['due_date'] = neonate_mother['del_ddate_q7'] + pd.DateOffset(months=8)\n",
    "neonate_mother['last_date'] = neonate_mother['del_ddate_q7'] + pd.DateOffset(months=8, days=7)\n",
    "\n",
    "#month 8 data frame\n",
    "month8_df = pd.DataFrame({\n",
    "    'con_participantid_q1': neonate_mother['con_participantid_q1'],\n",
    "    '(Expected)Delivery Date ((E)DD)': pd.to_datetime(neonate_mother['del_ddate_q7']),\n",
    "    'EDEN | Infant Number':  neonate_mother['infantid'],\n",
    "    'Due Date': neonate_mother['due_date'],\n",
    "    'Last Date': neonate_mother['last_date'],\n",
    "    'Visit': 'Month 8'\n",
    "})"
   ]
  },
  {
   "cell_type": "code",
   "execution_count": 58,
   "metadata": {},
   "outputs": [],
   "source": [
    "## ALL DATA THAT ARE IN THE WEEK MONTH 8.csv EXCLUDED\n",
    "#Read from the ones that complete month 8: \"Month 8.csv\"\n",
    "month8 = pd.read_csv('Month 8.csv')\n",
    "\n",
    "# Merge the dataframes on 'participant_id'\n",
    "m8_merged_df = pd.merge(month8_df, month8, on= 'con_participantid_q1', how='inner')\n",
    "\n",
    "# Filter out the common participant IDs\n",
    "month8_df = month8_df[~month8_df['con_participantid_q1'].isin(m8_merged_df['con_participantid_q1'])]\n",
    "\n"
   ]
  },
  {
   "cell_type": "markdown",
   "metadata": {},
   "source": [
    "Month 9 call"
   ]
  },
  {
   "cell_type": "code",
   "execution_count": 59,
   "metadata": {},
   "outputs": [],
   "source": [
    "neonate_mother = pd.DataFrame(neonate_mother)\n",
    "\n",
    "#convert del_ddate_q7 to datetime\n",
    "neonate_mother['del_ddate_q7'] = pd.to_datetime(neonate_mother['del_ddate_q7'])\n",
    "\n",
    "#Due date and last due date calculation\n",
    "neonate_mother['due_date'] = neonate_mother['del_ddate_q7'] + pd.DateOffset(months=9)\n",
    "neonate_mother['last_date'] = neonate_mother['del_ddate_q7'] + pd.DateOffset(months=9, days=7)\n",
    "\n",
    "#month 9 data frame\n",
    "month9_df = pd.DataFrame({\n",
    "    'con_participantid_q1': neonate_mother['con_participantid_q1'],\n",
    "    '(Expected)Delivery Date ((E)DD)': pd.to_datetime(neonate_mother['del_ddate_q7']),\n",
    "    'EDEN | Infant Number':  neonate_mother['infantid'],\n",
    "    'Due Date': neonate_mother['due_date'],\n",
    "    'Last Date': neonate_mother['last_date'],\n",
    "    'Visit': 'Month 9'\n",
    "})"
   ]
  },
  {
   "cell_type": "code",
   "execution_count": 60,
   "metadata": {},
   "outputs": [],
   "source": [
    "## ALL DATA THAT ARE IN THE WEEK MONTH 9.csv EXCLUDED\n",
    "#Read from the ones that complete month 9: \"Month 9.csv\"\n",
    "month9 = pd.read_csv('Month 9.csv')\n",
    "\n",
    "# Merge the dataframes on 'participant_id'\n",
    "m9_merged_df = pd.merge(month9_df, month9, on= 'con_participantid_q1', how='inner')\n",
    "\n",
    "# Filter out the common participant IDs\n",
    "month9_df = month9_df[~month9_df['con_participantid_q1'].isin(m9_merged_df['con_participantid_q1'])]\n",
    "\n"
   ]
  },
  {
   "cell_type": "markdown",
   "metadata": {},
   "source": [
    "Month 10 call"
   ]
  },
  {
   "cell_type": "code",
   "execution_count": 61,
   "metadata": {},
   "outputs": [],
   "source": [
    "neonate_mother = pd.DataFrame(neonate_mother)\n",
    "\n",
    "#convert del_ddate_q7 to datetime\n",
    "neonate_mother['del_ddate_q7'] = pd.to_datetime(neonate_mother['del_ddate_q7'])\n",
    "\n",
    "#Due date and last due date calculation\n",
    "neonate_mother['due_date'] = neonate_mother['del_ddate_q7'] + pd.DateOffset(months=10)\n",
    "neonate_mother['last_date'] = neonate_mother['del_ddate_q7'] + pd.DateOffset(months=10, days=7)\n",
    "\n",
    "#month 10 data frame\n",
    "month10_df = pd.DataFrame({\n",
    "    'con_participantid_q1': neonate_mother['con_participantid_q1'],\n",
    "    '(Expected)Delivery Date ((E)DD)': pd.to_datetime(neonate_mother['del_ddate_q7']),\n",
    "    'EDEN | Infant Number':  neonate_mother['infantid'],\n",
    "    'Due Date': neonate_mother['due_date'],\n",
    "    'Last Date': neonate_mother['last_date'],\n",
    "    'Visit': 'Month 10'\n",
    "})"
   ]
  },
  {
   "cell_type": "code",
   "execution_count": 62,
   "metadata": {},
   "outputs": [],
   "source": [
    "## ALL DATA THAT ARE IN THE WEEK MONTH 10.csv EXCLUDED\n",
    "#Read from the ones that complete month 10: \"Month 10.csv\"\n",
    "month10 = pd.read_csv('Month 10.csv')\n",
    "\n",
    "# Merge the dataframes on 'participant_id'\n",
    "m10_merged_df = pd.merge(month10_df, month10, on= 'con_participantid_q1', how='inner')\n",
    "\n",
    "# Filter out the common participant IDs\n",
    "month10_df = month10_df[~month10_df['con_participantid_q1'].isin(m10_merged_df['con_participantid_q1'])]\n",
    "\n"
   ]
  },
  {
   "cell_type": "markdown",
   "metadata": {},
   "source": [
    "Month 11 call"
   ]
  },
  {
   "cell_type": "code",
   "execution_count": 63,
   "metadata": {},
   "outputs": [],
   "source": [
    "neonate_mother = pd.DataFrame(neonate_mother)\n",
    "\n",
    "#convert del_ddate_q7 to datetime\n",
    "neonate_mother['del_ddate_q7'] = pd.to_datetime(neonate_mother['del_ddate_q7'])\n",
    "\n",
    "#Due date and last due date calculation\n",
    "neonate_mother['due_date'] = neonate_mother['del_ddate_q7'] + pd.DateOffset(months=11)\n",
    "neonate_mother['last_date'] = neonate_mother['del_ddate_q7'] + pd.DateOffset(months=11, days=7)\n",
    "\n",
    "#month 11 data frame\n",
    "month11_df = pd.DataFrame({\n",
    "    'con_participantid_q1': neonate_mother['con_participantid_q1'],\n",
    "    '(Expected)Delivery Date ((E)DD)': pd.to_datetime(neonate_mother['del_ddate_q7']),\n",
    "    'EDEN | Infant Number':  neonate_mother['infantid'],\n",
    "    'Due Date': neonate_mother['due_date'],\n",
    "    'Last Date': neonate_mother['last_date'],\n",
    "    'Visit': 'Month 11'\n",
    "})"
   ]
  },
  {
   "cell_type": "code",
   "execution_count": 64,
   "metadata": {},
   "outputs": [],
   "source": [
    "## ALL DATA THAT ARE IN THE WEEK MONTH 11.csv EXCLUDED\n",
    "#Read from the ones that complete month 11: \"Month 11.csv\"\n",
    "month11 = pd.read_csv('Month 11.csv')\n",
    "\n",
    "# Merge the dataframes on 'participant_id'\n",
    "m11_merged_df = pd.merge(month11_df, month11, on= 'con_participantid_q1', how='inner')\n",
    "\n",
    "# Filter out the common participant IDs\n",
    "month11_df = month11_df[~month11_df['con_participantid_q1'].isin(m11_merged_df['con_participantid_q1'])]\n",
    "\n"
   ]
  },
  {
   "cell_type": "markdown",
   "metadata": {},
   "source": [
    "Month 12 call"
   ]
  },
  {
   "cell_type": "code",
   "execution_count": 65,
   "metadata": {},
   "outputs": [],
   "source": [
    "neonate_mother = pd.DataFrame(neonate_mother)\n",
    "\n",
    "#convert del_ddate_q7 to datetime\n",
    "neonate_mother['del_ddate_q7'] = pd.to_datetime(neonate_mother['del_ddate_q7'])\n",
    "\n",
    "#Due date and last due date calculation\n",
    "neonate_mother['due_date'] = neonate_mother['del_ddate_q7'] + pd.DateOffset(months=12)\n",
    "neonate_mother['last_date'] = neonate_mother['del_ddate_q7'] + pd.DateOffset(months=12, days=7)\n",
    "\n",
    "#month 12 data frame\n",
    "month12_df = pd.DataFrame({\n",
    "    'con_participantid_q1': neonate_mother['con_participantid_q1'],\n",
    "    '(Expected)Delivery Date ((E)DD)': pd.to_datetime(neonate_mother['del_ddate_q7']),\n",
    "    'EDEN | Infant Number':  neonate_mother['infantid'],\n",
    "    'Due Date': neonate_mother['due_date'],\n",
    "    'Last Date': neonate_mother['last_date'],\n",
    "    'Visit': 'Month 12'\n",
    "})"
   ]
  },
  {
   "cell_type": "code",
   "execution_count": 66,
   "metadata": {},
   "outputs": [],
   "source": [
    "## ALL DATA THAT ARE IN THE WEEK MONTH 12.csv EXCLUDED\n",
    "#Read from the ones that complete month 12: \"Month 12.csv\"\n",
    "month12 = pd.read_csv('Month 12.csv')\n",
    "\n",
    "# Merge the dataframes on 'participant_id'\n",
    "m12_merged_df = pd.merge(month12_df, month12, on= 'con_participantid_q1', how='inner')\n",
    "\n",
    "# Filter out the common participant IDs\n",
    "month12_df = month12_df[~month12_df['con_participantid_q1'].isin(m12_merged_df['con_participantid_q1'])]\n",
    "\n"
   ]
  },
  {
   "cell_type": "markdown",
   "metadata": {},
   "source": [
    "### FINAL COMPLETE CALL LIST"
   ]
  },
  {
   "cell_type": "code",
   "execution_count": 67,
   "metadata": {},
   "outputs": [],
   "source": [
    "# This holds all the due dates\n",
    "df_dueDates1=pd.concat([wk20_df, wk28_df,wk36_df,month1_df,month2_df,month3_df,month4_df,month5_df,month6_df,month7_df,month8_df,month9_df,month10_df,month11_df,month12_df], ignore_index= True)"
   ]
  },
  {
   "cell_type": "code",
   "execution_count": 68,
   "metadata": {},
   "outputs": [],
   "source": [
    "df_dueDates=pd.merge(df_dueDates1,sen_log_data,on='con_participantid_q1',how='left')"
   ]
  },
  {
   "cell_type": "code",
   "execution_count": 69,
   "metadata": {},
   "outputs": [],
   "source": [
    "#due date + sensitisation dataframe\n",
    "df_dueDates = pd.DataFrame({\n",
    "    'PARTICIPANT ID': df_dueDates['con_participantid_q1'],\n",
    "    'EDEN | INFANT ID':  df_dueDates['EDEN | Infant Number'],\n",
    "    'KIANG NUMBER':  df_dueDates['in_kiang_number'],\n",
    "    'NAME':  df_dueDates['in_name'],\n",
    "    'CURRENT GA': df_dueDates['Current Gestational Age'],\n",
    "    'VILLAGE': df_dueDates['in_village'],\n",
    "    'COMPOUND': df_dueDates['in_compound'],\n",
    "    'CONTACT1': df_dueDates['in_contact1'],\n",
    "    'CONTACT2': df_dueDates['in_contact2'],\n",
    "    'CONTACT3': df_dueDates['in_contact3'],\n",
    "    'CONTACT4': df_dueDates['in_contact4'],\n",
    "    'DUE DATE': df_dueDates['Due Date'],\n",
    "    'LAST DUE DATE': df_dueDates['Last Date'],\n",
    "    'Visit': df_dueDates['Visit']\n",
    "})"
   ]
  },
  {
   "cell_type": "code",
   "execution_count": 70,
   "metadata": {},
   "outputs": [],
   "source": [
    "\n",
    "# Get the current date\n",
    "current_date = datetime.date.today()\n",
    "\n",
    "# Find the next Monday\n",
    "next_monday = today + datetime.timedelta(days=(0 - current_date.weekday() + 7) % 7)\n",
    "\n",
    "# Convert target_due_date to a datetime object\n",
    "next_monday = pd.to_datetime(next_monday)\n",
    "\n",
    "# Calculate the target due date as the next Thursday\n",
    "target_due_date = next_monday + datetime.timedelta(days=3)\n",
    "\n",
    "# Convert target_due_date to a datetime object\n",
    "target_due_date = pd.to_datetime(target_due_date)\n",
    "\n",
    "df_callList = df_dueDates[df_dueDates['DUE DATE'] <= target_due_date]\n"
   ]
  },
  {
   "cell_type": "code",
   "execution_count": 71,
   "metadata": {},
   "outputs": [],
   "source": [
    "# Get today's date and time\n",
    "now = datetime.datetime.now()\n",
    "\n",
    "# Format the current date and time\n",
    "current_datetime = now.strftime('%Y%m%d_%H%M%S')\n",
    "\n",
    "# Create the filename with the current date and time\n",
    "filename = f'CallList_{current_datetime}.csv'\n",
    "\n",
    " #Save the filtered DataFrame to a CSV file\n",
    "df_callList.to_csv(filename, index=False)"
   ]
  }
 ],
 "metadata": {
  "kernelspec": {
   "display_name": "Python 3",
   "language": "python",
   "name": "python3"
  },
  "language_info": {
   "codemirror_mode": {
    "name": "ipython",
    "version": 3
   },
   "file_extension": ".py",
   "mimetype": "text/x-python",
   "name": "python",
   "nbconvert_exporter": "python",
   "pygments_lexer": "ipython3",
   "version": "3.7.9"
  }
 },
 "nbformat": 4,
 "nbformat_minor": 2
}
