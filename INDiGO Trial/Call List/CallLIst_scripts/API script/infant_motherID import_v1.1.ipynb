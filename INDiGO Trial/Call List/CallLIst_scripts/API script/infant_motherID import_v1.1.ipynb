{
 "cells": [
  {
   "cell_type": "code",
   "execution_count": 1,
   "metadata": {},
   "outputs": [],
   "source": [
    "from redcap import Project\n",
    "import pandas as pd\n",
    "\n",
    "#REDCap API configuration\n",
    "api_url = 'https://ruff.mrc.gm:8443/redcap/api/'\n",
    "api_key = 'D6807C091B1FC14F57CC9B2972D0B398'\n",
    "project = Project(api_url, api_key)"
   ]
  },
  {
   "cell_type": "code",
   "execution_count": 2,
   "metadata": {},
   "outputs": [],
   "source": [
    "\n",
    "#extract infant ID\n",
    "infant_id = project.export_records(forms=['infantid'])\n",
    "infant_id=pd.DataFrame(infant_id)\n",
    "\n",
    "\n",
    "infantID_data = infant_id[['con_participantid_q1','infantid','redcap_event_name']]\n",
    "infantID_data=pd.DataFrame(infantID_data)\n",
    "infantID_data = infantID_data[\n",
    "    (infantID_data['redcap_event_name'] == 'baby_check_arm_2') &\n",
    "    ((infantID_data['infantid'].notnull()))\n",
    "]\n",
    "\n",
    "infantID_data = pd.DataFrame(infantID_data)"
   ]
  },
  {
   "cell_type": "code",
   "execution_count": 3,
   "metadata": {},
   "outputs": [],
   "source": [
    "## ALL DATA THAT ARE IN THE WEEK 28.CSV EXCLUDED\n",
    "#Read from the ones that complete week 28: \"Week 28.csv\"\n",
    "#C:/User/yuceesay/OneDrive - London School of Hygiene and Tropical Medicine/Desktop/INDiGO Trial/Call List/CallLIst_scripts\n",
    "wk28_uss = pd.read_csv('Week 28.csv')\n",
    "\n",
    "# Merge wk28_uss to infantID_data on 'participant_id'\n",
    "wk28_infID_merge = pd.merge(wk28_uss, infantID_data, on= 'con_participantid_q1', how='inner')\n",
    "\n",
    "# Filter out the common participant IDs\n",
    "wk28_import = wk28_uss[~wk28_uss['con_participantid_q1'].isin(wk28_infID_merge['con_participantid_q1'])]\n"
   ]
  },
  {
   "cell_type": "code",
   "execution_count": 4,
   "metadata": {},
   "outputs": [],
   "source": [
    "##Exclude all withdrawals from wk28_import data.\n",
    "#Read from the ones that complete withdrawals: \"Withdrawals.csv\"\n",
    "df_withdrawals = pd.read_csv('Withdrawals.csv')\n",
    "\n",
    "# Merge the dataframes on 'participant_id'\n",
    "wk28_withd_merged = pd.merge(wk28_import, df_withdrawals, on= 'con_participantid_q1', how='inner')\n",
    "\n",
    "# Filter out the common participant IDs\n",
    "wk28_import= wk28_import[~wk28_import['con_participantid_q1'].isin(wk28_withd_merged['con_participantid_q1'])]"
   ]
  },
  {
   "cell_type": "code",
   "execution_count": 5,
   "metadata": {},
   "outputs": [],
   "source": [
    "##MERGE FINAL WK28_IMPORT DATA TO INDiGO_ID data\n",
    "indigo_id = pd.read_csv('INDiGO_ID.csv')\n",
    "wk28_id_merged = pd.merge(indigo_id,wk28_import,on='con_participantid_q1', how='inner')"
   ]
  },
  {
   "cell_type": "code",
   "execution_count": 6,
   "metadata": {},
   "outputs": [],
   "source": [
    "# week 28 uss scan data into a data frame\n",
    "arm2_id = pd.DataFrame({\n",
    "    'con_participantid_q1' : wk28_id_merged['con_participantid_q1'],\n",
    "    'infantid': wk28_id_merged['infantid'],\n",
    "    'infantid_complete': '2',\n",
    "    'redcap_event_name': 'baby_check_arm_2'\n",
    "})"
   ]
  },
  {
   "cell_type": "code",
   "execution_count": 7,
   "metadata": {},
   "outputs": [],
   "source": [
    "import datetime\n",
    "# Get today's date and time\n",
    "now = datetime.datetime.now()\n",
    "\n",
    "# Format the current date and time\n",
    "current_datetime = now.strftime('%Y%m%d_%H%M%S')\n",
    "\n",
    "# Create the filename with the current date and time\n",
    "filename = f'infantID_import_{current_datetime}.csv'\n",
    "\n",
    " #Save the filtered DataFrame to a CSV file\n",
    "arm2_id.to_csv(filename, index=False)"
   ]
  }
 ],
 "metadata": {
  "kernelspec": {
   "display_name": "Python 3",
   "language": "python",
   "name": "python3"
  },
  "language_info": {
   "codemirror_mode": {
    "name": "ipython",
    "version": 3
   },
   "file_extension": ".py",
   "mimetype": "text/x-python",
   "name": "python",
   "nbconvert_exporter": "python",
   "pygments_lexer": "ipython3",
   "version": "3.11.5"
  }
 },
 "nbformat": 4,
 "nbformat_minor": 2
}
