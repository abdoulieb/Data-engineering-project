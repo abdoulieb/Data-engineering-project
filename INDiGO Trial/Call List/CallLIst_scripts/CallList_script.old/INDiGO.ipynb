{
 "cells": [
  {
   "cell_type": "code",
   "execution_count": 2,
   "metadata": {},
   "outputs": [],
   "source": [
    "import redcap\n",
    "import csv\n",
    "import datetime\n",
    "import pandas as pd\n",
    "\n",
    "# # REDCap API endpoint and token\n",
    "# data = {\n",
    "#     'token': '744268EC805657595430964A3C0EC970',\n",
    "#     'content': 'project',\n",
    "#     'format': 'json',\n",
    "#     'returnFormat': 'json'\n",
    "# }\n",
    "# df= redcap.Project('https://ruff.mrc.gm:8443/redcap/api/',data['token'])\n",
    "\n",
    "# df_data=df.export_records()\n",
    "\n",
    "# df_data=pd.DataFrame(df_data)"
   ]
  },
  {
   "cell_type": "code",
   "execution_count": 3,
   "metadata": {},
   "outputs": [
    {
     "name": "stderr",
     "output_type": "stream",
     "text": [
      "c:\\Users\\yuceesay\\AppData\\Local\\Programs\\Python\\Python37\\lib\\site-packages\\IPython\\core\\interactiveshell.py:3553: DtypeWarning: Columns (16,73,78,108,110,119,157,159,176,194,202,205,206,222,224,228,232,235,236,243,258,272,286,287,288,291,293,294,312,349,350,352,353,362,363,365,366,369,371,377,378,380,381,383,388,389,396,398,399,401,402,443,444,446,447,482,484,489,493,502,513,514,515,520,521,523,525,528,529,531,533,535,540,544,545,549,550,555,557,558,563,565,566,573,574,579,580,581,603,637,641,653,658,662,663,668,671,674,678,681,685,689,706,708,709,712,715,718,721,722,724,725,732,734,735,797,813,814,978,979,982,1007,1013,1014,1016,1018,1019,1020,1023,1026,1027,1035,1037,1048,1051,1055,1056,1096,1097,1161,1162,1163,1164,1170,1171,1172,1173,1181,1182,1200,1201,1203,1206,1210,1214,1215,1216,1219,1220,1221,1232,1233,1234,1235,1236,1237,1238,1240,1242,1243,1244,1247,1248,1251,1254,1257,1258) have mixed types.Specify dtype option on import or set low_memory=False.\n",
      "  exec(code_obj, self.user_global_ns, self.user_ns)\n"
     ]
    }
   ],
   "source": [
    "#Read from a local downloaded csv file. \n",
    "df_data= pd.read_csv('redcap_data.csv')"
   ]
  },
  {
   "cell_type": "code",
   "execution_count": 4,
   "metadata": {},
   "outputs": [],
   "source": [
    "\n",
    "# Specify the fields you want to extract\n",
    "df_data_uss=df_data[['con_participantid_q1', 'con_participant_eden_num_q11', 'ultsc_date', 'ga_weeks','ga_days','con_cluster_q12','redcap_event_name']]\n",
    "df_data_uss=pd.DataFrame(df_data_uss)\n",
    "df_data_uss = df_data_uss[\n",
    "    (df_data_uss['redcap_event_name'] == 'recruitment_arm_1') &\n",
    "    (df_data_uss['ultsc_date'] != '') &\n",
    "    (pd.to_numeric(df_data_uss['ga_weeks']) <= 20)\n",
    "]\n",
    "\n",
    "       "
   ]
  },
  {
   "cell_type": "code",
   "execution_count": 5,
   "metadata": {},
   "outputs": [],
   "source": [
    "## EXCLUDE ALL WITHDRAWALS FROM THE DATA\n",
    "#Read from the ones that complete withdrawals: \"Withdrawals.csv\"\n",
    "df_withdrawals = pd.read_csv('Withdrawals.csv')\n",
    "\n",
    "# Merge the dataframes on 'participant_id'\n",
    "merged_df = pd.merge(df_data_uss, df_withdrawals, on= 'con_participantid_q1', how='inner')\n",
    "\n",
    "# Filter out the common participant IDs\n",
    "df_data_uss= df_data_uss[~df_data_uss['con_participantid_q1'].isin(merged_df['con_participantid_q1'])]"
   ]
  },
  {
   "attachments": {},
   "cell_type": "markdown",
   "metadata": {},
   "source": [
    "Week 20 Due data frame"
   ]
  },
  {
   "cell_type": "code",
   "execution_count": 6,
   "metadata": {},
   "outputs": [],
   "source": [
    "\n",
    "\n",
    "# Convert 'ga_weeks' and 'ga_days' columns to numeric type\n",
    "df_data_uss['ga_weeks'] = pd.to_numeric(df_data_uss['ga_weeks'], errors='coerce')\n",
    "df_data_uss['ga_days'] = pd.to_numeric(df_data_uss['ga_days'], errors='coerce')\n",
    "\n",
    "# Calculate today's date\n",
    "today = pd.Timestamp.today()\n",
    "\n",
    "# Extract the required columns from the DataFrame\n",
    "participant_id = df_data_uss['con_participantid_q1']\n",
    "uss_date = pd.to_datetime(df_data_uss['ultsc_date'])\n",
    "Ga_weeks = df_data_uss['ga_weeks']\n",
    "Ga_days = df_data_uss['ga_days']\n",
    "eden_num = df_data_uss['con_participant_eden_num_q11']\n",
    "\n",
    "# Calculate the total gestational age in days\n",
    "total_ga_days = (Ga_weeks * 7) + Ga_days\n",
    "\n",
    "# Calculate the estimated due date (EDD)\n",
    "edd = uss_date + pd.to_timedelta(280 - total_ga_days, unit='days')\n",
    "\n",
    "# Calculate the current gestational age\n",
    "days_diff = (today - uss_date).dt.days\n",
    "current_ga = (days_diff + total_ga_days) / 7\n",
    "\n",
    "# Calculate the due dates\n",
    "due_date = uss_date + pd.to_timedelta(133 - (total_ga_days), unit='days')\n",
    "last_date = uss_date + pd.to_timedelta(147 - (total_ga_days), unit='days')\n",
    "visit = 'Week 20'\n",
    "event = df_data_uss['redcap_event_name']\n",
    "cluster = df_data_uss['con_cluster_q12']\n"
   ]
  },
  {
   "cell_type": "code",
   "execution_count": 7,
   "metadata": {},
   "outputs": [],
   "source": [
    "wk20_df = pd.DataFrame({\n",
    "    'Participant ID': participant_id,\n",
    "    'Cluster': cluster,\n",
    "    'USS Date': uss_date,\n",
    "    'EDEN Number': eden_num,\n",
    "    'Gestational Age (Weeks)': Ga_weeks,\n",
    "    'Gestational Age (Days)': Ga_days,\n",
    "    'Expected Deivery Date (EDD)': edd,\n",
    "    'Current Gestational Age': current_ga,\n",
    "    'Due Date': due_date,\n",
    "    'Last Date': last_date,\n",
    "    'Visit': visit\n",
    "})"
   ]
  },
  {
   "cell_type": "code",
   "execution_count": 8,
   "metadata": {},
   "outputs": [],
   "source": [
    "## ALL DATA THAT ARE IN THE WEEK 20.CSV EXCLUDED\n",
    "#Read from the ones that complete week 20: \"Week 20.csv\"\n",
    "df_wk20_uss = pd.read_csv('Week 20.csv')\n",
    "\n",
    "# Merge the dataframes on 'participant_id'\n",
    "merged_df = pd.merge(wk20_df, df_wk20_uss, on= 'Participant ID', how='inner')\n",
    "\n",
    "# Filter out the common participant IDs\n",
    "wk20_df = wk20_df[~wk20_df['Participant ID'].isin(merged_df['Participant ID'])]\n"
   ]
  },
  {
   "attachments": {},
   "cell_type": "markdown",
   "metadata": {},
   "source": [
    "Week 28 Due data frame"
   ]
  },
  {
   "cell_type": "code",
   "execution_count": 9,
   "metadata": {},
   "outputs": [],
   "source": [
    "#week 28 data\n",
    "import datetime\n",
    "import pandas as pd\n",
    "\n",
    "# Convert 'ga_weeks' and 'ga_days' columns to numeric type\n",
    "df_data_uss['ga_weeks'] = pd.to_numeric(df_data_uss['ga_weeks'], errors='coerce')\n",
    "df_data_uss['ga_days'] = pd.to_numeric(df_data_uss['ga_days'], errors='coerce')\n",
    "\n",
    "# Calculate today's date\n",
    "today = pd.Timestamp.today()\n",
    "\n",
    "# Extract the required columns from the DataFrame\n",
    "participant_id = df_data_uss['con_participantid_q1']\n",
    "uss_date = pd.to_datetime(df_data_uss['ultsc_date'])\n",
    "Ga_weeks = df_data_uss['ga_weeks']\n",
    "Ga_days = df_data_uss['ga_days']\n",
    "eden_num = df_data_uss['con_participant_eden_num_q11']\n",
    "\n",
    "\n",
    "# Calculate the total gestational age in days\n",
    "total_ga_days = (Ga_weeks * 7) + Ga_days\n",
    "\n",
    "# Calculate the estimated due date (EDD)\n",
    "edd = uss_date + pd.to_timedelta(280 - total_ga_days, unit='days')\n",
    "\n",
    "# Calculate the current gestational age\n",
    "days_diff = (today - uss_date).dt.days\n",
    "current_ga = (days_diff + total_ga_days) / 7\n",
    "\n",
    "# Calculate the due dates\n",
    "due_date = uss_date + pd.to_timedelta(189 - (total_ga_days), unit='days')\n",
    "last_date = uss_date + pd.to_timedelta(203 - (total_ga_days), unit='days')\n",
    "visit = 'Week 28'\n",
    "event = df_data_uss['redcap_event_name']\n",
    "cluster = df_data_uss['con_cluster_q12']\n"
   ]
  },
  {
   "cell_type": "code",
   "execution_count": 10,
   "metadata": {},
   "outputs": [],
   "source": [
    "wk28_df = pd.DataFrame({\n",
    "    'Participant ID': participant_id,\n",
    "    'Cluster': cluster,\n",
    "    'USS Date': uss_date,\n",
    "    'EDEN Number': eden_num,\n",
    "    'Gestational Age (Weeks)': Ga_weeks,\n",
    "    'Gestational Age (Days)': Ga_days,\n",
    "    'Expected Deivery Date (EDD)': edd,\n",
    "    'Current Gestational Age': current_ga,\n",
    "    'Due Date': due_date,\n",
    "    'Last Date': last_date,\n",
    "    'Visit': visit\n",
    "})"
   ]
  },
  {
   "cell_type": "code",
   "execution_count": 11,
   "metadata": {},
   "outputs": [],
   "source": [
    "## ALL DATA THAT ARE IN THE WEEK 28.CSV EXCLUDED\n",
    "#Read from the ones that complete week 28: \"Week 28.csv\"\n",
    "df_wk28_uss = pd.read_csv('Week 28.csv')\n",
    "\n",
    "# Merge the dataframes on 'participant_id'\n",
    "merged_df = pd.merge(wk28_df, df_wk28_uss, on= 'Participant ID', how='inner')\n",
    "\n",
    "# Filter out the common participant IDs\n",
    "wk28_df = wk28_df[~wk28_df['Participant ID'].isin(merged_df['Participant ID'])]\n"
   ]
  },
  {
   "attachments": {},
   "cell_type": "markdown",
   "metadata": {},
   "source": [
    "Week 36 DataFrame"
   ]
  },
  {
   "cell_type": "code",
   "execution_count": 12,
   "metadata": {},
   "outputs": [],
   "source": [
    "#week 36 data\n",
    "\n",
    "# Convert 'ga_weeks' and 'ga_days' columns to numeric type\n",
    "df_data_uss['ga_weeks'] = pd.to_numeric(df_data_uss['ga_weeks'], errors='coerce')\n",
    "df_data_uss['ga_days'] = pd.to_numeric(df_data_uss['ga_days'], errors='coerce')\n",
    "\n",
    "# Calculate today's date\n",
    "today = pd.Timestamp.today()\n",
    "\n",
    "# Extract the required columns from the DataFrame\n",
    "participant_id = df_data_uss['con_participantid_q1']\n",
    "uss_date = pd.to_datetime(df_data_uss['ultsc_date'])\n",
    "Ga_weeks = df_data_uss['ga_weeks']\n",
    "Ga_days = df_data_uss['ga_days']\n",
    "eden_num = df_data_uss['con_participant_eden_num_q11']\n",
    "\n",
    "\n",
    "# Calculate the total gestational age in days\n",
    "total_ga_days = (Ga_weeks * 7) + Ga_days\n",
    "\n",
    "# Calculate the estimated due date (EDD)\n",
    "edd = uss_date + pd.to_timedelta(280 - total_ga_days, unit='days')\n",
    "\n",
    "# Calculate the current gestational age\n",
    "days_diff = (today - uss_date).dt.days\n",
    "current_ga = (days_diff + total_ga_days) / 7\n",
    "\n",
    "# Calculate the due dates\n",
    "due_date = uss_date + pd.to_timedelta(245 - (total_ga_days), unit='days')\n",
    "last_date = uss_date + pd.to_timedelta(259 - (total_ga_days), unit='days')\n",
    "visit = 'Week 36'\n",
    "event = df_data_uss['redcap_event_name']\n",
    "cluster = df_data_uss['con_cluster_q12']\n"
   ]
  },
  {
   "cell_type": "code",
   "execution_count": 13,
   "metadata": {},
   "outputs": [],
   "source": [
    "wk36_df = pd.DataFrame({\n",
    "    'Participant ID': participant_id,\n",
    "    'Cluster': cluster,\n",
    "    'USS Date': uss_date,\n",
    "    'EDEN Number': eden_num,\n",
    "    'Gestational Age (Weeks)': Ga_weeks,\n",
    "    'Gestational Age (Days)': Ga_days,\n",
    "    'Expected Deivery Date (EDD)': edd,\n",
    "    'Current Gestational Age': current_ga,\n",
    "    'Due Date': due_date,\n",
    "    'Last Date': last_date,\n",
    "    'Visit': visit\n",
    "})"
   ]
  },
  {
   "cell_type": "code",
   "execution_count": 14,
   "metadata": {},
   "outputs": [],
   "source": [
    "## ALL DATA THAT ARE IN THE WEEK 36.CSV EXCLUDED\n",
    "#Read from the ones that complete week 36: \"Week 36.csv\"\n",
    "df_wk36_uss = pd.read_csv('Week 36.csv')\n",
    "\n",
    "# Merge the dataframes on 'participant_id'\n",
    "merged_df = pd.merge(wk36_df, df_wk36_uss, on= 'Participant ID', how='inner')\n",
    "\n",
    "# Filter out the common participant IDs\n",
    "wk36_df = wk36_df[~wk36_df['Participant ID'].isin(merged_df['Participant ID'])]\n"
   ]
  },
  {
   "attachments": {},
   "cell_type": "markdown",
   "metadata": {},
   "source": [
    "FINAL CALL LIST"
   ]
  },
  {
   "cell_type": "code",
   "execution_count": 15,
   "metadata": {},
   "outputs": [],
   "source": [
    "#This holds all the due dates\n",
    "df_dueDates=pd.concat([wk20_df, wk28_df,wk36_df], ignore_index= True)\n",
    "\n",
    "# #extract all data and the due dates\n",
    "# df_dueDates.to_csv('CallList_21092023.csv', index=False)"
   ]
  },
  {
   "cell_type": "code",
   "execution_count": 16,
   "metadata": {},
   "outputs": [],
   "source": [
    "import datetime\n",
    "\n",
    "# Get the current date\n",
    "current_date = datetime.date.today()\n",
    "\n",
    "# Find the next Monday\n",
    "next_monday = today + datetime.timedelta(days=(0 - current_date.weekday() + 7) % 7)\n",
    "\n",
    "# Convert target_due_date to a datetime object\n",
    "next_monday = pd.to_datetime(next_monday)\n",
    "\n",
    "# Calculate the target due date as the next Friday\n",
    "target_due_date = next_monday + datetime.timedelta(days=4)\n",
    "\n",
    "# Convert target_due_date to a datetime object\n",
    "target_due_date = pd.to_datetime(target_due_date)\n",
    "\n",
    "df_callList = df_dueDates[df_dueDates['Due Date'] <= target_due_date]\n"
   ]
  },
  {
   "cell_type": "code",
   "execution_count": 17,
   "metadata": {},
   "outputs": [],
   "source": [
    "# Get today's date and time\n",
    "now = datetime.datetime.now()\n",
    "\n",
    "# Format the current date and time\n",
    "current_datetime = now.strftime('%d%m%Y_%H%M%S')\n",
    "\n",
    "# Create the filename with the current date and time\n",
    "filename = f'CallList_{current_datetime}.csv'\n",
    "\n",
    " #Save the filtered DataFrame to a CSV file\n",
    "df_callList.to_csv(filename, index=False)"
   ]
  }
 ],
 "metadata": {
  "kernelspec": {
   "display_name": "Python 3",
   "language": "python",
   "name": "python3"
  },
  "language_info": {
   "codemirror_mode": {
    "name": "ipython",
    "version": 3
   },
   "file_extension": ".py",
   "mimetype": "text/x-python",
   "name": "python",
   "nbconvert_exporter": "python",
   "pygments_lexer": "ipython3",
   "version": "3.7.9"
  },
  "orig_nbformat": 4
 },
 "nbformat": 4,
 "nbformat_minor": 2
}
