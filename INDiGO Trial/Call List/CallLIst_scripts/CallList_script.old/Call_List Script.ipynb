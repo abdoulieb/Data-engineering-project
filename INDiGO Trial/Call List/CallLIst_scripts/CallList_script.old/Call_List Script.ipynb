{
 "cells": [
  {
   "cell_type": "code",
   "execution_count": 353,
   "metadata": {},
   "outputs": [],
   "source": [
    "from redcap import Project\n",
    "import pandas as pd\n",
    "\n",
    "#REDCap API configuration\n",
    "api_url = 'https://ruff.mrc.gm:8443/redcap/api/'\n",
    "api_key = 'E5FEBF04C14581CF182ABE8107AB8B50'\n",
    "project = Project(api_url, api_key)"
   ]
  },
  {
   "cell_type": "markdown",
   "metadata": {},
   "source": [
    "WITHDRAWALS"
   ]
  },
  {
   "cell_type": "code",
   "execution_count": 354,
   "metadata": {},
   "outputs": [],
   "source": [
    "#extract study termination data\n",
    "termination_data = project.export_records(forms=['study_termination'])\n",
    "\n",
    "#convert data to Dataframe.\n",
    "term_data=pd.DataFrame(termination_data)"
   ]
  },
  {
   "cell_type": "code",
   "execution_count": 355,
   "metadata": {},
   "outputs": [],
   "source": [
    "# Specify the fields you want to extract base on logics\n",
    "df_withdrw=term_data[['con_participantid_q1','st_date','st_reason','redcap_event_name']]\n",
    "df_withdrw=pd.DataFrame(df_withdrw)\n",
    "df_withdrw = df_withdrw[\n",
    "    (df_withdrw['redcap_event_name'] == 'end_of_study_arm_1') &\n",
    "    (df_withdrw['st_date'].notnull())\n",
    "]\n"
   ]
  },
  {
   "cell_type": "code",
   "execution_count": 356,
   "metadata": {},
   "outputs": [],
   "source": [
    "Withdrawal_df = pd.DataFrame({\n",
    "    'con_participantid_q1': df_withdrw['con_participantid_q1'],\n",
    "    'withdrawal date': pd.to_datetime(df_withdrw['st_date']),\n",
    "    'Reason': df_withdrw['st_reason'],\n",
    "    'Status': 'Terminated'\n",
    "})\n",
    "\n",
    "# Save the DataFrame to a CSV file\n",
    "Withdrawal_df.to_csv('Withdrawals.csv', index=False)\n"
   ]
  },
  {
   "cell_type": "markdown",
   "metadata": {},
   "source": [
    "USS SCAN DATA"
   ]
  },
  {
   "cell_type": "code",
   "execution_count": 357,
   "metadata": {},
   "outputs": [],
   "source": [
    "##USS SCAN DATA SET\n",
    "#extract week 20 completed data\n",
    "USS = project.export_records(forms=['ultrasound_scan'])\n",
    "\n",
    "#convert data to Dataframe.\n",
    "uss=pd.DataFrame(USS)\n",
    "\n",
    "# Specify the fields you want to extract base on logics for week 20\n",
    "df_uss=uss[['con_participantid_q1','ultsc_date','ultsc_type_q5','redcap_event_name']]\n",
    "df_uss=pd.DataFrame(df_uss)\n"
   ]
  },
  {
   "cell_type": "markdown",
   "metadata": {},
   "source": [
    "WK-20 DATA"
   ]
  },
  {
   "cell_type": "code",
   "execution_count": 358,
   "metadata": {},
   "outputs": [],
   "source": [
    "#extract week 20 USS from the USS scan data set\n",
    "df_wk20_uss = df_uss[\n",
    "    (df_uss['redcap_event_name'] == 'week_20_arm_1') &\n",
    "    (df_uss['ultsc_date'].notnull())\n",
    "]\n",
    "\n",
    "# week 20 uss scan data into a data frame\n",
    "wk20_df = pd.DataFrame({\n",
    "    'con_participantid_q1' : df_wk20_uss['con_participantid_q1'],\n",
    "    'uss_date': pd.to_datetime(df_wk20_uss['ultsc_date']),\n",
    "    'uss_type' : df_wk20_uss['ultsc_type_q5'],\n",
    "    'Status': 'week 20 completed'\n",
    "})\n",
    "\n",
    "# Save the wk20 DataFrame to a CSV file\n",
    "wk20_df.to_csv('Week 20.csv', index=False)\n"
   ]
  },
  {
   "cell_type": "markdown",
   "metadata": {},
   "source": [
    "WK-28 DATA"
   ]
  },
  {
   "cell_type": "code",
   "execution_count": 359,
   "metadata": {},
   "outputs": [],
   "source": [
    "#extract week 28 USS from the USS scan data set\n",
    "df_wk28_uss = df_uss[\n",
    "    (df_uss['redcap_event_name'] == 'week_28_arm_1') &\n",
    "    (df_uss['ultsc_date'].notnull())\n",
    "]\n",
    "\n",
    "# week 28 uss scan data into a data frame\n",
    "wk28_df = pd.DataFrame({\n",
    "    'con_participantid_q1' : df_wk28_uss['con_participantid_q1'],\n",
    "    'uss_date': pd.to_datetime(df_wk28_uss['ultsc_date']),\n",
    "    'uss_type' : df_wk28_uss['ultsc_type_q5'],\n",
    "    'Status': 'week 28 completed'\n",
    "})\n",
    "\n",
    "# Save the wk28 DataFrame to a CSV file\n",
    "wk28_df.to_csv('Week 28.csv', index=False)\n"
   ]
  },
  {
   "cell_type": "markdown",
   "metadata": {},
   "source": [
    "WK-36 DATA"
   ]
  },
  {
   "cell_type": "code",
   "execution_count": 360,
   "metadata": {},
   "outputs": [],
   "source": [
    "#extract week 36 USS from the USS scan data set\n",
    "df_wk36_uss = df_uss[\n",
    "    (df_uss['redcap_event_name'] == 'week_36_arm_1') &\n",
    "    (df_uss['ultsc_date'].notnull())\n",
    "]\n",
    "\n",
    "# week 36 uss scan data into a data frame\n",
    "wk36_df = pd.DataFrame({\n",
    "    'con_participantid_q1' : df_wk36_uss['con_participantid_q1'],\n",
    "    'uss_date': pd.to_datetime(df_wk36_uss['ultsc_date']),\n",
    "    'uss_type' : df_wk36_uss['ultsc_type_q5'],\n",
    "    'Status': 'week 36 completed'\n",
    "})\n",
    "\n",
    "# Save the wk36 DataFrame to a CSV file\n",
    "wk36_df.to_csv('Week 36.csv', index=False)\n"
   ]
  },
  {
   "cell_type": "markdown",
   "metadata": {},
   "source": [
    "DELIVERY"
   ]
  },
  {
   "cell_type": "code",
   "execution_count": 361,
   "metadata": {},
   "outputs": [],
   "source": [
    "#extract delivery data\n",
    "delivery_data = project.export_records(forms=['delivery'])\n",
    "\n",
    "#convert data to Dataframe.\n",
    "delv_data=pd.DataFrame(delivery_data)"
   ]
  },
  {
   "cell_type": "code",
   "execution_count": 362,
   "metadata": {},
   "outputs": [],
   "source": [
    "# Specify the fields you want to extract base on logics\n",
    "df_delv=delv_data[['con_participantid_q1','del_vdate_q1','del_place_q2','del_lbonsetdatetime_q4','del_gestage','del_ddate_q7','redcap_event_name']]\n",
    "df_delv=pd.DataFrame(df_delv)\n",
    "df_delv = df_delv[\n",
    "    (df_delv['redcap_event_name'] == 'delivery__postpart_arm_1') &\n",
    "    (df_delv['del_ddate_q7'].notnull())\n",
    "]\n"
   ]
  },
  {
   "cell_type": "code",
   "execution_count": 363,
   "metadata": {},
   "outputs": [],
   "source": [
    "#extract required columns\n",
    "\n",
    "delivery_df = pd.DataFrame({\n",
    "    'con_participantid_q1': df_delv['con_participantid_q1'],\n",
    "    'Delivery Date': pd.to_datetime(df_delv['del_ddate_q7']),\n",
    "    'GA at Delivery': df_delv['del_gestage'],\n",
    "    'Status': 'Delivered'\n",
    "\n",
    "})\n",
    "\n",
    "# Save the DataFrame to a CSV file\n",
    "delivery_df.to_csv('Delivery.csv', index=False)\n"
   ]
  },
  {
   "cell_type": "markdown",
   "metadata": {},
   "source": [
    "INFANT-MOTHER PAIR"
   ]
  },
  {
   "cell_type": "code",
   "execution_count": 364,
   "metadata": {},
   "outputs": [],
   "source": [
    "#extract infant anthrops data\n",
    "inf_data = project.export_records(forms=['infant_anthropometry'])\n",
    "inf_data=pd.DataFrame(inf_data)\n",
    "\n",
    "inf_data = inf_data[['con_participantid_q1','ina_infantid','ian_date' ,'redcap_event_name']]\n",
    "df_infant = pd.DataFrame(inf_data)"
   ]
  },
  {
   "cell_type": "markdown",
   "metadata": {},
   "source": [
    "MONTH 1"
   ]
  },
  {
   "cell_type": "code",
   "execution_count": 365,
   "metadata": {},
   "outputs": [],
   "source": [
    "inf_M1 = df_infant[\n",
    "    (df_infant['redcap_event_name'] == 'month_1_arm_2') &\n",
    "    ((df_infant['ian_date'].notnull()))\n",
    "]"
   ]
  },
  {
   "cell_type": "code",
   "execution_count": 366,
   "metadata": {},
   "outputs": [
    {
     "name": "stdout",
     "output_type": "stream",
     "text": [
      "Index(['con_participantid_q1', 'del_ddate_q7', 'ina_infantid', 'ian_date'], dtype='object')\n"
     ]
    }
   ],
   "source": [
    "#merge infant_data to delivery_data base on participant ID\n",
    "m1_infant_mother = df_delv.merge (inf_M1, on='con_participantid_q1', how='left')\n",
    "\n",
    "#return the these variables base on the participant Id they have in common\n",
    "M1_infant_mother = m1_infant_mother[['con_participantid_q1','del_ddate_q7','ina_infantid','ian_date']]\n",
    "print(M1_infant_mother.columns)\n",
    "\n",
    "M1_infant_mother = M1_infant_mother[\n",
    "    ((M1_infant_mother['del_ddate_q7'].notnull())) &\n",
    "    ((M1_infant_mother['ian_date'].notnull()))\n",
    "]"
   ]
  },
  {
   "cell_type": "code",
   "execution_count": 367,
   "metadata": {},
   "outputs": [],
   "source": [
    "#extract required columns\n",
    "\n",
    "Month1_df = pd.DataFrame({\n",
    "    'con_participantid_q1': M1_infant_mother['con_participantid_q1'],\n",
    "    'Delivery Date': pd.to_datetime(M1_infant_mother['del_ddate_q7']),\n",
    "    'Infant ID': M1_infant_mother['ina_infantid'],\n",
    "    'Infant anthrops Date': pd.to_datetime(M1_infant_mother['ian_date']),\n",
    "    'Status': 'Month 1 completed'\n",
    "\n",
    "})\n",
    "\n",
    "# Save the DataFrame to a CSV file\n",
    "Month1_df.to_csv('Month 1.csv', index=False)\n"
   ]
  },
  {
   "cell_type": "markdown",
   "metadata": {
    "slideshow": {
     "slide_type": "slide"
    }
   },
   "source": [
    "## CALL LIST"
   ]
  },
  {
   "cell_type": "markdown",
   "metadata": {},
   "source": [
    "week_20 Call"
   ]
  },
  {
   "cell_type": "code",
   "execution_count": 368,
   "metadata": {},
   "outputs": [],
   "source": [
    "# Specify the fields you want to extract\n",
    "con_uss = project.export_records(forms=['consent','ultrasound_scan'])\n",
    "con_uss=pd.DataFrame(con_uss)\n",
    "\n",
    "# Specify the fields you want to extract\n",
    "df_data_uss=con_uss[['con_participantid_q1', 'con_participant_eden_num_q11', 'ultsc_date', 'ga_weeks','ga_days','con_cluster_q12','redcap_event_name']]\n",
    "df_data_uss=pd.DataFrame(df_data_uss)\n",
    "df_data_uss = df_data_uss[\n",
    "    (df_data_uss['redcap_event_name'] == 'recruitment_arm_1') &\n",
    "    (df_data_uss['ultsc_date'].notnull()) &\n",
    "    (pd.to_numeric(df_data_uss['ga_weeks']) <= 20)\n",
    "]\n"
   ]
  },
  {
   "cell_type": "code",
   "execution_count": 369,
   "metadata": {},
   "outputs": [],
   "source": [
    "## EXCLUDE ALL WITHDRAWALS FROM THE DATA\n",
    "#Read from the ones that complete withdrawals: \"Withdrawals.csv\"\n",
    "df_withdrawals = pd.read_csv('Withdrawals.csv')\n",
    "\n",
    "# Merge the dataframes on 'participant_id'\n",
    "con_merged_df = pd.merge(df_data_uss, df_withdrawals, on= 'con_participantid_q1', how='inner')\n",
    "\n",
    "# Filter out the common participant IDs\n",
    "df_data_uss= df_data_uss[~df_data_uss['con_participantid_q1'].isin(con_merged_df['con_participantid_q1'])]"
   ]
  },
  {
   "cell_type": "code",
   "execution_count": 370,
   "metadata": {},
   "outputs": [],
   "source": [
    "## EXCLUDE ALL DELIVERIES FROM THE DATA\n",
    "#Read from the ones that complete withdrawals: \"Delivery.csv\"\n",
    "df_delivery = pd.read_csv('Delivery.csv')\n",
    "\n",
    "# Merge the dataframes on 'participant_id'\n",
    "del_merged_df = pd.merge(df_data_uss, df_delivery, on= 'con_participantid_q1', how='inner')\n",
    "\n",
    "# Filter out the common participant IDs\n",
    "df_data_uss= df_data_uss[~df_data_uss['con_participantid_q1'].isin(del_merged_df['con_participantid_q1'])]"
   ]
  },
  {
   "cell_type": "code",
   "execution_count": 371,
   "metadata": {},
   "outputs": [],
   "source": [
    "\n",
    "\n",
    "# Convert 'ga_weeks' and 'ga_days' columns to numeric type\n",
    "df_data_uss['ga_weeks'] = pd.to_numeric(df_data_uss['ga_weeks'], errors='coerce')\n",
    "df_data_uss['ga_days'] = pd.to_numeric(df_data_uss['ga_days'], errors='coerce')\n",
    "\n",
    "# Calculate today's date\n",
    "today = pd.Timestamp.today()\n",
    "\n",
    "# Extract the required columns from the DataFrame\n",
    "participant_id = df_data_uss['con_participantid_q1']\n",
    "uss_date = pd.to_datetime(df_data_uss['ultsc_date'])\n",
    "Ga_weeks = df_data_uss['ga_weeks']\n",
    "Ga_days = df_data_uss['ga_days']\n",
    "eden_num = df_data_uss['con_participant_eden_num_q11']\n",
    "\n",
    "# Calculate the total gestational age in days\n",
    "total_ga_days = (Ga_weeks * 7) + Ga_days\n",
    "\n",
    "# Calculate the estimated due date (EDD)\n",
    "edd = uss_date + pd.to_timedelta(280 - total_ga_days, unit='days')\n",
    "\n",
    "# Calculate the current gestational age\n",
    "days_diff = (today - uss_date).dt.days\n",
    "current_ga = (days_diff + total_ga_days) / 7\n",
    "\n",
    "# Calculate the due dates\n",
    "due_date = uss_date + pd.to_timedelta(133 - (total_ga_days), unit='days')\n",
    "last_date = uss_date + pd.to_timedelta(147 - (total_ga_days), unit='days')\n",
    "visit = 'Week 20'\n",
    "event = df_data_uss['redcap_event_name']\n",
    "cluster = df_data_uss['con_cluster_q12']\n"
   ]
  },
  {
   "cell_type": "code",
   "execution_count": 372,
   "metadata": {},
   "outputs": [],
   "source": [
    "## This data frame is mainted to put together the data and maintain the variable name 'con_participantid_q1' for easy exclusion of participants who completed the wk20.\n",
    "\n",
    "\n",
    "wk20_df = pd.DataFrame({\n",
    "    'con_participantid_q1': participant_id,\n",
    "    'Cluster': cluster,\n",
    "    'USS Date': uss_date,\n",
    "    'EDEN | Infant Number': eden_num,\n",
    "    'Gestational Age (Weeks)': Ga_weeks,\n",
    "    'Gestational Age (Days)': Ga_days,\n",
    "    '(Expected)Delivery Date ((E)DD)': edd,\n",
    "    'Current Gestational Age': current_ga,\n",
    "    'Due Date': due_date,\n",
    "    'Last Date': last_date,\n",
    "    'Visit': visit\n",
    "})\n",
    "\n"
   ]
  },
  {
   "cell_type": "code",
   "execution_count": 373,
   "metadata": {},
   "outputs": [],
   "source": [
    "## ALL DATA THAT ARE IN THE WEEK 20.CSV EXCLUDED\n",
    "#Read from the ones that complete week 20: \"Week 20.csv\"\n",
    "wk20_uss = pd.read_csv('Week 20.csv')\n",
    "\n",
    "# Merge the dataframes on 'participant_id'\n",
    "wk20_merged_df = pd.merge(df_data_uss, wk20_uss, on= 'con_participantid_q1', how='inner')\n",
    "\n",
    "# Filter out the common participant IDs\n",
    "wk20_df = wk20_df[~df_data_uss['con_participantid_q1'].isin(wk20_merged_df['con_participantid_q1'])]"
   ]
  },
  {
   "cell_type": "markdown",
   "metadata": {},
   "source": [
    "wk_28 call"
   ]
  },
  {
   "cell_type": "code",
   "execution_count": 374,
   "metadata": {},
   "outputs": [],
   "source": [
    "#week 28 data\n",
    "import datetime\n",
    "import pandas as pd\n",
    "\n",
    "# Convert 'ga_weeks' and 'ga_days' columns to numeric type\n",
    "df_data_uss['ga_weeks'] = pd.to_numeric(df_data_uss['ga_weeks'], errors='coerce')\n",
    "df_data_uss['ga_days'] = pd.to_numeric(df_data_uss['ga_days'], errors='coerce')\n",
    "\n",
    "# Calculate today's date\n",
    "today = pd.Timestamp.today()\n",
    "\n",
    "# Extract the required columns from the DataFrame\n",
    "participant_id = df_data_uss['con_participantid_q1']\n",
    "uss_date = pd.to_datetime(df_data_uss['ultsc_date'])\n",
    "Ga_weeks = df_data_uss['ga_weeks']\n",
    "Ga_days = df_data_uss['ga_days']\n",
    "eden_num = df_data_uss['con_participant_eden_num_q11']\n",
    "\n",
    "\n",
    "# Calculate the total gestational age in days\n",
    "total_ga_days = (Ga_weeks * 7) + Ga_days\n",
    "\n",
    "# Calculate the estimated due date (EDD)\n",
    "edd = uss_date + pd.to_timedelta(280 - total_ga_days, unit='days')\n",
    "\n",
    "# Calculate the current gestational age\n",
    "days_diff = (today - uss_date).dt.days\n",
    "current_ga = (days_diff + total_ga_days) / 7\n",
    "\n",
    "# Calculate the due dates\n",
    "due_date = uss_date + pd.to_timedelta(189 - (total_ga_days), unit='days')\n",
    "last_date = uss_date + pd.to_timedelta(203 - (total_ga_days), unit='days')\n",
    "visit = 'Week 28'\n",
    "event = df_data_uss['redcap_event_name']\n",
    "cluster = df_data_uss['con_cluster_q12']\n"
   ]
  },
  {
   "cell_type": "code",
   "execution_count": 375,
   "metadata": {},
   "outputs": [],
   "source": [
    "wk28_df = pd.DataFrame({\n",
    "    'con_participantid_q1': participant_id,\n",
    "    'Cluster': cluster,\n",
    "    'USS Date': uss_date,\n",
    "    'EDEN | Infant Number': eden_num,\n",
    "    'Gestational Age (Weeks)': Ga_weeks,\n",
    "    'Gestational Age (Days)': Ga_days,\n",
    "    '(Expected)Delivery Date ((E)DD)': edd,\n",
    "    'Current Gestational Age': current_ga,\n",
    "    'Due Date': due_date,\n",
    "    'Last Date': last_date,\n",
    "    'Visit': visit\n",
    "})"
   ]
  },
  {
   "cell_type": "code",
   "execution_count": 376,
   "metadata": {},
   "outputs": [],
   "source": [
    "## ALL DATA THAT ARE IN THE WEEK 28.CSV EXCLUDED\n",
    "#Read from the ones that complete week 28: \"Week 28.csv\"\n",
    "wk28_uss = pd.read_csv('Week 28.csv')\n",
    "\n",
    "# Merge the dataframes on 'participant_id'\n",
    "wk28_merged_df = pd.merge(wk28_df, wk28_uss, on= 'con_participantid_q1', how='inner')\n",
    "\n",
    "# Filter out the common participant IDs\n",
    "wk28_df = wk28_df[~wk28_df['con_participantid_q1'].isin(wk28_merged_df['con_participantid_q1'])]\n"
   ]
  },
  {
   "cell_type": "markdown",
   "metadata": {},
   "source": [
    "wk_36 call"
   ]
  },
  {
   "cell_type": "code",
   "execution_count": 377,
   "metadata": {},
   "outputs": [],
   "source": [
    "#week 36 data\n",
    "\n",
    "# Convert 'ga_weeks' and 'ga_days' columns to numeric type\n",
    "df_data_uss['ga_weeks'] = pd.to_numeric(df_data_uss['ga_weeks'], errors='coerce')\n",
    "df_data_uss['ga_days'] = pd.to_numeric(df_data_uss['ga_days'], errors='coerce')\n",
    "\n",
    "# Calculate today's date\n",
    "today = pd.Timestamp.today()\n",
    "\n",
    "# Extract the required columns from the DataFrame\n",
    "participant_id = df_data_uss['con_participantid_q1']\n",
    "uss_date = pd.to_datetime(df_data_uss['ultsc_date'])\n",
    "Ga_weeks = df_data_uss['ga_weeks']\n",
    "Ga_days = df_data_uss['ga_days']\n",
    "eden_num = df_data_uss['con_participant_eden_num_q11']\n",
    "\n",
    "\n",
    "# Calculate the total gestational age in days\n",
    "total_ga_days = (Ga_weeks * 7) + Ga_days\n",
    "\n",
    "# Calculate the estimated due date (EDD)\n",
    "edd = uss_date + pd.to_timedelta(280 - total_ga_days, unit='days')\n",
    "\n",
    "# Calculate the current gestational age\n",
    "days_diff = (today - uss_date).dt.days\n",
    "current_ga = (days_diff + total_ga_days) / 7\n",
    "\n",
    "# Calculate the due dates\n",
    "due_date = uss_date + pd.to_timedelta(245 - (total_ga_days), unit='days')\n",
    "last_date = uss_date + pd.to_timedelta(259 - (total_ga_days), unit='days')\n",
    "visit = 'Week 36'\n",
    "event = df_data_uss['redcap_event_name']\n",
    "cluster = df_data_uss['con_cluster_q12']\n"
   ]
  },
  {
   "cell_type": "code",
   "execution_count": 378,
   "metadata": {},
   "outputs": [],
   "source": [
    "wk36_df = pd.DataFrame({\n",
    "     'con_participantid_q1': participant_id,\n",
    "    'Cluster': cluster,\n",
    "    'USS Date': uss_date,\n",
    "    'EDEN | Infant Number': eden_num,\n",
    "    'Gestational Age (Weeks)': Ga_weeks,\n",
    "    'Gestational Age (Days)': Ga_days,\n",
    "    '(Expected)Delivery Date ((E)DD)': edd,\n",
    "    'Current Gestational Age': current_ga,\n",
    "    'Due Date': due_date,\n",
    "    'Last Date': last_date,\n",
    "    'Visit': visit\n",
    "    \n",
    "})"
   ]
  },
  {
   "cell_type": "code",
   "execution_count": 379,
   "metadata": {},
   "outputs": [],
   "source": [
    "## ALL DATA THAT ARE IN THE WEEK 36.CSV EXCLUDED\n",
    "#Read from the ones that complete week 36: \"Week 36.csv\"\n",
    "df_wk36_uss = pd.read_csv('Week 36.csv')\n",
    "\n",
    "# Merge the dataframes on 'participant_id'\n",
    "wk36_merged_df = pd.merge(wk36_df, df_wk36_uss, on= 'con_participantid_q1', how='inner')\n",
    "\n",
    "# Filter out the common participant IDs\n",
    "wk36_df = wk36_df[~wk36_df['con_participantid_q1'].isin(wk36_merged_df['con_participantid_q1'])]\n"
   ]
  },
  {
   "cell_type": "markdown",
   "metadata": {},
   "source": [
    "### POST PARTUM CALL"
   ]
  },
  {
   "cell_type": "code",
   "execution_count": 380,
   "metadata": {},
   "outputs": [],
   "source": [
    "\n",
    "#extract neonate screening and infant ID\n",
    "Neonate = project.export_records(forms=['infantid','neonate_screening'])\n",
    "Neonate=pd.DataFrame(Neonate)\n",
    "\n",
    "\n",
    "neonate_data = Neonate[['con_participantid_q1','infantid','neo_vdate' ,'redcap_event_name']]\n",
    "neonate_data=pd.DataFrame(neonate_data)\n",
    "neonate_data = neonate_data[\n",
    "    (neonate_data['redcap_event_name'] == 'baby_check_arm_2') &\n",
    "    ((neonate_data['neo_vdate'].notnull()))\n",
    "]\n",
    "\n",
    "\n",
    "#merge infant_data to delivery_data base on participant ID\n",
    "neonate_mother = df_delv.merge (neonate_data, on='con_participantid_q1', how='inner')\n",
    "\n",
    "\n",
    "#return the these variables base on the participant Id they have in common\n",
    "neonate_mother = neonate_mother[['con_participantid_q1','del_ddate_q7','infantid']]\n"
   ]
  },
  {
   "cell_type": "code",
   "execution_count": 381,
   "metadata": {},
   "outputs": [],
   "source": [
    "neonate_mother = pd.DataFrame(neonate_mother)\n",
    "\n",
    "#convert del_ddate_q7 to datetime\n",
    "neonate_mother['del_ddate_q7'] = pd.to_datetime(neonate_mother['del_ddate_q7'])\n",
    "\n",
    "#Due date and last due date calculation\n",
    "neonate_mother['due_date'] = neonate_mother['del_ddate_q7'] + pd.DateOffset(months= 1)\n",
    "neonate_mother['last_date'] = neonate_mother['del_ddate_q7'] + pd.DateOffset(months= 1, days=7)"
   ]
  },
  {
   "cell_type": "code",
   "execution_count": 382,
   "metadata": {},
   "outputs": [],
   "source": [
    "\n",
    "month1_df = pd.DataFrame({\n",
    "    'con_participantid_q1': neonate_mother['con_participantid_q1'],\n",
    "    '(Expected)Delivery Date ((E)DD)': pd.to_datetime(neonate_mother['del_ddate_q7']),\n",
    "    'EDEN | Infant Number':  neonate_mother['infantid'],\n",
    "    'Due Date': neonate_mother['due_date'],\n",
    "    'Last Date': neonate_mother['last_date'],\n",
    "    'Visit': 'Month 1'\n",
    "})\n"
   ]
  },
  {
   "cell_type": "code",
   "execution_count": 383,
   "metadata": {},
   "outputs": [],
   "source": [
    "## ALL DATA THAT ARE IN THE WEEK 36.CSV EXCLUDED\n",
    "#Read from the ones that complete week 36: \"Week 36.csv\"\n",
    "month1 = pd.read_csv('Month 1.csv')\n",
    "\n",
    "# Merge the dataframes on 'participant_id'\n",
    "m1_merged_df = pd.merge(month1_df, month1, on= 'con_participantid_q1', how='inner')\n",
    "\n",
    "# Filter out the common participant IDs\n",
    "month1_df = month1_df[~month1_df['con_participantid_q1'].isin(m1_merged_df['con_participantid_q1'])]\n",
    "\n"
   ]
  },
  {
   "cell_type": "markdown",
   "metadata": {},
   "source": [
    "### FINAL COMPLETE CALL LIST"
   ]
  },
  {
   "cell_type": "code",
   "execution_count": 384,
   "metadata": {},
   "outputs": [],
   "source": [
    "# This holds all the due dates\n",
    "df_dueDates=pd.concat([wk20_df, wk28_df,wk36_df,month1_df], ignore_index= True)"
   ]
  },
  {
   "cell_type": "code",
   "execution_count": 385,
   "metadata": {},
   "outputs": [],
   "source": [
    "\n",
    "# Get the current date\n",
    "current_date = datetime.date.today()\n",
    "\n",
    "# Find the next Monday\n",
    "next_monday = today + datetime.timedelta(days=(0 - current_date.weekday() + 7) % 7)\n",
    "\n",
    "# Convert target_due_date to a datetime object\n",
    "next_monday = pd.to_datetime(next_monday)\n",
    "\n",
    "# Calculate the target due date as the next Friday\n",
    "target_due_date = next_monday + datetime.timedelta(days=4)\n",
    "\n",
    "# Convert target_due_date to a datetime object\n",
    "target_due_date = pd.to_datetime(target_due_date)\n",
    "\n",
    "df_callList = df_dueDates[df_dueDates['Due Date'] <= target_due_date]\n"
   ]
  },
  {
   "cell_type": "code",
   "execution_count": 386,
   "metadata": {},
   "outputs": [],
   "source": [
    "# Get today's date and time\n",
    "now = datetime.datetime.now()\n",
    "\n",
    "# Format the current date and time\n",
    "current_datetime = now.strftime('%d%m%Y_%H%M%S')\n",
    "\n",
    "# Create the filename with the current date and time\n",
    "filename = f'CallList_{current_datetime}.csv'\n",
    "\n",
    " #Save the filtered DataFrame to a CSV file\n",
    "df_callList.to_csv(filename, index=False)"
   ]
  }
 ],
 "metadata": {
  "kernelspec": {
   "display_name": "Python 3",
   "language": "python",
   "name": "python3"
  },
  "language_info": {
   "codemirror_mode": {
    "name": "ipython",
    "version": 3
   },
   "file_extension": ".py",
   "mimetype": "text/x-python",
   "name": "python",
   "nbconvert_exporter": "python",
   "pygments_lexer": "ipython3",
   "version": "3.7.9"
  }
 },
 "nbformat": 4,
 "nbformat_minor": 2
}
