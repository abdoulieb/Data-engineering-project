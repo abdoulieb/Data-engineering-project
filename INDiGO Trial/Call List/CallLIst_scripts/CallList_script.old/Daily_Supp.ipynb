{
 "cells": [
  {
   "cell_type": "code",
   "execution_count": 44,
   "metadata": {},
   "outputs": [],
   "source": [
    "import redcap\n",
    "import csv\n",
    "import datetime\n",
    "import pandas as pd\n",
    "\n",
    "# REDCap API endpoint and token\n",
    "data = {\n",
    "    'token': '744268EC805657595430964A3C0EC970',\n",
    "    'content': 'project',\n",
    "    'format': 'json',\n",
    "    'returnFormat': 'json'\n",
    "}\n",
    "df= redcap.Project('https://ruff.mrc.gm:8443/redcap/api/',data['token'])\n",
    "\n",
    "df_data=df.export_records()"
   ]
  },
  {
   "cell_type": "code",
   "execution_count": 45,
   "metadata": {},
   "outputs": [],
   "source": [
    "df_data=pd.DataFrame(df_data)"
   ]
  },
  {
   "cell_type": "code",
   "execution_count": 51,
   "metadata": {},
   "outputs": [],
   "source": [
    "#Daily supplementation Dataset\n",
    "import pandas as pd\n",
    "\n",
    "# Specify the fields you want to extract for df_data_con\n",
    "df_data_con = df_data[['con_participantid_q1', 'con_participant_eden_num_q11', 'con_dob_q4', 'con_cluster_q12', 'redcap_event_name']]\n",
    "df_data_con = df_data_con[df_data_con['redcap_event_name'] == 'recruitment_arm_1']\n",
    "\n",
    "# Specify the fields you want to extract for df_data_wk20\n",
    "df_data_wk20 = df_data[['con_participantid_q1', 'ran_date', 'redcap_event_name']]\n",
    "df_data_wk20 = df_data_wk20[df_data_wk20['redcap_event_name'] == 'week_20_arm_1']\n",
    "\n",
    "# Merge the dataframes on 'con_participantid_q1'\n",
    "merged_df = pd.merge(df_data_con, df_data_wk20, on='con_participantid_q1', how='inner')\n",
    "\n",
    "# Drop duplicate 'con_participantid_q1' values\n",
    "merged_df.drop_duplicates(subset=['con_participantid_q1'], keep='first', inplace=True)\n",
    "\n"
   ]
  },
  {
   "cell_type": "code",
   "execution_count": 38,
   "metadata": {},
   "outputs": [
    {
     "data": {
      "text/plain": [
       "\"\\n# Calculate today's date\\ntoday = pd.Timestamp.today()\\n\\n#Calculate the due dates\\ndue_date = ran_date + pd.to_timedelta(1, unit='days')\\nlast_due = ran_date + pd.to_timedelta(7, unit='days')\\nvisit = 'Daily supplementation'\\nage = (today - dob)\\ncluster = df_data_uss['con_cluster_q12']\\n\""
      ]
     },
     "execution_count": 38,
     "metadata": {},
     "output_type": "execute_result"
    }
   ],
   "source": [
    "\n",
    "# Calculate today's date\n",
    "today = pd.Timestamp.today()\n",
    "\n",
    "#Calculate the due dates\n",
    "due_date = ran_date + pd.to_timedelta(1, unit='days')\n",
    "last_due = ran_date + pd.to_timedelta(7, unit='days')\n",
    "visit = 'Daily supplementation'\n",
    "age = (today - dob)\n",
    "cluster = df_data_uss['con_cluster_q12']"
   ]
  },
  {
   "cell_type": "code",
   "execution_count": 39,
   "metadata": {},
   "outputs": [
    {
     "data": {
      "text/plain": [
       "\"\\nwk20_df = pd.DataFrame({\\n    'Participant ID': participant_id,\\n    'Cluster': cluster,\\n    'USS Date': uss_date,\\n    'Gestational Age (Weeks)': Ga_weeks,\\n    'Gestational Age (Days)': Ga_days,\\n    'Expected Deivery Date (EDD)': edd,\\n    'Current Gestational Age': current_ga,\\n    'Due Date': due_date,\\n    'Last Date': last_date,\\n    'Visit': visit\\n})\\n\""
      ]
     },
     "execution_count": 39,
     "metadata": {},
     "output_type": "execute_result"
    }
   ],
   "source": [
    "\n",
    "wk20_df = pd.DataFrame({\n",
    "    'Participant ID': participant_id,\n",
    "    'Cluster': cluster,\n",
    "    'USS Date': uss_date,\n",
    "    'Gestational Age (Weeks)': Ga_weeks,\n",
    "    'Gestational Age (Days)': Ga_days,\n",
    "    'Expected Deivery Date (EDD)': edd,\n",
    "    'Current Gestational Age': current_ga,\n",
    "    'Due Date': due_date,\n",
    "    'Last Date': last_date,\n",
    "    'Visit': visit\n",
    "})"
   ]
  }
 ],
 "metadata": {
  "kernelspec": {
   "display_name": "Python 3",
   "language": "python",
   "name": "python3"
  },
  "language_info": {
   "codemirror_mode": {
    "name": "ipython",
    "version": 3
   },
   "file_extension": ".py",
   "mimetype": "text/x-python",
   "name": "python",
   "nbconvert_exporter": "python",
   "pygments_lexer": "ipython3",
   "version": "3.7.9"
  },
  "orig_nbformat": 4
 },
 "nbformat": 4,
 "nbformat_minor": 2
}
