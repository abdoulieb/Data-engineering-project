{
 "cells": [
  {
   "cell_type": "code",
   "execution_count": 1,
   "metadata": {},
   "outputs": [],
   "source": [
    "#-- The current version is V4.0\n",
    "#-- THis is upgraded from v3.1 to V4.0\n",
    "#-- The upgraded version is improved to accomodate reschedules\n",
    "#--Upgraded by Yusupha Ceesay on 04/07/2024\n",
    "#-------------------------------------------------------------------------#"
   ]
  },
  {
   "cell_type": "code",
   "execution_count": 2,
   "metadata": {},
   "outputs": [],
   "source": [
    "from redcap import Project\n",
    "import pandas as pd\n",
    "import datetime\n",
    "\n",
    "#REDCap API configuration\n",
    "api_url = 'https://ruff.mrc.gm:8443/redcap/api/'\n",
    "api_key = '63A451E2DA73C4D6A4C64A17B36B9565'\n",
    "project = Project(api_url, api_key)\n",
    "\n",
    "#REDCap API configuration for Sensitization\n",
    "sen_api_url = 'https://redcap.mrc.gm:8443/redcap/api/'\n",
    "sen_api_key = '008DBC63CA736CB68A3949DEFE43CC5D'\n",
    "sen_project = Project(sen_api_url,sen_api_key)\n"
   ]
  },
  {
   "cell_type": "markdown",
   "metadata": {},
   "source": [
    "### sensitization"
   ]
  },
  {
   "cell_type": "code",
   "execution_count": 3,
   "metadata": {},
   "outputs": [],
   "source": [
    "In_sen_data=sen_project.export_records(forms=['indigo_sensitisation'])\n",
    "sen_log_data=pd.DataFrame(In_sen_data)\n",
    "\n",
    "sen_log_data=sen_log_data[['in_kiang_number','in_name','in_age','in_village', 'in_compound','in_eden_number','in_contact1','in_contact2','in_contact3','in_contact4','in_outcome','in_study_number']]\n",
    "sen_log_data=pd.DataFrame(In_sen_data)\n",
    "\n",
    "sen_log_data = sen_log_data[\n",
    "    (sen_log_data['in_outcome'] == '1') &\n",
    "    (sen_log_data['in_kiang_number'].notnull()) &\n",
    "    (sen_log_data['in_study_number'].notnull())\n",
    "]\n",
    "\n"
   ]
  },
  {
   "cell_type": "code",
   "execution_count": 4,
   "metadata": {},
   "outputs": [],
   "source": [
    "#mapping village code to village name\n",
    "sen_log_data=sen_log_data.rename(columns={'in_study_number': 'con_participantid_q1'})\n",
    "village_mapping = {\n",
    "'001':'Dumbuto',\n",
    "'002':'Sankandi',\n",
    "'003':'Nioro Jattaba',\n",
    "'004':'Jattaba',\n",
    "'005':'Jiffarong',\n",
    "'006':'Bajana',\n",
    "'007':'Kuli Kunda',\n",
    "'008':'Jamaru',\n",
    "'009':'Brikamanding',\n",
    "'010':'Kantong Kunda',\n",
    "'011':'Jali',\n",
    "'013':'Manduar',\n",
    "'014':'Bang Kuling',\n",
    "'015':'Gissay',\n",
    "'016':'Tankular',\n",
    "'017':'Joli',\n",
    "'018':'Kuyang',\n",
    "'019':'Bantasu',\n",
    "'020':'Santamba',\n",
    "'021':'Missira',\n",
    "'022':'Taborangkoto',\n",
    "'023':'Burong',\n",
    "'024':'Jula Kunda',\n",
    "'025':'Karantaba',\n",
    "'026':'Mandina',\n",
    "'027':'Janneh Kunda',\n",
    "'028':'Kemoto',\n",
    "'029':'Keneba',\n",
    "'030':'Batelling',\n",
    "'031':'Sandeng',\n",
    "'032':'Wudeba',\n",
    "'034':'Kenokoto',\n",
    "'035':'Manari',\n",
    "'036':'Nineteen',\n",
    "'040':'WUROKANG',\n",
    "'041':'KWINELLA SANSANKONO',\n",
    "'042':'KWINELLA NIA KUNDA',\n",
    "'043':'TENDABA',\n",
    "'044':'BUMARR',\n",
    "'045':'BAMBAKO',\n",
    "'046':'KUNDONG MARIAYA',\n",
    "'047':'NEMA',\n",
    "'048':'KUNDANG NUMU KUNDA',\n",
    "'049':'KUNDANG FULA KUNDA',\n",
    "'050':'NEMA KUTA',\n",
    "'051':'JIRROFF',\n",
    "'052':'MADINA ANGALLEH',\n",
    "'053':'JATTA KUNDA',\n",
    "'054':'MANDINA CENTRAL',\n",
    "'055':'SARE SARJO',\n",
    "'056':'SIBETO',\n",
    "'057':'SARE NDALLA',\n",
    "'058':'TABANANI',\n",
    "'060':'WILLINGARA',\n",
    "'061':'SARE MAMUDU'\n",
    "}\n",
    "\n",
    "# Assuming sen_log_data is your DataFrame\n",
    "sen_log_data['in_village'] = sen_log_data['in_village'].map(village_mapping)"
   ]
  },
  {
   "cell_type": "markdown",
   "metadata": {},
   "source": [
    "## WITHDRAWALS"
   ]
  },
  {
   "cell_type": "code",
   "execution_count": 5,
   "metadata": {},
   "outputs": [],
   "source": [
    "#extract study termination data\n",
    "termination_data = project.export_records(forms=['study_termination'])\n",
    "\n",
    "#convert data to Dataframe.\n",
    "term_data=pd.DataFrame(termination_data)"
   ]
  },
  {
   "cell_type": "code",
   "execution_count": 6,
   "metadata": {},
   "outputs": [],
   "source": [
    "# Specify the fields you want to extract base on logics\n",
    "df_withdrw=term_data[['con_participantid_q1','st_date','st_reason','redcap_event_name']]\n",
    "df_withdrw=pd.DataFrame(df_withdrw)\n",
    "\n",
    "#st_date as a date data type\n",
    "df_withdrw['st_date'] = pd.to_datetime(df_withdrw['st_date'], errors='coerce')\n",
    "\n",
    "\n",
    "df_withdrw = df_withdrw[\n",
    "    (df_withdrw['redcap_event_name'] == 'end_of_study_arm_1') &\n",
    "    (df_withdrw['st_date'].notnull())\n",
    "]\n"
   ]
  },
  {
   "cell_type": "code",
   "execution_count": 7,
   "metadata": {},
   "outputs": [],
   "source": [
    "Withdrawal_df = pd.DataFrame({\n",
    "    'con_participantid_q1': df_withdrw['con_participantid_q1'],\n",
    "    'withdrawal date': pd.to_datetime(df_withdrw['st_date']),\n",
    "    'Reason': df_withdrw['st_reason'],\n",
    "    'Status': 'Terminated'\n",
    "})\n",
    "\n",
    "# Save the DataFrame to a CSV file\n",
    "Withdrawal_df.to_csv('Withdrawals.csv', index=False)\n"
   ]
  },
  {
   "cell_type": "markdown",
   "metadata": {},
   "source": [
    "USS SCAN DATA"
   ]
  },
  {
   "cell_type": "code",
   "execution_count": 8,
   "metadata": {},
   "outputs": [],
   "source": [
    "##USS SCAN DATA SET\n",
    "#extract week 20 completed data\n",
    "USS = project.export_records(forms=['ultrasound_scan'])\n",
    "\n",
    "#convert data to Dataframe.\n",
    "uss=pd.DataFrame(USS)\n",
    "\n",
    "# Specify the fields you want to extract base on logics for week 20\n",
    "df_uss=uss[['con_participantid_q1','ultsc_date','ultsc_type_q5','ultsc_reschedule','redcap_event_name']]\n",
    "df_uss=pd.DataFrame(df_uss)\n"
   ]
  },
  {
   "cell_type": "code",
   "execution_count": 9,
   "metadata": {},
   "outputs": [],
   "source": [
    "##EDD LIST\n",
    "con_uss = project.export_records(forms=['consent','ultrasound_scan'])\n",
    "con_uss=pd.DataFrame(con_uss)\n",
    "\n",
    "# Specify the fields you want to extract\n",
    "df_data_uss=con_uss[['con_participantid_q1', 'con_participant_eden_num_q11', 'ultsc_date', 'ga_weeks','ga_days','con_cluster_q12','redcap_event_name']]\n",
    "\n",
    "df_data_uss = df_data_uss[\n",
    "    (df_data_uss['ultsc_date'].notnull())\n",
    "]\n",
    "######################################################################################################################################\n",
    "## EXCLUDE ALL WITHDRAWALS FROM THE DATA\n",
    "#Read from the ones that complete withdrawals: \"Withdrawals.csv\"\n",
    "df_withdrawals = pd.read_csv('Withdrawals.csv')\n",
    "\n",
    "# Merge the dataframes on 'participant_id'\n",
    "con_merged_df = pd.merge(df_data_uss, df_withdrawals, on= 'con_participantid_q1', how='inner')\n",
    "\n",
    "# Filter out the common participant IDs\n",
    "df_data_uss= df_data_uss[~df_data_uss['con_participantid_q1'].isin(con_merged_df['con_participantid_q1'])]\n",
    "######################################################################################################################################\n",
    "\n",
    "# Convert 'ga_weeks' and 'ga_days' columns to numeric type\n",
    "df_data_uss['ga_weeks'] = pd.to_numeric(df_data_uss['ga_weeks'], errors='coerce')\n",
    "df_data_uss['ga_days'] = pd.to_numeric(df_data_uss['ga_days'], errors='coerce')\n",
    "\n",
    "# Calculate today's date\n",
    "today = pd.Timestamp.today()\n",
    "\n",
    "# Extract the required columns from the DataFrame\n",
    "participant_id = df_data_uss['con_participantid_q1']\n",
    "uss_date = pd.to_datetime(df_data_uss['ultsc_date'])\n",
    "Ga_weeks = df_data_uss['ga_weeks']\n",
    "Ga_days = df_data_uss['ga_days']\n",
    "eden_num = df_data_uss['con_participant_eden_num_q11']\n",
    "\n",
    "# Calculate the total gestational age in days\n",
    "total_ga_days = (Ga_weeks * 7) + Ga_days\n",
    "\n",
    "# Calculate the estimated due date (EDD)\n",
    "edd = uss_date + pd.to_timedelta(280 - total_ga_days, unit='days')\n",
    "\n",
    "# Calculate the current gestational age\n",
    "days_diff = (today - uss_date).dt.days\n",
    "current_ga = (days_diff + total_ga_days) / 7\n",
    "\n",
    "event = df_data_uss['redcap_event_name']\n",
    "cluster = df_data_uss['con_cluster_q12']\n",
    "\n",
    "## This data frame is mainted to put together the data and maintain the variable name 'con_participantid_q1' for easy exclusion of participants who completed the wk20.\n",
    "\n",
    "\n",
    "edd_df = pd.DataFrame({\n",
    "    'con_participantid_q1': participant_id,\n",
    "    'USS Date': uss_date,\n",
    "    'EDEN | Infant Number': eden_num,\n",
    "    'Gestational Age (Weeks)': Ga_weeks,\n",
    "    'Gestational Age (Days)': Ga_days,\n",
    "    'Cluster': cluster,\n",
    "    'Current Gestational Age': current_ga,\n",
    "    '(Expected)Delivery Date ((E)DD)': edd,\n",
    "\n",
    "})\n"
   ]
  },
  {
   "cell_type": "code",
   "execution_count": null,
   "metadata": {},
   "outputs": [],
   "source": [
    "# Get today's date and time\n",
    "now = datetime.datetime.now()\n",
    "\n",
    "# Format the current date and time\n",
    "current_datetime = now.strftime('%Y%m%d_%H%M%S')\n",
    "\n",
    "# Create the filename with the current date and time\n",
    "filename = f'EDD List_v2.0_{current_datetime}.csv'\n",
    "\n",
    " #Save the filtered DataFrame to a CSV file\n",
    "edd_df.to_csv(filename, index=False)"
   ]
  }
 ],
 "metadata": {
  "kernelspec": {
   "display_name": "Python 3",
   "language": "python",
   "name": "python3"
  },
  "language_info": {
   "codemirror_mode": {
    "name": "ipython",
    "version": 3
   },
   "file_extension": ".py",
   "mimetype": "text/x-python",
   "name": "python",
   "nbconvert_exporter": "python",
   "pygments_lexer": "ipython3",
   "version": "3.7.9"
  }
 },
 "nbformat": 4,
 "nbformat_minor": 2
}
