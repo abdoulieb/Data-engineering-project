{
 "cells": [
  {
   "cell_type": "code",
   "execution_count": 1,
   "metadata": {},
   "outputs": [],
   "source": [
    "import redcap\n",
    "import csv\n",
    "import datetime\n",
    "import pandas as pd\n",
    "\n",
    "\n",
    "# # REDCap API endpoint and token\n",
    "# data = {\n",
    "#     'token': '744268EC805657595430964A3C0EC970',\n",
    "#     'content': 'project',\n",
    "#     'format': 'json',\n",
    "#     'returnFormat': 'json'\n",
    "# }\n",
    "# df= redcap.Project('https://ruff.mrc.gm:8443/redcap/api/',data['token'])\n",
    "\n",
    "# #export all project data\n",
    "# df_data=df.export_records()\n"
   ]
  },
  {
   "cell_type": "code",
   "execution_count": 2,
   "metadata": {},
   "outputs": [
    {
     "name": "stderr",
     "output_type": "stream",
     "text": [
      "c:\\Users\\yuceesay\\AppData\\Local\\Programs\\Python\\Python37\\lib\\site-packages\\IPython\\core\\interactiveshell.py:3553: DtypeWarning: Columns (16,73,78,108,110,119,157,159,176,194,202,205,206,222,224,228,232,235,236,243,258,272,286,287,288,291,293,294,312,349,350,352,353,362,363,365,366,369,371,377,378,380,381,383,388,389,396,398,399,401,402,443,444,446,447,482,484,489,493,502,513,514,515,520,521,523,525,528,529,531,533,535,540,544,545,549,550,555,557,558,563,565,566,573,574,579,580,581,603,637,641,653,658,662,663,668,671,674,678,681,685,689,706,708,709,712,715,718,721,722,724,725,732,734,735,797,813,814,978,979,982,1007,1013,1014,1016,1018,1019,1020,1023,1026,1027,1035,1037,1048,1051,1055,1056,1096,1097,1161,1162,1163,1164,1170,1171,1172,1173,1181,1182,1200,1201,1203,1206,1210,1214,1215,1216,1219,1220,1221,1232,1233,1234,1235,1236,1237,1238,1240,1242,1243,1244,1247,1248,1251,1254,1257,1258) have mixed types.Specify dtype option on import or set low_memory=False.\n",
      "  exec(code_obj, self.user_global_ns, self.user_ns)\n"
     ]
    }
   ],
   "source": [
    "#convert to a dataframe\n",
    "# df_data = pd.DataFrame(df_data)\n",
    "\n",
    "#Read from a local downloaded csv file. \n",
    "df_data= pd.read_csv('redcap_data.csv')"
   ]
  },
  {
   "cell_type": "code",
   "execution_count": 3,
   "metadata": {},
   "outputs": [],
   "source": [
    "# Specify the fields you want to extract\n",
    "M1_data=df_data[['con_participantid_q1','del_ddate_q7','redcap_event_name']]\n",
    "M1_data=pd.DataFrame(M1_data)\n",
    "M1_data = M1_data[\n",
    "    (M1_data['del_ddate_q7'] !='')\n",
    "]\n"
   ]
  },
  {
   "cell_type": "code",
   "execution_count": 4,
   "metadata": {},
   "outputs": [],
   "source": [
    "M01 = df_data[['con_participantid_q1','infant_id', 'bc_date']]\n",
    "M01 = pd.DataFrame(M01)\n",
    "M01 = M01[(M01['infant_id']!='')]"
   ]
  },
  {
   "cell_type": "code",
   "execution_count": 5,
   "metadata": {},
   "outputs": [],
   "source": [
    "#merge the data base on participant ID\n",
    "merged_data = M1_data.merge (M01, on='con_participantid_q1', how='left')\n",
    "\n",
    "#return the these variables base on the participant Id they have in common\n",
    "infant_call = merged_data[['con_participantid_q1','del_ddate_q7','infant_id',]]"
   ]
  },
  {
   "cell_type": "code",
   "execution_count": 6,
   "metadata": {},
   "outputs": [],
   "source": [
    "infant_call = pd.DataFrame(infant_call)\n",
    "\n",
    "#convert del_ddate_q7 to datetime\n",
    "infant_call['del_ddate_q7'] = pd.to_datetime(infant_call['del_ddate_q7'])\n",
    "\n",
    "#Due date and last due date calculation\n",
    "infant_call['due_date'] = infant_call['del_ddate_q7'] + pd.DateOffset(months= 1)\n",
    "infant_call['last_date'] = infant_call['del_ddate_q7'] + pd.DateOffset(months= 1, days=7)\n",
    "\n",
    "#purpose of visit\n",
    "infant_call['visit'] = 'Month 1'"
   ]
  },
  {
   "cell_type": "code",
   "execution_count": null,
   "metadata": {},
   "outputs": [],
   "source": [
    "# Extract the required columns from the DataFrame\n",
    "participant_id = infant_call['con_participantid_q1']\n",
    "del_date = pd.to_datetime(infant_call['del_ddate_q7'])\n",
    "infantID = infant_call['infant_id']\n",
    "due_date = infant_call['due_date']\n",
    "last_date = infant_call['last_date']\n",
    "visit = infant_call['visit']\n",
    "\n",
    "Month1_df = pd.DataFrame({\n",
    "    'Participant ID': participant_id,\n",
    "    'Delivery date': del_date,\n",
    "    'Infant ID': infantID,\n",
    "    'Due Date': due_date,\n",
    "    'Last Date': last_date,\n",
    "    'Visit': visit\n",
    "})\n",
    "\n",
    "\n",
    "Month1_df.to_csv('Month 1.csv', index=False)"
   ]
  }
 ],
 "metadata": {
  "kernelspec": {
   "display_name": "Python 3",
   "language": "python",
   "name": "python3"
  },
  "language_info": {
   "codemirror_mode": {
    "name": "ipython",
    "version": 3
   },
   "file_extension": ".py",
   "mimetype": "text/x-python",
   "name": "python",
   "nbconvert_exporter": "python",
   "pygments_lexer": "ipython3",
   "version": "3.7.9"
  }
 },
 "nbformat": 4,
 "nbformat_minor": 2
}
