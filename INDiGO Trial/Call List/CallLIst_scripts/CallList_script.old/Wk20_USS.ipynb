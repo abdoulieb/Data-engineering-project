{
 "cells": [
  {
   "cell_type": "code",
   "execution_count": 1,
   "metadata": {},
   "outputs": [
    {
     "name": "stderr",
     "output_type": "stream",
     "text": [
      "c:\\Users\\yuceesay\\AppData\\Local\\Programs\\Python\\Python37\\lib\\site-packages\\IPython\\core\\interactiveshell.py:3553: DtypeWarning: Columns (16,73,78,108,110,119,157,159,176,194,202,205,206,222,224,228,232,235,236,243,258,272,286,287,288,291,293,294,312,349,350,352,353,362,363,365,366,369,371,377,378,380,381,383,388,389,396,398,399,401,402,443,444,446,447,482,484,489,493,502,513,514,515,520,521,523,525,528,529,531,533,535,540,544,545,549,550,555,557,558,563,565,566,573,574,579,580,581,603,637,641,653,658,662,663,668,671,674,678,681,685,689,706,708,709,712,715,718,721,722,724,725,732,734,735,797,813,814,978,979,982,1007,1013,1014,1016,1018,1019,1020,1023,1026,1027,1035,1037,1048,1051,1055,1056,1096,1097,1161,1162,1163,1164,1170,1171,1172,1173,1181,1182,1200,1201,1203,1206,1210,1214,1215,1216,1219,1220,1221,1232,1233,1234,1235,1236,1237,1238,1240,1242,1243,1244,1247,1248,1251,1254,1257,1258) have mixed types.Specify dtype option on import or set low_memory=False.\n",
      "  exec(code_obj, self.user_global_ns, self.user_ns)\n"
     ]
    }
   ],
   "source": [
    "import redcap\n",
    "import csv\n",
    "import datetime\n",
    "import pandas as pd\n",
    "\n",
    "#Read from a local downloaded csv file. \n",
    "df_data= pd.read_csv('redcap_data.csv')"
   ]
  },
  {
   "cell_type": "code",
   "execution_count": 2,
   "metadata": {},
   "outputs": [],
   "source": [
    "#convert project data to dataframe\n",
    "df_data=pd.DataFrame(df_data)"
   ]
  },
  {
   "cell_type": "code",
   "execution_count": 3,
   "metadata": {},
   "outputs": [],
   "source": [
    "# Specify the fields you want to extract base on logics\n",
    "df_wk20_uss=df_data[['con_participantid_q1','ultsc_date','ultsc_type_q5','redcap_event_name']]\n",
    "df_wk20_uss=pd.DataFrame(df_wk20_uss)\n",
    "df_wk20_uss = df_wk20_uss[\n",
    "    (df_wk20_uss['redcap_event_name'] == 'week_20_arm_1') &\n",
    "    (df_wk20_uss['ultsc_date'] != '')\n",
    "]\n"
   ]
  },
  {
   "cell_type": "code",
   "execution_count": 4,
   "metadata": {},
   "outputs": [],
   "source": [
    "#extract required columns\n",
    "participant_id = df_wk20_uss['con_participantid_q1']\n",
    "uss_date = pd.to_datetime(df_wk20_uss['ultsc_date'])\n",
    "uss_type = df_wk20_uss['ultsc_type_q5']\n",
    "status = 'week 20 completed'"
   ]
  },
  {
   "cell_type": "code",
   "execution_count": 5,
   "metadata": {},
   "outputs": [],
   "source": [
    "results_df = pd.DataFrame({\n",
    "    'Participant ID': participant_id,\n",
    "    'USS Date': uss_date,\n",
    "    'USS Type': uss_type,\n",
    "    'Status': status\n",
    "})\n",
    "\n",
    "# Save the DataFrame to a CSV file\n",
    "results_df.to_csv('Week 20.csv', index=False)\n"
   ]
  }
 ],
 "metadata": {
  "kernelspec": {
   "display_name": "Python 3",
   "language": "python",
   "name": "python3"
  },
  "language_info": {
   "codemirror_mode": {
    "name": "ipython",
    "version": 3
   },
   "file_extension": ".py",
   "mimetype": "text/x-python",
   "name": "python",
   "nbconvert_exporter": "python",
   "pygments_lexer": "ipython3",
   "version": "3.7.9"
  },
  "orig_nbformat": 4
 },
 "nbformat": 4,
 "nbformat_minor": 2
}
