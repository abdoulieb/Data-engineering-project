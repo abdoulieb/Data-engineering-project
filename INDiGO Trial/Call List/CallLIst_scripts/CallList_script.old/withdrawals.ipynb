{
 "cells": [
  {
   "cell_type": "code",
   "execution_count": 1,
   "metadata": {},
   "outputs": [],
   "source": [
    "from redcap import Project\n",
    "import pandas as pd\n",
    "\n",
    "api_url = 'https://ruff.mrc.gm:8443/redcap/api/'\n",
    "api_key = 'E5FEBF04C14581CF182ABE8107AB8B50'\n",
    "project = Project(api_url, api_key)"
   ]
  },
  {
   "cell_type": "code",
   "execution_count": 2,
   "metadata": {},
   "outputs": [
    {
     "name": "stdout",
     "output_type": "stream",
     "text": [
      "Index(['con_participantid_q1', 'redcap_event_name', 'redcap_repeat_instrument',\n",
      "       'redcap_repeat_instance', 'st_date', 'st_lastactivity', 'st_reason',\n",
      "       'st_specify', 'st_completedby', 'study_termination_complete'],\n",
      "      dtype='object')\n"
     ]
    }
   ],
   "source": [
    "redcap_data = project.export_records(forms=['study_termination'])\n",
    "df_data=pd.DataFrame(redcap_data)\n",
    "\n",
    "print(df_data.columns)"
   ]
  },
  {
   "cell_type": "code",
   "execution_count": 5,
   "metadata": {},
   "outputs": [],
   "source": [
    "# Specify the fields you want to extract base on logics\n",
    "df_withdrw=df_data[['con_participantid_q1','st_date','st_reason','redcap_event_name']]\n",
    "df_withdrw=pd.DataFrame(df_withdrw)\n",
    "df_withdrw = df_withdrw[\n",
    "    (df_withdrw['redcap_event_name'] == 'end_of_study_arm_1') &\n",
    "    (df_withdrw['st_date'].notnull())\n",
    "]\n"
   ]
  },
  {
   "cell_type": "code",
   "execution_count": 7,
   "metadata": {},
   "outputs": [],
   "source": [
    "#extract required columns\n",
    "participant_id = df_withdrw['con_participantid_q1']\n",
    "withdrw_date = pd.to_datetime(df_withdrw['st_date'])\n",
    "reason = df_withdrw['st_reason']\n",
    "status = 'withdrawn'"
   ]
  },
  {
   "cell_type": "code",
   "execution_count": 8,
   "metadata": {},
   "outputs": [],
   "source": [
    "results_df = pd.DataFrame({\n",
    "    'con_participantid_q1': participant_id,\n",
    "    'withdrawal date': withdrw_date,\n",
    "    'Reason': reason,\n",
    "    'Status': status\n",
    "})\n",
    "\n",
    "# Save the DataFrame to a CSV file\n",
    "results_df.to_csv('Withdrawals.csv', index=False)\n"
   ]
  }
 ],
 "metadata": {
  "kernelspec": {
   "display_name": "Python 3",
   "language": "python",
   "name": "python3"
  },
  "language_info": {
   "codemirror_mode": {
    "name": "ipython",
    "version": 3
   },
   "file_extension": ".py",
   "mimetype": "text/x-python",
   "name": "python",
   "nbconvert_exporter": "python",
   "pygments_lexer": "ipython3",
   "version": "3.7.9"
  },
  "orig_nbformat": 4
 },
 "nbformat": 4,
 "nbformat_minor": 2
}
