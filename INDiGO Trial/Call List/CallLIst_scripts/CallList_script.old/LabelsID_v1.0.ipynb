{
 "cells": [
  {
   "cell_type": "markdown",
   "metadata": {},
   "source": [
    "#### Sample Label stickers"
   ]
  },
  {
   "cell_type": "code",
   "execution_count": 1,
   "metadata": {},
   "outputs": [],
   "source": [
    "import pandas as pd\n",
    "\n",
    "def process_data(df):\n",
    "    results = []\n",
    "    for index, row in df.iterrows():\n",
    "\n",
    "        maternal_visit= \"Maternal \"+\"(\" + row['Visit'] + \")\"\n",
    "        infant_visit = \"Infant \"+\"(\" + row['Visit'] + \")\"\n",
    "        leo_number = \"LEO25071\"\n",
    "        #Samples\n",
    "        edta = \"EDTA\"\n",
    "        lithHep = \"LithHep\"\n",
    "        breastmilk = \"BREAST MILK\"\n",
    "        urine = \"URINE\"\n",
    "        stool=\"STOOL\"\n",
    "        partID= row['PARTICIPANT ID']\n",
    "        infID= row['EDEN | INFANT ID']\n",
    "        due_date = row['DUE DATE']\n",
    "\n",
    "        if row['Visit'] == 'Month 1':\n",
    "            results.append([due_date, partID, maternal_visit, leo_number, edta])\n",
    "            results.append([due_date, partID, maternal_visit, leo_number, lithHep])\n",
    "            results.append([due_date, partID, maternal_visit, leo_number, urine])\n",
    "            results.append([due_date, partID, maternal_visit, leo_number, breastmilk])\n",
    "            results.append([due_date, partID, maternal_visit, leo_number, breastmilk])\n",
    "            results.append([due_date, infID, infant_visit, leo_number, edta])\n",
    "            results.append([due_date, infID, infant_visit, leo_number, stool])\n",
    "        elif row['Visit'] == 'Month 2':\n",
    "            results.append([due_date, infID, infant_visit, leo_number, stool])\n",
    "        elif row['Visit'] == 'Month 3':\n",
    "            results.append([due_date, partID, maternal_visit, leo_number, breastmilk])\n",
    "            results.append([due_date, partID, maternal_visit, leo_number, breastmilk])\n",
    "            results.append([due_date, infID, infant_visit, leo_number, stool])\n",
    "        elif row['Visit'] == 'Month 4':\n",
    "            results.append([due_date, infID, infant_visit, leo_number, stool])\n",
    "        elif row['Visit'] == 'Month 5':\n",
    "            results.append([due_date, infID, infant_visit, leo_number, stool])\n",
    "        elif row['Visit'] == 'Month 6':\n",
    "            results.append([due_date, partID, maternal_visit, leo_number, edta])\n",
    "            results.append([due_date, partID, maternal_visit, leo_number, lithHep])\n",
    "            results.append([due_date, partID, maternal_visit, leo_number, urine])\n",
    "            results.append([due_date, partID, maternal_visit, leo_number, breastmilk])\n",
    "            results.append([due_date, partID, maternal_visit, leo_number, breastmilk])\n",
    "            results.append([due_date, infID, infant_visit, leo_number, edta])\n",
    "            results.append([due_date, infID, infant_visit, leo_number, stool])\n",
    "        elif row['Visit'] == 'Month 7':\n",
    "            results.append([due_date, infID, infant_visit, leo_number, stool])\n",
    "        elif row['Visit'] == 'Month 8':\n",
    "            results.append([due_date, infID, infant_visit, leo_number, stool])\n",
    "        elif row['Visit'] == 'Month 9':\n",
    "            results.append([due_date, infID, infant_visit, leo_number, stool])\n",
    "        elif row['Visit'] == 'Month 10':\n",
    "            results.append([due_date, infID, infant_visit, leo_number, stool])\n",
    "        elif row['Visit'] == 'Month 11':\n",
    "            results.append([due_date, infID, infant_visit, leo_number, stool])\n",
    "        elif row['Visit'] == 'Month 12':\n",
    "            results.append([due_date, partID, maternal_visit, leo_number, edta])\n",
    "            results.append([due_date, partID, maternal_visit, leo_number, lithHep])\n",
    "            results.append([due_date, partID, maternal_visit, leo_number, urine])\n",
    "            results.append([due_date, partID, maternal_visit, leo_number, breastmilk])\n",
    "            results.append([due_date, partID, maternal_visit, leo_number, breastmilk])\n",
    "            results.append([due_date, infID, infant_visit, leo_number, edta])\n",
    "            results.append([due_date, infID, infant_visit, leo_number, stool])   \n",
    "\n",
    "    return pd.DataFrame(results, columns=['Due Date','ID', 'Visit', 'LEO Number', 'Sample'])\n",
    "\n"
   ]
  },
  {
   "cell_type": "code",
   "execution_count": 2,
   "metadata": {},
   "outputs": [],
   "source": [
    "# Read CSV file\n",
    "filename = \"CallList_20240718_163711.CSV\"\n",
    "df = pd.read_csv(filename)\n",
    "\n",
    "# Process data\n",
    "processed_df = process_data(df)\n",
    "\n"
   ]
  },
  {
   "cell_type": "code",
   "execution_count": 3,
   "metadata": {},
   "outputs": [],
   "source": [
    "import datetime\n",
    "# Get today's date and time\n",
    "now = datetime.datetime.now()\n",
    "\n",
    "# Format the current date and time\n",
    "current_datetime = now.strftime('%Y%m%d_%H%M%S')\n",
    "\n",
    "# Create the filename with the current date and time\n",
    "filename = f'INDiGO Labels_{current_datetime}.csv'\n",
    "\n",
    " #Save the filtered DataFrame to a CSV file\n",
    "processed_df.to_csv(filename, index=False)"
   ]
  }
 ],
 "metadata": {
  "kernelspec": {
   "display_name": "Python 3",
   "language": "python",
   "name": "python3"
  },
  "language_info": {
   "codemirror_mode": {
    "name": "ipython",
    "version": 3
   },
   "file_extension": ".py",
   "mimetype": "text/x-python",
   "name": "python",
   "nbconvert_exporter": "python",
   "pygments_lexer": "ipython3",
   "version": "3.7.9"
  }
 },
 "nbformat": 4,
 "nbformat_minor": 2
}
