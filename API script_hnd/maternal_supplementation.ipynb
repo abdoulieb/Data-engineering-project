{
 "cells": [
  {
   "cell_type": "code",
   "execution_count": 18,
   "metadata": {},
   "outputs": [],
   "source": [
    "from redcap import Project\n",
    "import pandas as pd\n",
    "\n",
    "#REDCap API configuration\n",
    "api_url = 'https://ruff.mrc.gm:8443/redcap/api/'\n",
    "api_key = 'D6807C091B1FC14F57CC9B2972D0B398'\n",
    "project = Project(api_url, api_key)"
   ]
  },
  {
   "cell_type": "code",
   "execution_count": 19,
   "metadata": {},
   "outputs": [],
   "source": [
    "crf_name = 'maternal_supplementation'\n",
    "\n",
    "# Use the export_records() function to export the specified CRF\n",
    "crf_data = project.export_records(forms=[crf_name])\n",
    "\n",
    "crf_data = pd.DataFrame(crf_data)\n",
    "counts = (\n",
    "    (crf_data['ms_sup_administered_q2'] == '1') \n",
    ").groupby(crf_data['con_participantid_q1']).sum().rename('Total_ips_use')\n",
    "\n",
    "total_counts = counts \n",
    "total_counts.name = 'Total_ips_Issused'\n",
    "\n",
    "crf_data = pd.merge(crf_data, total_counts, on=['con_participantid_q1'], how='inner')\n",
    "#crf_data['total_IP_issued'] = 84\n",
    "#crf_data['balance'] = crf_data['total_IP_issued'] - crf_data['Total_ips_combined']\n",
    "\n",
    "# Calculate the count of each instrument\n",
    "instrument_counts = crf_data['redcap_repeat_instrument'].value_counts()\n",
    "\n",
    "# Find the instrument with the maximum count\n",
    "max_count_instrument = instrument_counts.idxmax()\n",
    "\n",
    "# Group by the highest instrument count\n",
    "grouped_data = crf_data.groupby('redcap_repeat_instrument').filter(lambda x: x['redcap_repeat_instrument'].value_counts().max() == instrument_counts.max())\n",
    "\n",
    "# Save the grouped data to a CSV file\n",
    "grouped_data.to_csv('History_matartinal_supplement_log .csv', index=False)\n",
    "\n",
    "\n",
    "#current_IP.to_csv('ip_log.csv', index=False)\n",
    "grouped_data.drop_duplicates('con_participantid_q1').to_csv('IP_Maternal_supplement_log.csv', index=False)\n",
    "# Save ip_log to a CSV file\n"
   ]
  }
 ],
 "metadata": {
  "kernelspec": {
   "display_name": "Python 3",
   "language": "python",
   "name": "python3"
  },
  "language_info": {
   "codemirror_mode": {
    "name": "ipython",
    "version": 3
   },
   "file_extension": ".py",
   "mimetype": "text/x-python",
   "name": "python",
   "nbconvert_exporter": "python",
   "pygments_lexer": "ipython3",
   "version": "3.11.5"
  }
 },
 "nbformat": 4,
 "nbformat_minor": 2
}
