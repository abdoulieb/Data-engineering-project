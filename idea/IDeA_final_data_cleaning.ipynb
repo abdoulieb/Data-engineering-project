{
 "cells": [
  {
   "cell_type": "code",
   "execution_count": 42,
   "metadata": {},
   "outputs": [],
   "source": [
    "import redcap\n",
    "import  pandas as pd \n",
    "data = {\n",
    "    'token': '085520489DF98911614E03FF05D58EA8',\n",
    "    'content': 'project',\n",
    "    'format': 'csv',\n",
    "    'returnFormat': 'csv'\n",
    "}\n",
    "\n",
    "IdeA_Data = redcap.Project('https://ruff.mrc.gm:8443/redcap/api/', data['token'])"
   ]
  },
  {
   "cell_type": "code",
   "execution_count": 43,
   "metadata": {},
   "outputs": [],
   "source": [
    "IdeA_Data_final_cleaning=IdeA_Data.export_records(records=['IDeA30003H'])\n",
    "\n"
   ]
  },
  {
   "cell_type": "code",
   "execution_count": 44,
   "metadata": {},
   "outputs": [],
   "source": [
    "IdeA_Data_final_cleaning=pd.DataFrame(IdeA_Data_final_cleaning)"
   ]
  },
  {
   "cell_type": "code",
   "execution_count": 45,
   "metadata": {},
   "outputs": [],
   "source": [
    "IdeA_Data_final_cleaning=IdeA_Data_final_cleaning[['cons_recordid_q1','redcap_repeat_instrument','redcap_event_name','redcap_repeat_instance',\n",
    "                                                   'consent_complete','assessment_of_informed_consent_understanding_complete','sourcedocument_complete',\n",
    "                                                   'prescreening_complete','anthrops_complete','demograhics_complete','vitalsign_complete','screening_complete','bloodsamplecollection_complete','stoolsamplecollection_complete',\n",
    "                                                   'randomization_complete','ironsupplement_complete','feedingquestionaire_complete','ae_complete','noncompliance_form_complete','withdrawal_complete','samplereception_complete',\n",
    "                                                   'bloodsample_processing_complete','stool_processing_complete','serumstorage_complete','stoolstorage_complete','clinicreferal_complete','sysmexresult_complete','erythroferroneresult_2_complete',\n",
    "                                                   'erythroferroneresult_complete','intervention_complete','ip_accountability_log_complete']]"
   ]
  },
  {
   "cell_type": "code",
   "execution_count": 46,
   "metadata": {},
   "outputs": [],
   "source": [
    "# Assuming IdeA_Data_final_cleaning is your DataFrame\n",
    "\n",
    "# Use groupby and pivot_table to reshape the DataFrame\n",
    "reshaped_df = IdeA_Data_final_cleaning.groupby(['cons_recordid_q1', 'redcap_event_name']).agg({'redcap_repeat_instance': 'first'}).unstack()\n",
    "\n",
    "# Reset the index if needed\n",
    "reshaped_df.reset_index(inplace=True)\n",
    "\n",
    "# Display the resulting DataFrame\n",
    "\n"
   ]
  },
  {
   "cell_type": "code",
   "execution_count": 47,
   "metadata": {},
   "outputs": [],
   "source": [
    "sysmex=IdeA_Data.export_records(forms=['sysmexresult'])"
   ]
  },
  {
   "cell_type": "code",
   "execution_count": 48,
   "metadata": {},
   "outputs": [],
   "source": [
    "sysmex=pd.DataFrame(sysmex)\n",
    "sysmex=sysmex[['cons_recordid_q1','redcap_event_name','sysmexresult_complete']]\n",
    "sysmex=sysmex[\n",
    "    (sysmex['redcap_event_name']=='v12_arm_1')&\n",
    "    (sysmex['sysmexresult_complete']=='2')    \n",
    "]"
   ]
  },
  {
   "cell_type": "code",
   "execution_count": 49,
   "metadata": {},
   "outputs": [],
   "source": [
    "blood_sample=IdeA_Data.export_records(forms=['bloodsamplecollection'])"
   ]
  },
  {
   "cell_type": "code",
   "execution_count": 50,
   "metadata": {},
   "outputs": [],
   "source": [
    "blood_sample=pd.DataFrame(blood_sample)"
   ]
  },
  {
   "cell_type": "code",
   "execution_count": 51,
   "metadata": {},
   "outputs": [],
   "source": [
    "blood_sample=blood_sample[['cons_recordid_q1', 'redcap_event_name','bld_samplecoll_q3','bloodsamplecollection_complete',]]\n",
    "blood_sample=blood_sample[\n",
    "    (blood_sample['redcap_event_name']=='v12_arm_1')&\n",
    "    (blood_sample['bld_samplecoll_q3']=='1')\n",
    "]"
   ]
  },
  {
   "cell_type": "code",
   "execution_count": 52,
   "metadata": {},
   "outputs": [],
   "source": [
    "join_blood_sysmex=pd.merge(sysmex,blood_sample,on='cons_recordid_q1',how='left')\n"
   ]
  },
  {
   "cell_type": "code",
   "execution_count": 53,
   "metadata": {},
   "outputs": [],
   "source": [
    "iron_sup=IdeA_Data.export_records(forms=['ironsupplement'])\n",
    "iron_sup=pd.DataFrame(iron_sup)"
   ]
  },
  {
   "cell_type": "code",
   "execution_count": 55,
   "metadata": {},
   "outputs": [],
   "source": [
    "iron_sup=iron_sup[['cons_recordid_q1', 'redcap_event_name', 'iron_visitstatus_q1a','redcap_repeat_instance','iron_patcontactdate_q1','iron_visitreason_q1b','ironsupplement_complete']]\n",
    "iron_sup=iron_sup[\n",
    "    (iron_sup['redcap_event_name']=='v12_arm_1')&\n",
    "    (iron_sup['ironsupplement_complete']=='2')\n",
    "    \n",
    "   \n",
    "]\n"
   ]
  },
  {
   "cell_type": "code",
   "execution_count": 56,
   "metadata": {},
   "outputs": [],
   "source": [
    "filter_data_iron=iron_sup[\n",
    "    (iron_sup['redcap_repeat_instance']==7)\n",
    "]"
   ]
  },
  {
   "cell_type": "code",
   "execution_count": 57,
   "metadata": {},
   "outputs": [],
   "source": [
    "join_sysmex_iron=pd.merge(filter_data_iron,sysmex,on='cons_recordid_q1',how='left')"
   ]
  },
  {
   "cell_type": "code",
   "execution_count": 58,
   "metadata": {},
   "outputs": [],
   "source": [
    "blood_sample=IdeA_Data.export_records(forms=['bloodsamplecollection'])\n",
    "blood_sample=pd.DataFrame(blood_sample)\n",
    "blood_sample=blood_sample[['cons_recordid_q1', 'redcap_event_name', 'bld_datecoll_q1', 'bloodsamplecollection_complete']]\n",
    "blood_sample=blood_sample[\n",
    "    (blood_sample['redcap_event_name']=='v12_arm_1')&\n",
    "    (blood_sample['bloodsamplecollection_complete']=='2')\n",
    "    \n",
    "]"
   ]
  },
  {
   "cell_type": "code",
   "execution_count": null,
   "metadata": {},
   "outputs": [],
   "source": [
    "join_sysmex_blood_sample=pd.merge(blood_sample,sysmex,on='cons_recordid_q1',how='left')"
   ]
  }
 ],
 "metadata": {
  "kernelspec": {
   "display_name": "Python 3",
   "language": "python",
   "name": "python3"
  },
  "language_info": {
   "codemirror_mode": {
    "name": "ipython",
    "version": 3
   },
   "file_extension": ".py",
   "mimetype": "text/x-python",
   "name": "python",
   "nbconvert_exporter": "python",
   "pygments_lexer": "ipython3",
   "version": "3.11.5"
  }
 },
 "nbformat": 4,
 "nbformat_minor": 2
}
