{
 "cells": [
  {
   "cell_type": "code",
   "execution_count": 40,
   "metadata": {},
   "outputs": [],
   "source": [
    "import redcap\n",
    "data = {\n",
    "    'token': 'E5D1F8B694072DCC46C0A8236CCC2670',\n",
    "    'content': 'project',\n",
    "    'format': 'json',\n",
    "    'returnFormat': 'json'\n",
    "}\n",
    "proj = redcap.Project('https://redcap.mrc.gm:8443/redcap/api/', data['token'])\n",
    "\n",
    "pro= redcap.Project('https://ruff.mrc.gm:8443/redcap/api/', data['token'])\n",
    "data = {\n",
    "    'token': '085520489DF98911614E03FF05D58EA8',\n",
    "    'content': 'project',\n",
    "    'format': 'csv',\n",
    "    'returnFormat': 'csv'\n",
    "}\n",
    "\n",
    "pro = redcap.Project('https://ruff.mrc.gm:8443/redcap/api/', data['token'])"
   ]
  },
  {
   "cell_type": "code",
   "execution_count": null,
   "metadata": {},
   "outputs": [],
   "source": []
  },
  {
   "cell_type": "code",
   "execution_count": 41,
   "metadata": {},
   "outputs": [
    {
     "name": "stderr",
     "output_type": "stream",
     "text": [
      "C:\\Users\\abliebah\\AppData\\Local\\Temp\\ipykernel_18456\\3325055325.py:7: SettingWithCopyWarning: \n",
      "A value is trying to be set on a copy of a slice from a DataFrame.\n",
      "Try using .loc[row_indexer,col_indexer] = value instead\n",
      "\n",
      "See the caveats in the documentation: https://pandas.pydata.org/pandas-docs/stable/user_guide/indexing.html#returning-a-view-versus-a-copy\n",
      "  potential['current_age'] = np.zeros(len(potential))\n",
      "C:\\Users\\abliebah\\AppData\\Local\\Temp\\ipykernel_18456\\3325055325.py:8: SettingWithCopyWarning: \n",
      "A value is trying to be set on a copy of a slice from a DataFrame.\n",
      "Try using .loc[row_indexer,col_indexer] = value instead\n",
      "\n",
      "See the caveats in the documentation: https://pandas.pydata.org/pandas-docs/stable/user_guide/indexing.html#returning-a-view-versus-a-copy\n",
      "  potential['birthday_068f90'] = pd.to_datetime(potential['birthday_068f90'])\n",
      "C:\\Users\\abliebah\\AppData\\Local\\Temp\\ipykernel_18456\\3325055325.py:20: SettingWithCopyWarning: \n",
      "A value is trying to be set on a copy of a slice from a DataFrame.\n",
      "Try using .loc[row_indexer,col_indexer] = value instead\n",
      "\n",
      "See the caveats in the documentation: https://pandas.pydata.org/pandas-docs/stable/user_guide/indexing.html#returning-a-view-versus-a-copy\n",
      "  potential['current_age'] = potential['birthday_068f90'].apply(calculate_age_in_months)\n",
      "C:\\Users\\abliebah\\AppData\\Local\\Temp\\ipykernel_18456\\3325055325.py:25: SettingWithCopyWarning: \n",
      "A value is trying to be set on a copy of a slice from a DataFrame.\n",
      "Try using .loc[row_indexer,col_indexer] = value instead\n",
      "\n",
      "See the caveats in the documentation: https://pandas.pydata.org/pandas-docs/stable/user_guide/indexing.html#returning-a-view-versus-a-copy\n",
      "  potential['record_id'] = potential['record_id'].str.replace('SEN', '')\n"
     ]
    }
   ],
   "source": [
    "import pandas as pd\n",
    "import numpy as np\n",
    "import datetime\n",
    "df= proj.export_records(forms=['sensitization'])\n",
    "df=pd.DataFrame(df)\n",
    "potential=df[df['sen_anotherstudy_2f8854']=='0']\n",
    "potential['current_age'] = np.zeros(len(potential))\n",
    "potential['birthday_068f90'] = pd.to_datetime(potential['birthday_068f90'])\n",
    "\n",
    "# Get the current date and time\n",
    "current_date = datetime.datetime.now()\n",
    "\n",
    "# Calculate the age of individuals in months and round to 2 decimal places\n",
    "def calculate_age_in_months(birthday):\n",
    "    age_months = (current_date.year - birthday.year) * 12 + (current_date.month - birthday.month)\n",
    "    if current_date.day < birthday.day:\n",
    "        age_months -= 1\n",
    "    return age_months\n",
    "\n",
    "potential['current_age'] = potential['birthday_068f90'].apply(calculate_age_in_months)\n",
    "\n",
    "\n",
    "# Print the updated DataFrame\n",
    "\n",
    "potential['record_id'] = potential['record_id'].str.replace('SEN', '')\n",
    "potential=pd.DataFrame(potential)\n",
    "\n"
   ]
  },
  {
   "cell_type": "code",
   "execution_count": 42,
   "metadata": {},
   "outputs": [],
   "source": [
    "import pandas as pd\n",
    "\n",
    "IDeA_Data = pro.export_records()\n",
    "IDeA_Data = pd.DataFrame(IDeA_Data)\n",
    "IDeA_Data = IDeA_Data.rename(columns={'cons_recordid_q1': 'record_id'})\n",
    "\n",
    "senIDeA_Data = proj.export_records()\n",
    "senIDeA_Data = pd.DataFrame(senIDeA_Data)\n",
    "senIDeA_Data['record_id'] = senIDeA_Data['record_id'].str.replace('SEN', '')\n",
    "records_not_in_IDeA = senIDeA_Data[~senIDeA_Data['record_id'].astype(str).isin(IDeA_Data['record_id'].astype(str))]\n",
    "records_not_in_IDeA= pd.merge(records_not_in_IDeA, potential, on='record_id', how='inner')"
   ]
  },
  {
   "cell_type": "code",
   "execution_count": null,
   "metadata": {},
   "outputs": [],
   "source": []
  }
 ],
 "metadata": {
  "kernelspec": {
   "display_name": "Python 3",
   "language": "python",
   "name": "python3"
  },
  "language_info": {
   "codemirror_mode": {
    "name": "ipython",
    "version": 3
   },
   "file_extension": ".py",
   "mimetype": "text/x-python",
   "name": "python",
   "nbconvert_exporter": "python",
   "pygments_lexer": "ipython3",
   "version": "3.11.2"
  },
  "orig_nbformat": 4
 },
 "nbformat": 4,
 "nbformat_minor": 2
}
