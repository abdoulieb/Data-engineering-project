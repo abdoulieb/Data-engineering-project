{
 "cells": [
  {
   "cell_type": "code",
   "execution_count": 12,
   "metadata": {},
   "outputs": [],
   "source": [
    "import redcap\n",
    "import pandas as pd\n",
    "from datetime import datetime, timedelta\n",
    "data = {\n",
    "    'token': '085520489DF98911614E03FF05D58EA8',\n",
    "    'content': 'project',\n",
    "    'format': 'csv',\n",
    "    'returnFormat': 'csv'\n",
    "}\n",
    "\n",
    "df= redcap.Project('https://ruff.mrc.gm:8443/redcap/api/', data['token'])\n",
    "\n",
    "data = {\n",
    "    'token': '085520489DF98911614E03FF05D58EA8',\n",
    "    'content': 'project',\n",
    "    'format': 'csv',\n",
    "    'returnFormat': 'csv'\n",
    "}\n",
    "\n",
    "IdeA_Data = redcap.Project('https://ruff.mrc.gm:8443/redcap/api/', data['token'])"
   ]
  },
  {
   "cell_type": "code",
   "execution_count": 13,
   "metadata": {},
   "outputs": [],
   "source": [
    "df_consent=df.export_records(forms=['consent'])\n",
    "df_consent=pd.DataFrame(df_consent)"
   ]
  },
  {
   "cell_type": "code",
   "execution_count": 14,
   "metadata": {},
   "outputs": [],
   "source": [
    "df_consent=df_consent[\n",
    "    (df_consent['consent_complete']=='2')&\n",
    "     (df_consent['cons_obtained_q4']=='1')&\n",
    "   \n",
    "    (df_consent['dob']=='')\n",
    "\n",
    "]\n"
   ]
  },
  {
   "cell_type": "code",
   "execution_count": 15,
   "metadata": {},
   "outputs": [
    {
     "data": {
      "text/plain": [
       "pandas.core.series.Series"
      ]
     },
     "execution_count": 15,
     "metadata": {},
     "output_type": "execute_result"
    }
   ],
   "source": [
    "type(df_consent['cons_obtained_q4'])"
   ]
  },
  {
   "cell_type": "code",
   "execution_count": 16,
   "metadata": {},
   "outputs": [],
   "source": [
    "df_consent=df_consent[\n",
    "    (df_consent['cons_obtained_q4']=='1')|\n",
    "      (df_consent['cons_obtained_q4']=='2')\n",
    "]"
   ]
  },
  {
   "cell_type": "code",
   "execution_count": 17,
   "metadata": {},
   "outputs": [],
   "source": [
    "df_screen=df.export_records(forms=['screening'])\n",
    "df_screen=pd.DataFrame(df_screen)\n",
    "df_screen=df_screen[\n",
    "    (df_screen['screening_complete']=='2')\n",
    "]"
   ]
  },
  {
   "cell_type": "code",
   "execution_count": 18,
   "metadata": {},
   "outputs": [],
   "source": [
    "df_sysmex=df.export_records(forms=['sysmexresult'])\n",
    "df_sysmex=pd.DataFrame(df_sysmex)\n",
    "df_sysmex['sysm_hgb_q3'] = pd.to_numeric(df_sysmex['sysm_hgb_q3'], errors='coerce')"
   ]
  },
  {
   "cell_type": "code",
   "execution_count": 19,
   "metadata": {},
   "outputs": [],
   "source": [
    "df_sysmex=df_sysmex[\n",
    "    (df_sysmex['redcap_event_name']=='v1_arm_1')&\n",
    "    (df_sysmex['sysm_hgb_q3']>11.0)\n",
    "]\n"
   ]
  },
  {
   "cell_type": "code",
   "execution_count": 20,
   "metadata": {},
   "outputs": [],
   "source": [
    "completed_fellow_up=df.export_report(report_id='410')\n",
    "completed_fellow_up=pd.DataFrame(completed_fellow_up)\n",
    "\n",
    "\n",
    "# Assuming 'bld_datecoll_q1' is in datetime format, if not, convert it first.\n",
    "completed_fellow_up['bld_datecoll_q1'] = pd.to_datetime(completed_fellow_up['bld_datecoll_q1'])\n",
    "\n",
    "# Get the current date\n",
    "current_date = datetime.now()\n",
    "\n",
    "# Calculate the difference between 'start_date' and the current date\n",
    "completed_fellow_up['date_difference'] = current_date - completed_fellow_up['bld_datecoll_q1']\n",
    "completed_fellow_up.to_csv('completed_fellow_up.csv',index=False)\n",
    "# Filter out records where the date difference is greater than 14 days\n",
    "filtered_completed_fellow_up = completed_fellow_up[completed_fellow_up['date_difference'] > timedelta(days=14)]\n",
    "\n",
    "# Optionally, you can drop the 'date_difference' column if you don't need it\n",
    "filtered_completed_fellow_up.to_csv('filtered_completed_fellow_up.csv',index=False)"
   ]
  },
  {
   "cell_type": "code",
   "execution_count": null,
   "metadata": {},
   "outputs": [],
   "source": [
    "iron_sup=IdeA_Data.export_records(forms=['ironsupplement'])\n",
    "iron_sup=pd.DataFrame(iron_sup)\n",
    "\n",
    "iron_sup=iron_sup[['cons_recordid_q1','redcap_event_name', 'redcap_repeat_instance','iron_visitstatus_q1a','iron_visitreason_q1b']]\n",
    "iron_sup=iron_sup[\n",
    "    (iron_sup['iron_visitstatus_q1a']=='0')\n",
    "]\n",
    "iron_sup['occurrences'] = iron_sup['cons_recordid_q1'].map(iron_sup['cons_recordid_q1'].value_counts())\n",
    "iron_sup = iron_sup.drop_duplicates(subset=['cons_recordid_q1'])"
   ]
  },
  {
   "cell_type": "code",
   "execution_count": null,
   "metadata": {},
   "outputs": [],
   "source": [
    "deviation = pd.merge(filtered_completed_fellow_up, iron_sup, on='cons_recordid_q1',how='inner')\n",
    "deviation.to_csv('completed_deviation.csv',index=False)"
   ]
  },
  {
   "cell_type": "markdown",
   "metadata": {},
   "source": [
    "bloodsample_processing=IdeA_Data.export_records(forms=['bloodsample_processing'])\n",
    "bloodsample_processing=pd.DataFrame(bloodsample_processing)\n",
    "\n",
    "aliqoute1=bloodsample_processing[\n",
    "    (bloodsample_processing['samp_serumaliquot_q3___1']=='1')\n",
    "]\n",
    "aliqoute2=bloodsample_processing[\n",
    "    (bloodsample_processing['samp_serumaliquot_q3___2']=='1')\n",
    "]\n",
    "\n",
    "aliqoute3=bloodsample_processing[\n",
    "    (bloodsample_processing['samp_serumaliquot_q3___3']=='1')\n",
    "]\n",
    "bloodsample_processing=bloodsample_processing[\n",
    "    (bloodsample_processing['bloodsample_processing_complete']=='2')\n",
    "]\n",
    "stool_processing=IdeA_Data.export_records(forms=['stool_processing'])\n",
    "stool_processing=pd.DataFrame(stool_processing)\n",
    "stool_processing=stool_processing[\n",
    "    (stool_processing['stool_processing_complete']=='2')\n",
    "]\n",
    "stool_processing_aliquate_1=stool_processing[\n",
    "    (stool_processing['stoo_aliquot_q6']=='1')\n",
    "]"
   ]
  }
 ],
 "metadata": {
  "kernelspec": {
   "display_name": "Python 3",
   "language": "python",
   "name": "python3"
  },
  "language_info": {
   "codemirror_mode": {
    "name": "ipython",
    "version": 3
   },
   "file_extension": ".py",
   "mimetype": "text/x-python",
   "name": "python",
   "nbconvert_exporter": "python",
   "pygments_lexer": "ipython3",
   "version": "3.11.5"
  },
  "orig_nbformat": 4
 },
 "nbformat": 4,
 "nbformat_minor": 2
}
