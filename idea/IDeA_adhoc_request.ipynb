{
 "cells": [
  {
   "cell_type": "code",
   "execution_count": 1,
   "metadata": {},
   "outputs": [],
   "source": [
    "import pandas as pd \n",
    "import matplotlib.pyplot as plt\n",
    "import redcap\n",
    "data = {\n",
    "    'token': '085520489DF98911614E03FF05D58EA8',\n",
    "    'content': 'project',\n",
    "    'format': 'json',\n",
    "    'returnFormat': 'json'\n",
    "}\n",
    "proj =redcap.Project('https://ruff.mrc.gm:8443/redcap/api/', data['token'])\n",
    "\n",
    "\n"
   ]
  },
  {
   "cell_type": "code",
   "execution_count": 4,
   "metadata": {},
   "outputs": [
    {
     "ename": "RequestException",
     "evalue": "{'error': 'An unknown error occurred. Please check your API parameters.'}",
     "output_type": "error",
     "traceback": [
      "\u001b[1;31m---------------------------------------------------------------------------\u001b[0m",
      "\u001b[1;31mRequestException\u001b[0m                          Traceback (most recent call last)",
      "\u001b[1;32mc:\\xampp\\htdocs\\Ex_Files_Python_Essential_Training\\Exercise Files\\Idea3\\Idea\\IDeA_adhoc_request.ipynb Cell 2\u001b[0m line \u001b[0;36m1\n\u001b[1;32m----> <a href='vscode-notebook-cell:/c%3A/xampp/htdocs/Ex_Files_Python_Essential_Training/Exercise%20Files/Idea3/Idea/IDeA_adhoc_request.ipynb#W1sZmlsZQ%3D%3D?line=0'>1</a>\u001b[0m adhoc\u001b[39m=\u001b[39mproj\u001b[39m.\u001b[39;49mexport_records()\n",
      "File \u001b[1;32mc:\\Users\\abliebah\\AppData\\Local\\Programs\\Python\\Python311\\Lib\\site-packages\\redcap\\methods\\records.py:292\u001b[0m, in \u001b[0;36mRecords.export_records\u001b[1;34m(self, format_type, records, fields, forms, events, raw_or_label, raw_or_label_headers, event_name, record_type, export_survey_fields, export_data_access_groups, export_checkbox_labels, filter_logic, date_begin, date_end, decimal_character, export_blank_for_gray_form_status, df_kwargs)\u001b[0m\n\u001b[0;32m    289\u001b[0m     payload[\u001b[39m\"\u001b[39m\u001b[39mdateRangeEnd\u001b[39m\u001b[39m\"\u001b[39m] \u001b[39m=\u001b[39m date_end\u001b[39m.\u001b[39mstrftime(\u001b[39m\"\u001b[39m\u001b[39m%\u001b[39m\u001b[39mY-\u001b[39m\u001b[39m%\u001b[39m\u001b[39mm-\u001b[39m\u001b[39m%d\u001b[39;00m\u001b[39m \u001b[39m\u001b[39m%\u001b[39m\u001b[39mH:\u001b[39m\u001b[39m%\u001b[39m\u001b[39mM:\u001b[39m\u001b[39m%\u001b[39m\u001b[39mS\u001b[39m\u001b[39m\"\u001b[39m)\n\u001b[0;32m    291\u001b[0m return_type \u001b[39m=\u001b[39m \u001b[39mself\u001b[39m\u001b[39m.\u001b[39m_lookup_return_type(format_type, request_type\u001b[39m=\u001b[39m\u001b[39m\"\u001b[39m\u001b[39mexport\u001b[39m\u001b[39m\"\u001b[39m)\n\u001b[1;32m--> 292\u001b[0m response \u001b[39m=\u001b[39m \u001b[39mself\u001b[39;49m\u001b[39m.\u001b[39;49m_call_api(payload, return_type)\n\u001b[0;32m    294\u001b[0m \u001b[39mreturn\u001b[39;00m \u001b[39mself\u001b[39m\u001b[39m.\u001b[39m_return_data(\n\u001b[0;32m    295\u001b[0m     response\u001b[39m=\u001b[39mresponse,\n\u001b[0;32m    296\u001b[0m     content\u001b[39m=\u001b[39m\u001b[39m\"\u001b[39m\u001b[39mrecord\u001b[39m\u001b[39m\"\u001b[39m,\n\u001b[1;32m   (...)\u001b[0m\n\u001b[0;32m    299\u001b[0m     record_type\u001b[39m=\u001b[39mrecord_type,\n\u001b[0;32m    300\u001b[0m )\n",
      "File \u001b[1;32mc:\\Users\\abliebah\\AppData\\Local\\Programs\\Python\\Python311\\Lib\\site-packages\\redcap\\methods\\base.py:515\u001b[0m, in \u001b[0;36mBase._call_api\u001b[1;34m(self, payload, return_type, file)\u001b[0m\n\u001b[0;32m    512\u001b[0m return_headers \u001b[39m=\u001b[39m return_type \u001b[39m==\u001b[39m \u001b[39m\"\u001b[39m\u001b[39mfile_map\u001b[39m\u001b[39m\"\u001b[39m\n\u001b[0;32m    514\u001b[0m rcr \u001b[39m=\u001b[39m _RCRequest(url\u001b[39m=\u001b[39m\u001b[39mself\u001b[39m\u001b[39m.\u001b[39murl, payload\u001b[39m=\u001b[39mpayload, config\u001b[39m=\u001b[39mconfig)\n\u001b[1;32m--> 515\u001b[0m \u001b[39mreturn\u001b[39;00m rcr\u001b[39m.\u001b[39;49mexecute(\n\u001b[0;32m    516\u001b[0m     verify_ssl\u001b[39m=\u001b[39;49m\u001b[39mself\u001b[39;49m\u001b[39m.\u001b[39;49mverify_ssl, return_headers\u001b[39m=\u001b[39;49mreturn_headers, file\u001b[39m=\u001b[39;49mfile\n\u001b[0;32m    517\u001b[0m )\n",
      "File \u001b[1;32mc:\\Users\\abliebah\\AppData\\Local\\Programs\\Python\\Python311\\Lib\\site-packages\\redcap\\request.py:224\u001b[0m, in \u001b[0;36m_RCRequest.execute\u001b[1;34m(self, verify_ssl, return_headers, file)\u001b[0m\n\u001b[0;32m    221\u001b[0m     bad_request \u001b[39m=\u001b[39m \u001b[39m\"\u001b[39m\u001b[39m<error>\u001b[39m\u001b[39m\"\u001b[39m \u001b[39min\u001b[39;00m \u001b[39mstr\u001b[39m(content)\u001b[39m.\u001b[39mlower()\n\u001b[0;32m    223\u001b[0m \u001b[39mif\u001b[39;00m bad_request:\n\u001b[1;32m--> 224\u001b[0m     \u001b[39mraise\u001b[39;00m RedcapError(content)\n\u001b[0;32m    226\u001b[0m \u001b[39mif\u001b[39;00m return_headers:\n\u001b[0;32m    227\u001b[0m     \u001b[39mreturn\u001b[39;00m content, response\u001b[39m.\u001b[39mheaders\n",
      "\u001b[1;31mRequestException\u001b[0m: {'error': 'An unknown error occurred. Please check your API parameters.'}"
     ]
    }
   ],
   "source": [
    "adhoc=proj.export_records()\n"
   ]
  },
  {
   "cell_type": "code",
   "execution_count": 3,
   "metadata": {},
   "outputs": [
    {
     "ename": "NameError",
     "evalue": "name 'adhoc' is not defined",
     "output_type": "error",
     "traceback": [
      "\u001b[1;31m---------------------------------------------------------------------------\u001b[0m",
      "\u001b[1;31mNameError\u001b[0m                                 Traceback (most recent call last)",
      "\u001b[1;32mc:\\xampp\\htdocs\\Ex_Files_Python_Essential_Training\\Exercise Files\\Idea3\\Idea\\IDeA_adhoc_request.ipynb Cell 3\u001b[0m line \u001b[0;36m1\n\u001b[1;32m----> <a href='vscode-notebook-cell:/c%3A/xampp/htdocs/Ex_Files_Python_Essential_Training/Exercise%20Files/Idea3/Idea/IDeA_adhoc_request.ipynb#W2sZmlsZQ%3D%3D?line=0'>1</a>\u001b[0m adhoc2\u001b[39m=\u001b[39mpd\u001b[39m.\u001b[39mDataFrame(adhoc)\n\u001b[0;32m      <a href='vscode-notebook-cell:/c%3A/xampp/htdocs/Ex_Files_Python_Essential_Training/Exercise%20Files/Idea3/Idea/IDeA_adhoc_request.ipynb#W2sZmlsZQ%3D%3D?line=1'>2</a>\u001b[0m form_status\u001b[39m=\u001b[39madhoc2[[\u001b[39m'\u001b[39m\u001b[39mcons_recordid_q1\u001b[39m\u001b[39m'\u001b[39m,\u001b[39m'\u001b[39m\u001b[39mconsent_complete\u001b[39m\u001b[39m'\u001b[39m,\u001b[39m'\u001b[39m\u001b[39mcons_visitdate_q2\u001b[39m\u001b[39m'\u001b[39m,\u001b[39m'\u001b[39m\u001b[39massessment_of_informed_consent_understanding_complete\u001b[39m\u001b[39m'\u001b[39m,\n\u001b[0;32m      <a href='vscode-notebook-cell:/c%3A/xampp/htdocs/Ex_Files_Python_Essential_Training/Exercise%20Files/Idea3/Idea/IDeA_adhoc_request.ipynb#W2sZmlsZQ%3D%3D?line=2'>3</a>\u001b[0m                    \u001b[39m'\u001b[39m\u001b[39msourcedocument_complete\u001b[39m\u001b[39m'\u001b[39m,\u001b[39m'\u001b[39m\u001b[39mprescreening_complete\u001b[39m\u001b[39m'\u001b[39m,\u001b[39m'\u001b[39m\u001b[39manthrops_complete\u001b[39m\u001b[39m'\u001b[39m,\u001b[39m'\u001b[39m\u001b[39mdemograhics_complete\u001b[39m\u001b[39m'\u001b[39m,\n\u001b[0;32m      <a href='vscode-notebook-cell:/c%3A/xampp/htdocs/Ex_Files_Python_Essential_Training/Exercise%20Files/Idea3/Idea/IDeA_adhoc_request.ipynb#W2sZmlsZQ%3D%3D?line=3'>4</a>\u001b[0m                    \u001b[39m'\u001b[39m\u001b[39mvitalsign_complete\u001b[39m\u001b[39m'\u001b[39m,\u001b[39m'\u001b[39m\u001b[39mscreening_complete\u001b[39m\u001b[39m'\u001b[39m,\u001b[39m'\u001b[39m\u001b[39mbloodsamplecollection_complete\u001b[39m\u001b[39m'\u001b[39m,\n\u001b[1;32m   (...)\u001b[0m\n\u001b[0;32m      <a href='vscode-notebook-cell:/c%3A/xampp/htdocs/Ex_Files_Python_Essential_Training/Exercise%20Files/Idea3/Idea/IDeA_adhoc_request.ipynb#W2sZmlsZQ%3D%3D?line=7'>8</a>\u001b[0m                    \u001b[39m'\u001b[39m\u001b[39mstool_processing_complete\u001b[39m\u001b[39m'\u001b[39m,\u001b[39m'\u001b[39m\u001b[39mserumstorage_complete\u001b[39m\u001b[39m'\u001b[39m,\u001b[39m'\u001b[39m\u001b[39mstoolstorage_complete\u001b[39m\u001b[39m'\u001b[39m,\n\u001b[0;32m      <a href='vscode-notebook-cell:/c%3A/xampp/htdocs/Ex_Files_Python_Essential_Training/Exercise%20Files/Idea3/Idea/IDeA_adhoc_request.ipynb#W2sZmlsZQ%3D%3D?line=8'>9</a>\u001b[0m                    \u001b[39m'\u001b[39m\u001b[39mclinicreferal_complete\u001b[39m\u001b[39m'\u001b[39m,\u001b[39m'\u001b[39m\u001b[39msysmexresult_complete\u001b[39m\u001b[39m'\u001b[39m,\u001b[39m'\u001b[39m\u001b[39mip_accountability_log_complete\u001b[39m\u001b[39m'\u001b[39m]]\n\u001b[0;32m     <a href='vscode-notebook-cell:/c%3A/xampp/htdocs/Ex_Files_Python_Essential_Training/Exercise%20Files/Idea3/Idea/IDeA_adhoc_request.ipynb#W2sZmlsZQ%3D%3D?line=10'>11</a>\u001b[0m filtered_form_status \u001b[39m=\u001b[39m form_status[form_status[\u001b[39m'\u001b[39m\u001b[39mcons_recordid_q1\u001b[39m\u001b[39m'\u001b[39m]\u001b[39m.\u001b[39mstr\u001b[39m.\u001b[39mstartswith(\u001b[39m'\u001b[39m\u001b[39mIDeA\u001b[39m\u001b[39m'\u001b[39m)]\n",
      "\u001b[1;31mNameError\u001b[0m: name 'adhoc' is not defined"
     ]
    }
   ],
   "source": [
    "adhoc2=pd.DataFrame(adhoc)\n",
    "form_status=adhoc2[['cons_recordid_q1','consent_complete','cons_visitdate_q2','assessment_of_informed_consent_understanding_complete',\n",
    "                   'sourcedocument_complete','prescreening_complete','anthrops_complete','demograhics_complete',\n",
    "                   'vitalsign_complete','screening_complete','bloodsamplecollection_complete',\n",
    "                   'stoolsamplecollection_complete','randomization_complete','ironsupplement_complete',\n",
    "                   'feedingquestionaire_complete','ae_complete','noncompliance_form_complete','withdrawal_complete',\n",
    "                   'samplereception_complete','bloodsample_processing_complete',\n",
    "                   'stool_processing_complete','serumstorage_complete','stoolstorage_complete',\n",
    "                   'clinicreferal_complete','sysmexresult_complete','ip_accountability_log_complete']]\n",
    "\n",
    "filtered_form_status = form_status[form_status['cons_recordid_q1'].str.startswith('IDeA')]\n",
    "\n",
    "filtered_form_status=pd.DataFrame(filtered_form_status)\n",
    "count_2 = filtered_form_status.eq('2').sum()\n",
    "CTU_report=pd.DataFrame(count_2)\n",
    "count_2 = form_status.eq('2').sum()\n",
    "print(\"Number of occurrences of '2':\", count_2)\n"
   ]
  },
  {
   "cell_type": "code",
   "execution_count": null,
   "metadata": {},
   "outputs": [
    {
     "data": {
      "text/plain": [
       "<pandas.core.groupby.generic.DataFrameGroupBy object at 0x000001CA0DE1E3D0>"
      ]
     },
     "execution_count": 4,
     "metadata": {},
     "output_type": "execute_result"
    }
   ],
   "source": [
    "iron_supplent=proj.export_records(forms=['ironsupplement'])\n",
    "iron_supplent=pd.DataFrame(iron_supplent)\n",
    "iron_supplent1=iron_supplent[['cons_recordid_q1','iron_patcontactdate_q1','redcap_event_name']]\n",
    "iron_supplent1.groupby('iron_patcontactdate_q1')"
   ]
  },
  {
   "cell_type": "code",
   "execution_count": null,
   "metadata": {},
   "outputs": [],
   "source": []
  }
 ],
 "metadata": {
  "kernelspec": {
   "display_name": "Python 3",
   "language": "python",
   "name": "python3"
  },
  "language_info": {
   "codemirror_mode": {
    "name": "ipython",
    "version": 3
   },
   "file_extension": ".py",
   "mimetype": "text/x-python",
   "name": "python",
   "nbconvert_exporter": "python",
   "pygments_lexer": "ipython3",
   "version": "3.11.5"
  },
  "orig_nbformat": 4
 },
 "nbformat": 4,
 "nbformat_minor": 2
}
