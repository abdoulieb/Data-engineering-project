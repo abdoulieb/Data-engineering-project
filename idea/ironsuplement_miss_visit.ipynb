{
 "cells": [
  {
   "cell_type": "code",
   "execution_count": 1,
   "metadata": {},
   "outputs": [],
   "source": [
    "import pandas as pd\n",
    "import datetime\n",
    "import redcap\n",
    "data = {\n",
    "    'token': '085520489DF98911614E03FF05D58EA8',\n",
    "    'content': 'project',\n",
    "    'format': 'csv',\n",
    "    'returnFormat': 'csv'\n",
    "}\n",
    "\n",
    "proj = redcap.Project('https://ruff.mrc.gm:8443/redcap/api/', data['token'])\n",
    "\n",
    "\n",
    "\n",
    "\n",
    "iron_supplement = proj.export_records(forms=['ironsupplement'])\n",
    "iron_supplement = pd.DataFrame(iron_supplement)\n",
    "iron_supplement = iron_supplement.rename(columns={'cons_recordid_q1': 'record_id'})\n",
    "\n",
    "current_date = datetime.datetime.now().date()\n",
    "\n",
    "max_supplement_date_str = iron_supplement['iron_patcontactdate_q1'].max()\n",
    "\n",
    "if max_supplement_date_str:\n",
    "    max_supplement_date = datetime.datetime.strptime(max_supplement_date_str, '%Y-%m-%d').date()\n",
    "    days_difference = (current_date - max_supplement_date).days\n",
    "\n",
    "    if days_difference > 1:\n",
    "        iron_supplement.to_csv('missing.csv',index=False)\n",
    "        print(\"The maximum iron supplement date is more than one day behind today.\")\n"
   ]
  },
  {
   "cell_type": "code",
   "execution_count": 2,
   "metadata": {},
   "outputs": [
    {
     "ename": "TypeError",
     "evalue": "string indices must be integers, not 'str'",
     "output_type": "error",
     "traceback": [
      "\u001b[1;31m---------------------------------------------------------------------------\u001b[0m",
      "\u001b[1;31mTypeError\u001b[0m                                 Traceback (most recent call last)",
      "Cell \u001b[1;32mIn[2], line 25\u001b[0m\n\u001b[0;32m     22\u001b[0m first_visit_date \u001b[39m=\u001b[39m iron_supplement[\u001b[39m'\u001b[39m\u001b[39miron_patcontactdate_q1\u001b[39m\u001b[39m'\u001b[39m]\n\u001b[0;32m     23\u001b[0m second_visit_date \u001b[39m=\u001b[39m \u001b[39mNone\u001b[39;00m\n\u001b[1;32m---> 25\u001b[0m \u001b[39mfor\u001b[39;00m index, iron_supplement \u001b[39min\u001b[39;00m \u001b[39menumerate\u001b[39m(record[\u001b[39m'\u001b[39;49m\u001b[39mrepeated_instrument\u001b[39;49m\u001b[39m'\u001b[39;49m]):\n\u001b[0;32m     26\u001b[0m     \u001b[39mif\u001b[39;00m iron_supplement \u001b[39m==\u001b[39m \u001b[39m'\u001b[39m\u001b[39mYour_Form_Name\u001b[39m\u001b[39m'\u001b[39m:  \u001b[39m# Replace 'Your_Form_Name' with the actual form name in REDCap\u001b[39;00m\n\u001b[0;32m     27\u001b[0m         \u001b[39m# Check the first and second instance dates\u001b[39;00m\n\u001b[0;32m     28\u001b[0m         \u001b[39mif\u001b[39;00m record[\u001b[39m'\u001b[39m\u001b[39mredcap_repeat_instance\u001b[39m\u001b[39m'\u001b[39m][index] \u001b[39m==\u001b[39m \u001b[39m'\u001b[39m\u001b[39m1\u001b[39m\u001b[39m'\u001b[39m:\n",
      "\u001b[1;31mTypeError\u001b[0m: string indices must be integers, not 'str'"
     ]
    }
   ],
   "source": [
    "import datetime\n",
    "# Assuming you have retrieved the data from REDCap and stored it in a dictionary called data\n",
    "import pandas as pd\n",
    "import redcap\n",
    "data = {\n",
    "    'token': '085520489DF98911614E03FF05D58EA8',\n",
    "    'content': 'project',\n",
    "    'format': 'csv',\n",
    "    'returnFormat': 'csv'\n",
    "}\n",
    "\n",
    "proj = redcap.Project('https://ruff.mrc.gm:8443/redcap/api/', data['token'])\n",
    "\n",
    "\n",
    "\n",
    "\n",
    "iron_supplement = proj.export_records(forms=['ironsupplement'])\n",
    "iron_supplement = pd.DataFrame(iron_supplement)\n",
    "iron_supplement = iron_supplement.rename(columns={'cons_recordid_q1': 'record_id'})\n",
    "\n",
    "for record in iron_supplement :\n",
    "    first_visit_date = iron_supplement['iron_patcontactdate_q1']\n",
    "    second_visit_date = None\n",
    "\n",
    "    for index, iron_supplement in enumerate(record['repeated_instrument']):\n",
    "        if iron_supplement == 'Your_Form_Name':  # Replace 'Your_Form_Name' with the actual form name in REDCap\n",
    "            # Check the first and second instance dates\n",
    "            if record['redcap_repeat_instance'][index] == '1':\n",
    "                first_visit_date = datetime.datetime.strptime(record['iron_patcontactdate_q1'][index], '%Y-%m-%d')  # Replace 'your_date_field' with the actual date field name in REDCap\n",
    "            elif record['redcap_repeat_instance'][index] == '2':\n",
    "                second_visit_date = datetime.datetime.strptime(record['iron_patcontactdate_q1'][index], '%Y-%m-%d')  # Replace 'your_date_field' with the actual date field name in REDCap\n",
    "\n",
    "    # Compare the dates\n",
    "    if first_visit_date is not None and second_visit_date is not None:\n",
    "        days_apart = (second_visit_date - first_visit_date).days\n",
    "\n",
    "        if days_apart > 1:\n",
    "            # Perform your desired action here for values that meet the condition\n",
    "            print(\"Value:\", record['iron_patcontactdate_q1'])  # Replace 'your_value_field' with the actual field name you want to return\n"
   ]
  }
 ],
 "metadata": {
  "kernelspec": {
   "display_name": "Python 3",
   "language": "python",
   "name": "python3"
  },
  "language_info": {
   "codemirror_mode": {
    "name": "ipython",
    "version": 3
   },
   "file_extension": ".py",
   "mimetype": "text/x-python",
   "name": "python",
   "nbconvert_exporter": "python",
   "pygments_lexer": "ipython3",
   "version": "3.11.2"
  },
  "orig_nbformat": 4
 },
 "nbformat": 4,
 "nbformat_minor": 2
}
