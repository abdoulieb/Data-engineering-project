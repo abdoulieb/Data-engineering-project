{
 "cells": [
  {
   "cell_type": "code",
   "execution_count": 25,
   "metadata": {},
   "outputs": [
    {
     "name": "stdout",
     "output_type": "stream",
     "text": [
      "[1 1 1 1 1 1 1 1 1 1 1 1 1 1 1 1 1 1 1 1 1 1 1 1 1 1 1 1 1 1 1 1 1 1 1 1 1\n",
      " 1 1 1 1 1 1 1 1 1 1 1 1 1 1 1 1 1 1 1 1 1 1 1 1 1 1 1 1 1 1 1 1 1 1 1 1 1\n",
      " 1 1 1 1 1 1 1 1 1 1 1 1 1 1 1 1 1 1 1 1 1 1 1 1 1 1 1 1 1 1 1 1 1 1 1 1 1\n",
      " 1 1 1 1 1 1 1 1 1 1 1 1 1 1 1 1 1 1 1 1 1 1 1 1 1 1 1 1 1 1 1 1 1 1 1 1 1\n",
      " 1 1 1 1 1 1 1 1 1 1 1 1 1 1 1 1 1 1 1 1 1 1 1 1 1 1 1 1 1 1 1 1 1 1 1 1 1\n",
      " 1 1 1 1 1 1 1 1 1 1 1 1 1 1 1 1 1 1 1 1 1 1 1 1 1 1 1 1 1 1 1 1 1 1 1 1 1\n",
      " 1 1 1 1 1 1 1 1 1 1 1 1 1 1 1 1 1 1 1 1 1 1 1 1 1 1 1 1 1 1 1 1 1 1 1 1 1\n",
      " 1 1 1 1 1 1 1 1 1 1 1 1 1 1 1 1 1 1 1 1 1 1 1 1 1 1 1 1 1 1 1 1 1 1 1 1 1\n",
      " 1 1 1 1 1 1 1 1 1 1 1 1 1 1 1 1 1 1 1 1 1 1 1 1 1 1 1 1 1 1 1 1 1 1 1 1 1\n",
      " 1 1 1 1 1 1 1 1 1 1 1 1 1 1 1 1 1 1 1 1 1 1 1 1 1 1 1 1 1 1 1 1]\n"
     ]
    }
   ],
   "source": [
    "import pandas as pd\n",
    "from sklearn.linear_model import LinearRegression\n",
    "\n",
    "import pandas as pd\n",
    "\n",
    "# Generate a date range for the entire year\n",
    "date_range = pd.date_range(start='2023-01-01', end='2023-12-31')\n",
    "\n",
    "# Create arrays for Manual_Time and Automated_Time\n",
    "manual_time = [15] * len(date_range)  # Assuming the same value for the entire year\n",
    "automated_time = [5] * len(date_range)  # Assuming the same value for the entire year\n",
    "\n",
    "# Create a DataFrame with the arrays\n",
    "data = {\n",
    "    'Date': date_range,\n",
    "    'Manual_Time': manual_time,\n",
    "    'Automated_Time': automated_time\n",
    "}\n",
    "\n",
    "df = pd.DataFrame(data)\n",
    "\n",
    "# Feature engineering (e.g., extracting day of the week, month, etc.)\n",
    "df['Day_of_Week'] = df['Date'].dt.dayofweek\n",
    "df['Month'] = df['Date'].dt.month\n",
    "\n",
    "\n",
    "# Create a binary label for method (1 for automated, 0 for manual)\n",
    "df['Method'] = (df['Automated_Time'] < df['Manual_Time']).astype(int)\n",
    "\n",
    "# Split the data into training and testing sets\n",
    "# Replace this with your actual data splitting\n",
    "train_data = df.sample(frac=0.8, random_state=1)\n",
    "test_data = df.drop(train_data.index)\n",
    "\n",
    "# Train a linear regression model\n",
    "model = LinearRegression()\n",
    "model.fit(train_data[['Day_of_Week', 'Month']], train_data['Method'])\n",
    "\n",
    "# Predict for the entire year\n",
    "# Create a new dataset with features for each day of the year\n",
    "new_data = pd.DataFrame({\n",
    "    'Date': pd.date_range(start='2023-01-01', end='2023-12-31'),\n",
    "    'Day_of_Week': pd.date_range(start='2023-01-01', end='2023-12-31').dayofweek,\n",
    "    'Month': pd.date_range(start='2023-01-01', end='2023-12-31').month,\n",
    "})\n",
    "\n",
    "# Use the model to predict the method (1 for automated, 0 for manual) for each day\n",
    "predictions = model.predict(new_data[['Day_of_Week', 'Month']])\n",
    "\n",
    "# Convert predictions to binary labels based on a threshold\n",
    "predicted_labels = (predictions >= 0.5).astype(int)\n",
    "\n",
    "# Print the predicted labels for the entire year\n",
    "print(predicted_labels)\n"
   ]
  }
 ],
 "metadata": {
  "kernelspec": {
   "display_name": "Python 3",
   "language": "python",
   "name": "python3"
  },
  "language_info": {
   "codemirror_mode": {
    "name": "ipython",
    "version": 3
   },
   "file_extension": ".py",
   "mimetype": "text/x-python",
   "name": "python",
   "nbconvert_exporter": "python",
   "pygments_lexer": "ipython3",
   "version": "3.11.5"
  },
  "orig_nbformat": 4
 },
 "nbformat": 4,
 "nbformat_minor": 2
}
