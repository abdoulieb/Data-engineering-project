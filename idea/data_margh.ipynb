{
 "cells": [
  {
   "cell_type": "code",
   "execution_count": 9,
   "metadata": {},
   "outputs": [],
   "source": [
    "import pandas as pd \n",
    "\n",
    "infant=pd.read_excel('Infannt Anthrops.xlsx')\n",
    "infant=pd.DataFrame(infant)\n",
    "\n",
    "eden_sen_log_data=pd.read_csv('Eden_demography_data_copy.csv')\n",
    "eden_sen_log_data=pd.DataFrame(eden_sen_log_data)\n",
    "\n",
    "infant_mergh=pd.merge(eden_sen_log_data,infant,on='CK_Wkno',how='right')\n",
    "\n",
    "infant_mergh.to_csv('infant_mergh.csv',index=False)\n"
   ]
  },
  {
   "cell_type": "code",
   "execution_count": 11,
   "metadata": {},
   "outputs": [],
   "source": [
    "EDD=pd.read_excel('EDD_list.xlsx')\n",
    "EDD=pd.DataFrame(EDD)\n",
    "\n",
    "eden_sen_log_data=pd.read_csv('Eden_demography_data_copy.csv')\n",
    "eden_sen_log_data=pd.DataFrame(eden_sen_log_data)\n",
    "\n",
    "edd=pd.merge(eden_sen_log_data,EDD,on='CK_Wkno',how='inner')\n",
    "edd.to_csv('edd.csv',index=False)"
   ]
  }
 ],
 "metadata": {
  "kernelspec": {
   "display_name": "Python 3",
   "language": "python",
   "name": "python3"
  },
  "language_info": {
   "codemirror_mode": {
    "name": "ipython",
    "version": 3
   },
   "file_extension": ".py",
   "mimetype": "text/x-python",
   "name": "python",
   "nbconvert_exporter": "python",
   "pygments_lexer": "ipython3",
   "version": "3.11.2"
  },
  "orig_nbformat": 4
 },
 "nbformat": 4,
 "nbformat_minor": 2
}
