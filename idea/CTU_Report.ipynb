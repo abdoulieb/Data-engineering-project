{
 "cells": [
  {
   "cell_type": "code",
   "execution_count": 1,
   "metadata": {},
   "outputs": [],
   "source": [
    "import redcap\n",
    "import pandas as pd\n",
    "import datetime\n",
    "data = {\n",
    "    'token': 'E5D1F8B694072DCC46C0A8236CCC2670',\n",
    "    'content': 'project',\n",
    "    'format': 'json',\n",
    "    'returnFormat': 'json'\n",
    "}\n",
    "Sen_Data = redcap.Project('https://redcap.mrc.gm:8443/redcap/api/', data['token'])\n",
    "# IDeA connection\n",
    "\n",
    "data = {\n",
    "    'token': '085520489DF98911614E03FF05D58EA8',\n",
    "    'content': 'project',\n",
    "    'format': 'csv',\n",
    "    'returnFormat': 'csv'\n",
    "}\n",
    "\n",
    "IdeA_Data = redcap.Project('https://ruff.mrc.gm:8443/redcap/api/', data['token'])"
   ]
  },
  {
   "cell_type": "code",
   "execution_count": 8,
   "metadata": {},
   "outputs": [],
   "source": [
    "#consent data from IDeA 3 study\n",
    "consent_Data1=IdeA_Data.export_report(report_id='264')\n",
    "consent_Data1=pd.DataFrame(consent_Data1)\n",
    "consent_Data1=consent_Data1[['cons_recordid_q1', 'cons_visitdate_q2',\n",
    "       'cons_obtained_q4', 'cons_provided_infconsent_q7', 'cons_lang_cobtained_q10','cons_scompletedid_q13']]\n",
    "consent_Data1 = consent_Data1[consent_Data1['cons_recordid_q1'].str.startswith('IDeA')]\n",
    "consent_Data1=consent_Data1.rename(columns={'cons_recordid_q1': 'record_id'})\n",
    "consent_Data1=consent_Data1.rename(columns={'cons_visitdate_q2': 'Date of Consenting'})\n",
    "consent_Data1=consent_Data1.rename(columns={'cons_obtained_q4': 'Was consent obtained'})\n",
    "consent_Data1=consent_Data1.rename(columns={'cons_provided_infconsent_q7': 'Who gave consent'})\n",
    "consent_Data1=consent_Data1.rename(columns={'cons_lang_cobtained_q10': 'Language of consent'})\n",
    "consent_Data1=consent_Data1.rename(columns={'cons_scompletedid_q13': 'Staff ID'})\n",
    "\n",
    "consent_Data1=consent_Data1[\n",
    "       (consent_Data1['Was consent obtained']=='1')\n",
    "]\n",
    "\n",
    "\n",
    "#sensitization data from the sensitization\n",
    "\n",
    "Sensitization_data1=Sen_Data.export_records(forms=['sensitization'])\n",
    "Sensitization_data1=pd.DataFrame(Sensitization_data1)\n",
    "Sensitization_data1=Sensitization_data1[['record_id','part_name_ff615e',]]\n",
    "Sensitization_data1=Sensitization_data1.rename(columns={'part_name_ff615e': 'Name of Participant'})\n",
    "Sensitization_data1['record_id'] = Sensitization_data1['record_id'].str.replace('SEN', '')\n",
    "\n",
    "#merge data between the consent and the sensitization data\n",
    "PROPOSED_CONSENT_LOG=pd.merge(Sensitization_data1,consent_Data1,on='record_id', how='inner')\n",
    "PROPOSED_CONSENT_LOG.to_csv('PROPOSED_CONSENT_LOG.csv',index=False)\n"
   ]
  },
  {
   "cell_type": "code",
   "execution_count": 9,
   "metadata": {},
   "outputs": [],
   "source": [
    "filter_consent_no=consent_Data1[\n",
    "    consent_Data1['Was consent obtained']=='1']"
   ]
  },
  {
   "cell_type": "code",
   "execution_count": 10,
   "metadata": {},
   "outputs": [],
   "source": [
    "Screening_Data1=IdeA_Data.export_report(report_id='265')\n",
    "Screening_Data1=pd.DataFrame(Screening_Data1)\n",
    "Screening_Data1 = Screening_Data1[Screening_Data1['cons_recordid_q1'].str.startswith('IDeA')]\n",
    "Screening_Data1=Screening_Data1[['cons_recordid_q1','scre_date_q1','scre_compstaffid_q15']]\n",
    "Screening_Data1=Screening_Data1.rename(columns={'cons_recordid_q1': 'record_id'})\n",
    "Screening_Data1=Screening_Data1.rename(columns={'scre_date_q1': 'Date Screened'})\n",
    "Screening_Data1=Screening_Data1.rename(columns={'scre_compstaffid_q15': 'Staff ID'})\n",
    "\n",
    "Screening_Data1.to_csv('Screening_Data1.csv',index=False)\n",
    "\n"
   ]
  },
  {
   "cell_type": "code",
   "execution_count": 11,
   "metadata": {},
   "outputs": [],
   "source": [
    "Randomization=IdeA_Data.export_report(report_id='266')\n",
    "Randomization=pd.DataFrame(Randomization)\n",
    "Randomization=Randomization[['cons_recordid_q1','rand_date_q1','rand_treatgroup_q3']]\n",
    "Randomization= Randomization[Randomization['cons_recordid_q1'].str.startswith('IDeA')]\n",
    "Randomization['Saff']='MB'\n",
    "Randomization=Randomization.rename(columns={'cons_recordid_q1': 'record_id'})\n",
    "Randomization=Randomization.rename(columns={'rand_date_q1': 'Date of Randomization'})\n",
    "Randomization=Randomization.rename(columns={'rand_treatgroup_q3': 'Treatment Group'})\n",
    "Randomization.to_csv('Randomization.csv',index=False)\n",
    "\n"
   ]
  },
  {
   "cell_type": "code",
   "execution_count": 12,
   "metadata": {},
   "outputs": [],
   "source": [
    "withdraw=IdeA_Data.export_records(forms=['withdrawal'])\n",
    "withdraw=pd.DataFrame(withdraw)\n",
    "\n",
    "withdraw=withdraw[\n",
    "    (withdraw['withdrawal_complete']=='2')\n",
    "]"
   ]
  },
  {
   "cell_type": "code",
   "execution_count": 13,
   "metadata": {},
   "outputs": [],
   "source": [
    "\n",
    "resent_Randomization=IdeA_Data.export_report(report_id='266')\n",
    "resent_Randomization=pd.DataFrame(resent_Randomization)\n",
    "just_Randomization= resent_Randomization[~resent_Randomization['cons_recordid_q1'].isin(withdraw['cons_recordid_q1'])]"
   ]
  },
  {
   "cell_type": "code",
   "execution_count": 14,
   "metadata": {},
   "outputs": [],
   "source": [
    "Screen_Ran=pd.merge(Screening_Data1,Randomization,on='record_id',how='inner')\n",
    "screen_Ran_sen=pd.merge(Sensitization_data1,Screen_Ran,on='record_id',how='right')\n",
    "screen_Ran_sen.to_csv('screen_Ran_sen.csv',index=False)\n"
   ]
  },
  {
   "cell_type": "code",
   "execution_count": 15,
   "metadata": {},
   "outputs": [],
   "source": [
    "# fail screening \n",
    "fail_screen=IdeA_Data.export_report(report_id='267')\n",
    "fail_screen=pd.DataFrame(fail_screen)\n",
    "fail_screen=fail_screen.rename(columns={'cons_recordid_q1': 'record_id'})\n",
    "fail_screen = fail_screen[fail_screen['record_id'].str.startswith('IDeA')]\n",
    "fail_screen=fail_screen[['record_id']]\n",
    "fail_screen['Participant Eligible']='no'\n",
    "fail_screen['If Not Eligible state reason']='Have HB <7.0 or >11.0'\n",
    "fail_screen.to_csv('fail_screen.csv',index=False)"
   ]
  },
  {
   "cell_type": "code",
   "execution_count": 16,
   "metadata": {},
   "outputs": [],
   "source": [
    "Fail_Pre_Screen=IdeA_Data.export_report(report_id='269')\n",
    "Fail_Pre_Screen=pd.DataFrame(Fail_Pre_Screen)\n",
    "Fail_Pre_Screen=Fail_Pre_Screen.rename(columns={'cons_recordid_q1': 'record_id'})\n",
    "Fail_Pre_Screen=Fail_Pre_Screen[['record_id','pres_vdate_q1']]\n",
    "Fail_Pre_Screen=Fail_Pre_Screen.rename(columns={'pres_vdate_q1': 'Prescreening Date'})\n",
    "Fail_Pre_Screen['Participant Eligible']='no'\n",
    "Fail_Pre_Screen['If Not Eligible state reason']='Have HB <7.0 or >11.0'\n",
    "Fail_Pre_Screen= Fail_Pre_Screen[Fail_Pre_Screen['record_id'].str.startswith('IDeA')]\n",
    "Fail_Pre_screen_with_name=pd.merge(Sensitization_data1,Fail_Pre_Screen,on='record_id',how='inner')\n",
    "Fail_Pre_Screen.to_csv('Fail_Pre_Screen.csv',index=False)"
   ]
  },
  {
   "cell_type": "code",
   "execution_count": 17,
   "metadata": {},
   "outputs": [],
   "source": [
    "just_Fail_Pre_Screen=IdeA_Data.export_report(report_id='269')\n",
    "just_Fail_Pre_Screen=pd.DataFrame(just_Fail_Pre_Screen)\n",
    "just_Fail_Pre_Screen= just_Fail_Pre_Screen[~just_Fail_Pre_Screen['cons_recordid_q1'].isin(withdraw['cons_recordid_q1'])]"
   ]
  },
  {
   "cell_type": "code",
   "execution_count": 18,
   "metadata": {},
   "outputs": [],
   "source": [
    "pre_screen_data=IdeA_Data.export_records(forms=['prescreening'])\n",
    "pre_screen_data=pd.DataFrame(pre_screen_data)\n",
    "pre_screen_data= pre_screen_data[pre_screen_data['cons_recordid_q1'].str.startswith('IDeA')]\n",
    "pre_screen_data=pre_screen_data[\n",
    "    pre_screen_data['prescreening_complete']=='2'\n",
    "]\n",
    "\n",
    "just_pre_pre_screen_data= pre_screen_data[~pre_screen_data['cons_recordid_q1'].isin(withdraw['cons_recordid_q1'])]\n"
   ]
  },
  {
   "cell_type": "code",
   "execution_count": 19,
   "metadata": {},
   "outputs": [],
   "source": [
    "pre_screen_participant_seen=pre_screen_data[\n",
    "    (pre_screen_data['a_was_participant_seen']=='1')\n",
    "]\n",
    "just_pre_screen_participant_seen= pre_screen_participant_seen[~pre_screen_participant_seen['cons_recordid_q1'].isin(withdraw['cons_recordid_q1'])]"
   ]
  },
  {
   "cell_type": "code",
   "execution_count": 20,
   "metadata": {},
   "outputs": [],
   "source": [
    "could_not_be_located=pre_screen_data[\n",
    "    pre_screen_data['q1b_if_no_give_reason']=='1'\n",
    "]\n",
    "just_could_not_be_located= could_not_be_located[~could_not_be_located['cons_recordid_q1'].isin(withdraw['cons_recordid_q1'])]"
   ]
  },
  {
   "cell_type": "code",
   "execution_count": 21,
   "metadata": {},
   "outputs": [],
   "source": [
    "Pre_screen_Travel=pre_screen_data[\n",
    "    pre_screen_data['q1b_if_no_give_reason']=='2'\n",
    "]\n",
    "\n",
    "just_Pre_screen_Travel= Pre_screen_Travel[~Pre_screen_Travel['cons_recordid_q1'].isin(withdraw['cons_recordid_q1'])]"
   ]
  },
  {
   "cell_type": "code",
   "execution_count": 22,
   "metadata": {},
   "outputs": [],
   "source": [
    "Pre_Screen_Decline=pre_screen_data[\n",
    "    pre_screen_data['q2a_if_no_give_reason']=='1'\n",
    "]\n",
    "\n",
    "just_decline= Pre_Screen_Decline[~Pre_Screen_Decline['cons_recordid_q1'].isin(withdraw['cons_recordid_q1'])]"
   ]
  },
  {
   "cell_type": "code",
   "execution_count": 23,
   "metadata": {},
   "outputs": [],
   "source": [
    "#Master Screening list Both eligible and ineligible \n",
    "screening_list_completed=IdeA_Data.export_report(report_id='268')\n",
    "screening_list_completed=pd.DataFrame(screening_list_completed)\n",
    "screening_list_completed=screening_list_completed.rename(columns={'cons_recordid_q1': 'record_id'})\n",
    "screening_list_completed= screening_list_completed[screening_list_completed['record_id'].str.startswith('IDeA')]\n",
    "screening_list_completed=screening_list_completed[['record_id','scre_date_q1','scre_compstaffid_q15']]\n"
   ]
  },
  {
   "cell_type": "code",
   "execution_count": 24,
   "metadata": {},
   "outputs": [],
   "source": [
    "pre_screened_data_oko=IdeA_Data.export_records(forms=['prescreening'])\n",
    "pre_screened_data_oko=pd.DataFrame(pre_screened_data_oko)\n",
    "pre_screened_data_oko= pre_screened_data_oko[pre_screened_data_oko['cons_recordid_q1'].str.startswith('IDeA')]\n",
    "pre_screened_data_oko=pre_screened_data_oko[pre_screened_data_oko\n",
    "                                    ['prescreening_complete']=='2']\n",
    "just_pre_screened_data_oko = pre_screened_data_oko[~pre_screened_data_oko['cons_recordid_q1'].isin(withdraw['cons_recordid_q1'])]\n",
    "\n",
    "# Assuming you have already defined pre_screened_data_oko DataFrame\n",
    "\n",
    "# Convert 'pres_hemoglobin_q2' column to numeric data type\n",
    "pre_screened_data_oko['pres_hemoglobin_q2'] = pd.to_numeric(pre_screened_data_oko['pres_hemoglobin_q2'], errors='coerce')\n",
    "\n",
    "# Filter rows with 'pres_hemoglobin_q2' values between 7.0 and 11.0\n",
    "Pre_screen_filtered_data_pass_HB = pre_screened_data_oko [\n",
    "    (pre_screened_data_oko['pres_hemoglobin_q2'] < 11.0) \n",
    "]\n",
    "\n",
    "fail2= pre_screened_data_oko [ \n",
    "    (pre_screened_data_oko['pres_hemoglobin_q2']< 7.0)\n",
    "]\n",
    "# Now 'filtered_data' contains the rows that meet the condition\n",
    "just_Pre_screen_filtered_data_pass_HB= Pre_screen_filtered_data_pass_HB[~Pre_screen_filtered_data_pass_HB['cons_recordid_q1'].isin(withdraw['cons_recordid_q1'])]"
   ]
  },
  {
   "cell_type": "code",
   "execution_count": 25,
   "metadata": {},
   "outputs": [],
   "source": [
    "blood_sample_collected_okoh=IdeA_Data.export_records(forms=['bloodsamplecollection'])\n",
    "blood_sample_collected_okoh=pd.DataFrame(blood_sample_collected_okoh)\n",
    "blood_sample_collected_okoh= blood_sample_collected_okoh[blood_sample_collected_okoh['cons_recordid_q1'].str.startswith('IDeA')]\n",
    "blood_sample_collected_okoh=blood_sample_collected_okoh[blood_sample_collected_okoh\n",
    "                                    ['bloodsamplecollection_complete']=='2']\n"
   ]
  },
  {
   "cell_type": "code",
   "execution_count": 26,
   "metadata": {},
   "outputs": [],
   "source": [
    "import pandas as pd\n",
    "\n",
    "# Assuming you have already defined pre_screened_data_oko and blood_sample_collected_okoh DataFrames\n",
    "\n",
    "# Merge the two DataFrames using 'cons_recordid_q1' as the key and indicator=True\n",
    "merged_data = Pre_screen_filtered_data_pass_HB.merge(blood_sample_collected_okoh, on='cons_recordid_q1', how='left', indicator=True)\n",
    "\n",
    "# Filter rows that exist in pre_screened_data_oko but not in blood_sample_collected_okoh\n",
    "not_collected_data = merged_data[merged_data['_merge'] == 'left_only']\n",
    "\n",
    "not_collected_data.to_csv('not_collected_data.csv',index=False)\n",
    "# Now 'not_collected_data' contains individuals who are in pre_screened_data_oko but not in blood_sample_collected_okoh\n"
   ]
  },
  {
   "cell_type": "markdown",
   "metadata": {},
   "source": [
    "to be completed later"
   ]
  },
  {
   "cell_type": "markdown",
   "metadata": {},
   "source": [
    "screening_blood_collection_Miss_Match_okoh= (thoes with  HB - fail_Pre_screen) - (blood_sample_completed) about 17 IDs "
   ]
  },
  {
   "cell_type": "code",
   "execution_count": 27,
   "metadata": {},
   "outputs": [],
   "source": [
    "prescreening=IdeA_Data.export_report(report_id='334')\n",
    "prescree_with_HB=pd.DataFrame(prescreening)\n",
    "just_prescree_with_HB= prescree_with_HB[~prescree_with_HB['cons_recordid_q1'].isin(withdraw['cons_recordid_q1'])]"
   ]
  },
  {
   "cell_type": "code",
   "execution_count": 2,
   "metadata": {},
   "outputs": [
    {
     "data": {
      "text/plain": [
       "['sourcedocument',\n",
       " 'consent',\n",
       " 'noncompliance_form',\n",
       " 'demograhics',\n",
       " 'sysmexresult',\n",
       " 'serumstorage',\n",
       " 'samplereception',\n",
       " 'ironpanel1',\n",
       " 'vitalsign',\n",
       " 'dailyhealth',\n",
       " 'screening',\n",
       " 'daily_diarrhoea_questionaire',\n",
       " 'assessment_of_informed_consent_understanding',\n",
       " 'stoolstorage',\n",
       " 'medonicresult',\n",
       " 'withdrawal',\n",
       " 'hepcidineresults',\n",
       " 'intervention',\n",
       " 'clinicreferal',\n",
       " 'stool_processing',\n",
       " 'randomization',\n",
       " 'ironsupplement',\n",
       " 'bloodsample_processing',\n",
       " 'g6pd',\n",
       " 'ip_accountability_log',\n",
       " 'ironsupplement_unplanned',\n",
       " 'ironpanel1_2',\n",
       " 'anthrops',\n",
       " 'feedingquestionaire',\n",
       " 'appetite',\n",
       " 'stoolsamplecollection',\n",
       " 'calprotectin',\n",
       " 'prescreening',\n",
       " 'ae',\n",
       " 'erythroferroneresult',\n",
       " 'posthealthmonitoring',\n",
       " 'bloodsamplecollection',\n",
       " 'g6pd_819c16',\n",
       " 'erythroferroneresult_2']"
      ]
     },
     "execution_count": 2,
     "metadata": {},
     "output_type": "execute_result"
    }
   ],
   "source": [
    "IdeA_Data.forms"
   ]
  },
  {
   "cell_type": "code",
   "execution_count": 4,
   "metadata": {},
   "outputs": [],
   "source": [
    "iron_supplementation=IdeA_Data.export_records(forms=['ironsupplement','sysmexresult'])"
   ]
  },
  {
   "cell_type": "code",
   "execution_count": 5,
   "metadata": {},
   "outputs": [],
   "source": [
    "iron_supplementation=pd.DataFrame(iron_supplementation)"
   ]
  },
  {
   "cell_type": "code",
   "execution_count": null,
   "metadata": {},
   "outputs": [],
   "source": [
    "iron_supplementation=iron_supplementation[\n",
    "    (iron_supplementation['sysmexresult_complete']=='2')&\n",
    "    (iron_supplementation['redcap_event_name']=='v12_arm_1')\n",
    "]"
   ]
  }
 ],
 "metadata": {
  "kernelspec": {
   "display_name": "Python 3",
   "language": "python",
   "name": "python3"
  },
  "language_info": {
   "codemirror_mode": {
    "name": "ipython",
    "version": 3
   },
   "file_extension": ".py",
   "mimetype": "text/x-python",
   "name": "python",
   "nbconvert_exporter": "python",
   "pygments_lexer": "ipython3",
   "version": "3.11.5"
  },
  "orig_nbformat": 4
 },
 "nbformat": 4,
 "nbformat_minor": 2
}
