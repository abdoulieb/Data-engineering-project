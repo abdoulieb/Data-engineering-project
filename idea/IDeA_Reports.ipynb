{
 "cells": [
  {
   "cell_type": "code",
   "execution_count": 1,
   "metadata": {},
   "outputs": [],
   "source": [
    "import redcap\n",
    "import pandas as pd\n",
    "import datetime\n",
    "data = {\n",
    "    'token': 'E5D1F8B694072DCC46C0A8236CCC2670',\n",
    "    'content': 'project',\n",
    "    'format': 'json',\n",
    "    'returnFormat': 'json'\n",
    "}\n",
    "Sen_Data = redcap.Project('https://redcap.mrc.gm:8443/redcap/api/', data['token'])\n",
    "# IDeA connection\n",
    "\n",
    "data = {\n",
    "    'token': '085520489DF98911614E03FF05D58EA8',\n",
    "    'content': 'project',\n",
    "    'format': 'csv',\n",
    "    'returnFormat': 'csv'\n",
    "}\n",
    "IdeA_Data = redcap.Project('https://ruff.mrc.gm:8443/redcap/api/', data['token'])"
   ]
  },
  {
   "cell_type": "code",
   "execution_count": 2,
   "metadata": {},
   "outputs": [],
   "source": [
    "#IdeA_Data to retrive \n",
    "consent_Data=IdeA_Data.export_records(forms=['consent'])\n",
    "consent_Data=pd.DataFrame(consent_Data)\n",
    "consent_Data=consent_Data[['cons_recordid_q1']]\n",
    "consent_Data=consent_Data.rename(columns={'cons_recordid_q1': 'record_id'})\n",
    "\n",
    "#Sen_Data to retrive sensitization data\n",
    "Sensitization_data=Sen_Data.export_records(forms=['sensitization'])\n",
    "Sensitization_data=pd.DataFrame(Sensitization_data)\n",
    "Sensitization_data=Sensitization_data[['record_id','part_name_ff615e','par_gender_430105','birthday_068f90','age_eade56','mo_name_9185c0','father_699ba1','fat_name_1a8ebe','vill_name_213a8e','mobile1_28ff52','mobile4_4a1123']]\n",
    "Sensitization_data['record_id'] = Sensitization_data['record_id'].str.replace('SEN', '')"
   ]
  },
  {
   "cell_type": "code",
   "execution_count": 5,
   "metadata": {},
   "outputs": [],
   "source": [
    "\n",
    "#IdeA_Data to retrive \n",
    "consent_Data=IdeA_Data.export_records(forms=['consent'])\n",
    "consent_Data=pd.DataFrame(consent_Data)\n",
    "consent_Data=consent_Data[['cons_recordid_q1']]\n",
    "consent_Data=consent_Data.rename(columns={'cons_recordid_q1': 'record_id'})\n",
    "\n",
    "#Sen_Data to retrive sensitization data\n",
    "Sensitization_data=Sen_Data.export_records(forms=['sensitization'])\n",
    "Sensitization_data=pd.DataFrame(Sensitization_data)\n",
    "Sensitization_data=Sensitization_data[['record_id','part_name_ff615e','par_gender_430105','birthday_068f90','age_eade56','mo_name_9185c0','father_699ba1','fat_name_1a8ebe','vill_name_213a8e','mobile1_28ff52','mobile4_4a1123']]\n",
    "Sensitization_data['record_id'] = Sensitization_data['record_id'].str.replace('SEN', '')\n",
    "\n",
    "\n",
    "# Convert 'birthday_068f90' column to datetime\n",
    "Sensitization_data['birthday_068f90'] = pd.to_datetime(Sensitization_data['birthday_068f90'])\n",
    "\n",
    "# Get the current date and time\n",
    "current_date = datetime.datetime.now()\n",
    "\n",
    "# Calculate the age of individuals in months and round to 2 decimal places\n",
    "def calculate_age_in_months(birthday):\n",
    "    age_months = (current_date.year - birthday.year) * 12 + (current_date.month - birthday.month)\n",
    "    if current_date.day < birthday.day:\n",
    "        age_months -= 1\n",
    "    return age_months\n",
    "\n",
    "# Apply the calculate_age_in_months function and filter individuals with age between 6 and 11 months\n",
    "Sensitization_data['current_age'] = Sensitization_data['birthday_068f90'].apply(calculate_age_in_months)\n",
    "Sensitization_data = Sensitization_data[(Sensitization_data['current_age'] >= 6) & (Sensitization_data['current_age'] <=12)]\n",
    "\n",
    "# Filter record_ids in Sensitization_data that are not present in consent_Data\n",
    "filtered_record_ids = Sensitization_data[~Sensitization_data['record_id'].isin(consent_Data['record_id'])]['record_id']\n",
    "\n",
    "# due for consenting \n",
    "due_for_consenting=pd.merge(Sensitization_data,filtered_record_ids,on=['record_id'],how='inner')\n",
    "due_for_consenting.to_csv('due_for_consenting.csv', index=False)"
   ]
  },
  {
   "cell_type": "code",
   "execution_count": null,
   "metadata": {},
   "outputs": [],
   "source": [
    "#travels and could not be located data\n",
    "\n",
    "old_consenting_List=IdeA_Data.export_report(report_id='232')\n",
    "old_consenting_List=pd.DataFrame(old_consenting_List)\n",
    "old_consenting_List=old_consenting_List.rename(columns={'cons_recordid_q1': 'record_id'})\n",
    "\n",
    "sen_old_consenting_list=Sen_Data.export_report(report_id='9796')\n",
    "sen_old_consenting_list=pd.DataFrame(sen_old_consenting_list)\n",
    "sen_old_consenting_list['record_id'] = sen_old_consenting_list['record_id'].str.replace('SEN', '')\n",
    "\n",
    "\n",
    "sen_old_consenting_list['birthday_068f90'] = pd.to_datetime(sen_old_consenting_list['birthday_068f90'])\n",
    "\n",
    "# Get the current date and time\n",
    "current_date = datetime.datetime.now()\n",
    "\n",
    "# Calculate the age of individuals in months and round to 2 decimal places\n",
    "def calculate_age_in_months(birthday):\n",
    "    age_months = (current_date.year - birthday.year) * 12 + (current_date.month - birthday.month)\n",
    "    if current_date.day < birthday.day:\n",
    "        age_months -= 1\n",
    "    return age_months\n",
    "\n",
    "# Apply the calculate_age_in_months function and filter individuals with age between 6 and 11 months\n",
    "sen_old_consenting_list['current_age'] = sen_old_consenting_list['birthday_068f90'].apply(calculate_age_in_months)\n",
    "\n",
    "Travel_could_not_be_located=pd.merge(old_consenting_List,sen_old_consenting_list, on=['record_id'], how='inner')\n",
    "Travel_could_not_be_located.to_csv('Travel_could_not_be_located.csv', index=False)"
   ]
  },
  {
   "cell_type": "code",
   "execution_count": null,
   "metadata": {},
   "outputs": [],
   "source": [
    "potential=Sen_Data.export_records(forms=['sensitization'])\n",
    "potential=pd.DataFrame(potential)\n",
    "potential=potential[['record_id','birthday_068f90','sen_anotherstudy_2f8854','sen_anotherstudy_2f8854','part_name_ff615e','mo_name_9185c0','father_699ba1','fat_name_1a8ebe','vill_name_213a8e','mobile1_28ff52','mobile4_4a1123']]\n",
    "potential['birthday_068f90'] = pd.to_datetime(potential['birthday_068f90'])\n",
    "\n",
    "# Get the current date and time\n",
    "current_date = datetime.datetime.now()\n",
    "\n",
    "# Calculate the age of individuals in months and round to 2 decimal places\n",
    "def calculate_age_in_months(birthday):\n",
    "    age_months = (current_date.year - birthday.year) * 12 + (current_date.month - birthday.month)\n",
    "    if current_date.day < birthday.day:\n",
    "        age_months -= 1\n",
    "    return age_months\n",
    "\n",
    "potential['current_age'] = potential['birthday_068f90'].apply(calculate_age_in_months)\n",
    "\n",
    "potential['record_id'] = potential['record_id'].str.replace('SEN', '')\n",
    "potential=pd.DataFrame(potential)\n",
    "\n",
    "screening_list=IdeA_Data.export_report(report_id='231')\n",
    "screening_list=pd.DataFrame(screening_list)\n",
    "screening_list = screening_list.rename(columns={'cons_recordid_q1': 'record_id'})\n",
    "screening_list= pd.merge(screening_list, potential, on='record_id', how='inner')\n",
    "screening_list.to_csv('Pre_screening_list.csv', index=False)\n",
    "\n"
   ]
  },
  {
   "cell_type": "code",
   "execution_count": null,
   "metadata": {},
   "outputs": [],
   "source": [
    "#base_line\n",
    "base_line_call=IdeA_Data.export_report(report_id='229')\n",
    "base_line_call=pd.DataFrame(base_line_call)\n",
    "base_line_call = base_line_call.rename(columns={'cons_recordid_q1': 'record_id'})\n",
    "base_line_call= pd.merge(base_line_call, potential, on='record_id', how='inner')\n",
    "\n",
    "withdrawal=IdeA_Data.export_records(forms=['withdrawal'])\n",
    "withdrawal=pd.DataFrame(withdrawal)\n",
    "withdrawal = withdrawal.rename(columns={'cons_recordid_q1': 'record_id'})\n",
    "withdrawal_data=withdrawal[['record_id','withdrawal_complete']]\n",
    "withdrawal_data=withdrawal_data[withdrawal_data['withdrawal_complete']=='2']\n",
    "\n",
    "# Get record IDs not present in withdrawal_data\n",
    "base_line_call = base_line_call[~base_line_call['record_id'].isin(withdrawal_data['record_id'])]\n",
    "fail_screening=IdeA_Data.export_report(report_id='329')\n",
    "fail_screening=pd.DataFrame(fail_screening)\n",
    "fail_screening = fail_screening.rename(columns={'cons_recordid_q1': 'record_id'})\n",
    "base_line_recent =base_line_call[~base_line_call['record_id'].isin(fail_screening['record_id'])]\n",
    "base_line_recent.to_csv('base_line_call.csv', index=False)"
   ]
  },
  {
   "cell_type": "code",
   "execution_count": 3,
   "metadata": {},
   "outputs": [],
   "source": [
    "sysmex_data=IdeA_Data.export_report(report_id='1169')"
   ]
  },
  {
   "cell_type": "code",
   "execution_count": 5,
   "metadata": {},
   "outputs": [],
   "source": [
    "sysmex_data=pd.DataFrame(sysmex_data)\n",
    "sysmex_data = sysmex_data.rename(columns={'cons_recordid_q1': 'record_id'})"
   ]
  },
  {
   "cell_type": "code",
   "execution_count": 6,
   "metadata": {},
   "outputs": [],
   "source": [
    "sysmex_data_mergh=pd.merge(Sensitization_data,sysmex_data,on='record_id',how='inner')"
   ]
  },
  {
   "cell_type": "code",
   "execution_count": null,
   "metadata": {},
   "outputs": [],
   "source": [
    "sysmex_data_mergh.to_csv('sysmex_data_mergh.csv',index=False)"
   ]
  }
 ],
 "metadata": {
  "kernelspec": {
   "display_name": "Python 3",
   "language": "python",
   "name": "python3"
  },
  "language_info": {
   "codemirror_mode": {
    "name": "ipython",
    "version": 3
   },
   "file_extension": ".py",
   "mimetype": "text/x-python",
   "name": "python",
   "nbconvert_exporter": "python",
   "pygments_lexer": "ipython3",
   "version": "3.11.5"
  },
  "orig_nbformat": 4
 },
 "nbformat": 4,
 "nbformat_minor": 2
}
