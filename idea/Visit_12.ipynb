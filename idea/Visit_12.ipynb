{
 "cells": [
  {
   "cell_type": "code",
   "execution_count": 1,
   "metadata": {},
   "outputs": [],
   "source": [
    "import redcap\n",
    "from datetime import datetime, timedelta\n",
    "import pandas as pd\n",
    "data = {\n",
    "    'token': 'E5D1F8B694072DCC46C0A8236CCC2670',\n",
    "    'content': 'project',\n",
    "    'format': 'json',\n",
    "    'returnFormat': 'json'\n",
    "}\n",
    "Sen_Data = redcap.Project('https://redcap.mrc.gm:8443/redcap/api/', data['token'])\n",
    "# IDeA connection\n",
    "\n",
    "data = {\n",
    "    'token': '085520489DF98911614E03FF05D58EA8',\n",
    "    'content': 'project',\n",
    "    'format': 'csv',\n",
    "    'returnFormat': 'csv'\n",
    "}\n",
    "\n",
    "IdeA_Data = redcap.Project('https://ruff.mrc.gm:8443/redcap/api/', data['token'])"
   ]
  },
  {
   "cell_type": "code",
   "execution_count": 2,
   "metadata": {},
   "outputs": [],
   "source": [
    "potential=Sen_Data.export_records(forms=['sensitization'])\n",
    "potential=pd.DataFrame(potential)\n",
    "potential=potential[['record_id','part_name_ff615e','mo_name_9185c0','father_699ba1','fat_name_1a8ebe','vill_name_213a8e','mobile1_28ff52','mobile4_4a1123']]\n",
    "potential['record_id'] = potential['record_id'].str.replace('SEN', '')\n",
    "potential=pd.DataFrame(potential)\n",
    "\n",
    "#village_name=potential[['vill_name_213a8e']]\n",
    "#village_name.to_csv('village_name.csv',index=False)"
   ]
  },
  {
   "cell_type": "code",
   "execution_count": 3,
   "metadata": {},
   "outputs": [
    {
     "name": "stderr",
     "output_type": "stream",
     "text": [
      "C:\\Users\\abliebah\\AppData\\Local\\Temp\\ipykernel_700\\2452069118.py:7: FutureWarning: Indexing with multiple keys (implicitly converted to a tuple of keys) will be deprecated, use a list instead.\n",
      "  max_instances_by_id = filtered_data.groupby('cons_recordid_q1')['redcap_repeat_instance','redcap_event_name','iron_patcontactdate_q1'].max().reset_index()\n"
     ]
    }
   ],
   "source": [
    "iron_supplement_v12=IdeA_Data.export_records(forms=['ironsupplement'], event_name=['v12_arm_1'])\n",
    "iron_supplement_v12=pd.DataFrame(iron_supplement_v12)\n",
    "iron_supplement_v12_data=iron_supplement_v12[iron_supplement_v12['redcap_event_name']=='v12_arm_1']\n",
    "iron_supplement_v12_data=iron_supplement_v12_data[['cons_recordid_q1', 'redcap_event_name','redcap_repeat_instance','iron_patcontactdate_q1']]\n",
    "iron_supplement_v12_data['redcap_repeat_instance'] = pd.to_numeric(iron_supplement_v12_data['redcap_repeat_instance'])\n",
    "filtered_data = iron_supplement_v12_data[iron_supplement_v12_data['cons_recordid_q1'].str.startswith('IDeA')]\n",
    "max_instances_by_id = filtered_data.groupby('cons_recordid_q1')['redcap_repeat_instance','redcap_event_name','iron_patcontactdate_q1'].max().reset_index()\n",
    "max_instances_by_id=max_instances_by_id.rename(columns={'cons_recordid_q1': 'record_id'})\n",
    "\n",
    "End_line_calls=pd.merge(max_instances_by_id, potential, on='record_id', how='inner')\n",
    "End_line_callist= pd.read_excel('End_line_Callist.xlsx')\n",
    "End_line_callist=pd.DataFrame(End_line_callist)\n",
    "\n",
    "End_line_callist_data= max_instances_by_id[~max_instances_by_id['record_id'].astype(str).isin(End_line_callist['record_id'].astype(str))]\n",
    "End_line_callist_data=pd.merge(End_line_callist_data,potential,on='record_id', how='inner')\n",
    "End_line_callist_data.to_csv('End_line_callist_data.csv',index=False)\n"
   ]
  },
  {
   "cell_type": "code",
   "execution_count": null,
   "metadata": {},
   "outputs": [],
   "source": []
  },
  {
   "cell_type": "code",
   "execution_count": 4,
   "metadata": {},
   "outputs": [],
   "source": [
    "iron_supplement=IdeA_Data.export_records(forms=['ironsupplement'])\n",
    "iron_supplement=pd.DataFrame(iron_supplement)\n",
    "iron_supplement=iron_supplement[['cons_recordid_q1', 'redcap_event_name', 'redcap_repeat_instrument',\n",
    "       'redcap_repeat_instance', 'iron_patcontactdate_q1']]\n",
    "iron_supplement=iron_supplement.rename(columns={'cons_recordid_q1': 'record_id'})\n",
    "iron_supplement=iron_supplement[\n",
    "    (iron_supplement['redcap_event_name']=='v1_arm_1' ) &\n",
    "    (iron_supplement['redcap_repeat_instance']==1)\n",
    "]\n"
   ]
  },
  {
   "cell_type": "code",
   "execution_count": 5,
   "metadata": {},
   "outputs": [],
   "source": [
    "iron_supplement['start_date'] = pd.to_datetime(iron_supplement['iron_patcontactdate_q1'])\n",
    "iron_supplement['due_date'] = iron_supplement['start_date'] + pd.to_timedelta(83, unit='D')\n",
    "iron_supplement = iron_supplement[iron_supplement['record_id'].str.startswith('IDeA')]\n",
    "End_line_callist_data=pd.merge(potential,iron_supplement ,on='record_id', how='inner')\n",
    "End_line_callist_data.to_csv('End_line_callist_data.csv',index=False)\n"
   ]
  },
  {
   "cell_type": "code",
   "execution_count": null,
   "metadata": {},
   "outputs": [],
   "source": []
  },
  {
   "cell_type": "code",
   "execution_count": 6,
   "metadata": {},
   "outputs": [],
   "source": [
    "\n",
    "# Filter sysmext_data to include only records where 'sysmext_data' is completed ('sysmexresult_complete' equals '2')\n",
    "sysmext_data = IdeA_Data.export_records(forms=['sysmexresult'])\n",
    "sysmext_data = pd.DataFrame(sysmext_data)\n",
    "sysmext_data = sysmext_data.rename(columns={'cons_recordid_q1': 'record_id'})\n",
    "sysmext_data = sysmext_data[\n",
    "    (sysmext_data['sysmexresult_complete'] == '2') &\n",
    "    (sysmext_data['redcap_event_name'] == 'v12_arm_1')\n",
    "]\n",
    "\n",
    "\n",
    "\n"
   ]
  },
  {
   "cell_type": "code",
   "execution_count": 7,
   "metadata": {},
   "outputs": [
    {
     "ename": "NameError",
     "evalue": "name 'record_ids_more_than_84_days' is not defined",
     "output_type": "error",
     "traceback": [
      "\u001b[1;31m---------------------------------------------------------------------------\u001b[0m",
      "\u001b[1;31mNameError\u001b[0m                                 Traceback (most recent call last)",
      "\u001b[1;32mc:\\xampp\\htdocs\\Ex_Files_Python_Essential_Training\\Exercise Files\\Idea3\\Idea\\Visit_12.ipynb Cell 9\u001b[0m line \u001b[0;36m1\n\u001b[1;32m----> <a href='vscode-notebook-cell:/c%3A/xampp/htdocs/Ex_Files_Python_Essential_Training/Exercise%20Files/Idea3/Idea/Visit_12.ipynb#X11sZmlsZQ%3D%3D?line=0'>1</a>\u001b[0m result_record_ids \u001b[39m=\u001b[39m record_ids_more_than_84_days[\u001b[39m~\u001b[39mrecord_ids_more_than_84_days\u001b[39m.\u001b[39misin(sysmext_data[\u001b[39m'\u001b[39m\u001b[39mrecord_id\u001b[39m\u001b[39m'\u001b[39m])]\n",
      "\u001b[1;31mNameError\u001b[0m: name 'record_ids_more_than_84_days' is not defined"
     ]
    }
   ],
   "source": [
    "result_record_ids = record_ids_more_than_84_days[~record_ids_more_than_84_days.isin(sysmext_data['record_id'])]"
   ]
  }
 ],
 "metadata": {
  "kernelspec": {
   "display_name": "Python 3",
   "language": "python",
   "name": "python3"
  },
  "language_info": {
   "codemirror_mode": {
    "name": "ipython",
    "version": 3
   },
   "file_extension": ".py",
   "mimetype": "text/x-python",
   "name": "python",
   "nbconvert_exporter": "python",
   "pygments_lexer": "ipython3",
   "version": "3.11.5"
  },
  "orig_nbformat": 4
 },
 "nbformat": 4,
 "nbformat_minor": 2
}
