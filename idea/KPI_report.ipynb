{
 "cells": [
  {
   "cell_type": "code",
   "execution_count": 1,
   "metadata": {},
   "outputs": [],
   "source": [
    "import pandas as pd \n",
    "import redcap\n",
    "from datetime import datetime\n",
    "data = {\n",
    "    'token': '085520489DF98911614E03FF05D58EA8',\n",
    "    'content': 'project',\n",
    "    'format': 'json',\n",
    "    'returnFormat': 'json'\n",
    "}\n",
    "\n",
    "proj= redcap.Project('https://ruff.mrc.gm:8443/redcap/api/', data['token'])\n",
    "\n",
    "data = {\n",
    "    'token': 'D6807C091B1FC14F57CC9B2972D0B398',\n",
    "    'content': 'project',\n",
    "    'format': 'json',\n",
    "    'returnFormat': 'json'\n",
    "}\n",
    "indigo= redcap.Project('https://ruff.mrc.gm:8443/redcap/api/', data['token'])\n",
    "\n",
    "data = {\n",
    "    'token': 'DE12CA04415CF93BCD68321EBF5040FD',\n",
    "    'content': 'project',\n",
    "    'format': 'json',\n",
    "    'returnFormat': 'json'\n",
    "}\n",
    "\n",
    "eden = redcap.Project('https://redcap.mrc.gm:8443/redcap/api/', data['token'])"
   ]
  },
  {
   "cell_type": "markdown",
   "metadata": {},
   "source": [
    "IDEA KPI REport below "
   ]
  },
  {
   "cell_type": "code",
   "execution_count": 2,
   "metadata": {},
   "outputs": [],
   "source": [
    "\n",
    "#KPI= proj.export_report(report_id='198')\n",
    "#KPI_Report=pd.DataFrame(KPI)\n",
    "#form_status=KPI_Report[['cons_recordid_q1','cons_visitdate_q2','ass2','pres_vdate_q1','anth_datecoll_q1','demo_date_q1','vsig_visitdate_q1',\n",
    "                   #'scre_date_q1','bld_datecoll_q1','stol_visitdate_q1','rand_date_q1','iron_patcontactdate_q1','feed_vdate_q1',\n",
    "                  # 'adve_startdate_q2','wdra_date_q1','samp_edtadate_q1a','date_of_reception_q2','serm_dateofstorage_q3','ssto_storedate_q3',\n",
    "                  # 'crfe_date_q1','ip_date_q1']]\n",
    "\n",
    "#filtered_form_status = form_status[form_status['cons_recordid_q1'].str.startswith('IDeA')]"
   ]
  },
  {
   "cell_type": "code",
   "execution_count": 3,
   "metadata": {},
   "outputs": [],
   "source": [
    "\n",
    "\n",
    "#filtered_form_status=pd.DataFrame(filtered_form_status)\n",
    "#num_forms_with_dates = filtered_form_status.notnull().sum().sum()\n",
    "#start_date = datetime(2021,1, 1)\n",
    "#end_date = datetime.today()\n",
    "\n",
    "#date_columns = [\n",
    "    #'cons_visitdate_q2', 'pres_vdate_q1', 'anth_datecoll_q1', 'demo_date_q1',\n",
    "   # 'vsig_visitdate_q1', 'scre_date_q1', 'bld_datecoll_q1', 'stol_visitdate_q1',\n",
    "    #'rand_date_q1', 'iron_patcontactdate_q1', 'feed_vdate_q1', 'adve_startdate_q2',\n",
    "    #'wdra_date_q1', 'samp_edtadate_q1a', 'date_of_reception_q2',\n",
    "    #'serm_dateofstorage_q3', 'ssto_storedate_q3', 'crfe_date_q1', 'ip_date_q1'\n",
    "#]\n",
    "# Convert date columns to datetime objects\n",
    "#filtered_form_status[date_columns] = filtered_form_status[date_columns].apply(pd.to_datetime, errors='coerce')\n",
    "\n",
    "#forms_within_date_range = filtered_form_status[\n",
    " #   (filtered_form_status[date_columns] >= start_date) & (filtered_form_status[date_columns] <= end_date)\n",
    "#]\n",
    "\n",
    "#num_forms_within_date_range = forms_within_date_range.notnull().sum().sum()\n",
    "\n",
    "#print('the number of form completed for IDEA3',num_forms_within_date_range)"
   ]
  },
  {
   "cell_type": "markdown",
   "metadata": {},
   "source": [
    "INDIGO KPI Report "
   ]
  },
  {
   "cell_type": "code",
   "execution_count": 4,
   "metadata": {},
   "outputs": [],
   "source": [
    "#num_forms_within_date_range.min()"
   ]
  },
  {
   "cell_type": "code",
   "execution_count": 5,
   "metadata": {},
   "outputs": [],
   "source": [
    "#indigo_KPI=indigo.export_records()\n",
    "#indigo_KPI=pd.DataFrame(indigo_KPI)\n",
    "\n",
    "#indigo_KPI_form_status=indigo_KPI[[\n",
    "   # 'con_participantid_q1','con_date_q5','ultsc_date','ma_dvdate_q1','cdate',\n",
    "   # 'mbsc_visitdate_q1','mu_vdate','rvdate','ran_date','ms_dvisit_q1','mm_vdate',\n",
    "   # 'del_vdate_q1','dvisit_code','mhc_date_complete','bc_deldate','visit_ddate_q3',\n",
    "   # 'sup_vdate','im_dvisite_q1','bmsc_vdate_q1','iac_dvisite_q1','ibc_date_q1','isc_dvdate_q1',\n",
    "   # 'samp_edtadate_q1a','date_form_completed_11','date_form_completed_41','date_of_visit',\n",
    "   # 'hvd_date_of_visit_q2','date_of_first_visit','msel_vdate_q1','ae_vdate','com_sdate',\n",
    "   # 'date_form_completed','wd_date_q1'\n",
    "#]]\n",
    "\n",
    "#indigo_KPI_form_status=pd.DataFrame(indigo_KPI_form_status)\n",
    "#indigo_KPI_num_forms_with_dates = indigo_KPI_form_status.notnull().sum().sum()\n",
    "#indigo_KPI_start_date = datetime(2023, 8, 29)\n",
    "#indigo_KPI_end_date = datetime.today()\n",
    "\n",
    "#indigo_KPI_date_columns = [\n",
    "    #'con_date_q5','ultsc_date','ma_dvdate_q1','cdate',\n",
    "    #'mbsc_visitdate_q1','mu_vdate','rvdate','ran_date','ms_dvisit_q1','mm_vdate',\n",
    "    #'del_vdate_q1','dvisit_code','mhc_date_complete','bc_deldate','visit_ddate_q3',\n",
    "    #'sup_vdate','im_dvisite_q1','bmsc_vdate_q1','iac_dvisite_q1','ibc_date_q1','isc_dvdate_q1',\n",
    "    #'samp_edtadate_q1a','date_form_completed_11','date_form_completed_41','date_of_visit',\n",
    "    #'hvd_date_of_visit_q2','date_of_first_visit','msel_vdate_q1','ae_vdate','com_sdate',\n",
    "    #'date_form_completed','wd_date_q1'\n",
    "#]\n",
    "\n",
    "#indigo_KPI_form_status[indigo_KPI_date_columns] = indigo_KPI_form_status[indigo_KPI_date_columns].apply(pd.to_datetime, errors='coerce')\n",
    "\n",
    "#indigo_KPI_forms_within_date_range = indigo_KPI_form_status[\n",
    "    #(indigo_KPI_form_status[indigo_KPI_date_columns] >= indigo_KPI_start_date) & (indigo_KPI_form_status[indigo_KPI_date_columns] <= indigo_KPI_end_date)\n",
    "#]\n",
    "\n",
    "#indigo_KPI_num_forms_within_date_range = indigo_KPI_forms_within_date_range.notnull().sum().sum()\n",
    "\n"
   ]
  },
  {
   "cell_type": "markdown",
   "metadata": {},
   "source": [
    "EDEN KPI Report "
   ]
  },
  {
   "cell_type": "code",
   "execution_count": 6,
   "metadata": {},
   "outputs": [
    {
     "name": "stdout",
     "output_type": "stream",
     "text": [
      "the number of form completed for eden 242\n"
     ]
    }
   ],
   "source": [
    "eden_KPI=eden.export_report(report_id='9822')\n",
    "eden_KPI=pd.DataFrame(eden_KPI)\n",
    "\n",
    "eden_KPI_form_status=eden_KPI[[\n",
    "       'participant_id',\n",
    "       'consent_form_date_q10',\n",
    "       'recruit_form_date_q14', 'screen_form_date', 'date_form_completed_q47',\n",
    "       'lmp_form_date_q5', 'anthrops_form_date_q11',\n",
    "       'mb_samplecollect_form_date_q6', 'srp_form_date_q13',\n",
    "       'uss_form_date_q34', 'del_vdate_q1',\n",
    "       'ianthrops_from_date_q16',\n",
    "       'withdrawal_form_date_q8', 'mhc_date_complete',\n",
    "       'prepre_ex_form_date_q34', 'ptr_form_date', 'puc_form_date_q7',\n",
    "       'psc_form_date_q7', 'dt_date_form_completed_q241',\n",
    "       'screen_form_date_165091', 'baby_check_form_date_q36', 'form_date_q15',\n",
    "       'cordcollection_form_date_q15'\n",
    "    \n",
    "]]\n",
    "\n",
    "eden_KPI_form_status=pd.DataFrame(eden_KPI_form_status)\n",
    "eden_KPI_num_forms_with_dates = eden_KPI_form_status.notnull().sum().sum()\n",
    "eden_KPI_start_date = datetime(2025, 2, 1)\n",
    "eden_KPI_end_date = datetime.today()\n",
    "\n",
    "eden_KPI_date_columns = [\n",
    "       'consent_form_date_q10',\n",
    "       'recruit_form_date_q14', 'screen_form_date', 'date_form_completed_q47',\n",
    "       'lmp_form_date_q5', 'anthrops_form_date_q11',\n",
    "       'mb_samplecollect_form_date_q6', 'srp_form_date_q13',\n",
    "       'uss_form_date_q34', 'del_vdate_q1',\n",
    "       'ianthrops_from_date_q16', \n",
    "       'withdrawal_form_date_q8', 'mhc_date_complete',\n",
    "       'prepre_ex_form_date_q34', 'ptr_form_date', 'puc_form_date_q7',\n",
    "       'psc_form_date_q7', 'dt_date_form_completed_q241',\n",
    "       'screen_form_date_165091', 'baby_check_form_date_q36', 'form_date_q15',\n",
    "       'cordcollection_form_date_q15'\n",
    "]\n",
    "\n",
    "\n",
    "eden_KPI_form_status[eden_KPI_date_columns] = eden_KPI_form_status[eden_KPI_date_columns].apply(pd.to_datetime, errors='coerce')\n",
    "\n",
    "eden_KPI_forms_within_date_range = eden_KPI_form_status[\n",
    "    (eden_KPI_form_status[eden_KPI_date_columns] >= eden_KPI_start_date) & (eden_KPI_form_status[eden_KPI_date_columns] <= eden_KPI_end_date)\n",
    "]\n",
    "\n",
    "eden_KPI_num_forms_within_date_range = eden_KPI_forms_within_date_range.notnull().sum().sum()\n",
    "print('the number of form completed for eden',eden_KPI_num_forms_within_date_range)\n"
   ]
  }
 ],
 "metadata": {
  "kernelspec": {
   "display_name": "Python 3",
   "language": "python",
   "name": "python3"
  },
  "language_info": {
   "codemirror_mode": {
    "name": "ipython",
    "version": 3
   },
   "file_extension": ".py",
   "mimetype": "text/x-python",
   "name": "python",
   "nbconvert_exporter": "python",
   "pygments_lexer": "ipython3",
   "version": "3.11.5"
  },
  "orig_nbformat": 4
 },
 "nbformat": 4,
 "nbformat_minor": 2
}
