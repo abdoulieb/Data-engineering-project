{
 "cells": [
  {
   "cell_type": "code",
   "execution_count": 19,
   "metadata": {},
   "outputs": [],
   "source": [
    "from selenium import webdriver\n",
    "from selenium.webdriver.support.ui import WebDriverWait\n",
    "from selenium.webdriver.support import expected_conditions as EC\n",
    "from selenium.webdriver.common.keys import Keys\n",
    "from selenium.webdriver.common.by import By"
   ]
  },
  {
   "cell_type": "code",
   "execution_count": 20,
   "metadata": {},
   "outputs": [
    {
     "ename": "NoSuchElementException",
     "evalue": "Message: no such element: Unable to locate element: {\"method\":\"css selector\",\"selector\":\"[id=\"#__LOCKRECORD__\"]\"}\n  (Session info: chrome=115.0.5790.110); For documentation on this error, please visit: https://www.selenium.dev/documentation/webdriver/troubleshooting/errors#no-such-element-exception\nStacktrace:\nBacktrace:\n\tGetHandleVerifier [0x00C2A813+48355]\n\t(No symbol) [0x00BBC4B1]\n\t(No symbol) [0x00AC5358]\n\t(No symbol) [0x00AF09A5]\n\t(No symbol) [0x00AF0B3B]\n\t(No symbol) [0x00B1E232]\n\t(No symbol) [0x00B0A784]\n\t(No symbol) [0x00B1C922]\n\t(No symbol) [0x00B0A536]\n\t(No symbol) [0x00AE82DC]\n\t(No symbol) [0x00AE93DD]\n\tGetHandleVerifier [0x00E8AABD+2539405]\n\tGetHandleVerifier [0x00ECA78F+2800735]\n\tGetHandleVerifier [0x00EC456C+2775612]\n\tGetHandleVerifier [0x00CB51E0+616112]\n\t(No symbol) [0x00BC5F8C]\n\t(No symbol) [0x00BC2328]\n\t(No symbol) [0x00BC240B]\n\t(No symbol) [0x00BB4FF7]\n\tBaseThreadInitThunk [0x76B37BA9+25]\n\tRtlInitializeExceptionChain [0x771ABB9B+107]\n\tRtlClearBits [0x771ABB1F+191]\n",
     "output_type": "error",
     "traceback": [
      "\u001b[1;31m---------------------------------------------------------------------------\u001b[0m",
      "\u001b[1;31mNoSuchElementException\u001b[0m                    Traceback (most recent call last)",
      "Cell \u001b[1;32mIn[20], line 20\u001b[0m\n\u001b[0;32m     18\u001b[0m project_link \u001b[39m=\u001b[39m driver\u001b[39m.\u001b[39mfind_element(By\u001b[39m.\u001b[39mID, \u001b[39m\"\u001b[39m\u001b[39mf_0_1\u001b[39m\u001b[39m\"\u001b[39m)\n\u001b[0;32m     19\u001b[0m project_link\u001b[39m.\u001b[39mclick()\n\u001b[1;32m---> 20\u001b[0m lock_button \u001b[39m=\u001b[39m driver\u001b[39m.\u001b[39;49mfind_element(By\u001b[39m.\u001b[39;49mID, \u001b[39m\"\u001b[39;49m\u001b[39m#__LOCKRECORD__\u001b[39;49m\u001b[39m\"\u001b[39;49m)\n\u001b[0;32m     21\u001b[0m lock_button\u001b[39m.\u001b[39mclick()\n\u001b[0;32m     23\u001b[0m \u001b[39m# If there's a pop-up dialog, handle it (this is just an example)\u001b[39;00m\n",
      "File \u001b[1;32mc:\\Users\\abliebah\\AppData\\Local\\Programs\\Python\\Python311\\Lib\\site-packages\\selenium\\webdriver\\remote\\webdriver.py:740\u001b[0m, in \u001b[0;36mWebDriver.find_element\u001b[1;34m(self, by, value)\u001b[0m\n\u001b[0;32m    737\u001b[0m     by \u001b[39m=\u001b[39m By\u001b[39m.\u001b[39mCSS_SELECTOR\n\u001b[0;32m    738\u001b[0m     value \u001b[39m=\u001b[39m \u001b[39mf\u001b[39m\u001b[39m'\u001b[39m\u001b[39m[name=\u001b[39m\u001b[39m\"\u001b[39m\u001b[39m{\u001b[39;00mvalue\u001b[39m}\u001b[39;00m\u001b[39m\"\u001b[39m\u001b[39m]\u001b[39m\u001b[39m'\u001b[39m\n\u001b[1;32m--> 740\u001b[0m \u001b[39mreturn\u001b[39;00m \u001b[39mself\u001b[39;49m\u001b[39m.\u001b[39;49mexecute(Command\u001b[39m.\u001b[39;49mFIND_ELEMENT, {\u001b[39m\"\u001b[39;49m\u001b[39musing\u001b[39;49m\u001b[39m\"\u001b[39;49m: by, \u001b[39m\"\u001b[39;49m\u001b[39mvalue\u001b[39;49m\u001b[39m\"\u001b[39;49m: value})[\u001b[39m\"\u001b[39m\u001b[39mvalue\u001b[39m\u001b[39m\"\u001b[39m]\n",
      "File \u001b[1;32mc:\\Users\\abliebah\\AppData\\Local\\Programs\\Python\\Python311\\Lib\\site-packages\\selenium\\webdriver\\remote\\webdriver.py:346\u001b[0m, in \u001b[0;36mWebDriver.execute\u001b[1;34m(self, driver_command, params)\u001b[0m\n\u001b[0;32m    344\u001b[0m response \u001b[39m=\u001b[39m \u001b[39mself\u001b[39m\u001b[39m.\u001b[39mcommand_executor\u001b[39m.\u001b[39mexecute(driver_command, params)\n\u001b[0;32m    345\u001b[0m \u001b[39mif\u001b[39;00m response:\n\u001b[1;32m--> 346\u001b[0m     \u001b[39mself\u001b[39;49m\u001b[39m.\u001b[39;49merror_handler\u001b[39m.\u001b[39;49mcheck_response(response)\n\u001b[0;32m    347\u001b[0m     response[\u001b[39m\"\u001b[39m\u001b[39mvalue\u001b[39m\u001b[39m\"\u001b[39m] \u001b[39m=\u001b[39m \u001b[39mself\u001b[39m\u001b[39m.\u001b[39m_unwrap_value(response\u001b[39m.\u001b[39mget(\u001b[39m\"\u001b[39m\u001b[39mvalue\u001b[39m\u001b[39m\"\u001b[39m, \u001b[39mNone\u001b[39;00m))\n\u001b[0;32m    348\u001b[0m     \u001b[39mreturn\u001b[39;00m response\n",
      "File \u001b[1;32mc:\\Users\\abliebah\\AppData\\Local\\Programs\\Python\\Python311\\Lib\\site-packages\\selenium\\webdriver\\remote\\errorhandler.py:245\u001b[0m, in \u001b[0;36mErrorHandler.check_response\u001b[1;34m(self, response)\u001b[0m\n\u001b[0;32m    243\u001b[0m         alert_text \u001b[39m=\u001b[39m value[\u001b[39m\"\u001b[39m\u001b[39malert\u001b[39m\u001b[39m\"\u001b[39m]\u001b[39m.\u001b[39mget(\u001b[39m\"\u001b[39m\u001b[39mtext\u001b[39m\u001b[39m\"\u001b[39m)\n\u001b[0;32m    244\u001b[0m     \u001b[39mraise\u001b[39;00m exception_class(message, screen, stacktrace, alert_text)  \u001b[39m# type: ignore[call-arg]  # mypy is not smart enough here\u001b[39;00m\n\u001b[1;32m--> 245\u001b[0m \u001b[39mraise\u001b[39;00m exception_class(message, screen, stacktrace)\n",
      "\u001b[1;31mNoSuchElementException\u001b[0m: Message: no such element: Unable to locate element: {\"method\":\"css selector\",\"selector\":\"[id=\"#__LOCKRECORD__\"]\"}\n  (Session info: chrome=115.0.5790.110); For documentation on this error, please visit: https://www.selenium.dev/documentation/webdriver/troubleshooting/errors#no-such-element-exception\nStacktrace:\nBacktrace:\n\tGetHandleVerifier [0x00C2A813+48355]\n\t(No symbol) [0x00BBC4B1]\n\t(No symbol) [0x00AC5358]\n\t(No symbol) [0x00AF09A5]\n\t(No symbol) [0x00AF0B3B]\n\t(No symbol) [0x00B1E232]\n\t(No symbol) [0x00B0A784]\n\t(No symbol) [0x00B1C922]\n\t(No symbol) [0x00B0A536]\n\t(No symbol) [0x00AE82DC]\n\t(No symbol) [0x00AE93DD]\n\tGetHandleVerifier [0x00E8AABD+2539405]\n\tGetHandleVerifier [0x00ECA78F+2800735]\n\tGetHandleVerifier [0x00EC456C+2775612]\n\tGetHandleVerifier [0x00CB51E0+616112]\n\t(No symbol) [0x00BC5F8C]\n\t(No symbol) [0x00BC2328]\n\t(No symbol) [0x00BC240B]\n\t(No symbol) [0x00BB4FF7]\n\tBaseThreadInitThunk [0x76B37BA9+25]\n\tRtlInitializeExceptionChain [0x771ABB9B+107]\n\tRtlClearBits [0x771ABB1F+191]\n"
     ]
    }
   ],
   "source": [
    "\n",
    "# Initialize the browser (e.g., Chrome)\n",
    "driver = webdriver.Chrome()\n",
    "\n",
    "# Navigate to the REDCap login page\n",
    "driver.get(\"https://ruff.mrc.gm:8443/redcap/\")\n",
    "\n",
    "# Find the username and password fields and input your credentials\n",
    "username_input = driver.find_element(By.ID, \"username\")\n",
    "password_input = driver.find_element(By.ID, \"password\")\n",
    "\n",
    "# Input the username and password values\n",
    "username_input.send_keys(\"abliebah\")\n",
    "password_input.send_keys(\"Mango@1234\")\n",
    "\n",
    "# Submit the login form by pressing the RETURN (Enter) key\n",
    "password_input.send_keys(Keys.RETURN)\n",
    "\n",
    "project_link = driver.find_element(By.ID, \"f_0_1\")\n",
    "project_link.click()\n",
    "\n",
    "lock_button = driver.find_element(By.ID, \"#__LOCKRECORD__\")\n",
    "lock_button.click()\n",
    "\n",
    "# If there's a pop-up dialog, handle it (this is just an example)\n",
    "try:\n",
    "    WebDriverWait(driver, 5).until(EC.alert_is_present())\n",
    "    alert = driver.switch_to.alert\n",
    "    alert.accept()\n",
    "except Exception as e:\n",
    "    print(\"No pop-up dialog found.\")\n",
    "    driver.quit()\n"
   ]
  }
 ],
 "metadata": {
  "kernelspec": {
   "display_name": "Python 3",
   "language": "python",
   "name": "python3"
  },
  "language_info": {
   "codemirror_mode": {
    "name": "ipython",
    "version": 3
   },
   "file_extension": ".py",
   "mimetype": "text/x-python",
   "name": "python",
   "nbconvert_exporter": "python",
   "pygments_lexer": "ipython3",
   "version": "3.11.2"
  },
  "orig_nbformat": 4
 },
 "nbformat": 4,
 "nbformat_minor": 2
}
