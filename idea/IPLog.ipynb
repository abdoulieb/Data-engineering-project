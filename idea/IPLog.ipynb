{
 "cells": [
  {
   "cell_type": "code",
   "execution_count": 7,
   "metadata": {},
   "outputs": [],
   "source": [
    "import redcap\n",
    "import pandas as pd\n",
    "data = {\n",
    "    'token': '085520489DF98911614E03FF05D58EA8',\n",
    "    'content': 'project',\n",
    "    'format': 'csv',\n",
    "    'returnFormat': 'csv'\n",
    "}\n",
    "\n",
    "proj = redcap.Project('https://ruff.mrc.gm:8443/redcap/api/', data['token'])"
   ]
  },
  {
   "cell_type": "code",
   "execution_count": 8,
   "metadata": {},
   "outputs": [],
   "source": [
    "crf_name = 'ironsupplement'\n",
    "\n",
    "# Use the export_records() function to export the specified CRF\n",
    "crf_data = proj.export_records(forms=[crf_name])\n",
    "\n",
    "crf_data = pd.DataFrame(crf_data)\n",
    "counts = (\n",
    "    (crf_data['iron_supferrouspri_q2'] == '1') |\n",
    "    (crf_data['ip_administer'] == '1')\n",
    ").groupby(crf_data['cons_recordid_q1']).sum().rename('Total_ips')\n",
    "\n",
    "counts2 = (\n",
    "    (crf_data['iron_supferrouspri_q2'] == '1') &\n",
    "    (crf_data['ip_administer'] == '1')\n",
    ").groupby(crf_data['cons_recordid_q1']).sum().rename('Total_ips_both')\n",
    "\n",
    "total_counts = counts + counts2\n",
    "total_counts.name = 'Total_ips_combined'\n",
    "\n",
    "crf_data = pd.merge(crf_data, total_counts, on=['cons_recordid_q1'], how='inner')\n",
    "crf_data['total_IP_issued'] = 84\n",
    "crf_data['balance'] = crf_data['total_IP_issued'] - crf_data['Total_ips_combined']\n",
    "\n",
    "# Calculate the count of each instrument\n",
    "instrument_counts = crf_data['redcap_repeat_instrument'].value_counts()\n",
    "\n",
    "# Find the instrument with the maximum count\n",
    "max_count_instrument = instrument_counts.idxmax()\n",
    "\n",
    "# Group by the highest instrument count\n",
    "grouped_data = crf_data.groupby('redcap_repeat_instrument').filter(lambda x: x['redcap_repeat_instrument'].value_counts().max() == instrument_counts.max())\n",
    "\n",
    "# Filter out cons_recordid_q1 values starting with \"IDV\"\n",
    "grouped_data = grouped_data[~grouped_data['cons_recordid_q1'].str.startswith('IDV')]\n",
    "\n",
    "# Save the grouped data to a CSV file\n",
    "grouped_data.drop_duplicates('cons_recordid_q1').to_csv('monitors_ip_log.csv',index=False)"
   ]
  },
  {
   "cell_type": "code",
   "execution_count": 9,
   "metadata": {},
   "outputs": [],
   "source": [
    "ran=proj.export_records(forms=['randomization'])\n",
    "ran=pd.DataFrame(ran)\n",
    "\n",
    "ran=ran[\n",
    "    (ran['randomization_complete']=='2')\n",
    "]\n",
    "ran=ran[['cons_recordid_q1','rand_treatgroup_q3']]"
   ]
  },
  {
   "cell_type": "code",
   "execution_count": 10,
   "metadata": {},
   "outputs": [],
   "source": [
    "mmonitors_ip_lo=pd.read_csv('monitors_ip_log.csv')\n",
    "mmonitors_ip_lo=pd.DataFrame(mmonitors_ip_lo)\n",
    "\n"
   ]
  },
  {
   "cell_type": "code",
   "execution_count": 11,
   "metadata": {},
   "outputs": [],
   "source": [
    "mmonitors_ip_lo=pd.merge(mmonitors_ip_lo,ran,on='cons_recordid_q1',how='inner')\n",
    "\n",
    "mmonitors_ip_lo.to_csv('monitors_ip_log_1.csv',index=False)"
   ]
  },
  {
   "cell_type": "code",
   "execution_count": 12,
   "metadata": {},
   "outputs": [],
   "source": [
    "v12_sysmex=proj.export_records(forms=['sysmexresult'])\n",
    "v12_sysmex=pd.DataFrame(v12_sysmex)\n",
    "v12_sysmex=v12_sysmex[['cons_recordid_q1', 'redcap_event_name', 'redcap_repeat_instrument',\n",
    "       'redcap_repeat_instance','sysmexresult_complete']]\n"
   ]
  },
  {
   "cell_type": "code",
   "execution_count": 13,
   "metadata": {},
   "outputs": [],
   "source": [
    "filter_data=v12_sysmex[\n",
    "    (v12_sysmex['redcap_event_name']=='v12_arm_1')&\n",
    "    (v12_sysmex['sysmexresult_complete']=='2')\n",
    "]\n",
    "\n",
    "filter_data.to_csv('completed_fellow_up_IDeA.csv',index=False)"
   ]
  },
  {
   "cell_type": "code",
   "execution_count": 14,
   "metadata": {},
   "outputs": [],
   "source": [
    "withdraw_data=proj.export_records(forms=['withdrawal'])\n",
    "withdraw_data=pd.DataFrame(withdraw_data)\n",
    "\n",
    "withdraw_data=withdraw_data[\n",
    "    (withdraw_data['withdrawal_complete']=='2')|\n",
    "    (withdraw_data['withdrawal_complete']=='1')\n",
    "]"
   ]
  },
  {
   "cell_type": "code",
   "execution_count": 15,
   "metadata": {},
   "outputs": [],
   "source": [
    "\n",
    "# Find record IDs not present in filter_data\n",
    "ip_log = grouped_data[~grouped_data['cons_recordid_q1'].isin(filter_data['cons_recordid_q1'])]\n",
    "\n",
    "# Filter out records from withdraw_data that are in ip_log\n",
    "current_IP = ip_log[~ip_log['cons_recordid_q1'].isin(withdraw_data['cons_recordid_q1'])]\n",
    "#current_IP.to_csv('ip_log.csv', index=False)\n",
    "current_IP.drop_duplicates('cons_recordid_q1').to_csv('ip_log.csv', index=False)\n",
    "# Save ip_log to a CSV file\n",
    "\n"
   ]
  },
  {
   "cell_type": "code",
   "execution_count": 16,
   "metadata": {},
   "outputs": [],
   "source": [
    "grouped_data=grouped_data[['cons_recordid_q1','Total_ips_combined',\n",
    "       'total_IP_issued', 'balance']]"
   ]
  },
  {
   "cell_type": "code",
   "execution_count": 17,
   "metadata": {},
   "outputs": [],
   "source": [
    "\n",
    "ENDLINE_RECORD=pd.read_csv('Merghed_Queries.csv')\n",
    "ENDLINE_RECORD=pd.DataFrame(ENDLINE_RECORD)"
   ]
  },
  {
   "cell_type": "code",
   "execution_count": 18,
   "metadata": {},
   "outputs": [],
   "source": [
    "ENDLINE_RECORD_merg=pd.merge(grouped_data,ENDLINE_RECORD,on='cons_recordid_q1',how='inner')\n",
    "ENDLINE_RECORD_merg.drop_duplicates('cons_recordid_q1').to_csv('Merghed_Queries.csv',index=False)"
   ]
  },
  {
   "cell_type": "code",
   "execution_count": 19,
   "metadata": {},
   "outputs": [],
   "source": [
    "#ran=proj.export_records(forms=['randomization'])\n",
    "#ran=pd.DataFrame(ran)\n"
   ]
  },
  {
   "cell_type": "code",
   "execution_count": 20,
   "metadata": {},
   "outputs": [],
   "source": [
    "#ran_column=ran[['cons_recordid_q1','rand_treatgroup_q3']]\n",
    "#ran_column=pd.DataFrame(ran_column)"
   ]
  },
  {
   "cell_type": "code",
   "execution_count": 21,
   "metadata": {},
   "outputs": [],
   "source": [
    "#mergh_data=pd.merge(grouped_data,ran_column,on='cons_recordid_q1',how='inner')\n",
    "#mergh_data.to_csv('mergh_dat.csv',index=False)"
   ]
  },
  {
   "cell_type": "code",
   "execution_count": 22,
   "metadata": {},
   "outputs": [],
   "source": [
    "#reconcile_data=pd.read_excel('Book3.xlsx')\n",
    "#reconcile_data=pd.DataFrame(reconcile_data)\n",
    "\n",
    "#reconcile_data=pd.merge(reconcile_data,ran_column,on='cons_recordid_q1',how='inner')\n",
    "#reconcile_data.to_csv('tobe_reconcile.csv',index=False)"
   ]
  },
  {
   "cell_type": "code",
   "execution_count": 23,
   "metadata": {},
   "outputs": [],
   "source": [
    "inner_join_sysmex_iron=pd.merge(current_IP, filter_data,on='cons_recordid_q1', how='inner')"
   ]
  }
 ],
 "metadata": {
  "kernelspec": {
   "display_name": "Python 3",
   "language": "python",
   "name": "python3"
  },
  "language_info": {
   "codemirror_mode": {
    "name": "ipython",
    "version": 3
   },
   "file_extension": ".py",
   "mimetype": "text/x-python",
   "name": "python",
   "nbconvert_exporter": "python",
   "pygments_lexer": "ipython3",
   "version": "3.11.5"
  },
  "orig_nbformat": 4,
  "vscode": {
   "interpreter": {
    "hash": "f2754ca6462689b63fcc08c2172b0cc028fafe02f715762af1aee233a6f9f9de"
   }
  }
 },
 "nbformat": 4,
 "nbformat_minor": 2
}
