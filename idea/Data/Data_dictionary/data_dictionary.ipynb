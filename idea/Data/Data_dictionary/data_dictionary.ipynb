{
 "cells": [
  {
   "cell_type": "code",
   "execution_count": 1,
   "metadata": {},
   "outputs": [],
   "source": [
    "import redcap\n",
    "import pandas as pd\n",
    "data = {\n",
    "    'token': '085520489DF98911614E03FF05D58EA8',\n",
    "    'content': 'project',\n",
    "    'format': 'csv',\n",
    "    'returnFormat': 'csv'\n",
    "}\n",
    "\n",
    "df= redcap.Project('https://ruff.mrc.gm:8443/redcap/api/', data['token'])"
   ]
  },
  {
   "cell_type": "code",
   "execution_count": 4,
   "metadata": {},
   "outputs": [],
   "source": [
    "df_dictionary=df.export_metadata()\n",
    "df_dictionary=pd.DataFrame(df_dictionary)\n",
    "df_dictionary.to_csv('data_dictionary.csv',index=False)"
   ]
  }
 ],
 "metadata": {
  "kernelspec": {
   "display_name": "Python 3",
   "language": "python",
   "name": "python3"
  },
  "language_info": {
   "codemirror_mode": {
    "name": "ipython",
    "version": 3
   },
   "file_extension": ".py",
   "mimetype": "text/x-python",
   "name": "python",
   "nbconvert_exporter": "python",
   "pygments_lexer": "ipython3",
   "version": "3.11.5"
  }
 },
 "nbformat": 4,
 "nbformat_minor": 2
}
