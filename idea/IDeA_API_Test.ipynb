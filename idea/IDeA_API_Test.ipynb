{
 "cells": [
  {
   "cell_type": "code",
   "execution_count": 1,
   "metadata": {},
   "outputs": [],
   "source": [
    "import redcap\n",
    "data = {\n",
    "    'token': '55F9261859DDB94D0A7017A145361A75',\n",
    "    'content': 'project',\n",
    "    'format': 'json',\n",
    "    'returnFormat': 'json'\n",
    "}\n",
    "proj = redcap.Project('https://redcap.mrc.gm:8443/redcaptest/api/',data['token'])"
   ]
  },
  {
   "cell_type": "code",
   "execution_count": 28,
   "metadata": {},
   "outputs": [],
   "source": [
    "import pandas as pd\n",
    "crf_name = 'ironsupplement'\n",
    "\n",
    "# Use the export_records() function to export the specified CRF\n",
    "crf_data = proj.export_records(forms=[crf_name])\n",
    "\n",
    "crf_data=pd.DataFrame(crf_data)"
   ]
  },
  {
   "cell_type": "code",
   "execution_count": 29,
   "metadata": {},
   "outputs": [],
   "source": [
    "counts = (\n",
    "    (crf_data['iron_supferrouspri_q2'] == '1') |\n",
    "    (crf_data['ip_administer'] == '1')\n",
    ").groupby(crf_data['cons_recordid_q1']).sum().rename('Total_ips')\n",
    "\n",
    "\n",
    "counts2 = (\n",
    "    (crf_data['iron_supferrouspri_q2'] == '1') &\n",
    "    (crf_data['ip_administer'] == '1')\n",
    ").groupby(crf_data['cons_recordid_q1']).sum().rename('Total_ips_both')\n",
    "\n",
    "total_counts = counts + counts2\n",
    "total_counts.name = 'Total_ips_combined'\n",
    "\n",
    "crf_data = pd.merge(crf_data, total_counts, on=['cons_recordid_q1'], how='left')\n",
    "crf_data['IP']=84\n",
    "crf_data['balance'] =crf_data['IP']- crf_data['Total_ips_combined']\n",
    "crf_data.to_csv('IPlogTestData.csv',index=False)\n",
    "\n"
   ]
  },
  {
   "cell_type": "code",
   "execution_count": 30,
   "metadata": {},
   "outputs": [
    {
     "name": "stdout",
     "output_type": "stream",
     "text": [
      "The maximum iron supplement date is more than one day behind today.\n"
     ]
    }
   ],
   "source": [
    "import datetime\n",
    "\n",
    "iron_supplement = proj.export_records(forms=['ironsupplement'])\n",
    "iron_supplement = pd.DataFrame(iron_supplement)\n",
    "iron_supplement = iron_supplement.rename(columns={'cons_recordid_q1': 'record_id'})\n",
    "\n",
    "current_date = datetime.datetime.now().date()\n",
    "\n",
    "max_supplement_date_str = iron_supplement['iron_patcontactdate_q1'].max()\n",
    "\n",
    "if max_supplement_date_str:\n",
    "    max_supplement_date = datetime.datetime.strptime(max_supplement_date_str, '%Y-%m-%d').date()\n",
    "    days_difference = (current_date - max_supplement_date).days\n",
    "\n",
    "    if days_difference > 1:\n",
    "        iron_supplement.to_csv('missing.csv',index=False)\n",
    "        print(\"The maximum iron supplement date is more than one day behind today.\")\n"
   ]
  },
  {
   "cell_type": "code",
   "execution_count": 2,
   "metadata": {},
   "outputs": [
    {
     "name": "stdout",
     "output_type": "stream",
     "text": [
      "Invalid records:\n",
      "   cons_recordid_q1 sysm_wbc_q1 sysm_rbc_q2 sysm_hgb_q3 sysm_htc_q4  \\\n",
      "0               NaN         NaN         NaN         9.7         NaN   \n",
      "1               NaN         NaN         NaN         9.9         NaN   \n",
      "2               NaN         NaN         NaN        10.5         NaN   \n",
      "3               NaN         NaN         NaN         NaN         NaN   \n",
      "4               NaN         NaN         NaN        11.3         NaN   \n",
      "..              ...         ...         ...         ...         ...   \n",
      "78              NaN         NaN         NaN         7.7         NaN   \n",
      "79              NaN         NaN         NaN         NaN         NaN   \n",
      "80              NaN         NaN         NaN        10.5         NaN   \n",
      "81              NaN         NaN         NaN         7.0         NaN   \n",
      "82              NaN         NaN         NaN        10.4         NaN   \n",
      "\n",
      "   sysm_mcv_q5 sysm_mch_q6 sysm_mchc_q7 sysm_plt_q8 sysm_rwd_sd_q9  ...  \\\n",
      "0          NaN         NaN          NaN         NaN            NaN  ...   \n",
      "1          NaN         NaN          NaN         NaN            NaN  ...   \n",
      "2          NaN         NaN          NaN         NaN            NaN  ...   \n",
      "3          NaN         NaN          NaN         NaN            NaN  ...   \n",
      "4          NaN         NaN          NaN         NaN            NaN  ...   \n",
      "..         ...         ...          ...         ...            ...  ...   \n",
      "78         NaN         NaN          NaN         NaN            NaN  ...   \n",
      "79         NaN         NaN          NaN         NaN            NaN  ...   \n",
      "80         NaN         NaN          NaN         NaN            NaN  ...   \n",
      "81         NaN         NaN          NaN         NaN            NaN  ...   \n",
      "82         NaN         NaN          NaN         NaN            NaN  ...   \n",
      "\n",
      "   sysm_ret_q29 sysm_ret_percent_q30 sysm_irf_q31 sysm_lfr_q32 sysm_mfr_q33  \\\n",
      "0           NaN                  NaN          NaN          NaN          NaN   \n",
      "1           NaN                  NaN          NaN          NaN          NaN   \n",
      "2           NaN                  NaN          NaN          NaN          NaN   \n",
      "3           NaN                  NaN          NaN          NaN          NaN   \n",
      "4           NaN                  NaN          NaN          NaN          NaN   \n",
      "..          ...                  ...          ...          ...          ...   \n",
      "78          NaN                  NaN          NaN          NaN          NaN   \n",
      "79          NaN                  NaN          NaN          NaN          NaN   \n",
      "80          NaN                  NaN          NaN          NaN          NaN   \n",
      "81          NaN                  NaN          NaN          NaN          NaN   \n",
      "82          NaN                  NaN          NaN          NaN          NaN   \n",
      "\n",
      "   sysm_hfr_q34 sysm_ret_he_q35 sysm_nrbc_q36 sysm_nrbc_percent_q37  \\\n",
      "0           NaN             NaN           NaN                   NaN   \n",
      "1           NaN             NaN           NaN                   NaN   \n",
      "2           NaN             NaN           NaN                   NaN   \n",
      "3           NaN             NaN           NaN                   NaN   \n",
      "4           NaN             NaN           NaN                   NaN   \n",
      "..          ...             ...           ...                   ...   \n",
      "78          NaN             NaN           NaN                   NaN   \n",
      "79          NaN             NaN           NaN                   NaN   \n",
      "80          NaN             NaN           NaN                   NaN   \n",
      "81          NaN             NaN           NaN                   NaN   \n",
      "82          NaN             NaN           NaN                   NaN   \n",
      "\n",
      "   sysm_validated_by_q38  \n",
      "0                    NaN  \n",
      "1                    NaN  \n",
      "2                    NaN  \n",
      "3                    NaN  \n",
      "4                    NaN  \n",
      "..                   ...  \n",
      "78                   NaN  \n",
      "79                   NaN  \n",
      "80                   NaN  \n",
      "81                   NaN  \n",
      "82                   NaN  \n",
      "\n",
      "[83 rows x 39 columns]\n"
     ]
    },
    {
     "name": "stderr",
     "output_type": "stream",
     "text": [
      "C:\\Users\\abliebah\\AppData\\Local\\Temp\\ipykernel_19488\\2773131569.py:14: UserWarning: pandas only supports SQLAlchemy connectable (engine/connection) or database string URI or sqlite3 DBAPI2 connection. Other DBAPI2 objects are not tested. Please consider using SQLAlchemy.\n",
      "  sysmexresult_data = pd.read_sql(sql_query, cnxn)\n"
     ]
    }
   ],
   "source": [
    "import re\n",
    "import redcap\n",
    "import pandas as pd\n",
    "import pyodbc\n",
    "\n",
    "# Connect to the SQL Server database\n",
    "server = 'KB-DATA'\n",
    "database = 'KenebaClinic'\n",
    "driver = '{SQL Server}'\n",
    "cnxn = pyodbc.connect(f\"Driver={driver};Server={server};Database={database};Trusted_Connection=yes;\")\n",
    "\n",
    "# Retrieve data as Pandas DataFrame\n",
    "sql_query = \"SELECT * from vw_IdeA_sysmex\"\n",
    "sysmexresult_data = pd.read_sql(sql_query, cnxn)\n",
    "\n",
    "# Format the values in the numeric columns to two decimal places\n",
    "numeric_columns = ['sysm_wbc_q1', 'sysm_rbc_q2', 'sysm_hgb_q3']\n",
    "sysmexresult_data[numeric_columns] = sysmexresult_data[numeric_columns].round(2)\n",
    "\n",
    "# Define the desired float decimal format regex pattern\n",
    "desired_pattern = r'^\\d+\\.\\d{2}$'\n",
    "\n",
    "# Validate the specified columns against the desired pattern\n",
    "invalid_records = sysmexresult_data.copy()\n",
    "invalid_records = invalid_records[~invalid_records[numeric_columns].astype(str).applymap(lambda x: bool(re.match(desired_pattern, x)))]\n",
    "\n",
    "if not invalid_records.empty:\n",
    "    print(\"Invalid records:\")\n",
    "    print(invalid_records)\n",
    "else:\n",
    "    # Remove the invalid records from sysmexresult_data\n",
    "    sysmexresult_data = sysmexresult_data.drop(invalid_records.index)\n",
    "    \n",
    "    # Convert the filtered DataFrame to a list of dictionaries\n",
    "    records_to_import = sysmexresult_data.to_dict('records')\n",
    "\n",
    "    # Instantiate the REDCap project object\n",
    "    token = '55F9261859DDB94D0A7017A145361A75'\n",
    "    project_url = 'https://redcap.mrc.gm:8443/redcaptest/api/'\n",
    "    proj = redcap.Project(project_url, token)\n",
    "\n",
    "    # Import the valid records back to REDCap\n",
    "    response = proj.import_records(records_to_import, return_content='ids', overwrite=True)\n",
    "\n",
    "    # Check if the response contains any errors\n",
    "    if 'error' in response:\n",
    "        print(\"There was an error in importing the data.\")\n",
    "    else:\n",
    "        print(\"Data has been successfully imported.\")\n"
   ]
  },
  {
   "cell_type": "code",
   "execution_count": 1,
   "metadata": {},
   "outputs": [
    {
     "ename": "OperationalError",
     "evalue": "('08001', '[08001] [Microsoft][SQL Server Native Client 11.0]Named Pipes Provider: Could not open a connection to SQL Server [53].  (53) (SQLDriverConnect); [08001] [Microsoft][SQL Server Native Client 11.0]Login timeout expired (0); [08001] [Microsoft][SQL Server Native Client 11.0]A network-related or instance-specific error has occurred while establishing a connection to SQL Server. Server is not found or not accessible. Check if instance name is correct and if SQL Server is configured to allow remote connections. For more information see SQL Server Books Online. (53)')",
     "output_type": "error",
     "traceback": [
      "\u001b[1;31m---------------------------------------------------------------------------\u001b[0m",
      "\u001b[1;31mOperationalError\u001b[0m                          Traceback (most recent call last)",
      "Cell \u001b[1;32mIn[1], line 16\u001b[0m\n\u001b[0;32m     13\u001b[0m database \u001b[38;5;241m=\u001b[39m \u001b[38;5;124m'\u001b[39m\u001b[38;5;124mKenebaClinic\u001b[39m\u001b[38;5;124m'\u001b[39m\n\u001b[0;32m     14\u001b[0m driver \u001b[38;5;241m=\u001b[39m \u001b[38;5;124m'\u001b[39m\u001b[38;5;124m{\u001b[39m\u001b[38;5;124mSQL Server}\u001b[39m\u001b[38;5;124m'\u001b[39m\n\u001b[1;32m---> 16\u001b[0m cnxn \u001b[38;5;241m=\u001b[39m \u001b[43mpyodbc\u001b[49m\u001b[38;5;241;43m.\u001b[39;49m\u001b[43mconnect\u001b[49m\u001b[43m(\u001b[49m\u001b[38;5;124;43m\"\u001b[39;49m\u001b[38;5;124;43mDriver=\u001b[39;49m\u001b[38;5;124;43m{\u001b[39;49m\u001b[38;5;124;43mSQL Server Native Client 11.0};\u001b[39;49m\u001b[38;5;124;43m\"\u001b[39;49m\n\u001b[0;32m     17\u001b[0m \u001b[43m                      \u001b[49m\u001b[38;5;124;43m\"\u001b[39;49m\u001b[38;5;124;43mServer=KB-DATA;\u001b[39;49m\u001b[38;5;124;43m\"\u001b[39;49m\n\u001b[0;32m     18\u001b[0m \u001b[43m                      \u001b[49m\u001b[38;5;124;43m\"\u001b[39;49m\u001b[38;5;124;43mDatabase=KenebaClinic;\u001b[39;49m\u001b[38;5;124;43m\"\u001b[39;49m\n\u001b[0;32m     19\u001b[0m \u001b[43m                      \u001b[49m\u001b[38;5;124;43m\"\u001b[39;49m\u001b[38;5;124;43muid=your_abliebah;\u001b[39;49m\u001b[38;5;124;43m\"\u001b[39;49m\n\u001b[0;32m     20\u001b[0m \u001b[43m                      \u001b[49m\u001b[38;5;124;43m\"\u001b[39;49m\u001b[38;5;124;43mpwd=Mango@123;\u001b[39;49m\u001b[38;5;124;43m\"\u001b[39;49m\n\u001b[0;32m     21\u001b[0m \u001b[43m                      \u001b[49m\u001b[38;5;124;43m\"\u001b[39;49m\u001b[38;5;124;43mTrusted_Connection=yes;\u001b[39;49m\u001b[38;5;124;43m\"\u001b[39;49m\u001b[43m)\u001b[49m\n\u001b[0;32m     23\u001b[0m \u001b[38;5;66;03m# Retrieve data as Pandas DataFrame\u001b[39;00m\n\u001b[0;32m     24\u001b[0m sql_query \u001b[38;5;241m=\u001b[39m \u001b[38;5;124m\"\u001b[39m\u001b[38;5;124mSELECT * from vw_IdeA_sysmex\u001b[39m\u001b[38;5;124m\"\u001b[39m\n",
      "\u001b[1;31mOperationalError\u001b[0m: ('08001', '[08001] [Microsoft][SQL Server Native Client 11.0]Named Pipes Provider: Could not open a connection to SQL Server [53].  (53) (SQLDriverConnect); [08001] [Microsoft][SQL Server Native Client 11.0]Login timeout expired (0); [08001] [Microsoft][SQL Server Native Client 11.0]A network-related or instance-specific error has occurred while establishing a connection to SQL Server. Server is not found or not accessible. Check if instance name is correct and if SQL Server is configured to allow remote connections. For more information see SQL Server Books Online. (53)')"
     ]
    }
   ],
   "source": [
    "import redcap\n",
    "import pandas as pd\n",
    "import pyodbc\n",
    "import redcap\n",
    "data = {\n",
    "    'token': '55F9261859DDB94D0A7017A145361A75',\n",
    "    'content': 'project',\n",
    "    'format': 'json',\n",
    "    'returnFormat': 'json'\n",
    "}\n",
    "proj = redcap.Project('https://redcap.mrc.gm:8443/redcaptest/api/',data['token'])\n",
    "server = 'KB-DATA'\n",
    "database = 'KenebaClinic'\n",
    "driver = '{SQL Server}'\n",
    "\n",
    "cnxn = pyodbc.connect(\"Driver={SQL Server Native Client 11.0};\"\n",
    "                      \"Server=KB-DATA;\"\n",
    "                      \"Database=KenebaClinic;\"\n",
    "                      \"uid=your_abliebah;\"\n",
    "                      \"pwd=Mango@123;\"\n",
    "                      \"Trusted_Connection=yes;\")\n",
    "\n",
    "# Retrieve data as Pandas DataFrame\n",
    "sql_query = \"SELECT * from vw_IdeA_sysmex\"\n",
    "sysmexresult_data = pd.read_sql(sql_query, cnxn)\n",
    "sysmexresult_data = pd.DataFrame(sysmexresult_data)\n",
    "records_to_import = sysmexresult_data.to_dict('records')\n",
    "sysmexresult_data['sysmexresult_complete']=2\n",
    "# Convert DataFrame records to a dictionary format\n",
    "records_to_import = sysmexresult_data.to_dict('records')\n",
    "response = proj.import_records(records_to_import, return_content='ids', overwrite=True)\n",
    "\n",
    "    # Check if the response contains any errors\n",
    "if 'error' in response:\n",
    "        print(\"There was an error in importing the data.\")\n",
    "else:\n",
    "        print(\"Data has been successfully imported.\")\n"
   ]
  },
  {
   "cell_type": "code",
   "execution_count": 10,
   "metadata": {},
   "outputs": [
    {
     "name": "stderr",
     "output_type": "stream",
     "text": [
      "C:\\Users\\abliebah\\AppData\\Local\\Temp\\ipykernel_19488\\1952097006.py:20: UserWarning: pandas only supports SQLAlchemy connectable (engine/connection) or database string URI or sqlite3 DBAPI2 connection. Other DBAPI2 objects are not tested. Please consider using SQLAlchemy.\n",
      "  sysmexresult_data = pd.read_sql(sql_query, cnxn)\n"
     ]
    },
    {
     "name": "stdout",
     "output_type": "stream",
     "text": [
      "Data has been successfully imported.\n"
     ]
    }
   ],
   "source": [
    "import json\n",
    "import redcap\n",
    "import pandas as pd\n",
    "import pyodbc\n",
    "\n",
    "# Connect to REDCap project\n",
    "token = '55F9261859DDB94D0A7017A145361A75'\n",
    "api_url = 'https://redcap.mrc.gm:8443/redcaptest/api/'\n",
    "project = redcap.Project(api_url, token)\n",
    "\n",
    "with open('config.json') as config_file:\n",
    "    config = json.load(config_file)\n",
    "username = config['username']\n",
    "password = config['password']\n",
    "server = config['server']\n",
    "database = config['database']\n",
    "driver = config['driver']\n",
    "cnxn = pyodbc.connect(f\"Driver={driver};Server={server};Database={database};uid={username};pwd={password};Trusted_Connection=yes;\")\n",
    "sql_query = \"SELECT * FROM vw_IdeA_sysmex\"\n",
    "sysmexresult_data = pd.read_sql(sql_query, cnxn)\n",
    "sysmexresult_data['sysmexresult_complete'] = 2\n",
    "records_to_import = sysmexresult_data.to_dict('records')\n",
    "event_name = 'v6_arm_1'  \n",
    "for record in records_to_import:\n",
    "    record['redcap_event_name'] = event_name\n",
    "\n",
    "response = project.import_records(records_to_import, return_content='ids', overwrite=False)\n",
    "\n",
    "# Check if the response contains any errors\n",
    "if 'error' in response:\n",
    "    print(\"There was an error in importing the data.\")\n",
    "else:\n",
    "    print(\"Data has been successfully imported.\")\n"
   ]
  },
  {
   "cell_type": "code",
   "execution_count": null,
   "metadata": {},
   "outputs": [],
   "source": []
  }
 ],
 "metadata": {
  "kernelspec": {
   "display_name": "Python 3",
   "language": "python",
   "name": "python3"
  },
  "language_info": {
   "codemirror_mode": {
    "name": "ipython",
    "version": 3
   },
   "file_extension": ".py",
   "mimetype": "text/x-python",
   "name": "python",
   "nbconvert_exporter": "python",
   "pygments_lexer": "ipython3",
   "version": "3.11.5"
  },
  "orig_nbformat": 4
 },
 "nbformat": 4,
 "nbformat_minor": 2
}
