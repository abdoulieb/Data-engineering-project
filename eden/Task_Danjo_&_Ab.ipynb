{
 "cells": [
  {
   "cell_type": "code",
   "execution_count": 6,
   "metadata": {},
   "outputs": [],
   "source": [
    "import redcap\n",
    "import csv\n",
    "import datetime\n",
    "import pandas as pd\n",
    "\n",
    "# REDCap API endpoint and token\n",
    "data = {\n",
    "    'token': 'DE12CA04415CF93BCD68321EBF5040FD',\n",
    "    'content': 'project',\n",
    "    'format': 'json',\n",
    "    'returnFormat': 'json'\n",
    "}\n",
    "df= redcap.Project('https://redcap.mrc.gm:8443/redcap/api/',data['token'])\n",
    "data = {\n",
    "    'token': 'B5C8DD01C47A66E81E154A8AC735D281',\n",
    "    'content': 'project',\n",
    "    'format': 'json',\n",
    "    'returnFormat': 'json'\n",
    "}\n",
    "ck_wk=redcap.Project('https://redcap.mrc.gm:8443/redcap/api/',data['token'])\n"
   ]
  },
  {
   "cell_type": "code",
   "execution_count": 8,
   "metadata": {},
   "outputs": [],
   "source": [
    "df_consent=df.export_records(forms=['consent'])\n",
    "df_consent=pd.DataFrame(df_consent)\n",
    "df_not_completed_consent=df_consent[\n",
    "    (df_consent['consent_complete']=='0')&\n",
    "    (df_consent['ck_wkno']!='')\n",
    "    \n",
    "]"
   ]
  },
  {
   "cell_type": "code",
   "execution_count": 9,
   "metadata": {},
   "outputs": [],
   "source": [
    "df_consent=df_consent[\n",
    "    (df_consent['cconsent']=='1')|\n",
    "    (df_consent['cconsent']=='0')\n",
    "\n",
    "]"
   ]
  },
  {
   "cell_type": "code",
   "execution_count": 10,
   "metadata": {},
   "outputs": [],
   "source": [
    "df_consent=df_consent[['participant_id','ck_wkno']]"
   ]
  },
  {
   "cell_type": "code",
   "execution_count": 11,
   "metadata": {},
   "outputs": [],
   "source": [
    "df_withdrawal=df.export_records(forms=['withdrawal'])\n",
    "df_withdrawal=pd.DataFrame(df_withdrawal)\n",
    "df_withdrawal=df_withdrawal[\n",
    "    (df_withdrawal['withdrawal_complete']=='2')|\n",
    "    (df_withdrawal['withdrawal_complete']=='1')\n",
    "]\n",
    "df_withdrawal=df_withdrawal[['participant_id','withdrawal_complete']]"
   ]
  },
  {
   "cell_type": "code",
   "execution_count": 12,
   "metadata": {},
   "outputs": [],
   "source": [
    "df_withdrawal_consent=pd.merge(df_consent,df_withdrawal,on='participant_id',how='inner').drop_duplicates('participant_id')"
   ]
  },
  {
   "cell_type": "code",
   "execution_count": 13,
   "metadata": {},
   "outputs": [],
   "source": [
    "sensitization=ck_wk.export_records(forms=['enumeration_and_sensitisation'])"
   ]
  },
  {
   "cell_type": "code",
   "execution_count": 14,
   "metadata": {},
   "outputs": [],
   "source": [
    "sensitization=pd.DataFrame(sensitization)"
   ]
  },
  {
   "cell_type": "code",
   "execution_count": 15,
   "metadata": {},
   "outputs": [],
   "source": [
    "sensitization=sensitization[\n",
    "    (sensitization['enumeration_and_sensitisation_complete']=='2')|\n",
    "    (sensitization['enumeration_and_sensitisation_complete']=='1')\n",
    "]"
   ]
  },
  {
   "cell_type": "code",
   "execution_count": 16,
   "metadata": {},
   "outputs": [],
   "source": [
    "sensitization=sensitization[['wk_ckno','compoundno','enu_village', 'enu_comp','enu_name','enu_mname', 'enu_fname', 'sen_icd_given', 'sen_contact1']]"
   ]
  },
  {
   "cell_type": "code",
   "execution_count": 17,
   "metadata": {},
   "outputs": [],
   "source": [
    "sensitization=sensitization.rename(columns={ 'wk_ckno':'ck_wkno'})"
   ]
  },
  {
   "cell_type": "code",
   "execution_count": 18,
   "metadata": {},
   "outputs": [],
   "source": [
    "village_mapping = {\n",
    "'001':\t'DUMBUTO',\n",
    "'002':\t'SANKANDI',\n",
    "'003':\t'NIORO JATTABA',\n",
    "'004':\t'JATTABA',\n",
    "'005':\t'JIFFARONG',\n",
    "'006':\t'BAJANA',\n",
    "'007':\t'KULI KUNDA',\n",
    "'008':\t'JAMARU',\n",
    "'009':\t'BRIKAMANDING',\n",
    "'010':\t'KANTONG KUNDA',\n",
    "'011':\t'JALI',\n",
    "'013':\t'MANDUAR',\n",
    "'014':\t'BANG KULING',\n",
    "'015':\t'GISSAY',\n",
    "'016':\t'TANKULAR',\n",
    "'017':\t'JOLI',\n",
    "'018':\t'KUYANG',\n",
    "'019':\t'BANTASU',\n",
    "'020':\t'SANTAMBA',\n",
    "'021':\t'MISSIRA',\n",
    "'022':\t'TABORANGKOTO',\n",
    "'023':\t'BURONG',\n",
    "'024':\t'JULA KUNDA',\n",
    "'025':\t'KARANTABA',\n",
    "'026':\t'MANDINA',\n",
    "'027':\t'JANNEH KUNDA',\n",
    "'028':\t'KEMOTO',\n",
    "'029':\t'KENEBA',\n",
    "'030':\t'BATELLING',\n",
    "'031':\t'SANDENG',\n",
    "'032':\t'WUDEBA',\n",
    "'034':\t'KENOKOTO',\n",
    "'035':\t'MANARI',\n",
    "'036':\t'NINETEEN',\n",
    "'040':\t'WUROKANG',\n",
    "'041':\t'KWINELLA SANSANKONO',\n",
    "'042':\t'KWINELLA NIA KUNDA',\n",
    "'043':\t'TENDABA',\n",
    "'044':\t'BUMARR',\n",
    "'045':\t'BAMBAKO',\n",
    "'046':\t'KUNDONG MARIAYA',\n",
    "'047':\t'NEMA',\n",
    "'048':\t'KUNDANG NUMU KUNDA',\n",
    "'049':\t'KUNDANG FULA KUNDA',\n",
    "'050':\t'NEMA KUTA',\n",
    "'051':\t'JIRROFF',\n",
    "'052':\t'MADINA ANGALLEH',\n",
    "'053':\t'JATTA KUNDA',\n",
    "'054':\t'MANDINA CENTRAL',\n",
    "'055':\t'SARE SARJO',\n",
    "'056':\t'SIBETO',\n",
    "'057':\t'SARE NDALLA',\n",
    "'058':\t'TABANANI',\n",
    "'060':\t'WILLINGARA',\n",
    "'061':\t'SARE MAMUDU',\n",
    "'070':\t'KOLIOR',\n",
    "'071':\t'JOMARR',\n",
    "'072':\t'JASOBO',\n",
    "'073':\t'SARE MUSA',\n",
    "'074':\t'YORRO JULA',\n",
    "'075':\t'BABOU YAA',\n",
    "'076':\t'MASEMBEH',\n",
    "'077':\t'GENIERE',\n",
    "'078':\t'KAIAF',\n",
    "'079':\t'MADINA KAIAF',\n",
    "'080':\t'SARE SAMBA',\n",
    "'081':\t'MADINA CEESAY KUNDA',\n",
    "'082':\t'NJOLFEN',\n",
    "'083':\t'TORANKA BANTANG',\n",
    "'084':\t'SAREH PATEH',\n",
    "'085':\t'MUNKUTALA'\n",
    "}\n",
    "\n",
    "# Assuming sen_log_data is your DataFrame\n",
    "sensitization['enu_village'] = sensitization['enu_village'].map(village_mapping)"
   ]
  },
  {
   "cell_type": "code",
   "execution_count": 19,
   "metadata": {},
   "outputs": [],
   "source": [
    "consent2=pd.merge(df_not_completed_consent,sensitization,on='ck_wkno', how='inner').drop_duplicates('ck_wkno')\n",
    "consent2.to_csv('not_consented.csv',index=False)"
   ]
  },
  {
   "cell_type": "code",
   "execution_count": null,
   "metadata": {},
   "outputs": [],
   "source": [
    "mardge=pd.merge(df_consent,indiGoEden,on='ck_wkno', how='inner')\n",
    "mardge.to_csv('indiGoEden.csv',index=False)"
   ]
  },
  {
   "cell_type": "code",
   "execution_count": null,
   "metadata": {},
   "outputs": [],
   "source": [
    "#sensitization=sensitization[\n",
    "#    (sensitization['ck_wkno']!='')\n",
    "#]\n",
    "#sensitization=sensitization[['ck_wkno','sen_outcome']]"
   ]
  },
  {
   "cell_type": "code",
   "execution_count": null,
   "metadata": {},
   "outputs": [],
   "source": [
    "#yet_to_be_consented=pd.merge(sensitization,df_not_completed_consent,on='ck_wkno',how='inner')\n",
    "#yet_to_be_consented.to_csv('yet_to_be_consented.csv',index=False)"
   ]
  },
  {
   "cell_type": "code",
   "execution_count": null,
   "metadata": {},
   "outputs": [],
   "source": [
    "Approaches_sensitization=pd.merge(sensitization,df_DSS,on='ck_wkno',how='inner')\n",
    "Approaches_sensitization.to_csv('Enumerated_from_DSS_list.csv',index=False)"
   ]
  },
  {
   "cell_type": "code",
   "execution_count": null,
   "metadata": {},
   "outputs": [],
   "source": [
    "unsensitized_sensitization=Approaches_sensitization[\n",
    "    (Approaches_sensitization['sen_outcome']=='')\n",
    "]\n",
    "unsensitized_sensitization.to_csv('un_sensitize_from_DSS_list.csv',index=False)"
   ]
  },
  {
   "cell_type": "code",
   "execution_count": null,
   "metadata": {},
   "outputs": [],
   "source": [
    "sensitization_completed=Approaches_sensitization[\n",
    "(Approaches_sensitization['sen_outcome']!='')\n",
    "]\n",
    "sensitization_completed.to_csv('sensitize_from_DSS_list.csv',index=False)"
   ]
  },
  {
   "cell_type": "code",
   "execution_count": null,
   "metadata": {},
   "outputs": [],
   "source": [
    "sentize_consent=pd.merge(sensitization_completed,completed_consent,on='ck_wkno',how='inner')\n",
    "sentize_consent.to_csv('sensitize_consented_from_DSS_list.csv',index=False)"
   ]
  },
  {
   "cell_type": "code",
   "execution_count": 20,
   "metadata": {},
   "outputs": [
    {
     "data": {
      "text/html": [
       "<div>\n",
       "<style scoped>\n",
       "    .dataframe tbody tr th:only-of-type {\n",
       "        vertical-align: middle;\n",
       "    }\n",
       "\n",
       "    .dataframe tbody tr th {\n",
       "        vertical-align: top;\n",
       "    }\n",
       "\n",
       "    .dataframe thead th {\n",
       "        text-align: right;\n",
       "    }\n",
       "</style>\n",
       "<table border=\"1\" class=\"dataframe\">\n",
       "  <thead>\n",
       "    <tr style=\"text-align: right;\">\n",
       "      <th></th>\n",
       "      <th>participant_id</th>\n",
       "      <th>redcap_event_name</th>\n",
       "      <th>redcap_repeat_instrument</th>\n",
       "      <th>ck_wkno</th>\n",
       "      <th>compoundno</th>\n",
       "      <th>enu_village</th>\n",
       "      <th>enu_comp</th>\n",
       "      <th>participant_name</th>\n",
       "      <th>mother' name</th>\n",
       "      <th>Father's name</th>\n",
       "      <th>contact</th>\n",
       "    </tr>\n",
       "  </thead>\n",
       "  <tbody>\n",
       "    <tr>\n",
       "      <th>0</th>\n",
       "      <td>EDN1220-T</td>\n",
       "      <td>recruitment_arm_1</td>\n",
       "      <td>consent</td>\n",
       "      <td>02-048-004K</td>\n",
       "      <td>02-048</td>\n",
       "      <td>SANKANDI</td>\n",
       "      <td>048</td>\n",
       "      <td>Amadou Jawo</td>\n",
       "      <td>Sira Jallow</td>\n",
       "      <td>Defala Jawo</td>\n",
       "      <td></td>\n",
       "    </tr>\n",
       "    <tr>\n",
       "      <th>1</th>\n",
       "      <td>EDN1530-J</td>\n",
       "      <td>recruitment_arm_1</td>\n",
       "      <td>consent</td>\n",
       "      <td>25-020-026S</td>\n",
       "      <td>25-020</td>\n",
       "      <td>KARANTABA</td>\n",
       "      <td>020</td>\n",
       "      <td>Natoma Bajinka</td>\n",
       "      <td>Jula Kambi</td>\n",
       "      <td>Karamo Bajinka</td>\n",
       "      <td>3257941</td>\n",
       "    </tr>\n",
       "    <tr>\n",
       "      <th>3</th>\n",
       "      <td>EDN1742-H</td>\n",
       "      <td>recruitment_arm_1</td>\n",
       "      <td>consent</td>\n",
       "      <td>52-009-02</td>\n",
       "      <td>52-009</td>\n",
       "      <td>MADINA ANGALLEH</td>\n",
       "      <td>009</td>\n",
       "      <td>HAJJA KOLLEY</td>\n",
       "      <td>ADAM JOBE</td>\n",
       "      <td>EBRIMA KOLLEY</td>\n",
       "      <td>7456977</td>\n",
       "    </tr>\n",
       "    <tr>\n",
       "      <th>4</th>\n",
       "      <td>EDN1743-E</td>\n",
       "      <td>recruitment_arm_1</td>\n",
       "      <td>consent</td>\n",
       "      <td>52-013-03</td>\n",
       "      <td>52-013</td>\n",
       "      <td>MADINA ANGALLEH</td>\n",
       "      <td>013</td>\n",
       "      <td>kaddijatou jallow</td>\n",
       "      <td>isatou sey</td>\n",
       "      <td>alkali jallow</td>\n",
       "      <td>2153675</td>\n",
       "    </tr>\n",
       "    <tr>\n",
       "      <th>5</th>\n",
       "      <td>EDN1744-C</td>\n",
       "      <td>recruitment_arm_1</td>\n",
       "      <td>consent</td>\n",
       "      <td>52-015-01</td>\n",
       "      <td>52-015</td>\n",
       "      <td>MADINA ANGALLEH</td>\n",
       "      <td>015</td>\n",
       "      <td>mariama bah</td>\n",
       "      <td>hawa bah</td>\n",
       "      <td>Sheriff bah</td>\n",
       "      <td>2374588</td>\n",
       "    </tr>\n",
       "  </tbody>\n",
       "</table>\n",
       "</div>"
      ],
      "text/plain": [
       "  participant_id  redcap_event_name redcap_repeat_instrument      ck_wkno  \\\n",
       "0      EDN1220-T  recruitment_arm_1                  consent  02-048-004K   \n",
       "1      EDN1530-J  recruitment_arm_1                  consent  25-020-026S   \n",
       "3      EDN1742-H  recruitment_arm_1                  consent    52-009-02   \n",
       "4      EDN1743-E  recruitment_arm_1                  consent    52-013-03   \n",
       "5      EDN1744-C  recruitment_arm_1                  consent    52-015-01   \n",
       "\n",
       "  compoundno      enu_village enu_comp   participant_name mother' name   \\\n",
       "0     02-048         SANKANDI      048        Amadou Jawo   Sira Jallow   \n",
       "1     25-020        KARANTABA      020     Natoma Bajinka    Jula Kambi   \n",
       "3     52-009  MADINA ANGALLEH      009       HAJJA KOLLEY     ADAM JOBE   \n",
       "4     52-013  MADINA ANGALLEH      013  kaddijatou jallow    isatou sey   \n",
       "5     52-015  MADINA ANGALLEH      015        mariama bah      hawa bah   \n",
       "\n",
       "   Father's name   contact  \n",
       "0     Defala Jawo           \n",
       "1  Karamo Bajinka  3257941  \n",
       "3   EBRIMA KOLLEY  7456977  \n",
       "4   alkali jallow  2153675  \n",
       "5     Sheriff bah  2374588  "
      ]
     },
     "execution_count": 20,
     "metadata": {},
     "output_type": "execute_result"
    }
   ],
   "source": [
    "\"\"\"\n",
    "Cell generated by Data Wrangler.\n",
    "\"\"\"\n",
    "def clean_data(consent2):\n",
    "    # Drop column: 'consent_sign_q9'\n",
    "    consent2 = consent2.drop(columns=['consent_sign_q9'])\n",
    "    # Drop column: 'cstaffid'\n",
    "    consent2 = consent2.drop(columns=['cstaffid'])\n",
    "    # Drop column: 'cstudy_explained'\n",
    "    consent2 = consent2.drop(columns=['cstudy_explained'])\n",
    "    # Drop column: 'cconsent'\n",
    "    consent2 = consent2.drop(columns=['cconsent'])\n",
    "    # Drop column: 'cconsentnoreason'\n",
    "    consent2 = consent2.drop(columns=['cconsentnoreason'])\n",
    "    # Drop column: 'cotherdetail'\n",
    "    consent2 = consent2.drop(columns=['cotherdetail'])\n",
    "    # Drop column: 'cparticipant_signed'\n",
    "    consent2 = consent2.drop(columns=['cparticipant_signed'])\n",
    "    # Drop column: 'consent_completedby_q8'\n",
    "    consent2 = consent2.drop(columns=['consent_completedby_q8'])\n",
    "    # Drop column: 'consent_form_date_q10'\n",
    "    consent2 = consent2.drop(columns=['consent_form_date_q10'])\n",
    "    # Drop column: 'consent_reviewer_q11'\n",
    "    consent2 = consent2.drop(columns=['consent_reviewer_q11'])\n",
    "    # Drop column: 'consent_reviewer_sign_q12'\n",
    "    consent2 = consent2.drop(columns=['consent_reviewer_sign_q12'])\n",
    "    # Drop column: 'consent_complete'\n",
    "    consent2 = consent2.drop(columns=['consent_complete'])\n",
    "    # Filter rows based on column: 'redcap_repeat_instance'\n",
    "    consent2 = consent2[consent2['redcap_repeat_instance'].apply(str) == \"1\"]\n",
    "    # Drop column: 'redcap_repeat_instance'\n",
    "    consent2 = consent2.drop(columns=['redcap_repeat_instance'])\n",
    "    # Rename column 'enu_name' to 'participant_name'\n",
    "    consent2 = consent2.rename(columns={'enu_name': 'participant_name'})\n",
    "    # Rename column 'enu_mname' to 'mother\\' name '\n",
    "    consent2 = consent2.rename(columns={'enu_mname': 'mother\\' name '})\n",
    "    # Rename column 'enu_fname' to 'Father\\'s name '\n",
    "    consent2 = consent2.rename(columns={'enu_fname': 'Father\\'s name '})\n",
    "    # Drop column: 'sen_icd_given'\n",
    "    consent2 = consent2.drop(columns=['sen_icd_given'])\n",
    "    # Rename column 'sen_contact1' to 'contact'\n",
    "    consent2 = consent2.rename(columns={'sen_contact1': 'contact'})\n",
    "    # Replace missing values with \"\" in columns: 'participant_id', 'redcap_event_name' and 9 other columns\n",
    "    consent2 = consent2.fillna({'participant_id': \"\", 'redcap_event_name': \"\", 'redcap_repeat_instrument': \"\", 'ck_wkno': \"\", 'compoundno': \"\", 'enu_village': \"\", 'enu_comp': \"\", 'participant_name': \"\", \"mother' name \": \"\", \"Father's name \": \"\", 'contact': \"\"})\n",
    "    return consent2\n",
    "\n",
    "consent2_clean = clean_data(consent2.copy())\n",
    "consent2_clean.head()"
   ]
  },
  {
   "cell_type": "code",
   "execution_count": null,
   "metadata": {},
   "outputs": [],
   "source": [
    "bjdkdkjdldj"
   ]
  }
 ],
 "metadata": {
  "kernelspec": {
   "display_name": "Python 3",
   "language": "python",
   "name": "python3"
  },
  "language_info": {
   "codemirror_mode": {
    "name": "ipython",
    "version": 3
   },
   "file_extension": ".py",
   "mimetype": "text/x-python",
   "name": "python",
   "nbconvert_exporter": "python",
   "pygments_lexer": "ipython3",
   "version": "3.11.5"
  }
 },
 "nbformat": 4,
 "nbformat_minor": 2
}
