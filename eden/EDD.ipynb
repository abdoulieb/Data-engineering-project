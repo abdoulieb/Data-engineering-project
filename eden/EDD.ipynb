{
 "cells": [
  {
   "cell_type": "code",
   "execution_count": 1,
   "metadata": {},
   "outputs": [],
   "source": [
    "import redcap\n",
    "import csv\n",
    "import datetime\n",
    "import pandas as pd\n",
    "\n",
    "# REDCap API endpoint and token\n",
    "data = {\n",
    "    'token': 'DE12CA04415CF93BCD68321EBF5040FD',\n",
    "    'content': 'project',\n",
    "    'format': 'json',\n",
    "    'returnFormat': 'json'\n",
    "}\n",
    "df= redcap.Project('https://redcap.mrc.gm:8443/redcap/api/',data['token'])\n",
    "\n",
    "data = {\n",
    "    'token': 'B5C8DD01C47A66E81E154A8AC735D281',\n",
    "    'content': 'project',\n",
    "    'format': 'json',\n",
    "    'returnFormat': 'json'\n",
    "}\n",
    "ck_wk=redcap.Project('https://redcap.mrc.gm:8443/redcap/api/',data['token'])\n",
    "\n",
    "data = {\n",
    "    'token': 'D6807C091B1FC14F57CC9B2972D0B398',\n",
    "    'content': 'project',\n",
    "    'format': 'json',\n",
    "    'returnFormat': 'json'\n",
    "}\n",
    "indigo=redcap.Project('https://ruff.mrc.gm:8443/redcap/api/',data['token'])"
   ]
  },
  {
   "cell_type": "code",
   "execution_count": 2,
   "metadata": {},
   "outputs": [],
   "source": [
    "sen_data=ck_wk.export_report(report_id='10068')\n",
    "sen_log_data=pd.DataFrame(sen_data)\n",
    "sen_log_data=sen_log_data[['wk_ckno','enu_name','enu_village', 'enu_comp','sen_contact1','sen_contact2','sen_contact3']]\n",
    "sen_log_data=sen_log_data.rename(columns={'wk_ckno': 'ck_wkno'})\n",
    "village_mapping = {\n",
    "'001':'Dumbuto',\n",
    "'002':'Sankandi',\n",
    "'003':'Nioro Jattaba',\n",
    "'004':'Jattaba',\n",
    "'005':'Jiffarong',\n",
    "'006':'Bajana',\n",
    "'007':'Kuli Kunda',\n",
    "'008':'Jamaru',\n",
    "'009':'Brikamanding',\n",
    "'010':'Kantong Kunda',\n",
    "'011':'Jali',\n",
    "'013':'Manduar',\n",
    "'014':'Bang Kuling',\n",
    "'015':'Gissay',\n",
    "'016':'Tankular',\n",
    "'017':'Joli',\n",
    "'018':'Kuyang',\n",
    "'019':'Bantasu',\n",
    "'020':'Santamba',\n",
    "'021':'Missira',\n",
    "'022':'Taborangkoto',\n",
    "'023':'Burong',\n",
    "'024':'Jula Kunda',\n",
    "'025':'Karantaba',\n",
    "'026':'Mandina',\n",
    "'027':'Janneh Kunda',\n",
    "'028':'Kemoto',\n",
    "'029':'Keneba',\n",
    "'030':'Batelling',\n",
    "'031':'Sandeng',\n",
    "'032':'Wudeba',\n",
    "'034':'Kenokoto',\n",
    "'035':'Manari',\n",
    "'036':'Nineteen',\n",
    "'040':'WUROKANG',\n",
    "'041':'KWINELLA SANSANKONO',\n",
    "'042':'KWINELLA NIA KUNDA',\n",
    "'043':'TENDABA',\n",
    "'044':'BUMARR',\n",
    "'045':'BAMBAKO',\n",
    "'046':'KUNDONG MARIAYA',\n",
    "'047':'NEMA',\n",
    "'048':'KUNDANG NUMU KUNDA',\n",
    "'049':'KUNDANG FULA KUNDA',\n",
    "'050':'NEMA KUTA',\n",
    "'051':'JIRROFF',\n",
    "'052':'MADINA ANGALLEH',\n",
    "'053':'JATTA KUNDA',\n",
    "'054':'MANDINA CENTRAL',\n",
    "'055':'SARE SARJO',\n",
    "'056':'SIBETO',\n",
    "'057':'SARE NDALLA',\n",
    "'058':'TABANANI',\n",
    "'060':'WILLINGARA',\n",
    "'061':'SARE MAMUDU'\n",
    "    # Add more mappings as needed\n",
    "    # Add more mappings as needed\n",
    "}\n",
    "\n",
    "# Assuming sen_log_data is your DataFrame\n",
    "sen_log_data['enu_village'] = sen_log_data['enu_village'].map(village_mapping)"
   ]
  },
  {
   "cell_type": "code",
   "execution_count": 3,
   "metadata": {},
   "outputs": [],
   "source": [
    "df_ultrasound_scan=df.export_records(forms=['ultrasound_scan'])"
   ]
  },
  {
   "cell_type": "code",
   "execution_count": 4,
   "metadata": {},
   "outputs": [],
   "source": [
    "df_ultrasound_scan=pd.DataFrame(df_ultrasound_scan)"
   ]
  },
  {
   "cell_type": "code",
   "execution_count": 5,
   "metadata": {},
   "outputs": [],
   "source": [
    "df_ultrasound_scan=df_ultrasound_scan[['participant_id','ultrascan_date','ultrascan_exp_date']]\n",
    "df_ultrasound_scan=df_ultrasound_scan[\n",
    "    (df_ultrasound_scan['ultrascan_exp_date']!='')\n",
    "]"
   ]
  },
  {
   "cell_type": "code",
   "execution_count": null,
   "metadata": {},
   "outputs": [],
   "source": [
    "df_ultrasound_scan=df_ultrasound_scan[\n",
    "    (df_ultrasound_scan['ultrascan_exp_date']>='2024-05-01')&\n",
    "    (df_ultrasound_scan['ultrascan_exp_date']<='2025-04-31')\n",
    "].drop_duplicates('participant_id')"
   ]
  },
  {
   "cell_type": "code",
   "execution_count": 7,
   "metadata": {},
   "outputs": [],
   "source": [
    "ck_v4_Ab=df.export_report(report_id='10375')\n",
    "ck_v4_Ab=pd.DataFrame(ck_v4_Ab)\n",
    "ck_v4_Ab_merg=pd.merge(ck_v4_Ab,df_ultrasound_scan,on='participant_id',how='inner').drop_duplicates(subset='participant_id')\n",
    "df_ultrasound_scan_eddlist=ck_v4_Ab_merg[['participant_id','ck_wkno','ultrascan_exp_date']]"
   ]
  },
  {
   "cell_type": "code",
   "execution_count": 8,
   "metadata": {},
   "outputs": [],
   "source": [
    "eddlist=pd.merge(sen_log_data,df_ultrasound_scan_eddlist,on='ck_wkno',how='inner')\n",
    "eddlist.to_csv('eddlist.csv',index=False)"
   ]
  }
 ],
 "metadata": {
  "kernelspec": {
   "display_name": "Python 3",
   "language": "python",
   "name": "python3"
  },
  "language_info": {
   "codemirror_mode": {
    "name": "ipython",
    "version": 3
   },
   "file_extension": ".py",
   "mimetype": "text/x-python",
   "name": "python",
   "nbconvert_exporter": "python",
   "pygments_lexer": "ipython3",
   "version": "3.11.5"
  }
 },
 "nbformat": 4,
 "nbformat_minor": 2
}
