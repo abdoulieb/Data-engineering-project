{
 "cells": [
  {
   "cell_type": "code",
   "execution_count": 3,
   "metadata": {},
   "outputs": [],
   "source": [
    "import pandas as pd \n",
    "\n",
    "sensitization=pd.read_csv('sensitization_log.csv')\n",
    "sensitization=pd.DataFrame(sensitization)\n",
    "\n",
    "source_wK=pd.read_csv('West_Kiang_DSS.csv')\n",
    "source_wK=pd.DataFrame(source_wK)\n",
    "\n",
    "marg_data=pd.concat([source_wK,sensitization])\n",
    "marg_data.to_csv('marg_data_AB.csv',index=False)"
   ]
  },
  {
   "cell_type": "code",
   "execution_count": 2,
   "metadata": {},
   "outputs": [],
   "source": [
    "import pandas as pd\n",
    "recent_sen_log_data=pd.read_csv('Recent_sen_log.csv')\n",
    "recent_sen_log_data=pd.DataFrame(recent_sen_log_data)\n",
    "\n",
    "eden_sen_log_data=pd.read_csv('Eden_demography_data.csv')\n",
    "eden_sen_log_data=pd.DataFrame(eden_sen_log_data)\n",
    "\n",
    "merge_data=pd.merge(recent_sen_log_data,eden_sen_log_data,on='ck_wkno',how='left')\n",
    "merge_data.to_csv('Merge1.csv',index=False)\n"
   ]
  },
  {
   "cell_type": "code",
   "execution_count": 7,
   "metadata": {},
   "outputs": [],
   "source": [
    "import pandas as pd \n",
    "import redcap\n",
    "data = {\n",
    "    'token': 'DE12CA04415CF93BCD68321EBF5040FD',\n",
    "    'content': 'project',\n",
    "    'format': 'json',\n",
    "    'returnFormat': 'json'\n",
    "}\n",
    "eden =redcap.Project('https://redcap.mrc.gm:8443/redcap/api/', data['token'])"
   ]
  },
  {
   "cell_type": "code",
   "execution_count": 3,
   "metadata": {},
   "outputs": [],
   "source": [
    "import pandas as pd\n",
    "eden_17_008_011H=eden.export_records(records='EDN0628-C')\n",
    "\n"
   ]
  },
  {
   "cell_type": "code",
   "execution_count": 30,
   "metadata": {},
   "outputs": [],
   "source": [
    "df1=eden.export_records(records=['EDN0628-C','EDN1075-Y'])\n",
    "df1=pd.DataFrame(df1)\n",
    "df1.to_csv('df1.csv',index=False)\n",
    "\n",
    "df2=eden.export_records(records=['EDN1075-Y'])\n",
    "df2=pd.DataFrame(df2)\n",
    "common_rows = pd.merge(df1, df2, on='wkno', how='inner')"
   ]
  },
  {
   "cell_type": "code",
   "execution_count": 5,
   "metadata": {},
   "outputs": [],
   "source": [
    "df3=eden.export_records(records=['xxx1',\n",
    "'xxx3',\n",
    "'xxx6',\n",
    "'xxx7',\n",
    "'xxx8',\n",
    "'xxx9',\n",
    "'xxxEDNI0005-K',\n",
    "'xxxEDNI0017-E',\n",
    "'xxxEDNI0101-A',\n",
    "'xxxEDNI0137-G',\n",
    "'xxxEDNI0164-K',\n",
    "'xxxEDNI0175-E',\n",
    "'xxxEDNI0194-H',\n",
    "'xxxEDNI0207-A',\n",
    "'xxxEDNI0213-H',\n",
    "'xxxEDNI0216-J',\n",
    "'xxxEDNI0266-F',\n",
    "'xxxEDNI0275-B',\n",
    "'xxxEDNI0285-C',\n",
    "'xxxEDNI0307-C',\n",
    "'xxxEDNI0310-C',\n",
    "'xxxEDNI0315-D',\n",
    "'xxxEDNI0431-B',\n",
    "'xxxEDNI0439-J',\n",
    "'xxxEDNI0440-E',\n",
    "'xxxEDNI0478-J',\n",
    "'xxxEDNI0538-G',\n",
    "'xxxEDNI0541-B',\n",
    "'xxxEDNI0580-C',\n",
    "'xxxEDNI0629-G',\n",
    "'xxxEDNI0706-K',\n",
    "'xxxEDNI0717-C',\n",
    "'xxxEDNI0742-E',\n",
    "'xxxEDNI0763-H',\n",
    "'xxxEDNI0926-J',\n",
    "'XXXX05',\n",
    "'XXXX06',\n",
    "'XXXX12',\n",
    "'XXXX80'\n",
    "])"
   ]
  },
  {
   "cell_type": "code",
   "execution_count": 8,
   "metadata": {},
   "outputs": [],
   "source": [
    "df3=pd.DataFrame(df3)"
   ]
  },
  {
   "cell_type": "code",
   "execution_count": 9,
   "metadata": {},
   "outputs": [],
   "source": [
    "df3.to_csv('back_up_data.csv',index=False)"
   ]
  }
 ],
 "metadata": {
  "kernelspec": {
   "display_name": "Python 3",
   "language": "python",
   "name": "python3"
  },
  "language_info": {
   "codemirror_mode": {
    "name": "ipython",
    "version": 3
   },
   "file_extension": ".py",
   "mimetype": "text/x-python",
   "name": "python",
   "nbconvert_exporter": "python",
   "pygments_lexer": "ipython3",
   "version": "3.11.5"
  },
  "orig_nbformat": 4
 },
 "nbformat": 4,
 "nbformat_minor": 2
}
