{
 "cells": [
  {
   "cell_type": "code",
   "execution_count": null,
   "metadata": {},
   "outputs": [],
   "source": [
    "import redcap\n",
    "import csv\n",
    "import datetime\n",
    "import pandas as pd\n",
    "\n",
    "# REDCap API endpoint and token\n",
    "data = {\n",
    "    'token': '744268EC805657595430964A3C0EC970',\n",
    "    'content': 'project',\n",
    "    'format': 'json',\n",
    "    'returnFormat': 'json'\n",
    "}\n",
    "df= redcap.Project('https://ruff.mrc.gm:8443/redcap/api/',data['token'])\n",
    "\n",
    "df_data=df.export_records()\n"
   ]
  },
  {
   "cell_type": "code",
   "execution_count": null,
   "metadata": {},
   "outputs": [],
   "source": [
    "df_data=pd.DataFrame(df_data)"
   ]
  },
  {
   "cell_type": "code",
   "execution_count": null,
   "metadata": {},
   "outputs": [],
   "source": [
    "\n",
    "# Specify the fields you want to extract\n",
    "df_data_uss=df_data[['con_participantid_q1', 'con_participant_eden_num_q11', 'ultsc_date', 'ga_weeks','ga_days','con_cluster_q12','redcap_event_name']]\n",
    "df_data_uss=pd.DataFrame(df_data_uss)\n",
    "df_data_uss = df_data_uss[\n",
    "    (df_data_uss['redcap_event_name'] == 'recruitment_arm_1') &\n",
    "    (df_data_uss['ultsc_date'] != '') &\n",
    "    (pd.to_numeric(df_data_uss['ga_weeks']) <= 20)\n",
    "]\n",
    "\n",
    "       "
   ]
  },
  {
   "cell_type": "code",
   "execution_count": null,
   "metadata": {},
   "outputs": [],
   "source": [
    "## EXCLUDE ALL WITHDRAWALS FROM THE DATA\n",
    "#Read from the ones that complete withdrawals: \"Withdrawals.csv\"\n",
    "df_withdrawals = pd.read_csv('Withdrawals.csv')\n",
    "\n",
    "# Merge the dataframes on 'participant_id'\n",
    "merged_df = pd.merge(df_data_uss, df_withdrawals, on= 'con_participantid_q1', how='inner')\n",
    "\n",
    "# Filter out the common participant IDs\n",
    "df_data_uss= df_data_uss[~df_data_uss['con_participantid_q1'].isin(merged_df['con_participantid_q1'])]"
   ]
  },
  {
   "attachments": {},
   "cell_type": "markdown",
   "metadata": {},
   "source": [
    "Week 20 Due data frame"
   ]
  },
  {
   "cell_type": "code",
   "execution_count": null,
   "metadata": {},
   "outputs": [],
   "source": [
    "\n",
    "\n",
    "# Convert 'ga_weeks' and 'ga_days' columns to numeric type\n",
    "df_data_uss['ga_weeks'] = pd.to_numeric(df_data_uss['ga_weeks'], errors='coerce')\n",
    "df_data_uss['ga_days'] = pd.to_numeric(df_data_uss['ga_days'], errors='coerce')\n",
    "\n",
    "# Calculate today's date\n",
    "today = pd.Timestamp.today()\n",
    "\n",
    "# Extract the required columns from the DataFrame\n",
    "participant_id = df_data_uss['con_participantid_q1']\n",
    "uss_date = pd.to_datetime(df_data_uss['ultsc_date'])\n",
    "Ga_weeks = df_data_uss['ga_weeks']\n",
    "Ga_days = df_data_uss['ga_days']\n",
    "\n",
    "\n",
    "# Calculate the total gestational age in days\n",
    "total_ga_days = (Ga_weeks * 7) + Ga_days\n",
    "\n",
    "# Calculate the estimated due date (EDD)\n",
    "edd = uss_date + pd.to_timedelta(280 - total_ga_days, unit='days')\n",
    "\n",
    "# Calculate the current gestational age\n",
    "days_diff = (today - uss_date).dt.days\n",
    "current_ga = (days_diff + total_ga_days) / 7\n",
    "\n",
    "# Calculate the due dates\n",
    "due_date = uss_date + pd.to_timedelta(133 - (total_ga_days), unit='days')\n",
    "last_date = uss_date + pd.to_timedelta(147 - (total_ga_days), unit='days')\n",
    "visit = 'Week 20'\n",
    "event = df_data_uss['redcap_event_name']\n",
    "cluster = df_data_uss['con_cluster_q12']\n"
   ]
  },
  {
   "cell_type": "code",
   "execution_count": null,
   "metadata": {},
   "outputs": [],
   "source": [
    "wk20_df = pd.DataFrame({\n",
    "    'Participant ID': participant_id,\n",
    "    'Cluster': cluster,\n",
    "    'USS Date': uss_date,\n",
    "    'Gestational Age (Weeks)': Ga_weeks,\n",
    "    'Gestational Age (Days)': Ga_days,\n",
    "    'Expected Deivery Date (EDD)': edd,\n",
    "    'Current Gestational Age': current_ga,\n",
    "    'Due Date': due_date,\n",
    "    'Last Date': last_date,\n",
    "    'Visit': visit\n",
    "})"
   ]
  },
  {
   "cell_type": "code",
   "execution_count": null,
   "metadata": {},
   "outputs": [],
   "source": [
    "## ALL DATA THAT ARE IN THE WEEK 20.CSV EXCLUDED\n",
    "#Read from the ones that complete week 20: \"Week 20.csv\"\n",
    "df_wk20_uss = pd.read_csv('Week 20.csv')\n",
    "\n",
    "# Merge the dataframes on 'participant_id'\n",
    "merged_df = pd.merge(wk20_df, df_wk20_uss, on= 'Participant ID', how='inner')\n",
    "\n",
    "# Filter out the common participant IDs\n",
    "wk20_df = wk20_df[~wk20_df['Participant ID'].isin(merged_df['Participant ID'])]\n"
   ]
  },
  {
   "attachments": {},
   "cell_type": "markdown",
   "metadata": {},
   "source": [
    "Week 28 Due data frame"
   ]
  },
  {
   "cell_type": "code",
   "execution_count": null,
   "metadata": {},
   "outputs": [],
   "source": [
    "#week 28 data\n",
    "import datetime\n",
    "import pandas as pd\n",
    "\n",
    "# Convert 'ga_weeks' and 'ga_days' columns to numeric type\n",
    "df_data_uss['ga_weeks'] = pd.to_numeric(df_data_uss['ga_weeks'], errors='coerce')\n",
    "df_data_uss['ga_days'] = pd.to_numeric(df_data_uss['ga_days'], errors='coerce')\n",
    "\n",
    "# Calculate today's date\n",
    "today = pd.Timestamp.today()\n",
    "\n",
    "# Extract the required columns from the DataFrame\n",
    "participant_id = df_data_uss['con_participantid_q1']\n",
    "uss_date = pd.to_datetime(df_data_uss['ultsc_date'])\n",
    "Ga_weeks = df_data_uss['ga_weeks']\n",
    "Ga_days = df_data_uss['ga_days']\n",
    "\n",
    "\n",
    "# Calculate the total gestational age in days\n",
    "total_ga_days = (Ga_weeks * 7) + Ga_days\n",
    "\n",
    "# Calculate the estimated due date (EDD)\n",
    "edd = uss_date + pd.to_timedelta(280 - total_ga_days, unit='days')\n",
    "\n",
    "# Calculate the current gestational age\n",
    "days_diff = (today - uss_date).dt.days\n",
    "current_ga = (days_diff + total_ga_days) / 7\n",
    "\n",
    "# Calculate the due dates\n",
    "due_date = uss_date + pd.to_timedelta(189 - (total_ga_days), unit='days')\n",
    "last_date = uss_date + pd.to_timedelta(203 - (total_ga_days), unit='days')\n",
    "visit = 'Week 28'\n",
    "event = df_data_uss['redcap_event_name']\n",
    "cluster = df_data_uss['con_cluster_q12']\n"
   ]
  },
  {
   "cell_type": "code",
   "execution_count": null,
   "metadata": {},
   "outputs": [],
   "source": [
    "wk28_df = pd.DataFrame({\n",
    "    'Participant ID': participant_id,\n",
    "    'Cluster': cluster,\n",
    "    'USS Date': uss_date,\n",
    "    'Gestational Age (Weeks)': Ga_weeks,\n",
    "    'Gestational Age (Days)': Ga_days,\n",
    "    'Expected Deivery Date (EDD)': edd,\n",
    "    'Current Gestational Age': current_ga,\n",
    "    'Due Date': due_date,\n",
    "    'Last Date': last_date,\n",
    "    'Visit': visit\n",
    "})"
   ]
  },
  {
   "cell_type": "code",
   "execution_count": null,
   "metadata": {},
   "outputs": [],
   "source": [
    "## ALL DATA THAT ARE IN THE WEEK 28.CSV EXCLUDED\n",
    "#Read from the ones that complete week 28: \"Week 28.csv\"\n",
    "df_wk28_uss = pd.read_csv('Week 28.csv')\n",
    "\n",
    "# Merge the dataframes on 'participant_id'\n",
    "merged_df = pd.merge(wk28_df, df_wk28_uss, on= 'Participant ID', how='inner')\n",
    "\n",
    "# Filter out the common participant IDs\n",
    "wk28_df = wk28_df[~wk28_df['Participant ID'].isin(merged_df['Participant ID'])]\n"
   ]
  },
  {
   "attachments": {},
   "cell_type": "markdown",
   "metadata": {},
   "source": [
    "Week 36 DataFrame"
   ]
  },
  {
   "cell_type": "code",
   "execution_count": null,
   "metadata": {},
   "outputs": [],
   "source": [
    "#week 36 data\n",
    "\n",
    "# Convert 'ga_weeks' and 'ga_days' columns to numeric type\n",
    "df_data_uss['ga_weeks'] = pd.to_numeric(df_data_uss['ga_weeks'], errors='coerce')\n",
    "df_data_uss['ga_days'] = pd.to_numeric(df_data_uss['ga_days'], errors='coerce')\n",
    "\n",
    "# Calculate today's date\n",
    "today = pd.Timestamp.today()\n",
    "\n",
    "# Extract the required columns from the DataFrame\n",
    "participant_id = df_data_uss['con_participantid_q1']\n",
    "uss_date = pd.to_datetime(df_data_uss['ultsc_date'])\n",
    "Ga_weeks = df_data_uss['ga_weeks']\n",
    "Ga_days = df_data_uss['ga_days']\n",
    "\n",
    "\n",
    "# Calculate the total gestational age in days\n",
    "total_ga_days = (Ga_weeks * 7) + Ga_days\n",
    "\n",
    "# Calculate the estimated due date (EDD)\n",
    "edd = uss_date + pd.to_timedelta(280 - total_ga_days, unit='days')\n",
    "\n",
    "# Calculate the current gestational age\n",
    "days_diff = (today - uss_date).dt.days\n",
    "current_ga = (days_diff + total_ga_days) / 7\n",
    "\n",
    "# Calculate the due dates\n",
    "due_date = uss_date + pd.to_timedelta(245 - (total_ga_days), unit='days')\n",
    "last_date = uss_date + pd.to_timedelta(259 - (total_ga_days), unit='days')\n",
    "visit = 'Week 36'\n",
    "event = df_data_uss['redcap_event_name']\n",
    "cluster = df_data_uss['con_cluster_q12']\n"
   ]
  },
  {
   "cell_type": "code",
   "execution_count": null,
   "metadata": {},
   "outputs": [],
   "source": [
    "wk36_df = pd.DataFrame({\n",
    "    'Participant ID': participant_id,\n",
    "    'Cluster': cluster,\n",
    "    'USS Date': uss_date,\n",
    "    'Gestational Age (Weeks)': Ga_weeks,\n",
    "    'Gestational Age (Days)': Ga_days,\n",
    "    'Expected Deivery Date (EDD)': edd,\n",
    "    'Current Gestational Age': current_ga,\n",
    "    'Due Date': due_date,\n",
    "    'Last Date': last_date,\n",
    "    'Visit': visit\n",
    "})"
   ]
  },
  {
   "cell_type": "code",
   "execution_count": null,
   "metadata": {},
   "outputs": [],
   "source": [
    "## ALL DATA THAT ARE IN THE WEEK 36.CSV EXCLUDED\n",
    "#Read from the ones that complete week 36: \"Week 36.csv\"\n",
    "df_wk36_uss = pd.read_csv('Week 36.csv')\n",
    "\n",
    "# Merge the dataframes on 'participant_id'\n",
    "merged_df = pd.merge(wk36_df, df_wk36_uss, on= 'Participant ID', how='inner')\n",
    "\n",
    "# Filter out the common participant IDs\n",
    "wk36_df = wk36_df[~wk36_df['Participant ID'].isin(merged_df['Participant ID'])]\n"
   ]
  },
  {
   "attachments": {},
   "cell_type": "markdown",
   "metadata": {},
   "source": [
    "FINAL CALL LIST"
   ]
  },
  {
   "cell_type": "code",
   "execution_count": null,
   "metadata": {},
   "outputs": [],
   "source": [
    "#This holds all the due dates\n",
    "df_dueDates=pd.concat([wk20_df, wk28_df,wk36_df], ignore_index= True)\n",
    "\n",
    "#\n"
   ]
  },
  {
   "cell_type": "code",
   "execution_count": null,
   "metadata": {},
   "outputs": [],
   "source": [
    "import datetime\n",
    "\n",
    "# Get the current date\n",
    "current_date = datetime.date.today()\n",
    "\n",
    "# Find the next Monday\n",
    "next_monday = today + datetime.timedelta(days=(0 - current_date.weekday() + 7) % 7)\n",
    "\n",
    "# Convert target_due_date to a datetime object\n",
    "next_monday = pd.to_datetime(next_monday)\n",
    "\n",
    "# Calculate the target due date as the next Friday\n",
    "target_due_date = next_monday + datetime.timedelta(days=4)\n",
    "\n",
    "# Convert target_due_date to a datetime object\n",
    "target_due_date = pd.to_datetime(target_due_date)\n",
    "\n",
    "df_callList = df_dueDates[df_dueDates['Due Date'] <= target_due_date]\n"
   ]
  },
  {
   "cell_type": "code",
   "execution_count": null,
   "metadata": {},
   "outputs": [],
   "source": [
    "# Get today's date and time\n",
    "now = datetime.datetime.now()\n",
    "\n",
    "# Format the current date and time\n",
    "current_datetime = now.strftime('%d%m%Y_%H%M%S')\n",
    "\n",
    "# Create the filename with the current date and time\n",
    "filename = f'CallList_{current_datetime}.csv'\n",
    "\n",
    " #Save the filtered DataFrame to a CSV file\n",
    "df_callList.to_csv(filename, index=False)"
   ]
  }
 ],
 "metadata": {
  "kernelspec": {
   "display_name": "Python 3",
   "language": "python",
   "name": "python3"
  },
  "language_info": {
   "codemirror_mode": {
    "name": "ipython",
    "version": 3
   },
   "file_extension": ".py",
   "mimetype": "text/x-python",
   "name": "python",
   "nbconvert_exporter": "python",
   "pygments_lexer": "ipython3",
   "version": "3.11.5"
  },
  "orig_nbformat": 4
 },
 "nbformat": 4,
 "nbformat_minor": 2
}
