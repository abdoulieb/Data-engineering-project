{
 "cells": [
  {
   "cell_type": "code",
   "execution_count": null,
   "metadata": {},
   "outputs": [],
   "source": [
    "import redcap\n",
    "import csv\n",
    "import datetime\n",
    "import pandas as pd\n",
    "\n",
    "# REDCap API endpoint and token\n",
    "data = {\n",
    "    'token': '744268EC805657595430964A3C0EC970',\n",
    "    'content': 'project',\n",
    "    'format': 'json',\n",
    "    'returnFormat': 'json'\n",
    "}\n",
    "df= redcap.Project('https://ruff.mrc.gm:8443/redcap/api/',data['token'])\n",
    "\n",
    "#export all project data\n",
    "df_data=df.export_records()\n"
   ]
  },
  {
   "cell_type": "code",
   "execution_count": 5,
   "metadata": {},
   "outputs": [],
   "source": [
    "#convert project data to dataframe\n",
    "df_data=pd.DataFrame(df_data)"
   ]
  },
  {
   "cell_type": "code",
   "execution_count": 6,
   "metadata": {},
   "outputs": [],
   "source": [
    "# Specify the fields you want to extract base on logics\n",
    "df_wk28_uss=df_data[['con_participantid_q1','ultsc_date','ultsc_type_q5','redcap_event_name']]\n",
    "df_wk28_uss=pd.DataFrame(df_wk28_uss)\n",
    "df_wk28_uss = df_wk28_uss[\n",
    "    (df_wk28_uss['redcap_event_name'] == 'week_28_arm_1') &\n",
    "    (df_wk28_uss['ultsc_date'] != '')\n",
    "]\n"
   ]
  },
  {
   "cell_type": "code",
   "execution_count": 7,
   "metadata": {},
   "outputs": [],
   "source": [
    "#extract required columns\n",
    "participant_id = df_wk28_uss['con_participantid_q1']\n",
    "uss_date = pd.to_datetime(df_wk28_uss['ultsc_date'])\n",
    "uss_type = df_wk28_uss['ultsc_type_q5']\n",
    "status = 'week 28 completed'"
   ]
  },
  {
   "cell_type": "code",
   "execution_count": 8,
   "metadata": {},
   "outputs": [],
   "source": [
    "results_df = pd.DataFrame({\n",
    "    'Participant ID': participant_id,\n",
    "    'USS Date': uss_date,\n",
    "    'USS Type': uss_type,\n",
    "    'Status': status\n",
    "})\n",
    "\n",
    "# Save the DataFrame to a CSV file\n",
    "results_df.to_csv('Week 28.csv', index=False)\n"
   ]
  }
 ],
 "metadata": {
  "kernelspec": {
   "display_name": "Python 3",
   "language": "python",
   "name": "python3"
  },
  "language_info": {
   "codemirror_mode": {
    "name": "ipython",
    "version": 3
   },
   "file_extension": ".py",
   "mimetype": "text/x-python",
   "name": "python",
   "nbconvert_exporter": "python",
   "pygments_lexer": "ipython3",
   "version": "3.11.5"
  },
  "orig_nbformat": 4
 },
 "nbformat": 4,
 "nbformat_minor": 2
}
