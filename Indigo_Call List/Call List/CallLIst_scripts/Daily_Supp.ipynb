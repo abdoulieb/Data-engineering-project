{
 "cells": [
  {
   "cell_type": "code",
   "execution_count": 1,
   "metadata": {},
   "outputs": [],
   "source": [
    "import redcap\n",
    "import csv\n",
    "import datetime\n",
    "import pandas as pd\n",
    "\n",
    "# REDCap API endpoint and token\n",
    "data = {\n",
    "    'token': '744268EC805657595430964A3C0EC970',\n",
    "    'content': 'project',\n",
    "    'format': 'json',\n",
    "    'returnFormat': 'json'\n",
    "}\n",
    "df= redcap.Project('https://ruff.mrc.gm:8443/redcap/api/',data['token'])\n",
    "\n",
    "df_data=df.export_records()"
   ]
  },
  {
   "cell_type": "code",
   "execution_count": null,
   "metadata": {},
   "outputs": [],
   "source": [
    "df_data=pd.DataFrame(df_data)"
   ]
  }
 ],
 "metadata": {
  "kernelspec": {
   "display_name": "Python 3",
   "language": "python",
   "name": "python3"
  },
  "language_info": {
   "codemirror_mode": {
    "name": "ipython",
    "version": 3
   },
   "file_extension": ".py",
   "mimetype": "text/x-python",
   "name": "python",
   "nbconvert_exporter": "python",
   "pygments_lexer": "ipython3",
   "version": "3.7.9"
  },
  "orig_nbformat": 4
 },
 "nbformat": 4,
 "nbformat_minor": 2
}
