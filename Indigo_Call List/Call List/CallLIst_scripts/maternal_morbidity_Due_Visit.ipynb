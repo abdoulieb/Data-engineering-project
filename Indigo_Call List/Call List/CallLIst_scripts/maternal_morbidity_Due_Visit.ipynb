{
 "cells": [
  {
   "cell_type": "code",
   "execution_count": 1,
   "metadata": {},
   "outputs": [],
   "source": [
    "from datetime import timedelta\n",
    "import redcap\n",
    "import csv\n",
    "import datetime\n",
    "import pandas as pd\n",
    "\n",
    "# REDCap API endpoint and token\n",
    "data = {\n",
    "    'token': '744268EC805657595430964A3C0EC970',\n",
    "    'content': 'project',\n",
    "    'format': 'json',\n",
    "    'returnFormat': 'json'\n",
    "}\n",
    "df= redcap.Project('https://ruff.mrc.gm:8443/redcap/api/',data['token'])\n",
    "\n",
    "df_data=df.export_records()"
   ]
  },
  {
   "cell_type": "code",
   "execution_count": 2,
   "metadata": {},
   "outputs": [],
   "source": [
    "df_data=pd.DataFrame(df_data)\n",
    "ran_data=df_data[['con_participantid_q1','ran_date','randomization_complete']]\n",
    "ran_data=ran_data[\n",
    "    (ran_data['randomization_complete']=='2')|\n",
    "    (ran_data['randomization_complete']=='1')\n",
    "\n",
    "]"
   ]
  },
  {
   "cell_type": "code",
   "execution_count": 5,
   "metadata": {},
   "outputs": [
    {
     "name": "stdout",
     "output_type": "stream",
     "text": [
      "     con_participantid_q1   due_date\n",
      "1               IN-M-001E 2023-09-13\n",
      "117             IN-M-002H 2023-09-19\n",
      "253             IN-M-004F 2023-09-19\n",
      "392             IN-M-005J 2023-09-17\n",
      "539             IN-M-007A 2023-09-17\n",
      "...                   ...        ...\n",
      "4394            IN-M-095K 2023-09-18\n",
      "4416            IN-M-097K 2023-09-18\n",
      "4440            IN-M-098F 2023-09-13\n",
      "4445            IN-M-099A 2023-09-13\n",
      "4455            IN-M-105F 2023-09-17\n",
      "\n",
      "[61 rows x 2 columns]\n"
     ]
    }
   ],
   "source": [
    "\n",
    "# Convert ran_date column to datetime\n",
    "ran_data['ran_date'] = pd.to_datetime(ran_data['ran_date'])\n",
    "#Function to calculate due date based on weeks\n",
    "def calculate_due_date(row):\n",
    " #this get me the number of weekes from ran_date to today and divide it by 7 to get the number of days \n",
    " weeks_elapsed = (datetime.datetime.now() - row['ran_date']).days // 7\n",
    "\n",
    " due_date = row['ran_date'] + timedelta(weeks=weeks_elapsed+1) - timedelta(days=1)\n",
    " return due_date\n",
    "\n",
    "# Apply the function to create a new column 'due_date'\n",
    "ran_data['due_date'] = ran_data.apply(calculate_due_date, axis=1)\n",
    "\n",
    "print(ran_data[['con_participantid_q1', 'due_date']])"
   ]
  },
  {
   "cell_type": "code",
   "execution_count": 4,
   "metadata": {},
   "outputs": [],
   "source": [
    "ran_data.to_csv('martanal_mobidity_round_visit.csv',index=False)"
   ]
  }
 ],
 "metadata": {
  "kernelspec": {
   "display_name": "Python 3",
   "language": "python",
   "name": "python3"
  },
  "language_info": {
   "codemirror_mode": {
    "name": "ipython",
    "version": 3
   },
   "file_extension": ".py",
   "mimetype": "text/x-python",
   "name": "python",
   "nbconvert_exporter": "python",
   "pygments_lexer": "ipython3",
   "version": "3.11.5"
  },
  "orig_nbformat": 4
 },
 "nbformat": 4,
 "nbformat_minor": 2
}
