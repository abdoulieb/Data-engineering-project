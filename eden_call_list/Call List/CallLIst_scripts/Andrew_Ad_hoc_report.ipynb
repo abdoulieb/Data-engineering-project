{
 "cells": [
  {
   "cell_type": "code",
   "execution_count": 1,
   "metadata": {},
   "outputs": [],
   "source": [
    "import pandas as pd\n",
    "import redcap\n",
    "import datetime\n",
    "data = {\n",
    "   'token': 'DE12CA04415CF93BCD68321EBF5040FD',\n",
    "    'content': 'project',\n",
    "    'format': 'json',\n",
    "    'returnFormat': 'json'\n",
    "}\n",
    "df_edn= redcap.Project('https://redcap.mrc.gm:8443/redcap/api/',data['token'])\n",
    "\n",
    "data = {\n",
    "    'token': 'D6807C091B1FC14F57CC9B2972D0B398',\n",
    "    'content': 'project',\n",
    "    'format': 'json',\n",
    "    'returnFormat': 'json'\n",
    "}\n",
    "df_ind= redcap.Project('https://ruff.mrc.gm:8443/redcap/api/', data['token'])"
   ]
  },
  {
   "cell_type": "markdown",
   "metadata": {},
   "source": [
    "Indogo consent"
   ]
  },
  {
   "cell_type": "markdown",
   "metadata": {},
   "source": []
  },
  {
   "cell_type": "code",
   "execution_count": 3,
   "metadata": {},
   "outputs": [],
   "source": [
    "#indigo consent\n",
    "df_ind_consent=df_ind.export_records(forms=['consent'])\n",
    "df_ind_consent=pd.DataFrame(df_ind_consent)\n",
    "df_ind_consent=df_ind_consent[\n",
    "  (df_ind_consent['con_participant_eden_num_q11']!='')\n",
    "]\n",
    "df_ind_consent=df_ind_consent[['con_participantid_q1','con_participant_eden_num_q11']]\n",
    "df_ind_consent=df_ind_consent.rename(columns={'con_participant_eden_num_q11': 'participant_id'})"
   ]
  },
  {
   "cell_type": "code",
   "execution_count": null,
   "metadata": {},
   "outputs": [],
   "source": [
    "df_ind_consent.to_csv('indogo.csv',index=False)"
   ]
  },
  {
   "cell_type": "markdown",
   "metadata": {},
   "source": [
    "Eden consent "
   ]
  },
  {
   "cell_type": "code",
   "execution_count": null,
   "metadata": {},
   "outputs": [],
   "source": [
    "df_edn_consent=df_edn.export_records(forms=['consent'])\n",
    "df_edn_consent=pd.DataFrame(df_edn_consent)\n",
    "df_edn_consent=df_edn_consent[\n",
    "    (df_edn_consent['consent_form_date_q10']!='')\n",
    "]\n",
    "df_edn_consent = df_edn_consent.sort_values(by=['participant_id', 'consent_form_date_q10'])\n",
    "df_edn_consent = df_edn_consent.drop_duplicates(subset='participant_id', keep='last')\n",
    "\n",
    "#Accept consent \n",
    "df_edn_accpt_consent=df_edn_consent[\n",
    "    (df_edn_consent['cconsent']=='1')\n",
    "]\n",
    "df_edn_accpt_consent = df_edn_accpt_consent.sort_values(by=['participant_id', 'consent_form_date_q10'])\n",
    "df_edn_accpt_consent = df_edn_accpt_consent.drop_duplicates(subset='participant_id', keep='last')\n",
    "df_edn_accpt_consent=df_edn_accpt_consent[['participant_id','cconsent','consent_form_date_q10']]\n",
    "\n",
    "#decline consent\n",
    "df_edn_decline_consent=df_edn_consent[\n",
    "    (df_edn_consent['cconsent']=='0')\n",
    "].drop_duplicates('participant_id')\n",
    "df_edn_decline_consent =df_edn_decline_consent.sort_values(by=['participant_id', 'consent_form_date_q10'])\n",
    "df_edn_decline_consent = df_edn_decline_consent.drop_duplicates(subset='participant_id', keep='last')\n",
    "df_edn_decline_consent=df_edn_decline_consent[['participant_id','cconsent','consent_form_date_q10']]"
   ]
  },
  {
   "cell_type": "markdown",
   "metadata": {},
   "source": [
    "Recruitment "
   ]
  },
  {
   "cell_type": "code",
   "execution_count": null,
   "metadata": {},
   "outputs": [],
   "source": [
    "df_edn_recruitment=df_edn.export_records(forms=['recruitment'])\n",
    "df_edn_recruitment=pd.DataFrame(df_edn_recruitment)\n",
    "df_edn_recruitment['recruit_form_date_q14']=pd.to_datetime(df_edn_recruitment['recruit_form_date_q14'])\n",
    "#Pass recruitment\n",
    "df_edn_pass_recruitment=df_edn_recruitment[\n",
    "    (df_edn_recruitment['participant_is_aged_betwee']=='1')&\n",
    "    (df_edn_recruitment['rpregnant']=='0')&\n",
    "    (df_edn_recruitment['the_participant_has_alread']=='0')&\n",
    "    (df_edn_recruitment['the_participant_has_a_hist']=='0')&\n",
    "    (df_edn_recruitment['rresident']=='1') \n",
    "]\n",
    "df_edn_pass_recruitment =df_edn_pass_recruitment.sort_values(by=['participant_id', 'recruit_form_date_q14'])\n",
    "df_edn_pass_recruitment = df_edn_pass_recruitment.drop_duplicates(subset='participant_id', keep='last')\n",
    "df_edn_pass_recruitment=df_edn_pass_recruitment[['participant_id','recruit_form_date_q14','rresident','participant_is_aged_betwee','rpregnant','the_participant_has_alread','the_participant_has_a_hist']]\n",
    "\n",
    "#Fail recruitment\n",
    "df_edn_fail_recruitment=df_edn_recruitment[\n",
    "    (df_edn_recruitment['participant_is_aged_betwee']=='0')|\n",
    "    (df_edn_recruitment['rpregnant']=='1')|\n",
    "    (df_edn_recruitment['the_participant_has_alread']=='1')|\n",
    "    (df_edn_recruitment['the_participant_has_a_hist']=='1')|\n",
    "    (df_edn_recruitment['rresident']=='0') \n",
    "]\n",
    "df_edn_fail_recruitment =df_edn_fail_recruitment.sort_values(by=['participant_id', 'recruit_form_date_q14'])\n",
    "df_edn_fail_recruitment = df_edn_fail_recruitment.drop_duplicates(subset='participant_id', keep='last')\n",
    "df_edn_fail_recruitment=df_edn_fail_recruitment[['participant_id','recruit_form_date_q14','rresident','participant_is_aged_betwee','rpregnant','the_participant_has_alread','the_participant_has_a_hist']]\n",
    "df_edn_fail_recruitment= df_edn_fail_recruitment[~df_edn_fail_recruitment['participant_id'].isin(df_edn_pass_recruitment['participant_id'])]"
   ]
  },
  {
   "cell_type": "markdown",
   "metadata": {},
   "source": [
    "Contraception Medical Smoking History"
   ]
  },
  {
   "cell_type": "code",
   "execution_count": null,
   "metadata": {},
   "outputs": [],
   "source": [
    "# Contraception Medical Smoking History\n",
    "df_edn_contrceptmedHistory=df_edn.export_records(forms=['contraception_medical_smoking_history'])\n",
    "df_edn_contrceptmedHistory=pd.DataFrame(df_edn_contrceptmedHistory)\n",
    "df_edn_contrceptmedHistory=df_edn_contrceptmedHistory[\n",
    "    (df_edn_contrceptmedHistory['screen_form_date']!='')\n",
    "]\n",
    "df_edn_contrceptmedHistory['screen_form_date']=pd.to_datetime(df_edn_contrceptmedHistory['screen_form_date'])\n",
    "df_edn_contrceptmedHistory=df_edn_contrceptmedHistory[['participant_id','screen_form_date']].drop_duplicates('participant_id')"
   ]
  },
  {
   "cell_type": "markdown",
   "metadata": {},
   "source": [
    "socio demograph data "
   ]
  },
  {
   "cell_type": "code",
   "execution_count": null,
   "metadata": {},
   "outputs": [],
   "source": [
    "# socieconomic domography data \n",
    "df_edn_socemicDomo=df_edn.export_records(forms=['socioeconomic_demographic'])\n",
    "df_edn_socemicDomo=pd.DataFrame(df_edn_socemicDomo)\n",
    "df_edn_socemicDomo=df_edn_socemicDomo[\n",
    "    (df_edn_socemicDomo['date_form_completed_q47']!='')\n",
    "]\n",
    "df_edn_socemicDomo =df_edn_socemicDomo.sort_values(by=['participant_id', 'date_form_completed_q47'])\n",
    "df_edn_socemicDomo= df_edn_socemicDomo.drop_duplicates(subset='participant_id', keep='last')\n",
    "df_edn_socemicDomo['date_form_completed_q47']=pd.to_datetime(df_edn_socemicDomo['date_form_completed_q47'])\n",
    "df_edn_socemicDomo=df_edn_socemicDomo[['participant_id','date_form_completed_q47']]"
   ]
  },
  {
   "cell_type": "markdown",
   "metadata": {},
   "source": [
    "Pregnancy Exposure"
   ]
  },
  {
   "cell_type": "code",
   "execution_count": null,
   "metadata": {},
   "outputs": [],
   "source": [
    "# pregnancy exposure  \n",
    "df_edn_preg_exposure=df_edn.export_records(forms=['prepregnancy_exposure'])\n",
    "df_edn_preg_exposure=pd.DataFrame(df_edn_preg_exposure)\n",
    "df_edn_preg_exposure=df_edn_preg_exposure[\n",
    "    (df_edn_preg_exposure['prepre_ex_form_date_q34']!='')\n",
    "]"
   ]
  },
  {
   "cell_type": "markdown",
   "metadata": {},
   "source": [
    "Antrops "
   ]
  },
  {
   "cell_type": "code",
   "execution_count": null,
   "metadata": {},
   "outputs": [],
   "source": [
    "#Anthrops \n",
    "df_edn_Anthrops=df_edn.export_records(forms=['anthrops'])\n",
    "df_edn_Anthrops=pd.DataFrame(df_edn_Anthrops)\n",
    "df_edn_Anthrops=df_edn_Anthrops[\n",
    "    (df_edn_Anthrops['ia_q1_v2']!='')\n",
    "]"
   ]
  }
 ],
 "metadata": {
  "kernelspec": {
   "display_name": "Python 3",
   "language": "python",
   "name": "python3"
  },
  "language_info": {
   "codemirror_mode": {
    "name": "ipython",
    "version": 3
   },
   "file_extension": ".py",
   "mimetype": "text/x-python",
   "name": "python",
   "nbconvert_exporter": "python",
   "pygments_lexer": "ipython3",
   "version": "3.11.5"
  }
 },
 "nbformat": 4,
 "nbformat_minor": 2
}
