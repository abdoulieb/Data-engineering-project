{
 "cells": [
  {
   "cell_type": "code",
   "execution_count": 1,
   "metadata": {},
   "outputs": [
    {
     "name": "stdout",
     "output_type": "stream",
     "text": [
      "Email sent successfully!\n"
     ]
    }
   ],
   "source": [
    "import win32com.client as win32\n",
    "\n",
    "def send_outlook_email(subject, body, to_recipients, cc_recipients=None, attachment=None):\n",
    "    try:\n",
    "        # Attempt to get an instance of the Outlook application\n",
    "        outlook = win32.GetActiveObject(\"Outlook.Application\")\n",
    "    except:\n",
    "        # If Outlook is not running, start a new instance\n",
    "        outlook = win32.Dispatch(\"Outlook.Application\")\n",
    "\n",
    "    mail = outlook.CreateItem(0)  # 0 means the email is a new mail item\n",
    "\n",
    "    mail.Subject = subject\n",
    "    mail.Body = body\n",
    "\n",
    "    # Adding recipients\n",
    "    mail.To = \";\".join(to_recipients)  # \";\" is used to separate multiple recipients\n",
    "\n",
    "    if cc_recipients:\n",
    "        mail.CC = \";\".join(cc_recipients)\n",
    "\n",
    "    # Attach a file if specified\n",
    "    if attachment:\n",
    "        mail.Attachments.Add(attachment)\n",
    "\n",
    "    # Display the email before sending (Outlook will open if not already running)\n",
    "    mail.Display()\n",
    "\n",
    "    # Sending the email\n",
    "    mail.Send()\n",
    "    print(\"Email sent successfully!\")\n",
    "\n",
    "if __name__ == \"__main__\":\n",
    "    # Example usage:\n",
    "    subject = \"cycle Round callist\"\n",
    "    body = \"This is a test email sent using Python and Outlook.\"\n",
    "    to_recipients = [\"lshab52@lshtm.ac.uk\", \"abliebah@mrc.gm\"]\n",
    "    cc_recipients = [\"lshab52@lshtm.ac.uk\", \"abliebah@mrc.gm\"]\n",
    "    attachment = r\"C:\\Users\\abliebah\\OneDrive - London School of Hygiene and Tropical Medicine\\Desktop\\Ex_Files_Python_Essential_Training\\Exercise Files\\Idea3\\Idea\\eden\\cycle_round_callist.csv\" \n",
    "\n",
    "    send_outlook_email(subject, body, to_recipients, cc_recipients, attachment)\n"
   ]
  }
 ],
 "metadata": {
  "kernelspec": {
   "display_name": "Python 3",
   "language": "python",
   "name": "python3"
  },
  "language_info": {
   "codemirror_mode": {
    "name": "ipython",
    "version": 3
   },
   "file_extension": ".py",
   "mimetype": "text/x-python",
   "name": "python",
   "nbconvert_exporter": "python",
   "pygments_lexer": "ipython3",
   "version": "3.11.5"
  }
 },
 "nbformat": 4,
 "nbformat_minor": 2
}
