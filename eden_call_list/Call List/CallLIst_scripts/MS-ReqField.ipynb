{
 "cells": [
  {
   "cell_type": "code",
   "execution_count": 13,
   "metadata": {},
   "outputs": [],
   "source": [
    "import redcap\n",
    "import csv\n",
    "import datetime\n",
    "import pandas as pd\n",
    "\n",
    "# REDCap API endpoint and token\n",
    "data = {\n",
    "    'token': '744268EC805657595430964A3C0EC970',\n",
    "    'content': 'project',\n",
    "    'format': 'json',\n",
    "    'returnFormat': 'json'\n",
    "}\n",
    "df= redcap.Project('https://ruff.mrc.gm:8443/redcap/api/',data['token'])\n",
    "\n",
    "df_data=df.export_records()\n"
   ]
  },
  {
   "cell_type": "code",
   "execution_count": 14,
   "metadata": {},
   "outputs": [],
   "source": [
    "df_data=pd.DataFrame(df_data)"
   ]
  },
  {
   "cell_type": "code",
   "execution_count": 15,
   "metadata": {},
   "outputs": [
    {
     "data": {
      "text/plain": [
       "Index(['con_participantid_q1', 'redcap_event_name', 'redcap_repeat_instrument',\n",
       "       'redcap_repeat_instance', 'con_patic_initial_q3', 'con_dob_q4',\n",
       "       'con_date_q5', 'con_time_q5a', 'con_age', 'con_consent_obtained_q6',\n",
       "       ...\n",
       "       'date_2', 'completed_by_q23', 'date_form_completed_q24',\n",
       "       'verified_by_q25', 'wd_date_q1', 'wd_time_q2', 'wd_reason_q3',\n",
       "       'wd_other_reason_q3b', 'wd_completedby_q4', 'wd_reviewer_q6'],\n",
       "      dtype='object', length=1155)"
      ]
     },
     "execution_count": 15,
     "metadata": {},
     "output_type": "execute_result"
    }
   ],
   "source": [
    "df_data.columns"
   ]
  },
  {
   "cell_type": "code",
   "execution_count": 16,
   "metadata": {},
   "outputs": [],
   "source": [
    "\n",
    "\n",
    "# Specify the fields you want to extract\n",
    "df_data_ms=df_data[['con_participantid_q1', 'ms_dvisit_q1','ms_sup_administered_q2','ms_reason_not_admin_q2a','time_sup_q2c','taking_any_med_q3','redcap_repeat_instance','sup_comment','redcap_event_name']]\n",
    "df_data_ms=pd.DataFrame(df_data_ms)\n",
    "df_data_ms = df_data_ms[\n",
    "    (df_data_ms['redcap_event_name'] == 'daily_supplementat_arm_1') & (df_data_ms['taking_any_med_q3']=='') |\n",
    "    (df_data_ms['redcap_event_name'] == 'daily_supplementat_arm_1') & (df_data_ms['ms_dvisit_q1']=='') |\n",
    "    (df_data_ms['redcap_event_name'] == 'daily_supplementat_arm_1') & (df_data_ms['ms_sup_administered_q2']=='')\n",
    "    \n",
    "]\n",
    "\n",
    "       "
   ]
  }
 ],
 "metadata": {
  "kernelspec": {
   "display_name": "Python 3",
   "language": "python",
   "name": "python3"
  },
  "language_info": {
   "codemirror_mode": {
    "name": "ipython",
    "version": 3
   },
   "file_extension": ".py",
   "mimetype": "text/x-python",
   "name": "python",
   "nbconvert_exporter": "python",
   "pygments_lexer": "ipython3",
   "version": "3.7.9"
  },
  "orig_nbformat": 4
 },
 "nbformat": 4,
 "nbformat_minor": 2
}
