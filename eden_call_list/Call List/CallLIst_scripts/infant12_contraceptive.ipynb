{
 "cells": [
  {
   "cell_type": "code",
   "execution_count": 37,
   "metadata": {},
   "outputs": [],
   "source": [
    "import redcap\n",
    "import csv\n",
    "import datetime\n",
    "import pandas as pd\n",
    "\n",
    "# REDCap API endpoint and token\n",
    "data = {\n",
    "    'token': 'DE12CA04415CF93BCD68321EBF5040FD',\n",
    "    'content': 'project',\n",
    "    'format': 'json',\n",
    "    'returnFormat': 'json'\n",
    "}\n",
    "df= redcap.Project('https://redcap.mrc.gm:8443/redcap/api/',data['token'])\n",
    "data = {\n",
    "    'token': 'B5C8DD01C47A66E81E154A8AC735D281',\n",
    "    'content': 'project',\n",
    "    'format': 'json',\n",
    "    'returnFormat': 'json'\n",
    "}\n",
    "ck_wk=redcap.Project('https://redcap.mrc.gm:8443/redcap/api/',data['token'])\n"
   ]
  },
  {
   "cell_type": "code",
   "execution_count": 38,
   "metadata": {},
   "outputs": [],
   "source": [
    "infant_and_contraceptive=pd.read_excel('infant_12month_contraceptive.xlsx')"
   ]
  },
  {
   "cell_type": "code",
   "execution_count": 39,
   "metadata": {},
   "outputs": [],
   "source": [
    "sensitization=ck_wk.export_records(forms=['enumeration_and_sensitisation'])\n",
    "sensitization=pd.DataFrame(sensitization)\n",
    "sensitization=sensitization.rename(columns={ 'wk_ckno':'ck_wkno'})"
   ]
  },
  {
   "cell_type": "code",
   "execution_count": 40,
   "metadata": {},
   "outputs": [],
   "source": [
    "df_report=df.export_report(report_id='9993')"
   ]
  },
  {
   "cell_type": "code",
   "execution_count": 49,
   "metadata": {},
   "outputs": [],
   "source": [
    "df_report=pd.DataFrame(df_report)\n",
    "\n",
    "df_report=df_report[\n",
    "    (df_report['ck_wkno']!='')\n",
    "].drop_duplicates('participant_id')"
   ]
  },
  {
   "cell_type": "code",
   "execution_count": 52,
   "metadata": {},
   "outputs": [],
   "source": [
    "infant_and_contraceptive_mergh=pd.merge(df_report,sensitization,on='ck_wkno',how='left').drop_duplicates('participant_id')\n",
    "\n",
    "infant_and_contraceptive_mergh.to_csv('infant12_contraceptive.csv',index=False)"
   ]
  }
 ],
 "metadata": {
  "kernelspec": {
   "display_name": "Python 3",
   "language": "python",
   "name": "python3"
  },
  "language_info": {
   "codemirror_mode": {
    "name": "ipython",
    "version": 3
   },
   "file_extension": ".py",
   "mimetype": "text/x-python",
   "name": "python",
   "nbconvert_exporter": "python",
   "pygments_lexer": "ipython3",
   "version": "3.11.5"
  }
 },
 "nbformat": 4,
 "nbformat_minor": 2
}
