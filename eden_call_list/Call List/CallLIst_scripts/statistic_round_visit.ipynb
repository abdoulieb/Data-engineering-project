{
 "cells": [
  {
   "cell_type": "code",
   "execution_count": 84,
   "metadata": {},
   "outputs": [],
   "source": [
    "import redcap\n",
    "import csv\n",
    "import datetime\n",
    "import pandas as pd\n",
    "\n",
    "# REDCap API endpoint and token\n",
    "data = {\n",
    "    'token': 'DE12CA04415CF93BCD68321EBF5040FD',\n",
    "    'content': 'project',\n",
    "    'format': 'json',\n",
    "    'returnFormat': 'json'\n",
    "}\n",
    "df= redcap.Project('https://redcap.mrc.gm:8443/redcap/api/',data['token'])\n",
    "\n",
    "data = {\n",
    "    'token': 'B5C8DD01C47A66E81E154A8AC735D281',\n",
    "    'content': 'project',\n",
    "    'format': 'json',\n",
    "    'returnFormat': 'json'\n",
    "}\n",
    "ck_wk=redcap.Project('https://redcap.mrc.gm:8443/redcap/api/',data['token'])\n",
    "\n",
    "data = {\n",
    "    'token': 'D6807C091B1FC14F57CC9B2972D0B398',\n",
    "    'content': 'project',\n",
    "    'format': 'json',\n",
    "    'returnFormat': 'json'\n",
    "}\n",
    "indigo=redcap.Project('https://ruff.mrc.gm:8443/redcap/api/',data['token'])\n"
   ]
  },
  {
   "cell_type": "code",
   "execution_count": 85,
   "metadata": {},
   "outputs": [],
   "source": [
    "start_date='2024-04-29'\n",
    "stop_date='2024-05-13'"
   ]
  },
  {
   "cell_type": "code",
   "execution_count": 86,
   "metadata": {},
   "outputs": [],
   "source": [
    "\n",
    "anthrops_data=df.export_records(forms=['anthrops'])\n",
    "anthrops_data=pd.DataFrame(anthrops_data)\n",
    "anthrops_data=anthrops_data[\n",
    "    (anthrops_data['anthrops_complete']=='2')\n",
    "].drop_duplicates('participant_id')"
   ]
  },
  {
   "cell_type": "code",
   "execution_count": 87,
   "metadata": {},
   "outputs": [],
   "source": [
    "data_stat=df.export_records(forms=['consent'])\n",
    "data_stat=pd.DataFrame(data_stat)\n",
    "change_date=pd.to_datetime(data_stat['consent_form_date_q10'])\n",
    "data_stat=data_stat[\n",
    "    (data_stat['consent_form_date_q10']>='2023-12-19')\n",
    "].drop_duplicates('participant_id')\n",
    "data_stat=data_stat[['participant_id','cconsent','consent_complete']]\n",
    "data_stat['consent_version2']='yes'\n"
   ]
  },
  {
   "cell_type": "code",
   "execution_count": 88,
   "metadata": {},
   "outputs": [],
   "source": [
    "cons_data=df.export_records(forms=['consent'])\n",
    "cons_data=pd.DataFrame(cons_data)\n",
    "\n",
    "\n"
   ]
  },
  {
   "cell_type": "code",
   "execution_count": 89,
   "metadata": {},
   "outputs": [],
   "source": [
    "cons_data=cons_data[\n",
    "    (cons_data['consent_form_date_q10']>=start_date)&\n",
    "    (cons_data['consent_form_date_q10']<=stop_date)\n",
    "].drop_duplicates('participant_id')"
   ]
  },
  {
   "cell_type": "code",
   "execution_count": 90,
   "metadata": {},
   "outputs": [],
   "source": [
    "\n",
    "data_yes=data_stat[['participant_id','cconsent',]]\n",
    "data_yes=data_yes[\n",
    "    (data_yes['cconsent']=='1')\n",
    "].drop_duplicates('participant_id')\n"
   ]
  },
  {
   "cell_type": "code",
   "execution_count": 91,
   "metadata": {},
   "outputs": [],
   "source": [
    "data_prepregnancy_exposure=df.export_records(forms=['prepregnancy_exposure'])\n",
    "data_prepregnancy_exposure=pd.DataFrame(data_prepregnancy_exposure)\n",
    "data_prepregnancy_exposure=data_prepregnancy_exposure[\n",
    "    (data_prepregnancy_exposure['prepre_ex_form_date_q34']>=start_date)&\n",
    "    (data_prepregnancy_exposure['prepre_ex_form_date_q34']<=stop_date)\n",
    "]\n",
    "data_prepregnancy_exposure=data_prepregnancy_exposure[['participant_id','prepre_ex_form_date_q34','prepregnancy_exposure_complete']].drop_duplicates('participant_id')\n"
   ]
  },
  {
   "cell_type": "code",
   "execution_count": 92,
   "metadata": {},
   "outputs": [],
   "source": [
    "data_anthrops=df.export_records(forms=['anthrops'])\n",
    "data_anthrops=pd.DataFrame(data_anthrops)\n",
    "data_anthrops=data_anthrops[\n",
    "    (data_anthrops['anthrops_form_date_q11']>=start_date)&\n",
    "    (data_anthrops['anthrops_form_date_q11']<=stop_date)\n",
    "]\n",
    "\n",
    "data_anthrops=data_anthrops[['participant_id','anthrops_form_date_q11','anthrops_complete']].drop_duplicates('participant_id')"
   ]
  },
  {
   "cell_type": "code",
   "execution_count": 93,
   "metadata": {},
   "outputs": [],
   "source": [
    "\n",
    "data_lmp=df.export_records(forms=['lmp'])\n",
    "data_lmp=pd.DataFrame(data_lmp)\n",
    "\n",
    "data_lmp=data_lmp[\n",
    "    (data_lmp['lmp_form_date_q5']>=start_date)&\n",
    "    (data_lmp['lmp_form_date_q5']<=stop_date)\n",
    "]\n",
    "data_lmp=data_lmp[['participant_id','have_you_missed_your_last','lmp_temp_exclude___1','lmp_temp_exclude___2','lmp_temp_exclude___3','lmp_temp_exclude___4','lmp_temp_exclude_oth','lmp_form_date_q5','lmp_complete']].drop_duplicates('participant_id')\n"
   ]
  },
  {
   "cell_type": "code",
   "execution_count": 94,
   "metadata": {},
   "outputs": [],
   "source": [
    "\n",
    "data_lmp_temp_exclusion=data_lmp[['participant_id','lmp_form_date_q5','lmp_temp_exclude___1','lmp_temp_exclude___2','lmp_temp_exclude___3','lmp_temp_exclude___4','lmp_temp_exclude_oth']]\n",
    "data_lmp_temp_exclusion=data_lmp_temp_exclusion[\n",
    "    (data_lmp_temp_exclusion['lmp_temp_exclude___1']=='1')|\n",
    "    (data_lmp_temp_exclusion['lmp_temp_exclude___2']=='1')|\n",
    "    (data_lmp_temp_exclusion['lmp_temp_exclude___3']=='1')|\n",
    "    (data_lmp_temp_exclusion['lmp_temp_exclude___4']=='1')\n",
    "]\n",
    "lmp_temp_exclude___1 = {\n",
    "'1':'Single and not intending to get pregnant'}\n",
    "data_lmp_temp_exclusion['lmp_temp_exclude___1'] = data_lmp_temp_exclusion['lmp_temp_exclude___1'].map(lmp_temp_exclude___1)\n",
    "\n",
    "lmp_temp_exclude___2 = {\n",
    "'1':'Husband away and not expected back soon'}\n",
    "data_lmp_temp_exclusion['lmp_temp_exclude___2'] = data_lmp_temp_exclusion['lmp_temp_exclude___2'].map(lmp_temp_exclude___2)\n",
    "\n",
    "lmp_temp_exclude___3 = {\n",
    "'1':'With a child under 12 months'}\n",
    "data_lmp_temp_exclusion['lmp_temp_exclude___3'] = data_lmp_temp_exclusion['lmp_temp_exclude___3'].map(lmp_temp_exclude___3)\n",
    "\n",
    "lmp_temp_exclude___4 = {\n",
    "'1':'Other'}\n",
    "data_lmp_temp_exclusion['lmp_temp_exclude___4'] = data_lmp_temp_exclusion['lmp_temp_exclude___4'].map(lmp_temp_exclude___4)\n",
    "\n",
    "data_lmp_temp_exclusion.to_csv('lmp_temp_exclude.csv',index=False)\n",
    "data_lmp_temp_exclusion=data_lmp_temp_exclusion.drop_duplicates('participant_id')\n",
    "data_lmp_temp_exclusion.to_csv('data_lmp_temp_exclusion.csv',index=False)"
   ]
  },
  {
   "cell_type": "code",
   "execution_count": 95,
   "metadata": {},
   "outputs": [],
   "source": [
    "data_preganancy_urine_collection=df.export_report(report_id='10443')\n",
    "data_preganancy_urine_collection=pd.DataFrame(data_preganancy_urine_collection)\n",
    "\n",
    "data_preganancy_urine_collection=data_preganancy_urine_collection[\n",
    "    (data_preganancy_urine_collection['urine_date']>=start_date)&\n",
    "    (data_preganancy_urine_collection['urine_date']<=stop_date)\n",
    "].drop_duplicates('participant_id')"
   ]
  },
  {
   "cell_type": "code",
   "execution_count": 96,
   "metadata": {},
   "outputs": [],
   "source": [
    "data_preganancy_stool_collection=df.export_records(forms=['preganancy_stool_collection'])\n",
    "data_preganancy_stool_collection=pd.DataFrame(data_preganancy_stool_collection)\n",
    "data_preganancy_stool_collection=data_preganancy_stool_collection[\n",
    "    (data_preganancy_stool_collection['mstool_vdate']>=start_date)&\n",
    "    (data_preganancy_stool_collection['mstool_vdate']<=stop_date)\n",
    "]\n",
    "\n",
    "data_preganancy_stool_collection=data_preganancy_stool_collection[['participant_id','mstool_vdate','preganancy_stool_collection_complete']].drop_duplicates('participant_id')"
   ]
  },
  {
   "cell_type": "code",
   "execution_count": 97,
   "metadata": {},
   "outputs": [],
   "source": [
    "data_pregnancy_test_result=df.export_records(forms=['pregnancy_test_result'])\n",
    "data_pregnancy_test_result=pd.DataFrame(data_pregnancy_test_result)\n",
    "data_pregnancy_test_result=data_pregnancy_test_result[\n",
    "    (data_pregnancy_test_result['pt_testdate_q1']>=start_date)&\n",
    "    (data_pregnancy_test_result['pt_testdate_q1']<=stop_date)\n",
    "].drop_duplicates('participant_id')\n",
    "data_pregnancy_test_result=data_pregnancy_test_result[['participant_id','pt_testdate_q1','pt_pregnancy_positive_q3','pregnancy_test_result_complete']]\n",
    "data_pregnancy_test_result_positive=data_pregnancy_test_result[['participant_id','pt_testdate_q1','pt_pregnancy_positive_q3']]\n",
    "data_pregnancy_test_result_positive=data_pregnancy_test_result_positive[\n",
    "    (data_pregnancy_test_result_positive['pt_pregnancy_positive_q3']=='1')\n",
    "].drop_duplicates('participant_id')"
   ]
  },
  {
   "cell_type": "code",
   "execution_count": 98,
   "metadata": {},
   "outputs": [],
   "source": [
    "data_sample_reception_processing=df.export_records(forms=['sample_reception_processing'])\n",
    "data_sample_reception_processing=pd.DataFrame(data_sample_reception_processing)\n",
    "data_sample_reception_processing=data_sample_reception_processing[\n",
    "    (data_sample_reception_processing['srp_form_date_q13']>=start_date)&\n",
    "    (data_sample_reception_processing['srp_form_date_q13']<=stop_date)\n",
    "]\n",
    "\n",
    "data_sample_reception_processing=data_sample_reception_processing[['participant_id','srp_form_date_q13','sample_reception_processing_complete']].drop_duplicates('participant_id')"
   ]
  },
  {
   "cell_type": "code",
   "execution_count": 99,
   "metadata": {},
   "outputs": [],
   "source": [
    "data_dietary=df.export_records(forms=['dietary'])\n",
    "data_dietary=pd.DataFrame(data_dietary)\n",
    "data_dietary=data_dietary[\n",
    "    (data_dietary['dt_date_form_completed_q241']>=start_date)&\n",
    "    (data_dietary['dt_date_form_completed_q241']<=stop_date)\n",
    "]\n",
    "data_dietary=data_dietary[['participant_id','dt_date_form_completed_q241','dietary_complete']].drop_duplicates('participant_id')\n"
   ]
  },
  {
   "cell_type": "code",
   "execution_count": 100,
   "metadata": {},
   "outputs": [],
   "source": [
    "stas_com=pd.merge(data_stat,data_anthrops,on='participant_id',how='left')\n",
    "stas_com_1=pd.merge(stas_com,data_lmp,on='participant_id',how='left')\n",
    "stas_com_2=pd.merge(stas_com_1,data_dietary,on='participant_id',how='left')\n",
    "stas_com_3=pd.merge(stas_com_2,data_preganancy_stool_collection,on='participant_id',how='left')\n",
    "stas_com_4=pd.merge(stas_com_3,data_prepregnancy_exposure,on='participant_id',how='left')\n",
    "stas_com_5=pd.merge(stas_com_4,data_sample_reception_processing,on='participant_id',how='left')\n",
    "stas_com_6=pd.merge(stas_com_5,data_pregnancy_test_result,on='participant_id',how='left').drop_duplicates('participant_id')"
   ]
  },
  {
   "cell_type": "markdown",
   "metadata": {},
   "source": [
    "recurement_arm"
   ]
  },
  {
   "cell_type": "code",
   "execution_count": 101,
   "metadata": {},
   "outputs": [],
   "source": [
    "recruitment_data=df.export_records(forms=['recruitment'])\n",
    "recruitment_data=pd.DataFrame(recruitment_data)\n",
    "recruitment_data=recruitment_data[\n",
    "    (recruitment_data['recruit_form_date_q14']>=start_date)&\n",
    "    (recruitment_data['recruit_form_date_q14']<=stop_date)\n",
    "    \n",
    "].drop_duplicates('participant_id')"
   ]
  },
  {
   "cell_type": "code",
   "execution_count": 102,
   "metadata": {},
   "outputs": [],
   "source": [
    "\n",
    "consent_data=df.export_records(forms=['consent'])\n",
    "consent_data=pd.DataFrame(consent_data)\n",
    "consent_data=consent_data[\n",
    "    (consent_data['consent_form_date_q10']>=start_date)&\n",
    "    (consent_data['consent_form_date_q10']<=stop_date)\n",
    "    \n",
    "].drop_duplicates('participant_id')"
   ]
  },
  {
   "cell_type": "code",
   "execution_count": 103,
   "metadata": {},
   "outputs": [],
   "source": [
    "contracception_data=df.export_records(forms=['contraception_medical_smoking_history'])\n",
    "contracception_data=pd.DataFrame(contracception_data)\n",
    "contracception_data=contracception_data[\n",
    "    (contracception_data['screen_form_date']>=start_date)&\n",
    "    (contracception_data['screen_form_date']<=stop_date)\n",
    "    \n",
    "].drop_duplicates('participant_id')\n"
   ]
  },
  {
   "cell_type": "code",
   "execution_count": 104,
   "metadata": {},
   "outputs": [],
   "source": [
    "secioeconomic_data=df.export_records(forms=['socioeconomic_demographic'])\n",
    "secioeconomic_data=pd.DataFrame(secioeconomic_data)\n",
    "secioeconomic_data=secioeconomic_data[\n",
    "    (secioeconomic_data['date_form_completed_q47']>=start_date)&\n",
    "    (secioeconomic_data['date_form_completed_q47']<=stop_date)\n",
    "    \n",
    "].drop_duplicates('participant_id')"
   ]
  },
  {
   "cell_type": "markdown",
   "metadata": {},
   "source": [
    "Pregnancy arm"
   ]
  },
  {
   "cell_type": "code",
   "execution_count": 105,
   "metadata": {},
   "outputs": [],
   "source": [
    "Antrop_preg_data=df.export_records(forms=['anthrops'])\n",
    "Antrop_preg_data=pd.DataFrame(Antrop_preg_data)\n",
    "Antrop_preg_data=Antrop_preg_data[\n",
    "    (Antrop_preg_data['anthrops_form_date_q11']>=start_date)&\n",
    "    (Antrop_preg_data['anthrops_form_date_q11']<=stop_date)&\n",
    "    (Antrop_preg_data['redcap_event_name']=='pregnancy_arm_1')\n",
    "    \n",
    "].drop_duplicates('participant_id')"
   ]
  },
  {
   "cell_type": "code",
   "execution_count": 106,
   "metadata": {},
   "outputs": [],
   "source": [
    "autrasoundscan_data=df.export_records(forms=['ultrasound_scan'])\n",
    "autrasoundscan_data=pd.DataFrame(autrasoundscan_data)\n",
    "autrasoundscan_data=autrasoundscan_data[\n",
    "    (autrasoundscan_data['ultrascan_date']>=start_date)&\n",
    "    (autrasoundscan_data['ultrascan_date']<=stop_date)\n",
    "    \n",
    "].drop_duplicates('participant_id')"
   ]
  },
  {
   "cell_type": "code",
   "execution_count": 107,
   "metadata": {},
   "outputs": [],
   "source": [
    "\n",
    "obstestric_history=df.export_records(forms=['obstetric_medicalhistory'])\n",
    "obstestric_history=pd.DataFrame(obstestric_history)\n",
    "obstestric_history=obstestric_history[\n",
    "    (obstestric_history['screen_form_date_165091']>=start_date)&\n",
    "    (obstestric_history['screen_form_date_165091']<=stop_date)\n",
    "    \n",
    "].drop_duplicates('participant_id')"
   ]
  },
  {
   "cell_type": "markdown",
   "metadata": {},
   "source": [
    "delivery and postpartum"
   ]
  },
  {
   "cell_type": "code",
   "execution_count": 108,
   "metadata": {},
   "outputs": [],
   "source": [
    "Antrop_del_data=df.export_records(forms=['anthrops'])\n",
    "Antrop_del_data=pd.DataFrame(Antrop_del_data)\n",
    "Antrop_del_data=Antrop_del_data[\n",
    "    (Antrop_del_data['anthrops_form_date_q11']>=start_date)&\n",
    "    (Antrop_del_data['redcap_event_name']=='delivery_and_postp_arm_1')\n",
    "    \n",
    "].drop_duplicates('participant_id')"
   ]
  },
  {
   "cell_type": "code",
   "execution_count": 109,
   "metadata": {},
   "outputs": [],
   "source": [
    "delivery_data=df.export_records(forms=['delivery'])\n",
    "delivery_data=pd.DataFrame(delivery_data)\n",
    "delivery_data=delivery_data[\n",
    "    (delivery_data['del_vdate_q1']>=start_date)&\n",
    "    (delivery_data['del_vdate_q1']<=stop_date)\n",
    "    \n",
    "].drop_duplicates('participant_id')"
   ]
  },
  {
   "cell_type": "code",
   "execution_count": 110,
   "metadata": {},
   "outputs": [],
   "source": [
    "maternal_health_check_data=df.export_records(forms=['maternal_health_check'])\n",
    "maternal_health_check_data=pd.DataFrame(maternal_health_check_data)\n",
    "maternal_health_check_data=maternal_health_check_data[\n",
    "    (maternal_health_check_data['mhc_date_complete']>=start_date)&\n",
    "    (maternal_health_check_data['mhc_date_complete']<=stop_date)\n",
    "    \n",
    "].drop_duplicates('participant_id')"
   ]
  },
  {
   "cell_type": "code",
   "execution_count": 111,
   "metadata": {},
   "outputs": [],
   "source": [
    "baby_check_data=df.export_records(forms=['baby_check'])\n",
    "baby_check_data=pd.DataFrame(baby_check_data)\n",
    "baby_check_data=baby_check_data[\n",
    "    (baby_check_data['baby_check_form_date_q36']>=start_date)&\n",
    "    (baby_check_data['baby_check_form_date_q36']<=stop_date)\n",
    "    \n",
    "].drop_duplicates('participant_id')"
   ]
  },
  {
   "cell_type": "code",
   "execution_count": 112,
   "metadata": {},
   "outputs": [],
   "source": [
    "cord_collection=df.export_records(forms=['cordcollection'])\n",
    "cord_collection=pd.DataFrame(cord_collection)\n",
    "cord_collection=cord_collection[\n",
    "    (cord_collection['cordcollection_form_date_q15']>=start_date)&\n",
    "    (cord_collection['cordcollection_form_date_q15']<=stop_date)\n",
    "    \n",
    "].drop_duplicates('participant_id')"
   ]
  },
  {
   "cell_type": "code",
   "execution_count": 113,
   "metadata": {},
   "outputs": [],
   "source": [
    "cord_and_palacenta=df.export_records(forms=['cord_placenta_processing'])\n",
    "cord_and_palacenta=pd.DataFrame(cord_and_palacenta)\n",
    "cord_and_palacenta=cord_and_palacenta[\n",
    "    (cord_and_palacenta['cpp_form_date']>=start_date)&\n",
    "    (cord_and_palacenta['cpp_form_date']<=stop_date)\n",
    "    \n",
    "].drop_duplicates('participant_id')"
   ]
  },
  {
   "cell_type": "code",
   "execution_count": 114,
   "metadata": {},
   "outputs": [],
   "source": [
    "infant_antrop=df.export_records(forms=['infant_anthropometry'])\n",
    "infant_antrop=pd.DataFrame(infant_antrop)\n",
    "infant_antrop=infant_antrop[\n",
    "    (infant_antrop['ianthrops_from_date_q16']>=start_date)&\n",
    "    (infant_antrop['ianthrops_from_date_q16']<=stop_date)\n",
    "    \n",
    "].drop_duplicates('participant_id')"
   ]
  },
  {
   "cell_type": "code",
   "execution_count": 115,
   "metadata": {},
   "outputs": [],
   "source": [
    "\n",
    "#dry_season_blood=df.export_records(forms=['dry_season_blood_at_yr1'])\n",
    "#dry_season_blood=pd.DataFrame(dry_season_blood)\n",
    "#dry_season_blood=dry_season_blood[\n",
    "   # (dry_season_blood['yr1_bcd_form_date_q10']>=start_date)&\n",
    "    #(dry_season_blood['yr1_bcd_form_date_q10']<=stop_date)\n",
    "    \n",
    "#].drop_duplicates('participant_id')"
   ]
  },
  {
   "cell_type": "markdown",
   "metadata": {},
   "source": [
    "unschudle_task"
   ]
  },
  {
   "cell_type": "code",
   "execution_count": 116,
   "metadata": {},
   "outputs": [],
   "source": [
    "withdrawal_data=df.export_records(forms=['withdrawal'])\n",
    "withdrawal_data=pd.DataFrame(withdrawal_data)\n",
    "withdrawal_data=withdrawal_data[\n",
    "    (withdrawal_data['withdrawal_form_date_q8']>=start_date)&\n",
    "    (withdrawal_data['withdrawal_form_date_q8']<=stop_date)\n",
    "    \n",
    "].drop_duplicates('participant_id')"
   ]
  },
  {
   "cell_type": "code",
   "execution_count": 117,
   "metadata": {},
   "outputs": [
    {
     "data": {
      "text/html": [
       "<div>\n",
       "<style scoped>\n",
       "    .dataframe tbody tr th:only-of-type {\n",
       "        vertical-align: middle;\n",
       "    }\n",
       "\n",
       "    .dataframe tbody tr th {\n",
       "        vertical-align: top;\n",
       "    }\n",
       "\n",
       "    .dataframe thead th {\n",
       "        text-align: right;\n",
       "    }\n",
       "</style>\n",
       "<table border=\"1\" class=\"dataframe\">\n",
       "  <thead>\n",
       "    <tr style=\"text-align: right;\">\n",
       "      <th></th>\n",
       "      <th>form_name</th>\n",
       "      <th>number_of_IDS Completed</th>\n",
       "    </tr>\n",
       "  </thead>\n",
       "  <tbody>\n",
       "    <tr>\n",
       "      <th>0</th>\n",
       "      <td>prepregnancy phase</td>\n",
       "      <td>prepregnancy phase</td>\n",
       "    </tr>\n",
       "    <tr>\n",
       "      <th>1</th>\n",
       "      <td>completed_lmp</td>\n",
       "      <td>431</td>\n",
       "    </tr>\n",
       "    <tr>\n",
       "      <th>2</th>\n",
       "      <td>miss_lmp_yes</td>\n",
       "      <td>60</td>\n",
       "    </tr>\n",
       "    <tr>\n",
       "      <th>3</th>\n",
       "      <td>miss_lmp_no</td>\n",
       "      <td>303</td>\n",
       "    </tr>\n",
       "    <tr>\n",
       "      <th>4</th>\n",
       "      <td>lmp Single and not intending to get pregnant</td>\n",
       "      <td>24</td>\n",
       "    </tr>\n",
       "    <tr>\n",
       "      <th>5</th>\n",
       "      <td>lmp Husband away and not expected back soon</td>\n",
       "      <td>25</td>\n",
       "    </tr>\n",
       "    <tr>\n",
       "      <th>6</th>\n",
       "      <td>lmp With a child under 12 months</td>\n",
       "      <td>26</td>\n",
       "    </tr>\n",
       "    <tr>\n",
       "      <th>7</th>\n",
       "      <td>complete_pregnancy_Test_result</td>\n",
       "      <td>326</td>\n",
       "    </tr>\n",
       "    <tr>\n",
       "      <th>8</th>\n",
       "      <td>complete_pre_pregnancy_antrop</td>\n",
       "      <td>351</td>\n",
       "    </tr>\n",
       "    <tr>\n",
       "      <th>9</th>\n",
       "      <td>complete_pregnancy_urine_collection</td>\n",
       "      <td>157</td>\n",
       "    </tr>\n",
       "    <tr>\n",
       "      <th>10</th>\n",
       "      <td>complete_dietary</td>\n",
       "      <td>331</td>\n",
       "    </tr>\n",
       "    <tr>\n",
       "      <th>11</th>\n",
       "      <td>complete_pregnancy_exposure</td>\n",
       "      <td>329</td>\n",
       "    </tr>\n",
       "    <tr>\n",
       "      <th>12</th>\n",
       "      <td>complete_pregnancy_stool_collection</td>\n",
       "      <td>22</td>\n",
       "    </tr>\n",
       "    <tr>\n",
       "      <th>13</th>\n",
       "      <td>complete_Sample_reception</td>\n",
       "      <td>12</td>\n",
       "    </tr>\n",
       "    <tr>\n",
       "      <th>14</th>\n",
       "      <td>HCG Positive</td>\n",
       "      <td>33</td>\n",
       "    </tr>\n",
       "    <tr>\n",
       "      <th>15</th>\n",
       "      <td>consent</td>\n",
       "      <td>5</td>\n",
       "    </tr>\n",
       "    <tr>\n",
       "      <th>16</th>\n",
       "      <td>Recurment_form</td>\n",
       "      <td>1</td>\n",
       "    </tr>\n",
       "    <tr>\n",
       "      <th>17</th>\n",
       "      <td>socioeconomic_form</td>\n",
       "      <td>2</td>\n",
       "    </tr>\n",
       "    <tr>\n",
       "      <th>18</th>\n",
       "      <td>contraceptive</td>\n",
       "      <td>2</td>\n",
       "    </tr>\n",
       "    <tr>\n",
       "      <th>19</th>\n",
       "      <td>pregnancy phase</td>\n",
       "      <td>pregnancy phase</td>\n",
       "    </tr>\n",
       "    <tr>\n",
       "      <th>20</th>\n",
       "      <td>Ultrasound Scan</td>\n",
       "      <td>28</td>\n",
       "    </tr>\n",
       "    <tr>\n",
       "      <th>21</th>\n",
       "      <td>obstestric_history</td>\n",
       "      <td>12</td>\n",
       "    </tr>\n",
       "    <tr>\n",
       "      <th>22</th>\n",
       "      <td>pregnancy_antrop</td>\n",
       "      <td>22</td>\n",
       "    </tr>\n",
       "    <tr>\n",
       "      <th>23</th>\n",
       "      <td>delivery and post partum</td>\n",
       "      <td>delivery and post partum</td>\n",
       "    </tr>\n",
       "    <tr>\n",
       "      <th>24</th>\n",
       "      <td>delivery</td>\n",
       "      <td>0</td>\n",
       "    </tr>\n",
       "    <tr>\n",
       "      <th>25</th>\n",
       "      <td>cord_collection</td>\n",
       "      <td>0</td>\n",
       "    </tr>\n",
       "    <tr>\n",
       "      <th>26</th>\n",
       "      <td>delivery_Antrop</td>\n",
       "      <td>0</td>\n",
       "    </tr>\n",
       "    <tr>\n",
       "      <th>27</th>\n",
       "      <td>maternal_health_check</td>\n",
       "      <td>1</td>\n",
       "    </tr>\n",
       "    <tr>\n",
       "      <th>28</th>\n",
       "      <td>baby_check</td>\n",
       "      <td>1</td>\n",
       "    </tr>\n",
       "    <tr>\n",
       "      <th>29</th>\n",
       "      <td>cord_and_palacenta</td>\n",
       "      <td>0</td>\n",
       "    </tr>\n",
       "    <tr>\n",
       "      <th>30</th>\n",
       "      <td>infant_antrop</td>\n",
       "      <td>17</td>\n",
       "    </tr>\n",
       "    <tr>\n",
       "      <th>31</th>\n",
       "      <td>withdrawal</td>\n",
       "      <td>2</td>\n",
       "    </tr>\n",
       "  </tbody>\n",
       "</table>\n",
       "</div>"
      ],
      "text/plain": [
       "                                       form_name   number_of_IDS Completed\n",
       "0                             prepregnancy phase        prepregnancy phase\n",
       "1                                  completed_lmp                       431\n",
       "2                                   miss_lmp_yes                        60\n",
       "3                                    miss_lmp_no                       303\n",
       "4   lmp Single and not intending to get pregnant                        24\n",
       "5    lmp Husband away and not expected back soon                        25\n",
       "6               lmp With a child under 12 months                        26\n",
       "7                 complete_pregnancy_Test_result                       326\n",
       "8                  complete_pre_pregnancy_antrop                       351\n",
       "9            complete_pregnancy_urine_collection                       157\n",
       "10                              complete_dietary                       331\n",
       "11                   complete_pregnancy_exposure                       329\n",
       "12           complete_pregnancy_stool_collection                        22\n",
       "13                     complete_Sample_reception                        12\n",
       "14                                  HCG Positive                        33\n",
       "15                                       consent                         5\n",
       "16                                Recurment_form                         1\n",
       "17                            socioeconomic_form                         2\n",
       "18                                 contraceptive                         2\n",
       "19                               pregnancy phase           pregnancy phase\n",
       "20                               Ultrasound Scan                        28\n",
       "21                            obstestric_history                        12\n",
       "22                              pregnancy_antrop                        22\n",
       "23                      delivery and post partum  delivery and post partum\n",
       "24                                      delivery                         0\n",
       "25                               cord_collection                         0\n",
       "26                               delivery_Antrop                         0\n",
       "27                         maternal_health_check                         1\n",
       "28                                    baby_check                         1\n",
       "29                            cord_and_palacenta                         0\n",
       "30                                 infant_antrop                        17\n",
       "31                                    withdrawal                         2"
      ]
     },
     "execution_count": 117,
     "metadata": {},
     "output_type": "execute_result"
    }
   ],
   "source": [
    "complete_pre_pregnancy_phase = {\n",
    "   'prepregnancy phase':'prepregnancy phase',\n",
    "   'completed_lmp': data_lmp['participant_id'].count(),\n",
    "   'miss_lmp_yes':data_lmp['have_you_missed_your_last'].value_counts().get('1',0),\n",
    "   'miss_lmp_no':data_lmp['have_you_missed_your_last'].value_counts().get('0',0),\n",
    "   'lmp Single and not intending to get pregnant':data_lmp['lmp_temp_exclude___1'].value_counts().get('1', 0),\n",
    "   'lmp Husband away and not expected back soon':data_lmp['lmp_temp_exclude___2'].value_counts().get('1', 0),\n",
    "   'lmp With a child under 12 months':data_lmp['lmp_temp_exclude___3'].value_counts().get('1', 0),\n",
    "   'complete_pregnancy_Test_result': data_pregnancy_test_result['participant_id'].count(),\n",
    "  # 'lmp_temp_exclude':data_lmp_temp_exclusion['participant_id'].count(),\n",
    "   'complete_pre_pregnancy_antrop': data_anthrops['participant_id'].count(),\n",
    "   'complete_pregnancy_urine_collection': data_preganancy_urine_collection['participant_id'].count(),\n",
    "   'complete_dietary': data_dietary['participant_id'].count(),\n",
    "   'complete_pregnancy_exposure': data_prepregnancy_exposure['participant_id'].count(),\n",
    "   'complete_pregnancy_stool_collection': data_preganancy_stool_collection['participant_id'].count(),\n",
    "   #'complete_pregnancy_Test_result_positive':data_pregnancy_test_result_positive['participant_id'].count(),\n",
    "   'complete_Sample_reception': data_sample_reception_processing['participant_id'].count(),\n",
    "   'HCG Positive':data_pregnancy_test_result_positive['participant_id'].count(), \n",
    "   'consent': cons_data['participant_id'].count(),\n",
    "   'Recurment_form':recruitment_data['participant_id'].count(),\n",
    "   'socioeconomic_form':secioeconomic_data['participant_id'].count(),\n",
    "   'contraceptive': contracception_data['participant_id'].count(),\n",
    "   'pregnancy phase':'pregnancy phase',\n",
    "   'Ultrasound Scan':autrasoundscan_data['participant_id'].count(),\n",
    "   'obstestric_history':obstestric_history['participant_id'].count(),\n",
    "   'pregnancy_antrop':Antrop_preg_data['participant_id'].count(),\n",
    "   'delivery and post partum':'delivery and post partum',\n",
    "   'delivery':delivery_data['participant_id'].count(),\n",
    "   'cord_collection':cord_collection['participant_id'].count(),\n",
    "   'delivery_Antrop':Antrop_del_data['participant_id'].count(),\n",
    "   'maternal_health_check':maternal_health_check_data['participant_id'].count(),\n",
    "   'baby_check':baby_check_data['participant_id'].count(),\n",
    "   'cord_and_palacenta':cord_and_palacenta['participant_id'].count(),\n",
    "   'infant_antrop':infant_antrop['participant_id'].count(),\n",
    "   #'dry_season_blood':dry_season_blood['participant_id'].count(),\n",
    "   'withdrawal':withdrawal_data['participant_id'].count()  \n",
    "}\n",
    "# Convert the dictionary to a DataFrame\n",
    "df_complete_pre_pregnancy_phase = pd.DataFrame(list(complete_pre_pregnancy_phase.items()), columns=['form_name', 'number_of_IDS Completed'])\n",
    "\n",
    "# Display the resulting DataFrame\n",
    "df_complete_pre_pregnancy_phase.to_csv('stats_2024-03-20-to-2024-03-28.csv',index=False)\n",
    "#df_complete_pre_pregnancy_phase.to_csv('df_complete_pre_pregnancy_phase.csv',index=False)\n",
    "df_complete_pre_pregnancy_phase\n"
   ]
  },
  {
   "cell_type": "code",
   "execution_count": 118,
   "metadata": {},
   "outputs": [],
   "source": [
    "data_dis1=pd.merge(data_lmp,data_anthrops,on='participant_id',how='left')\n",
    "data_dis2=pd.merge(data_dis1,data_preganancy_stool_collection,on='participant_id',how='left')\n",
    "data_dis3=pd.merge(data_dis2,data_preganancy_urine_collection,on='participant_id',how='left')\n",
    "data_dis4=pd.merge(data_dis3,data_prepregnancy_exposure,on='participant_id',how='left')\n",
    "data_dis5=pd.merge(data_dis4,data_dietary,on='participant_id',how='left')\n",
    "data_dis6=pd.merge(data_dis5,data_pregnancy_test_result_positive,on='participant_id',how='left')\n",
    "data_dis7=pd.merge(data_dis6,data_sample_reception_processing,on='participant_id',how='left')\n",
    "data_dis7.to_csv('discripancy.csv',index=False)\n",
    "\n",
    "\n"
   ]
  },
  {
   "cell_type": "code",
   "execution_count": 119,
   "metadata": {},
   "outputs": [],
   "source": [
    "data_lmp.to_csv('df_lmp_27.csv',index=False)"
   ]
  },
  {
   "cell_type": "code",
   "execution_count": 120,
   "metadata": {},
   "outputs": [
    {
     "name": "stderr",
     "output_type": "stream",
     "text": [
      "C:\\Users\\abliebah\\AppData\\Local\\Temp\\ipykernel_25256\\251408109.py:3: FutureWarning: Passing 'suffixes' which cause duplicate columns {'redcap_repeat_instrument_x', 'redcap_event_name_x', 'redcap_repeat_instance_x'} in the result is deprecated and will raise a MergeError in a future version.\n",
      "  data_didcri3=pd.merge(data_didcri12,contracception_data,on='participant_id',how='left')\n"
     ]
    }
   ],
   "source": [
    "data_didcri1=pd.merge(cons_data,secioeconomic_data,on='participant_id',how='left')\n",
    "data_didcri12=pd.merge(data_didcri1,recruitment_data,on='participant_id',how='left')\n",
    "data_didcri3=pd.merge(data_didcri12,contracception_data,on='participant_id',how='left')\n",
    "#data_didcri3.to_csv('discripancy2.csv',index=False)\n"
   ]
  },
  {
   "cell_type": "code",
   "execution_count": 121,
   "metadata": {},
   "outputs": [],
   "source": [
    "df_EDD=df.export_report(report_id='9859')\n",
    "df_EDD=pd.DataFrame(df_EDD)\n"
   ]
  },
  {
   "cell_type": "code",
   "execution_count": 122,
   "metadata": {},
   "outputs": [],
   "source": [
    "df_EDD=df_EDD[\n",
    "    (df_EDD['ultrascan_exp_date']!='')\n",
    "].drop_duplicates('participant_id')\n",
    "\n",
    "df_EDD=df_EDD[['participant_id','conception_date','ultrascan_exp_date']]\n",
    "df_EDD.to_csv('EDD.csv',index=False)"
   ]
  },
  {
   "cell_type": "code",
   "execution_count": 123,
   "metadata": {},
   "outputs": [],
   "source": [
    "not_approh=df.export_records(forms=['consent'])\n",
    "not_approh=pd.DataFrame(not_approh)\n",
    "change_date=pd.to_datetime(not_approh['consent_form_date_q10'])\n",
    "not_approh=not_approh[\n",
    "    (not_approh['consent_form_date_q10']!='')\n",
    "].drop_duplicates('participant_id')"
   ]
  },
  {
   "cell_type": "code",
   "execution_count": 124,
   "metadata": {},
   "outputs": [],
   "source": [
    "not_approach_data=pd.merge(not_approh,data_stat,on='participant_id',how='left')\n",
    "not_approach_data.to_csv('not_approach_data.csv',index=False)"
   ]
  }
 ],
 "metadata": {
  "kernelspec": {
   "display_name": "Python 3",
   "language": "python",
   "name": "python3"
  },
  "language_info": {
   "codemirror_mode": {
    "name": "ipython",
    "version": 3
   },
   "file_extension": ".py",
   "mimetype": "text/x-python",
   "name": "python",
   "nbconvert_exporter": "python",
   "pygments_lexer": "ipython3",
   "version": "3.11.5"
  }
 },
 "nbformat": 4,
 "nbformat_minor": 2
}
