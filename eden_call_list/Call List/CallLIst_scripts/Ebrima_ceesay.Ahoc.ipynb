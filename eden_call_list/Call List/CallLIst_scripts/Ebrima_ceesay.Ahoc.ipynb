{
 "cells": [
  {
   "cell_type": "code",
   "execution_count": 50,
   "metadata": {},
   "outputs": [],
   "source": [
    "import redcap\n",
    "import csv\n",
    "from datetime import datetime, timedelta\n",
    "import pandas as pd\n",
    "\n",
    "# REDCap API endpoint and token\n",
    "data = {\n",
    "    'token': 'DE12CA04415CF93BCD68321EBF5040FD',\n",
    "    'content': 'project',\n",
    "    'format': 'json',\n",
    "    'returnFormat': 'json'\n",
    "}\n",
    "df= redcap.Project('https://redcap.mrc.gm:8443/redcap/api/',data['token'])\n",
    "data = {\n",
    "    'token': 'D6807C091B1FC14F57CC9B2972D0B398',\n",
    "    'content': 'project',\n",
    "    'format': 'json',\n",
    "    'returnFormat': 'json'\n",
    "}\n",
    "indigo=redcap.Project('https://ruff.mrc.gm:8443/redcap/api/',data['token'])"
   ]
  },
  {
   "cell_type": "code",
   "execution_count": 51,
   "metadata": {},
   "outputs": [],
   "source": [
    "indigo_data=indigo.export_records(forms=['consent','delivery', 'ultrasound_scan'])\n",
    "indigo_data=pd.DataFrame(indigo_data)\n",
    "indigo_data_eden=indigo_data[\n",
    "    (indigo_data['con_participant_eden_num_q11']!='')\n",
    "]\n",
    "\n",
    "\n",
    "#indigo_data_del=indigo_data[\n",
    "    #(indigo_data['delivery_complete']=='2')|\n",
    "    #(indigo_data['delivery_complete']=='1')\n",
    "#]\n",
    "\n",
    "#join_edn_del=pd.merge(indigo_data_del,indigo_data_eden,on='con_participantid_q1',how='inner')\n",
    "#join_edn_del=join_edn_del[['con_participantid_q1','con_participant_eden_num_q11_y','delivery_complete_x']]\n",
    "#join_edn_del=join_edn_del.rename(columns={'con_participant_eden_num_q11_y':'participant_id'})"
   ]
  },
  {
   "cell_type": "code",
   "execution_count": 52,
   "metadata": {},
   "outputs": [],
   "source": [
    "# Convert columns to appropriate types\n",
    "indigo_data_eden=indigo_data_eden[['con_participantid_q1','con_participant_eden_num_q11','ultsc_date','ultrascan_exp_date','ga_weeks', 'ga_days']]\n",
    "indigo_data_eden=indigo_data_eden.rename(columns={'con_participant_eden_num_q11':'participant_id'})\n",
    "indigo_data_eden['ga_weeks'] = pd.to_numeric(indigo_data_eden['ga_weeks'])\n",
    "indigo_data_eden['ga_days'] = pd.to_numeric(indigo_data_eden['ga_days'])\n",
    "indigo_data_eden['converted_weeks_todays'] = indigo_data_eden['ga_weeks'] * 7 + indigo_data_eden['ga_days']\n",
    "indigo_data_eden['ultsc_date'] = pd.to_datetime(indigo_data_eden['ultsc_date'])\n",
    "indigo_data_eden['ultrascan_exp_date'] = pd.to_datetime(indigo_data_eden['ultrascan_exp_date'])\n",
    "# Filter out rows with empty ultrascan_exp_date\n",
    "indigo_data_eden = indigo_data_eden[indigo_data_eden['ultrascan_exp_date'].notna()]\n",
    "# Calculate conception date\n",
    "indigo_data_eden['conception_date'] = indigo_data_eden['ultsc_date'] - pd.to_timedelta(indigo_data_eden['converted_weeks_todays'], unit='D')\n"
   ]
  },
  {
   "cell_type": "code",
   "execution_count": 53,
   "metadata": {},
   "outputs": [],
   "source": [
    "df_ultra=df.export_records(forms=['ultrasound_scan'])\n",
    "df_ultra=pd.DataFrame(df_ultra)\n",
    "df_ultra=df_ultra[\n",
    "    (df_ultra['ultrasound_scan_complete']=='2')|\n",
    "    (df_ultra['ultrasound_scan_complete']=='1')&\n",
    "    (df_ultra['conception_date']!='')\n",
    "].drop_duplicates('participant_id')\n",
    "df_ultra=df_ultra[['participant_id','ultrascan_date','conception_date','convert_week_today']]\n",
    "df_ultra['ultrascan_date']=pd.to_datetime(df_ultra['ultrascan_date'])\n",
    "df_ultra['convert_week_today']=pd.to_numeric(df_ultra['convert_week_today'])\n"
   ]
  },
  {
   "cell_type": "code",
   "execution_count": 54,
   "metadata": {},
   "outputs": [],
   "source": [
    "df_ultra_margh=pd.merge(df_ultra,indigo_data_eden,on='participant_id',how='left')\n",
    "df_ultra_margh.to_csv('df_ultra_margh.csv',index=False)"
   ]
  },
  {
   "cell_type": "code",
   "execution_count": 55,
   "metadata": {},
   "outputs": [],
   "source": [
    "df_del=df.export_records(forms=['delivery'])\n",
    "df_del=pd.DataFrame(df_del)\n",
    "df_del=df_del[\n",
    "    (df_del['delivery_complete']=='2')|\n",
    "    (df_del['delivery_complete']=='1')\n",
    "]\n",
    "#df_del=df_del[['participant_id','del_ddate_q7','del_birthweight_avai_q11','del_birthweight_q11a','del_sex_q10','delivery_complete']]\n",
    "#df_del.to_csv('df_del.csv')"
   ]
  },
  {
   "cell_type": "code",
   "execution_count": 56,
   "metadata": {},
   "outputs": [],
   "source": [
    "df_cordcollection=df.export_records(forms=['cordcollection'])\n",
    "df_cordcollection=pd.DataFrame(df_cordcollection)\n",
    "df_cordcollection=df_cordcollection[\n",
    "    (df_cordcollection['cordcollection_complete']=='2')|\n",
    "    (df_cordcollection['cordcollection_complete']=='1')\n",
    "]\n",
    "df_cordcollection=df_cordcollection[['participant_id','cordcollection_complete']]\n",
    "\n",
    "df_withdraw=df.export_records(forms=['withdrawal'])\n",
    "df_withdraw=pd.DataFrame(df_withdraw)\n",
    "df_withdraw=df_withdraw[\n",
    "    (df_withdraw['withdrawal_complete']=='2')\n",
    "]\n",
    "#del_not_withdrawl=df_del[~df_del['participant_id'].isin(df_withdraw['participant_id'])]\n",
    "#del_not_withdrawl.to_csv('del_not_withdrawl.csv')\n",
    "\n",
    "df_del_not_withrawl_mergh=pd.merge(df_cordcollection,df_del,on='participant_id',how='left')\n",
    "df_del_not_withrawl_mergh_1=pd.merge(df_del_not_withrawl_mergh,df_withdraw,on='participant_id',how='left')\n",
    "df_del_not_withrawl_mergh_1.to_csv('df_del_not_withrawl_mergh.csv',index=False)"
   ]
  },
  {
   "cell_type": "code",
   "execution_count": 57,
   "metadata": {},
   "outputs": [],
   "source": [
    "df_sample_collection=df.export_records(forms=['preganancy_stool_collection','maternal_blood_sample_collection','preganancy_urine_collection'])\n",
    "df_sample_collection=pd.DataFrame(df_sample_collection)\n",
    "\n",
    "df_sample_collection=df_sample_collection[\n",
    "    (df_sample_collection['urinecollected']=='1')|\n",
    "    (df_sample_collection['mstool_time']=='1')|\n",
    "    (df_sample_collection['matbld_visitdate_q1_e327e1']!='')   \n",
    "]\n",
    " \n",
    "df_stool=df_sample_collection[\n",
    " (df_sample_collection['urinecollected']=='1')\n",
    "]\n",
    "df_stool=df_stool[['participant_id','urinecollected']]\n",
    "df_urine=df_sample_collection[\n",
    " (df_sample_collection['mstool_time']=='1')\n",
    "]\n",
    "df_urine=df_urine[['participant_id','mstool_time']]\n",
    "\n",
    "df_blood=df_sample_collection[\n",
    " (df_sample_collection['matbld_visitdate_q1_e327e1']!='')\n",
    "]\n",
    "df_blood=df_blood[['participant_id','matbld_visitdate_q1_e327e1']]\n",
    "\n",
    "df_stool = df_stool.drop_duplicates()\n",
    "df_urine = df_urine.drop_duplicates()\n",
    "df_blood = df_blood.drop_duplicates()\n",
    "\n",
    "df_merged = pd.merge(df_stool, df_urine, on='participant_id', how='outer')\n",
    "df_merged = pd.merge(df_merged, df_blood, on='participant_id', how='outer').drop_duplicates('participant_id')\n",
    "\n",
    "\n",
    "\n"
   ]
  },
  {
   "cell_type": "code",
   "execution_count": 59,
   "metadata": {},
   "outputs": [],
   "source": [
    "df_collection=df.export_records(forms=['cordcollection'])\n",
    "df_collection=pd.DataFrame(df_collection)"
   ]
  },
  {
   "cell_type": "code",
   "execution_count": 60,
   "metadata": {},
   "outputs": [],
   "source": [
    "df_collection=df_collection[\n",
    "     (df_collection['placenta_available']=='1')\n",
    "]\n",
    "df_collection=df_collection[['participant_id','cod_vailable','placenta_available']]\n",
    "df_collection.to_csv('cord_collection.csv',index=False)"
   ]
  },
  {
   "cell_type": "code",
   "execution_count": 61,
   "metadata": {},
   "outputs": [
    {
     "data": {
      "text/plain": [
       "['seasonal_blood_collection_2',\n",
       " 'cordcollection',\n",
       " 'lmp',\n",
       " 'obstetric_medicalhistory',\n",
       " 'socioeconomic_demographic',\n",
       " 'contraception_medical_smoking_history',\n",
       " 'dietary',\n",
       " 'sample_reception_processing',\n",
       " 'preganancy_urine_collection',\n",
       " 'preganancy_stool_collection',\n",
       " 'infant_anthrops',\n",
       " 'cord_placenta_processing',\n",
       " 'ultrasound_scan',\n",
       " 'infant_anthropometry',\n",
       " 'delivery',\n",
       " 'recruitment',\n",
       " 'maternal_health_check',\n",
       " 'maternal_blood_sample_collection',\n",
       " 'consent',\n",
       " 'pregnancy_test_result',\n",
       " 'prepregnancy_exposure',\n",
       " 'anthrops',\n",
       " 'seasonal_blood_reception_rocessing',\n",
       " 'withdrawal',\n",
       " 'baby_check']"
      ]
     },
     "execution_count": 61,
     "metadata": {},
     "output_type": "execute_result"
    }
   ],
   "source": [
    "df.forms"
   ]
  },
  {
   "cell_type": "code",
   "execution_count": 62,
   "metadata": {},
   "outputs": [],
   "source": [
    "code_processing=df.export_records(forms=['cord_placenta_processing'])\n",
    "code_processing=pd.DataFrame(code_processing)"
   ]
  },
  {
   "cell_type": "code",
   "execution_count": 63,
   "metadata": {},
   "outputs": [],
   "source": [
    "code_processing=code_processing[\n",
    "    (code_processing['cpp_visit_date']!='')\n",
    "]"
   ]
  },
  {
   "cell_type": "code",
   "execution_count": 64,
   "metadata": {},
   "outputs": [],
   "source": [
    "ebrima_requested=pd.read_excel('Ebrima_request.xlsx')\n",
    "\n",
    "df_merged=pd.merge(ebrima_requested,df_merged,on='participant_id',how='inner')\n",
    "df_merged.to_csv('Ebrima_requested_update.csv',index=False)"
   ]
  },
  {
   "cell_type": "markdown",
   "metadata": {},
   "source": []
  },
  {
   "cell_type": "code",
   "execution_count": null,
   "metadata": {},
   "outputs": [],
   "source": []
  },
  {
   "cell_type": "code",
   "execution_count": 65,
   "metadata": {},
   "outputs": [
    {
     "ename": "NameError",
     "evalue": "name 'del_not_withdrawl' is not defined",
     "output_type": "error",
     "traceback": [
      "\u001b[1;31m---------------------------------------------------------------------------\u001b[0m",
      "\u001b[1;31mNameError\u001b[0m                                 Traceback (most recent call last)",
      "Cell \u001b[1;32mIn[65], line 1\u001b[0m\n\u001b[1;32m----> 1\u001b[0m join\u001b[38;5;241m=\u001b[39mpd\u001b[38;5;241m.\u001b[39mmerge(\u001b[43mdel_not_withdrawl\u001b[49m,df_ultra,on\u001b[38;5;241m=\u001b[39m\u001b[38;5;124m'\u001b[39m\u001b[38;5;124mparticipant_id\u001b[39m\u001b[38;5;124m'\u001b[39m,how\u001b[38;5;241m=\u001b[39m\u001b[38;5;124m'\u001b[39m\u001b[38;5;124minner\u001b[39m\u001b[38;5;124m'\u001b[39m)\n",
      "\u001b[1;31mNameError\u001b[0m: name 'del_not_withdrawl' is not defined"
     ]
    }
   ],
   "source": [
    "join=pd.merge(del_not_withdrawl,df_ultra,on='participant_id',how='inner')"
   ]
  },
  {
   "cell_type": "code",
   "execution_count": null,
   "metadata": {},
   "outputs": [],
   "source": [
    "HCG_positive=df.export_records(forms=['pregnancy_test_result'])"
   ]
  },
  {
   "cell_type": "code",
   "execution_count": null,
   "metadata": {},
   "outputs": [],
   "source": [
    "HCG_positive=pd.DataFrame(HCG_positive)\n",
    "\n",
    "HCG_positive=HCG_positive[\n",
    "(HCG_positive['pt_testdate_q1']>='2023-12-19')\n",
    "]\n",
    "HCG_positive=HCG_positive[\n",
    "    (HCG_positive['pt_pregnancy_positive_q3']=='1')\n",
    "].drop_duplicates('participant_id')\n",
    "\n",
    "\n"
   ]
  }
 ],
 "metadata": {
  "kernelspec": {
   "display_name": "Python 3",
   "language": "python",
   "name": "python3"
  },
  "language_info": {
   "codemirror_mode": {
    "name": "ipython",
    "version": 3
   },
   "file_extension": ".py",
   "mimetype": "text/x-python",
   "name": "python",
   "nbconvert_exporter": "python",
   "pygments_lexer": "ipython3",
   "version": "3.11.5"
  }
 },
 "nbformat": 4,
 "nbformat_minor": 2
}
